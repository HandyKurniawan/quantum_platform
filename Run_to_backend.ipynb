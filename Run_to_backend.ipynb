{
 "cells": [
  {
   "cell_type": "code",
   "execution_count": null,
   "id": "de46841c-8af4-4639-9015-0d918cc21b29",
   "metadata": {},
   "outputs": [],
   "source": [
    "from qEmQUIP import QEM, conf\n",
    "\n",
    "token = \"476ea8c61cc54f36e4a21d70a8442f94203c9d87096eaad0886a3e8154d8c2e79bcad6f927c6050a76335dd68d783f478c1b828504748a4377b441c335c831aa\"\n",
    "\n",
    "# select compilation techniques\n",
    "compilations = [\"nc-lalala\", \"qiskit_3\"]"
   ]
  },
  {
   "cell_type": "code",
   "execution_count": 2,
   "id": "adac70f0-795d-4a0b-b264-e8a3daab7985",
   "metadata": {},
   "outputs": [
    {
     "name": "stdout",
     "output_type": "stream",
     "text": [
      "Connecting to quantum service...\n",
      "Saving IBM Account...\n",
      "Retrieving the real backend information...\n",
      "Time for setup the services: 7.226237868017051 seconds\n"
     ]
    }
   ],
   "source": [
    "q = QEM(runs=conf.runs, user_id=1, token=token, skip_db=False)"
   ]
  },
  {
   "cell_type": "code",
   "execution_count": 3,
   "id": "5888544c-e67c-43bf-b2d9-14638a3db013",
   "metadata": {},
   "outputs": [
    {
     "name": "stdout",
     "output_type": "stream",
     "text": [
      "['./circuits/testing/test.qasm']\n"
     ]
    }
   ],
   "source": [
    "qasm_files = q.get_qasm_files_from_path(\"./circuits/testing/\")\n",
    "print(qasm_files)\n",
    "\n",
    "qc = q.get_circuit_properties(qasm_source=qasm_files[0])\n"
   ]
  },
  {
   "cell_type": "code",
   "execution_count": 4,
   "id": "7d31cbb4-ceea-46a4-bf41-d8e7852041dd",
   "metadata": {},
   "outputs": [
    {
     "name": "stdout",
     "output_type": "stream",
     "text": [
      "Time for setup the backends: 0.0003641110088210553 seconds\n",
      "Time for running the init header: 0.0016177119978237897 seconds\n",
      "Compiling circuit: test for compilation: nc-lalala\n",
      "Compiling circuit: test for compilation: qiskit_3\n",
      "Total send to real backend : 1\n",
      "Time for setup the backends: 0.00016313398373313248 seconds\n",
      "Total no of circuits : 2\n",
      "Sending to ibm_sherbrooke with batch id: 311 ... \n",
      "Sent!\n",
      "Time for sending to real backend: 2.09687847000896 seconds\n"
     ]
    }
   ],
   "source": [
    "q.set_backend(program_type=\"sampler\", shots=1)\n",
    "q.send_to_real_backend(\"sampler\", qasm_files, compilations, shots=1)"
   ]
  },
  {
   "cell_type": "code",
   "execution_count": 5,
   "id": "d2f70e88-c3af-4d0e-8076-8fa8d58b136b",
   "metadata": {},
   "outputs": [
    {
     "name": "stdout",
     "output_type": "stream",
     "text": [
      "Start running the simulator...\n",
      "Time for running the init header: 0.0015493679966311902 seconds\n",
      "nc-lalala 0.0\n",
      "Time for setup the backends: 0.0005595929978881031 seconds\n",
      "nc-lalala 1.0\n",
      "Time for setup the backends: 0.00017641799058765173 seconds\n",
      "qiskit_3 0.0\n",
      "Time for setup the backends: 0.0031827419879846275 seconds\n",
      "qiskit_3 1.0\n",
      "Time for setup the backends: 0.00029380799969658256 seconds\n",
      "Total send to local simulator : 1\n",
      "Running to Local Simulator with batch id: 312 ... \n",
      "Sent!\n",
      "Time for sending to local simulator: 0.0028488480020314455 seconds\n"
     ]
    }
   ],
   "source": [
    "noise_levels = [0.0, 1.0]\n",
    "shots = 10000\n",
    "q.run_simulator(\"sampler\", qasm_files, compilations, noise_levels, shots, send_to_db=True)"
   ]
  },
  {
   "cell_type": "code",
   "execution_count": 6,
   "id": "54dc64db-6f22-4a2a-9235-df138b8adbb8",
   "metadata": {},
   "outputs": [
    {
     "name": "stdout",
     "output_type": "stream",
     "text": [
      "Pending jobs:  5\n",
      "Checking results for:  cvc2thaz17rg008d0deg with header id : 305\n",
      "Job status : CANCELLED\n",
      "Checking results for:  cvc2vhpvawwg0088z46g with header id : 307\n",
      "Job status : CANCELLED\n",
      "Checking results for:  cvc2w99z17rg008d0dng with header id : 309\n",
      "Job status : CANCELLED\n",
      "Checking results for:  cvc2yd1kmd10008pjwm0 with header id : 311\n",
      "Job status : QUEUED\n",
      "Checking results for:  simulator with header id : 312\n",
      "Preparing the noiseless simulator nc-lalala 0.0 True\n",
      "Preparing the noisy simulator nc-lalala 1.0 False\n",
      "Preparing the noiseless simulator qiskit_3 0.0 True\n",
      "Preparing the noisy simulator qiskit_3 1.0 False\n",
      "Executed jobs : 3\n",
      "Getting qasm for : 308 simulator\n",
      "2 Z test\n",
      "2 Z test\n",
      "2 Z test\n",
      "2 Z test\n",
      "Getting qasm for : 310 simulator\n",
      "2 Z test\n",
      "2 Z test\n",
      "2 Z test\n",
      "2 Z test\n",
      "Getting qasm for : 312 simulator\n",
      "2 Z test\n",
      "2 Z test\n",
      "2 Z test\n",
      "2 Z test\n"
     ]
    }
   ],
   "source": [
    "q.get_qiskit_result()"
   ]
  },
  {
   "cell_type": "code",
   "execution_count": null,
   "id": "2629f93a-424e-421e-8baa-26dfaa48a695",
   "metadata": {},
   "outputs": [],
   "source": []
  }
 ],
 "metadata": {
  "kernelspec": {
   "display_name": "Python 3 (ipykernel)",
   "language": "python",
   "name": "python3"
  },
  "language_info": {
   "codemirror_mode": {
    "name": "ipython",
    "version": 3
   },
   "file_extension": ".py",
   "mimetype": "text/x-python",
   "name": "python",
   "nbconvert_exporter": "python",
   "pygments_lexer": "ipython3",
   "version": "3.10.12"
  }
 },
 "nbformat": 4,
 "nbformat_minor": 5
}
