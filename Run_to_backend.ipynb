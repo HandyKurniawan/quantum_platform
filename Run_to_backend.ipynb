{
 "cells": [
  {
   "cell_type": "code",
   "execution_count": 1,
   "id": "de46841c-8af4-4639-9015-0d918cc21b29",
   "metadata": {},
   "outputs": [],
   "source": [
    "import sys, glob, os\n",
    "from commons import convert_to_json, triq_optimization, qiskit_optimization, \\\n",
    "    calibration_type_enum, qiskit_compilation_enum, normalize_counts, calculate_success_rate_tvd, \\\n",
    "    convert_dict_binary_to_int, convert_dict_int_to_binary, sum_last_n_digits_dict\n",
    "import wrappers.qiskit_wrapper as qiskit_wrapper\n",
    "from wrappers.qiskit_wrapper import QiskitCircuit\n",
    "import pandas as pd\n",
    "import mthree\n",
    "import mapomatic as mm\n",
    "import mthree\n",
    "\n",
    "from qiskit.quantum_info import SparsePauliOp\n",
    "from qiskit import QuantumCircuit\n",
    "from qiskit.transpiler.preset_passmanagers import generate_preset_pass_manager\n",
    "from qiskit_ibm_runtime.options import SamplerOptions, EstimatorOptions, DynamicalDecouplingOptions, TwirlingOptions\n",
    "\n",
    "from qiskit_aer import AerSimulator, QasmSimulator, Aer\n",
    "from qiskit.qasm2 import dumps\n",
    "import matplotlib.pyplot as plt\n",
    "import numpy as np\n",
    "\n",
    "import mitiq\n",
    "from mitiq import zne, benchmarks\n",
    "\n",
    "from qEmQUIP import QEM, conf\n",
    "\n",
    "token = \"476ea8c61cc54f36e4a21d70a8442f94203c9d87096eaad0886a3e8154d8c2e79bcad6f927c6050a76335dd68d783f478c1b828504748a4377b441c335c831aa\"\n",
    "\n",
    "# select compilation techniques\n",
    "compilations = [\"no_compilation\", \"qiskit_3\"]"
   ]
  },
  {
   "cell_type": "code",
   "execution_count": 2,
   "id": "adac70f0-795d-4a0b-b264-e8a3daab7985",
   "metadata": {},
   "outputs": [
    {
     "name": "stdout",
     "output_type": "stream",
     "text": [
      "Connecting to quantum service...\n",
      "Saving IBM Account...\n",
      "Retrieving the real backend information...\n",
      "Time for setup the services: 8.085166609991575 seconds\n"
     ]
    }
   ],
   "source": [
    "q = QEM(runs=conf.runs, user_id=1, token=token, skip_db=False)"
   ]
  },
  {
   "cell_type": "code",
   "execution_count": 3,
   "id": "5888544c-e67c-43bf-b2d9-14638a3db013",
   "metadata": {},
   "outputs": [
    {
     "name": "stdout",
     "output_type": "stream",
     "text": [
      "['./circuits/testing/test.qasm']\n",
      "Time for setup the backends: 7.962901145219803e-05 seconds\n",
      "Time for running the init header: 0.0005693149869330227 seconds\n",
      "Compiling circuit: test for compilation: no_compilation\n",
      "Compiling circuit: test for compilation: qiskit_3\n",
      "Total send to real backend : 1\n",
      "Time for setup the backends: 9.581600897945464e-05 seconds\n",
      "Total no of circuits : 2\n",
      "Sending to ibm_sherbrooke with batch id: 298 ... \n",
      "Sent!\n",
      "Time for sending to real backend: 3.5413893919903785 seconds\n"
     ]
    }
   ],
   "source": [
    "qasm_files = q.get_qasm_files_from_path(\"./circuits/testing/\")\n",
    "print(qasm_files)\n",
    "\n",
    "q.set_backend(program_type=\"sampler\", shots=1)\n",
    "q.send_to_real_backend(\"sampler\", qasm_files, compilations, shots=1)\n"
   ]
  },
  {
   "cell_type": "code",
   "execution_count": null,
   "id": "d2f70e88-c3af-4d0e-8076-8fa8d58b136b",
   "metadata": {},
   "outputs": [],
   "source": []
  }
 ],
 "metadata": {
  "kernelspec": {
   "display_name": "Python 3 (ipykernel)",
   "language": "python",
   "name": "python3"
  },
  "language_info": {
   "codemirror_mode": {
    "name": "ipython",
    "version": 3
   },
   "file_extension": ".py",
   "mimetype": "text/x-python",
   "name": "python",
   "nbconvert_exporter": "python",
   "pygments_lexer": "ipython3",
   "version": "3.10.12"
  }
 },
 "nbformat": 4,
 "nbformat_minor": 5
}
