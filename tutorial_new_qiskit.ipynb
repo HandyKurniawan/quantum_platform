{
 "cells": [
  {
   "cell_type": "markdown",
   "metadata": {},
   "source": [
    "# Tutorial on using the Platform"
   ]
  },
  {
   "cell_type": "markdown",
   "metadata": {},
   "source": [
    "This is the tutorial bla bla bla"
   ]
  },
  {
   "cell_type": "markdown",
   "metadata": {},
   "source": [
    "## Initialization"
   ]
  },
  {
   "cell_type": "markdown",
   "metadata": {},
   "source": [
    "First we need to import the necessary class blabla bla"
   ]
  },
  {
   "cell_type": "code",
   "execution_count": 1,
   "metadata": {},
   "outputs": [],
   "source": [
    "from qEmQUIP import QEM, conf\n",
    "import sys, glob, os\n",
    "from commons import convert_to_json, triq_optimization, qiskit_optimization, \\\n",
    "    calibration_type_enum, qiskit_compilation_enum, normalize_counts, calculate_success_rate_tvd\n",
    "import wrappers.qiskit_wrapper as qiskit_wrapper\n",
    "from wrappers.qiskit_wrapper import QiskitCircuit\n",
    "import pandas as pd"
   ]
  },
  {
   "cell_type": "markdown",
   "metadata": {},
   "source": [
    "Here we need to initialize the object, please check the `config.ini` file to update the general config"
   ]
  },
  {
   "cell_type": "code",
   "execution_count": 2,
   "metadata": {},
   "outputs": [
    {
     "name": "stdout",
     "output_type": "stream",
     "text": [
      "env: QXToken=74076e69ed0d571c8e0ff8c0b2c912c28681d47426cf16a5d817825de16f7dbd95bf6ff7c604b706803b78b2e21d1dd5cacf9f1b0aa81d672d938bded8049a17\n"
     ]
    }
   ],
   "source": [
    "# Put your Qiskit Token\n",
    "%set_env QXToken=74076e69ed0d571c8e0ff8c0b2c912c28681d47426cf16a5d817825de16f7dbd95bf6ff7c604b706803b78b2e21d1dd5cacf9f1b0aa81d672d938bded8049a17\n",
    "token = \"74076e69ed0d571c8e0ff8c0b2c912c28681d47426cf16a5d817825de16f7dbd95bf6ff7c604b706803b78b2e21d1dd5cacf9f1b0aa81d672d938bded8049a17\"\n",
    "q = QEM(runs=conf.runs, fixed_initial_layout = False, run_in_simulator=conf.run_in_simulator, user_id=conf.user_id, token=token)"
   ]
  },
  {
   "cell_type": "markdown",
   "metadata": {},
   "source": [
    "To update the fake backend calibration data"
   ]
  },
  {
   "cell_type": "code",
   "execution_count": 3,
   "metadata": {},
   "outputs": [],
   "source": [
    "# q.update_hardware_configs()"
   ]
  },
  {
   "cell_type": "code",
   "execution_count": 4,
   "metadata": {},
   "outputs": [],
   "source": [
    "# qiskit_wrapper.generate_new_props(q.backend, \"avg\")\n",
    "# qiskit_wrapper.generate_new_props(q.backend, \"mix\")\n",
    "# qiskit_wrapper.generate_new_props(q.backend, \"recent_15_adjust\")"
   ]
  },
  {
   "cell_type": "markdown",
   "metadata": {},
   "source": [
    "## Prepare the circuits"
   ]
  },
  {
   "cell_type": "markdown",
   "metadata": {},
   "source": [
    "You can get the quantum circuit from a folder contains the qasm files or qasm string"
   ]
  },
  {
   "cell_type": "code",
   "execution_count": 5,
   "metadata": {},
   "outputs": [
    {
     "name": "stdout",
     "output_type": "stream",
     "text": [
      "['./circuits/testing/bv_6.qasm']\n"
     ]
    }
   ],
   "source": [
    "# The path is coming from the config file, but you can also modify it here\n",
    "conf.base_folder = \"./circuits/testing/\"\n",
    "qasm_files = q.get_qasm_files_from_path()\n",
    "print(qasm_files)"
   ]
  },
  {
   "cell_type": "markdown",
   "metadata": {},
   "source": [
    "Get the circuits from file"
   ]
  },
  {
   "cell_type": "code",
   "execution_count": 6,
   "metadata": {},
   "outputs": [
    {
     "data": {
      "text/html": [
       "<pre style=\"word-wrap: normal;white-space: pre;background: #fff0;line-height: 1.1;font-family: &quot;Courier New&quot;,Courier,monospace\">     ┌─────────────┐                    ┌─────────────┐               ┌─┐»\n",
       "q_0: ┤ U3(π/2,0,π) ├─────────────────■──┤ U3(π/2,0,π) ├───────────────┤M├»\n",
       "     ├─────────────┤                 │  └─────────────┘┌─────────────┐└╥┘»\n",
       "q_1: ┤ U3(π/2,0,π) ├─────────────────┼─────────■───────┤ U3(π/2,0,π) ├─╫─»\n",
       "     ├─────────────┤                 │         │       └─────────────┘ ║ »\n",
       "q_2: ┤ U3(π/2,0,π) ├─────────────────┼─────────┼──────────────■────────╫─»\n",
       "     ├─────────────┤                 │         │              │        ║ »\n",
       "q_3: ┤ U3(π/2,0,π) ├─────────────────┼─────────┼──────────────┼────────╫─»\n",
       "     ├─────────────┤                 │         │              │        ║ »\n",
       "q_4: ┤ U3(π/2,0,π) ├─────────────────┼─────────┼──────────────┼────────╫─»\n",
       "     └┬───────────┬┘┌─────────────┐┌─┴─┐     ┌─┴─┐          ┌─┴─┐      ║ »\n",
       "q_5: ─┤ U3(π,0,π) ├─┤ U3(π/2,0,π) ├┤ X ├─────┤ X ├──────────┤ X ├──────╫─»\n",
       "      └───────────┘ └─────────────┘└───┘     └───┘          └───┘      ║ »\n",
       "c: 6/══════════════════════════════════════════════════════════════════╩═»\n",
       "                                                                       0 »\n",
       "«                                                                 \n",
       "«q_0: ────────────────────────────────────────────────────────────\n",
       "«                    ┌─┐                                          \n",
       "«q_1: ───────────────┤M├──────────────────────────────────────────\n",
       "«     ┌─────────────┐└╥┘               ┌─┐                        \n",
       "«q_2: ┤ U3(π/2,0,π) ├─╫────────────────┤M├────────────────────────\n",
       "«     └─────────────┘ ║ ┌─────────────┐└╥┘               ┌─┐      \n",
       "«q_3: ───────■────────╫─┤ U3(π/2,0,π) ├─╫────────────────┤M├──────\n",
       "«            │        ║ └─────────────┘ ║ ┌─────────────┐└╥┘┌─┐   \n",
       "«q_4: ───────┼────────╫────────■────────╫─┤ U3(π/2,0,π) ├─╫─┤M├───\n",
       "«          ┌─┴─┐      ║      ┌─┴─┐      ║ ├─────────────┤ ║ └╥┘┌─┐\n",
       "«q_5: ─────┤ X ├──────╫──────┤ X ├──────╫─┤ U3(π/2,0,π) ├─╫──╫─┤M├\n",
       "«          └───┘      ║      └───┘      ║ └─────────────┘ ║  ║ └╥┘\n",
       "«c: 6/════════════════╩═════════════════╩═════════════════╩══╩══╩═\n",
       "«                     1                 2                 3  4  5 </pre>"
      ],
      "text/plain": [
       "     ┌─────────────┐                    ┌─────────────┐               ┌─┐»\n",
       "q_0: ┤ U3(π/2,0,π) ├─────────────────■──┤ U3(π/2,0,π) ├───────────────┤M├»\n",
       "     ├─────────────┤                 │  └─────────────┘┌─────────────┐└╥┘»\n",
       "q_1: ┤ U3(π/2,0,π) ├─────────────────┼─────────■───────┤ U3(π/2,0,π) ├─╫─»\n",
       "     ├─────────────┤                 │         │       └─────────────┘ ║ »\n",
       "q_2: ┤ U3(π/2,0,π) ├─────────────────┼─────────┼──────────────■────────╫─»\n",
       "     ├─────────────┤                 │         │              │        ║ »\n",
       "q_3: ┤ U3(π/2,0,π) ├─────────────────┼─────────┼──────────────┼────────╫─»\n",
       "     ├─────────────┤                 │         │              │        ║ »\n",
       "q_4: ┤ U3(π/2,0,π) ├─────────────────┼─────────┼──────────────┼────────╫─»\n",
       "     └┬───────────┬┘┌─────────────┐┌─┴─┐     ┌─┴─┐          ┌─┴─┐      ║ »\n",
       "q_5: ─┤ U3(π,0,π) ├─┤ U3(π/2,0,π) ├┤ X ├─────┤ X ├──────────┤ X ├──────╫─»\n",
       "      └───────────┘ └─────────────┘└───┘     └───┘          └───┘      ║ »\n",
       "c: 6/══════════════════════════════════════════════════════════════════╩═»\n",
       "                                                                       0 »\n",
       "«                                                                 \n",
       "«q_0: ────────────────────────────────────────────────────────────\n",
       "«                    ┌─┐                                          \n",
       "«q_1: ───────────────┤M├──────────────────────────────────────────\n",
       "«     ┌─────────────┐└╥┘               ┌─┐                        \n",
       "«q_2: ┤ U3(π/2,0,π) ├─╫────────────────┤M├────────────────────────\n",
       "«     └─────────────┘ ║ ┌─────────────┐└╥┘               ┌─┐      \n",
       "«q_3: ───────■────────╫─┤ U3(π/2,0,π) ├─╫────────────────┤M├──────\n",
       "«            │        ║ └─────────────┘ ║ ┌─────────────┐└╥┘┌─┐   \n",
       "«q_4: ───────┼────────╫────────■────────╫─┤ U3(π/2,0,π) ├─╫─┤M├───\n",
       "«          ┌─┴─┐      ║      ┌─┴─┐      ║ ├─────────────┤ ║ └╥┘┌─┐\n",
       "«q_5: ─────┤ X ├──────╫──────┤ X ├──────╫─┤ U3(π/2,0,π) ├─╫──╫─┤M├\n",
       "«          └───┘      ║      └───┘      ║ └─────────────┘ ║  ║ └╥┘\n",
       "«c: 6/════════════════╩═════════════════╩═════════════════╩══╩══╩═\n",
       "«                     1                 2                 3  4  5 "
      ]
     },
     "execution_count": 6,
     "metadata": {},
     "output_type": "execute_result"
    }
   ],
   "source": [
    "qc = q.get_circuit_properties(qasm_source=qasm_files[0])\n",
    "qc.circuit.draw(idle_wires=False)"
   ]
  },
  {
   "cell_type": "markdown",
   "metadata": {},
   "source": [
    "Or you can also get it from the qasm strings"
   ]
  },
  {
   "cell_type": "code",
   "execution_count": 7,
   "metadata": {},
   "outputs": [
    {
     "data": {
      "text/html": [
       "<pre style=\"word-wrap: normal;white-space: pre;background: #fff0;line-height: 1.1;font-family: &quot;Courier New&quot;,Courier,monospace\">     ┌─────────────┐      ░ ┌─┐   \n",
       "q_0: ┤ U3(π/2,0,π) ├──■───░─┤M├───\n",
       "     └─────────────┘┌─┴─┐ ░ └╥┘┌─┐\n",
       "q_1: ───────────────┤ X ├─░──╫─┤M├\n",
       "                    └───┘ ░  ║ └╥┘\n",
       "c: 2/════════════════════════╩══╩═\n",
       "                             0  1 </pre>"
      ],
      "text/plain": [
       "     ┌─────────────┐      ░ ┌─┐   \n",
       "q_0: ┤ U3(π/2,0,π) ├──■───░─┤M├───\n",
       "     └─────────────┘┌─┴─┐ ░ └╥┘┌─┐\n",
       "q_1: ───────────────┤ X ├─░──╫─┤M├\n",
       "                    └───┘ ░  ║ └╥┘\n",
       "c: 2/════════════════════════╩══╩═\n",
       "                             0  1 "
      ]
     },
     "execution_count": 7,
     "metadata": {},
     "output_type": "execute_result"
    }
   ],
   "source": [
    "qasm_text = \"\"\"OPENQASM 2.0;\n",
    "include \"qelib1.inc\";\n",
    "qreg q[2];\n",
    "creg c[2];\n",
    "h q[0];\n",
    "cx q[0], q[1];\n",
    "barrier q[0], q[1];\n",
    "measure q[0] -> c[0];\n",
    "measure q[1] -> c[1];\n",
    "\"\"\"\n",
    "\n",
    "qc = q.get_circuit_properties(qasm_source=qasm_text)\n",
    "qc.circuit.draw(idle_wires=False)"
   ]
  },
  {
   "cell_type": "markdown",
   "metadata": {},
   "source": [
    "`q.get_circuit_properties` will give an object of `QiskitCircuit` which will give the information of the circuits: \n",
    "- `circuit`: `QuantumCircuit` object from Qiskit\n",
    "- `depth`: circuit depth\n",
    "- `gates`: number of gates used in the circuit\n",
    "- `total_gates`: number of total gates used in the circuit\n",
    "- `correct_output`: noiseless output from the simulation\n",
    "- `qasm`: OpenQASM2 file from the circuit translated to `U3` and `cx` gates\n",
    "- `qasm_original`: OpenQASM2 file from the circuit original\n"
   ]
  },
  {
   "cell_type": "code",
   "execution_count": 8,
   "metadata": {},
   "outputs": [
    {
     "data": {
      "image/png": "[encoded data removed]",
      "text/plain": [
       "<Figure size 538.128x284.278 with 1 Axes>"
      ]
     },
     "execution_count": 8,
     "metadata": {},
     "output_type": "execute_result"
    }
   ],
   "source": [
    "qc.circuit.draw(\"mpl\")"
   ]
  },
  {
   "cell_type": "code",
   "execution_count": 9,
   "metadata": {},
   "outputs": [
    {
     "name": "stdout",
     "output_type": "stream",
     "text": [
      "Number of depth: 3\n",
      "Number of gates: {'measure': 2, 'u3': 1, 'cx': 1, 'barrier': 1}\n",
      "Number of total gates: 3\n",
      "Noiseless simulation output: {'3': 0.4991, '0': 0.5009}\n",
      "Circuit Qasm: OPENQASM 2.0;\n",
      "include \"qelib1.inc\";\n",
      "qreg q[2];\n",
      "creg c[2];\n",
      "u3(pi/2,0,pi) q[0];\n",
      "cx q[0],q[1];\n",
      "barrier q[0],q[1];\n",
      "measure q[0] -> c[0];\n",
      "measure q[1] -> c[1];\n"
     ]
    }
   ],
   "source": [
    "print(\"Number of depth:\", qc.depth)\n",
    "print(\"Number of gates:\", qc.gates)\n",
    "print(\"Number of total gates:\", qc.total_gate) \n",
    "print(\"Noiseless simulation output:\", qc.correct_output)\n",
    "print(\"Circuit Qasm:\", qc.qasm)"
   ]
  },
  {
   "cell_type": "markdown",
   "metadata": {},
   "source": [
    "## Compilation Techniques"
   ]
  },
  {
   "cell_type": "markdown",
   "metadata": {},
   "source": [
    "### Qiskit"
   ]
  },
  {
   "cell_type": "markdown",
   "metadata": {},
   "source": [
    "We integrated several compilation techniques from Qiskit"
   ]
  },
  {
   "cell_type": "code",
   "execution_count": 10,
   "metadata": {},
   "outputs": [
    {
     "name": "stdout",
     "output_type": "stream",
     "text": [
      "Existing Qiskit Compilation Options:\n",
      "qiskit_0\n",
      "qiskit_3\n",
      "qiskit_NA_avg\n",
      "qiskit_NA_lcd\n",
      "qiskit_NA_mix\n",
      "qiskit_NA_w15\n",
      "qiskit_NA_avg_adj\n",
      "qiskit_NA_lcd_adj\n",
      "qiskit_NA_mix_adj\n",
      "qiskit_NA_w15_adj\n",
      "qiskit_NA_wn\n",
      "qiskit_NA_wn_adj\n",
      "mapomatic_lcd\n",
      "mapomatic_avg\n",
      "mapomatic_mix\n",
      "mapomatic_avg_adj\n",
      "mapomatic_w15_adj\n"
     ]
    }
   ],
   "source": [
    "print(\"Existing Qiskit Compilation Options:\")\n",
    "for member in qiskit_compilation_enum:\n",
    "    print(member.name)"
   ]
  },
  {
   "cell_type": "code",
   "execution_count": 11,
   "metadata": {},
   "outputs": [
    {
     "name": "stdout",
     "output_type": "stream",
     "text": [
      "OPENQASM 2.0;\n",
      "include \"qelib1.inc\";\n",
      "gate rzx(param0) q0,q1 { h q1; cx q0,q1; rz(param0) q1; cx q0,q1; h q1; }\n",
      "gate ecr q0,q1 { rzx(pi/4) q0,q1; x q0; rzx(-pi/4) q0,q1; }\n",
      "qreg q[127];\n",
      "creg c[2];\n",
      "rz(-pi) q[122];\n",
      "sx q[122];\n",
      "rz(-pi) q[122];\n",
      "rz(pi/2) q[123];\n",
      "sx q[123];\n",
      "ecr q[123],q[122];\n",
      "x q[123];\n",
      "barrier q[123],q[122];\n",
      "measure q[123] -> c[0];\n",
      "measure q[122] -> c[1];\n"
     ]
    }
   ],
   "source": [
    "updated_qasm = q.compile(qasm=qc.qasm_original, compilation_name=qiskit_compilation_enum.qiskit_3.value)\n",
    "print(updated_qasm)"
   ]
  },
  {
   "cell_type": "markdown",
   "metadata": {},
   "source": [
    "### TriQ"
   ]
  },
  {
   "cell_type": "markdown",
   "metadata": {},
   "source": [
    "Also, we integrate TriQ Compilation with different options.\n",
    "\n",
    "Qubit placement options:\n",
    "- `na`: initial mapping from Noise-adaptive technique []\n",
    "- `mapo`: initial mapping from Mapomatic technique []\n",
    "- `sabre`: initial mapping from SABRE []\n",
    "\n",
    "Calibration type options:\n",
    "- `lcd` : TriQ's routing with last calibration data.\n",
    "- `avg` : TriQ's routing with average calibration data.\n",
    "- `mix` : TriQ's routing with mix calibration data. (Mix = if the qubits calibrated today, we will use the last calibration data for that qubit, otherwise we will use the average)\n",
    "- `w15` : TriQ's routing with average calibration data of 15 days from the qubit is compiled.\n",
    "\n",
    "The combinations of name become: `triq_<calibration_type>_<layout>`. For examples:\n",
    "- `triq_avg_na`\n",
    "- `triq_mix_sabre`\n",
    "\n",
    "**Note: From Qiskit version > 1.0.0, `noise_adaptive` layout has been removed**"
   ]
  },
  {
   "cell_type": "code",
   "execution_count": 12,
   "metadata": {},
   "outputs": [
    {
     "name": "stdout",
     "output_type": "stream",
     "text": [
      "OPENQASM 2.0;\n",
      "include \"qelib1.inc\";\n",
      "qreg q[127];\n",
      "creg c[127];\n",
      "u2(0,3.14159265358979) q[39];\n",
      "cx q[39],q[40];\n",
      "measure q[39] -> c[0];\n",
      "measure q[40] -> c[1];\n",
      "\n"
     ]
    }
   ],
   "source": [
    "updated_qasm = q.compile(qasm=qc.qasm_original, compilation_name=\"triq_avg_sabre\")\n",
    "print(updated_qasm)"
   ]
  },
  {
   "cell_type": "markdown",
   "metadata": {},
   "source": [
    "## Initiate Noisy simulator"
   ]
  },
  {
   "cell_type": "markdown",
   "metadata": {},
   "source": [
    "To play around with the noise, we can get retrieve the last recorded calibration data from IBM's backend, and scale down the error\n"
   ]
  },
  {
   "cell_type": "code",
   "execution_count": 13,
   "metadata": {},
   "outputs": [],
   "source": [
    "noise_model, noisy_simulator, coupling_map = qiskit_wrapper.get_noisy_simulator(q.backend, 1)"
   ]
  },
  {
   "cell_type": "markdown",
   "metadata": {},
   "source": [
    "## Running the compiled circuit to the simulator"
   ]
  },
  {
   "cell_type": "markdown",
   "metadata": {},
   "source": [
    "First, we need to transpile the circuit to the targeted backend"
   ]
  },
  {
   "cell_type": "code",
   "execution_count": 14,
   "metadata": {},
   "outputs": [],
   "source": [
    "qc = QiskitCircuit(updated_qasm)\n",
    "circuit = qc.transpile_to_target_backend(q.backend, False)\n",
    "# circuit.draw(\"mpl\", idle_wires=False, fold=60)"
   ]
  },
  {
   "cell_type": "code",
   "execution_count": 15,
   "metadata": {},
   "outputs": [],
   "source": [
    "job = noisy_simulator.run(circuit, shots=10000)\n",
    "result = job.result()  \n",
    "output = result.get_counts()\n",
    "output_normalize = normalize_counts(output, shots=10000)\n",
    "# output_normalize"
   ]
  },
  {
   "cell_type": "markdown",
   "metadata": {},
   "source": [
    "## Calculate the Fidelity"
   ]
  },
  {
   "cell_type": "code",
   "execution_count": 16,
   "metadata": {},
   "outputs": [
    {
     "data": {
      "text/plain": [
       "0.9878"
      ]
     },
     "execution_count": 16,
     "metadata": {},
     "output_type": "execute_result"
    }
   ],
   "source": [
    "calculate_success_rate_tvd(qc.correct_output,output_normalize)"
   ]
  },
  {
   "cell_type": "markdown",
   "metadata": {},
   "source": [
    "# Put all of them together"
   ]
  },
  {
   "cell_type": "code",
   "execution_count": 17,
   "metadata": {},
   "outputs": [
    {
     "name": "stdout",
     "output_type": "stream",
     "text": [
      "bv_6 - compilation : qiskit_0 , noise level : 0.0 , success rate : 1.0\n",
      "bv_6 - compilation : qiskit_0 , noise level : 0.1 , success rate : 0.9526\n",
      "bv_6 - compilation : qiskit_0 , noise level : 0.2 , success rate : 0.9172\n",
      "bv_6 - compilation : qiskit_0 , noise level : 0.4 , success rate : 0.8233999999999999\n",
      "bv_6 - compilation : qiskit_0 , noise level : 0.6 , success rate : 0.748\n",
      "bv_6 - compilation : qiskit_0 , noise level : 0.8 , success rate : 0.7101000000000002\n",
      "bv_6 - compilation : qiskit_0 , noise level : 1.0 , success rate : 0.6503000000000001\n",
      "bv_6 - compilation : qiskit_3 , noise level : 0.0 , success rate : 1.0\n",
      "bv_6 - compilation : qiskit_3 , noise level : 0.1 , success rate : 0.5676000000000001\n",
      "bv_6 - compilation : qiskit_3 , noise level : 0.2 , success rate : 0.9526\n",
      "bv_6 - compilation : qiskit_3 , noise level : 0.4 , success rate : 0.9319\n",
      "bv_6 - compilation : qiskit_3 , noise level : 0.6 , success rate : 0.3109000000000002\n",
      "bv_6 - compilation : qiskit_3 , noise level : 0.8 , success rate : 0.5798000000000001\n",
      "bv_6 - compilation : qiskit_3 , noise level : 1.0 , success rate : 0.5075000000000001\n",
      "bv_6 - compilation : triq_lcd_sabre , noise level : 0.0 , success rate : 1.0\n",
      "bv_6 - compilation : triq_lcd_sabre , noise level : 0.1 , success rate : 0.9836\n",
      "bv_6 - compilation : triq_lcd_sabre , noise level : 0.2 , success rate : 0.9714\n",
      "bv_6 - compilation : triq_lcd_sabre , noise level : 0.4 , success rate : 0.9401\n",
      "bv_6 - compilation : triq_lcd_sabre , noise level : 0.6 , success rate : 0.9214\n",
      "bv_6 - compilation : triq_lcd_sabre , noise level : 0.8 , success rate : 0.8831\n",
      "bv_6 - compilation : triq_lcd_sabre , noise level : 1.0 , success rate : 0.8737\n"
     ]
    }
   ],
   "source": [
    "res_circuit_name = []\n",
    "res_compilations = []\n",
    "res_noise_levels = []\n",
    "res_success_rate = []\n",
    "\n",
    "# prepare the circuit\n",
    "conf.base_folder = \"./circuits/testing/\"\n",
    "qasm_files = q.get_qasm_files_from_path()\n",
    "\n",
    "shots = 10000\n",
    "\n",
    "# select compilation techniques\n",
    "compilations = [\"qiskit_0\", \"qiskit_3\", \"triq_lcd_sabre\"]\n",
    "# compilations = [\"qiskit_3\", \"triq_lcd_na\"]\n",
    "\n",
    "# select the noise levels (0 = noiseless, 1 = noise model from real backend)\n",
    "noise_levels = [0.0, 0.1, 0.2, 0.4, 0.6, 0.8, 1.0]\n",
    "\n",
    "for qasm in qasm_files:\n",
    "    for comp in compilations:\n",
    "        for noise in noise_levels:\n",
    "            qc = q.get_circuit_properties(qasm_source=qasm)\n",
    "            circuit_name = qasm.split(\"/\")[-1].split(\".\")[0]\n",
    "    \n",
    "            updated_qasm = q.compile(qasm=qc.qasm_original, compilation_name=comp)\n",
    "            compiled_qc = QiskitCircuit(updated_qasm)\n",
    "            circuit = compiled_qc.transpile_to_target_backend(q.backend, False)\n",
    "            \n",
    "            noise_model, noisy_simulator, coupling_map = qiskit_wrapper.get_noisy_simulator(q.backend, noise)\n",
    "\n",
    "            job = noisy_simulator.run(circuit, shots=shots)\n",
    "            result = job.result()  \n",
    "            output = result.get_counts()\n",
    "            output_normalize = normalize_counts(output, shots=shots)\n",
    "\n",
    "            tvd = calculate_success_rate_tvd(qc.correct_output,output_normalize)\n",
    "            print(circuit_name, \"- compilation :\", comp, \", noise level :\", noise, \", success rate :\", tvd)\n",
    "            res_circuit_name.append(circuit_name)\n",
    "            res_compilations.append(comp)\n",
    "            res_noise_levels.append(noise)\n",
    "            res_success_rate.append(tvd)\n",
    "\n",
    "        \n"
   ]
  },
  {
   "cell_type": "markdown",
   "metadata": {},
   "source": [
    "## Plot the results"
   ]
  },
  {
   "cell_type": "code",
   "execution_count": 18,
   "metadata": {},
   "outputs": [],
   "source": [
    "df = pd.DataFrame({\n",
    "        'circuit_name': res_circuit_name,\n",
    "        'compilation': res_compilations,\n",
    "        'noise_level': res_noise_levels,\n",
    "        'success_rate': res_success_rate\n",
    "    })"
   ]
  },
  {
   "cell_type": "code",
   "execution_count": 19,
   "metadata": {},
   "outputs": [],
   "source": [
    "def create_line_chart(data, y, opt_values, metric, ax, type, ylabel, xlabel, yticks = None, \n",
    "                      y_bot = None, y_top = None, figsize = (12,8), c_idx = 0, reindex = None, x_index = \"header_id\", x_labels = []):\n",
    "    tmp = ()\n",
    "    \n",
    "    for idx, opt in enumerate(opt_values):\n",
    "        # print(idx, opt)\n",
    "        idx = idx + c_idx\n",
    "        pivot = pd.pivot_table(data[data[y] == opt], \n",
    "                               values=[metric], \n",
    "                               index=x_index, \n",
    "                               columns=y, \n",
    "                               aggfunc='mean')    \n",
    "\n",
    "        if reindex != 0:\n",
    "            if reindex is None:\n",
    "                if len(tmp) == 0:\n",
    "                    tmp = pivot.index\n",
    "                else:\n",
    "                    pivot = pivot.reindex(tmp)\n",
    "            else:\n",
    "                pivot = pivot.reindex(reindex)\n",
    "     \n",
    "        idx_color = idx % (len(markers))       \n",
    "      \n",
    "        pivot.plot(kind='line', color=CB_color_cycle[idx], marker=markers[idx_color], figsize=figsize, ax=ax)\n",
    "\n",
    "        mean= pivot.mean().mean()\n",
    "   \n",
    "    ax.set_xlabel(xlabel)\n",
    "    ax.set_ylabel(ylabel)\n",
    "    \n",
    "\n",
    "    if yticks is not None:\n",
    "        ax.set_yticks(yticks)\n",
    "\n",
    "    if y_bot is not None and y_top is not None:\n",
    "        ax.set_ylim(bottom= y_bot, top= y_top)\n",
    "\n",
    "    if x_labels is not None:\n",
    "        ax.set_xticks(np.arange(len(x_labels)))\n",
    "        ax.set_xticklabels(x_labels)\n",
    "        ax.set_xticklabels(ax.get_xticklabels(), rotation=45, ha='right')\n",
    "\n",
    "    ax.grid()\n"
   ]
  },
  {
   "cell_type": "code",
   "execution_count": 20,
   "metadata": {},
   "outputs": [],
   "source": [
    "def show_figure_by_opt(df, y, y_values, metric, ylabel, xlabel, legend = None, figsize=(10,6), reindex=None, \n",
    "                             x_index = \"total_2q\", x_labels = [], x_lim = [1, 100], \n",
    "                            y_lim = [0,1], title=None, legend_position=None, circuit_name = \"\", hw_name = \"\"):\n",
    "    metrics = [metric]\n",
    "    row = 1\n",
    "    col = 1\n",
    "\n",
    "    fig, ax = plt.subplots(nrows=row, ncols=1)\n",
    "\n",
    "    yticks = None\n",
    "    \n",
    "    for i in range(row):\n",
    "        create_line_chart(df, y, y_values, metrics[i], ax, \"opt\", ylabel, xlabel, yticks, figsize=figsize, reindex=reindex,\n",
    "                          x_index = x_index, x_labels=x_labels)\n",
    "\n",
    "    if legend is None:\n",
    "        l2 = plt.legend()\n",
    "    else:\n",
    "        if legend_position == None:\n",
    "            l2 = plt.legend(legends)\n",
    "        else:\n",
    "            l2 = plt.legend(legends, loc = legend_position)\n",
    "    \n",
    "    plt.xlim(x_lim) \n",
    "    plt.ylim(y_lim)\n",
    "    plt.title(title)\n",
    "    # plt.savefig(\"./output/{}_{}_{}.png\".format(circuit_name, hw_name, x_index), dpi=500)\n",
    "    plt.show()"
   ]
  },
  {
   "cell_type": "code",
   "execution_count": 21,
   "metadata": {},
   "outputs": [
    {
     "data": {
      "image/png": "[encoded data removed]",
      "text/plain": [
       "<Figure size 600x400 with 1 Axes>"
      ]
     },
     "metadata": {},
     "output_type": "display_data"
    }
   ],
   "source": [
    "import matplotlib.pyplot as plt\n",
    "\n",
    "CB_color_cycle = ['#1F77B4', '#AEC7E8', '#FF7F0E', '#FFBB78', '#2CA02C', '#98DF8A', '#D62728', '#FF9896',\n",
    "                  '#9467BD', '#C5B0D5', '#8C564B', '#C49C94', '#E377C2', '#F7B6D2', '#7F7F7F', '#C7C7C7',\n",
    "                  '#BCBD22', '#DBDB8D', '#17BECF', '#9EDAE5'\n",
    "                  ]\n",
    "\n",
    "markers = ['o', 'v', '^', 's', '+', '*', 'x', 'd', '<', '>', 'p']\n",
    "linestyles = ['-', '--', '-.', ':', '-', '--', '-.', ':']\n",
    "\n",
    "\n",
    "y_values = [\"qiskit_0\", \"qiskit_3\", \"triq_lcd_sabre\"]\n",
    "legends  = [\"Qiskit-0\", \"Qiskit-3\", \"SABRE-TriQ-lcd\"]\n",
    "\n",
    "x_labels = None\n",
    "\n",
    "\n",
    "show_figure_by_opt(df, \"compilation\", y_values, \"success_rate\", \"Fidelity\", \"Physical error rate scaling factor (ibm_sherbrooke)\", legends, figsize=(6,4), \n",
    "                   reindex=None, x_index = \"noise_level\", x_labels=x_labels, x_lim=[-0.01, 1.01], y_lim=[0,1.03],\n",
    "                        legend_position=(0.01,0.01), circuit_name = \"bv_6\", hw_name = \"sherbrooke\")"
   ]
  },
  {
   "cell_type": "code",
   "execution_count": null,
   "metadata": {},
   "outputs": [],
   "source": []
  }
 ],
 "metadata": {
  "kernelspec": {
   "display_name": "Python 3 (ipykernel)",
   "language": "python",
   "name": "python3"
  },
  "language_info": {
   "codemirror_mode": {
    "name": "ipython",
    "version": 3
   },
   "file_extension": ".py",
   "mimetype": "text/x-python",
   "name": "python",
   "nbconvert_exporter": "python",
   "pygments_lexer": "ipython3",
   "version": "3.10.12"
  }
 },
 "nbformat": 4,
 "nbformat_minor": 4
}
