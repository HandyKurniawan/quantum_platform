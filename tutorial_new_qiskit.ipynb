{
 "cells": [
  {
   "cell_type": "markdown",
   "metadata": {},
   "source": [
    "# Tutorial on using the Platform"
   ]
  },
  {
   "cell_type": "markdown",
   "metadata": {},
   "source": [
    "This is the tutorial bla bla bla"
   ]
  },
  {
   "cell_type": "markdown",
   "metadata": {},
   "source": [
    "## Initialization"
   ]
  },
  {
   "cell_type": "markdown",
   "metadata": {},
   "source": [
    "First we need to import the necessary class blabla bla"
   ]
  },
  {
   "cell_type": "code",
   "execution_count": 1,
   "metadata": {},
   "outputs": [],
   "source": [
    "from qEmQUIP import QEM, conf\n",
    "import sys, glob, os\n",
    "from commons import convert_to_json, triq_optimization, qiskit_optimization, \\\n",
    "    calibration_type_enum, qiskit_compilation_enum, normalize_counts, calculate_success_rate_tvd, convert_dict_binary_to_int, convert_dict_int_to_binary\n",
    "import wrappers.qiskit_wrapper as qiskit_wrapper\n",
    "from wrappers.qiskit_wrapper import QiskitCircuit\n",
    "import pandas as pd\n",
    "import mthree\n",
    "import mapomatic as mm\n",
    "import mthree\n",
    "from qiskit_aer import AerSimulator, QasmSimulator, Aer\n",
    "from qiskit.qasm2 import dumps\n",
    "import matplotlib.pyplot as plt\n",
    "\n",
    "CB_color_cycle = ['#1F77B4', '#AEC7E8', '#FF7F0E', '#FFBB78', '#2CA02C', '#98DF8A', '#D62728', '#FF9896',\n",
    "                  '#9467BD', '#C5B0D5', '#8C564B', '#C49C94', '#E377C2', '#F7B6D2', '#7F7F7F', '#C7C7C7',\n",
    "                  '#BCBD22', '#DBDB8D', '#17BECF', '#9EDAE5'\n",
    "                  ]\n",
    "\n",
    "markers = ['o', 'v', '^', 's', '+', '*', 'x', 'd', '<', '>', 'p']\n",
    "linestyles = ['-', '--', '-.', ':', '-', '--', '-.', ':']\n",
    "\n"
   ]
  },
  {
   "cell_type": "markdown",
   "metadata": {},
   "source": [
    "Here we need to initialize the object, please check the `config.ini` file to update the general config"
   ]
  },
  {
   "cell_type": "code",
   "execution_count": 2,
   "metadata": {},
   "outputs": [
    {
     "name": "stdout",
     "output_type": "stream",
     "text": [
      "env: QXToken=74076e69ed0d571c8e0ff8c0b2c912c28681d47426cf16a5d817825de16f7dbd95bf6ff7c604b706803b78b2e21d1dd5cacf9f1b0aa81d672d938bded8049a17\n"
     ]
    }
   ],
   "source": [
    "# Put your Qiskit Token\n",
    "%set_env QXToken=74076e69ed0d571c8e0ff8c0b2c912c28681d47426cf16a5d817825de16f7dbd95bf6ff7c604b706803b78b2e21d1dd5cacf9f1b0aa81d672d938bded8049a17\n",
    "token = \"74076e69ed0d571c8e0ff8c0b2c912c28681d47426cf16a5d817825de16f7dbd95bf6ff7c604b706803b78b2e21d1dd5cacf9f1b0aa81d672d938bded8049a17\"\n",
    "q = QEM(runs=conf.runs, fixed_initial_layout = False, run_in_simulator=conf.run_in_simulator, user_id=conf.user_id, token=token)"
   ]
  },
  {
   "cell_type": "markdown",
   "metadata": {},
   "source": [
    "To update the fake backend calibration data"
   ]
  },
  {
   "cell_type": "code",
   "execution_count": 3,
   "metadata": {},
   "outputs": [],
   "source": [
    "# q.update_hardware_configs()"
   ]
  },
  {
   "cell_type": "code",
   "execution_count": 4,
   "metadata": {},
   "outputs": [],
   "source": [
    "# qiskit_wrapper.generate_new_props(q.backend, \"avg\")\n",
    "# qiskit_wrapper.generate_new_props(q.backend, \"mix\")\n",
    "# qiskit_wrapper.generate_new_props(q.backend, \"recent_15_adjust\")"
   ]
  },
  {
   "cell_type": "markdown",
   "metadata": {},
   "source": [
    "## Prepare the circuits"
   ]
  },
  {
   "cell_type": "markdown",
   "metadata": {},
   "source": [
    "You can get the quantum circuit from a folder contains the qasm files or qasm string"
   ]
  },
  {
   "cell_type": "code",
   "execution_count": 5,
   "metadata": {},
   "outputs": [
    {
     "name": "stdout",
     "output_type": "stream",
     "text": [
      "['./circuits/testing/bv_6.qasm']\n"
     ]
    }
   ],
   "source": [
    "# The path is coming from the config file, but you can also modify it here\n",
    "conf.base_folder = \"./circuits/testing/\"\n",
    "qasm_files = q.get_qasm_files_from_path()\n",
    "print(qasm_files)"
   ]
  },
  {
   "cell_type": "markdown",
   "metadata": {},
   "source": [
    "Get the circuits from file"
   ]
  },
  {
   "cell_type": "code",
   "execution_count": 6,
   "metadata": {},
   "outputs": [
    {
     "data": {
      "text/html": [
       "<pre style=\"word-wrap: normal;white-space: pre;background: #fff0;line-height: 1.1;font-family: &quot;Courier New&quot;,Courier,monospace\">     ┌─────────────┐                    ┌─────────────┐               ┌─┐»\n",
       "q_0: ┤ U3(π/2,0,π) ├─────────────────■──┤ U3(π/2,0,π) ├───────────────┤M├»\n",
       "     ├─────────────┤                 │  └─────────────┘┌─────────────┐└╥┘»\n",
       "q_1: ┤ U3(π/2,0,π) ├─────────────────┼─────────■───────┤ U3(π/2,0,π) ├─╫─»\n",
       "     ├─────────────┤                 │         │       └─────────────┘ ║ »\n",
       "q_2: ┤ U3(π/2,0,π) ├─────────────────┼─────────┼──────────────■────────╫─»\n",
       "     ├─────────────┤                 │         │              │        ║ »\n",
       "q_3: ┤ U3(π/2,0,π) ├─────────────────┼─────────┼──────────────┼────────╫─»\n",
       "     ├─────────────┤                 │         │              │        ║ »\n",
       "q_4: ┤ U3(π/2,0,π) ├─────────────────┼─────────┼──────────────┼────────╫─»\n",
       "     └┬───────────┬┘┌─────────────┐┌─┴─┐     ┌─┴─┐          ┌─┴─┐      ║ »\n",
       "q_5: ─┤ U3(π,0,π) ├─┤ U3(π/2,0,π) ├┤ X ├─────┤ X ├──────────┤ X ├──────╫─»\n",
       "      └───────────┘ └─────────────┘└───┘     └───┘          └───┘      ║ »\n",
       "c: 6/══════════════════════════════════════════════════════════════════╩═»\n",
       "                                                                       0 »\n",
       "«                                                                 \n",
       "«q_0: ────────────────────────────────────────────────────────────\n",
       "«                    ┌─┐                                          \n",
       "«q_1: ───────────────┤M├──────────────────────────────────────────\n",
       "«     ┌─────────────┐└╥┘               ┌─┐                        \n",
       "«q_2: ┤ U3(π/2,0,π) ├─╫────────────────┤M├────────────────────────\n",
       "«     └─────────────┘ ║ ┌─────────────┐└╥┘               ┌─┐      \n",
       "«q_3: ───────■────────╫─┤ U3(π/2,0,π) ├─╫────────────────┤M├──────\n",
       "«            │        ║ └─────────────┘ ║ ┌─────────────┐└╥┘┌─┐   \n",
       "«q_4: ───────┼────────╫────────■────────╫─┤ U3(π/2,0,π) ├─╫─┤M├───\n",
       "«          ┌─┴─┐      ║      ┌─┴─┐      ║ ├─────────────┤ ║ └╥┘┌─┐\n",
       "«q_5: ─────┤ X ├──────╫──────┤ X ├──────╫─┤ U3(π/2,0,π) ├─╫──╫─┤M├\n",
       "«          └───┘      ║      └───┘      ║ └─────────────┘ ║  ║ └╥┘\n",
       "«c: 6/════════════════╩═════════════════╩═════════════════╩══╩══╩═\n",
       "«                     1                 2                 3  4  5 </pre>"
      ],
      "text/plain": [
       "     ┌─────────────┐                    ┌─────────────┐               ┌─┐»\n",
       "q_0: ┤ U3(π/2,0,π) ├─────────────────■──┤ U3(π/2,0,π) ├───────────────┤M├»\n",
       "     ├─────────────┤                 │  └─────────────┘┌─────────────┐└╥┘»\n",
       "q_1: ┤ U3(π/2,0,π) ├─────────────────┼─────────■───────┤ U3(π/2,0,π) ├─╫─»\n",
       "     ├─────────────┤                 │         │       └─────────────┘ ║ »\n",
       "q_2: ┤ U3(π/2,0,π) ├─────────────────┼─────────┼──────────────■────────╫─»\n",
       "     ├─────────────┤                 │         │              │        ║ »\n",
       "q_3: ┤ U3(π/2,0,π) ├─────────────────┼─────────┼──────────────┼────────╫─»\n",
       "     ├─────────────┤                 │         │              │        ║ »\n",
       "q_4: ┤ U3(π/2,0,π) ├─────────────────┼─────────┼──────────────┼────────╫─»\n",
       "     └┬───────────┬┘┌─────────────┐┌─┴─┐     ┌─┴─┐          ┌─┴─┐      ║ »\n",
       "q_5: ─┤ U3(π,0,π) ├─┤ U3(π/2,0,π) ├┤ X ├─────┤ X ├──────────┤ X ├──────╫─»\n",
       "      └───────────┘ └─────────────┘└───┘     └───┘          └───┘      ║ »\n",
       "c: 6/══════════════════════════════════════════════════════════════════╩═»\n",
       "                                                                       0 »\n",
       "«                                                                 \n",
       "«q_0: ────────────────────────────────────────────────────────────\n",
       "«                    ┌─┐                                          \n",
       "«q_1: ───────────────┤M├──────────────────────────────────────────\n",
       "«     ┌─────────────┐└╥┘               ┌─┐                        \n",
       "«q_2: ┤ U3(π/2,0,π) ├─╫────────────────┤M├────────────────────────\n",
       "«     └─────────────┘ ║ ┌─────────────┐└╥┘               ┌─┐      \n",
       "«q_3: ───────■────────╫─┤ U3(π/2,0,π) ├─╫────────────────┤M├──────\n",
       "«            │        ║ └─────────────┘ ║ ┌─────────────┐└╥┘┌─┐   \n",
       "«q_4: ───────┼────────╫────────■────────╫─┤ U3(π/2,0,π) ├─╫─┤M├───\n",
       "«          ┌─┴─┐      ║      ┌─┴─┐      ║ ├─────────────┤ ║ └╥┘┌─┐\n",
       "«q_5: ─────┤ X ├──────╫──────┤ X ├──────╫─┤ U3(π/2,0,π) ├─╫──╫─┤M├\n",
       "«          └───┘      ║      └───┘      ║ └─────────────┘ ║  ║ └╥┘\n",
       "«c: 6/════════════════╩═════════════════╩═════════════════╩══╩══╩═\n",
       "«                     1                 2                 3  4  5 "
      ]
     },
     "execution_count": 6,
     "metadata": {},
     "output_type": "execute_result"
    }
   ],
   "source": [
    "qc = q.get_circuit_properties(qasm_source=qasm_files[0])\n",
    "qc.circuit.draw(idle_wires=False)"
   ]
  },
  {
   "cell_type": "markdown",
   "metadata": {},
   "source": [
    "Or you can also get it from the qasm strings"
   ]
  },
  {
   "cell_type": "code",
   "execution_count": 7,
   "metadata": {},
   "outputs": [
    {
     "data": {
      "text/html": [
       "<pre style=\"word-wrap: normal;white-space: pre;background: #fff0;line-height: 1.1;font-family: &quot;Courier New&quot;,Courier,monospace\">     ┌─────────────┐      ░ ┌─┐   \n",
       "q_0: ┤ U3(π/2,0,π) ├──■───░─┤M├───\n",
       "     └─────────────┘┌─┴─┐ ░ └╥┘┌─┐\n",
       "q_1: ───────────────┤ X ├─░──╫─┤M├\n",
       "                    └───┘ ░  ║ └╥┘\n",
       "c: 2/════════════════════════╩══╩═\n",
       "                             0  1 </pre>"
      ],
      "text/plain": [
       "     ┌─────────────┐      ░ ┌─┐   \n",
       "q_0: ┤ U3(π/2,0,π) ├──■───░─┤M├───\n",
       "     └─────────────┘┌─┴─┐ ░ └╥┘┌─┐\n",
       "q_1: ───────────────┤ X ├─░──╫─┤M├\n",
       "                    └───┘ ░  ║ └╥┘\n",
       "c: 2/════════════════════════╩══╩═\n",
       "                             0  1 "
      ]
     },
     "execution_count": 7,
     "metadata": {},
     "output_type": "execute_result"
    }
   ],
   "source": [
    "qasm_text = \"\"\"OPENQASM 2.0;\n",
    "include \"qelib1.inc\";\n",
    "qreg q[2];\n",
    "creg c[2];\n",
    "h q[0];\n",
    "cx q[0], q[1];\n",
    "barrier q[0], q[1];\n",
    "measure q[0] -> c[0];\n",
    "measure q[1] -> c[1];\n",
    "\"\"\"\n",
    "\n",
    "qc = q.get_circuit_properties(qasm_source=qasm_text)\n",
    "qc.circuit.draw(idle_wires=False)"
   ]
  },
  {
   "cell_type": "markdown",
   "metadata": {},
   "source": [
    "`q.get_circuit_properties` will give an object of `QiskitCircuit` which will give the information of the circuits: \n",
    "- `circuit`: `QuantumCircuit` object from Qiskit\n",
    "- `depth`: circuit depth\n",
    "- `gates`: number of gates used in the circuit\n",
    "- `total_gates`: number of total gates used in the circuit\n",
    "- `correct_output`: noiseless output from the simulation\n",
    "- `qasm`: OpenQASM2 file from the circuit translated to `U3` and `cx` gates\n",
    "- `qasm_original`: OpenQASM2 file from the circuit original\n"
   ]
  },
  {
   "cell_type": "code",
   "execution_count": 8,
   "metadata": {},
   "outputs": [
    {
     "data": {
      "image/png": "[encoded data removed]",
      "text/plain": [
       "<Figure size 538.128x284.278 with 1 Axes>"
      ]
     },
     "execution_count": 8,
     "metadata": {},
     "output_type": "execute_result"
    }
   ],
   "source": [
    "qc.circuit.draw(\"mpl\")"
   ]
  },
  {
   "cell_type": "code",
   "execution_count": 9,
   "metadata": {},
   "outputs": [
    {
     "name": "stdout",
     "output_type": "stream",
     "text": [
      "Number of depth: 3\n",
      "Number of gates: {'measure': 2, 'u3': 1, 'cx': 1, 'barrier': 1}\n",
      "Number of total gates: 3\n",
      "Noiseless simulation output: {'0': 0.4907, '3': 0.5093}\n",
      "Circuit Qasm: OPENQASM 2.0;\n",
      "include \"qelib1.inc\";\n",
      "qreg q[2];\n",
      "creg c[2];\n",
      "u3(pi/2,0,pi) q[0];\n",
      "cx q[0],q[1];\n",
      "barrier q[0],q[1];\n",
      "measure q[0] -> c[0];\n",
      "measure q[1] -> c[1];\n"
     ]
    }
   ],
   "source": [
    "print(\"Number of depth:\", qc.depth)\n",
    "print(\"Number of gates:\", qc.gates)\n",
    "print(\"Number of total gates:\", qc.total_gate) \n",
    "print(\"Noiseless simulation output:\", qc.correct_output)\n",
    "print(\"Circuit Qasm:\", qc.qasm)"
   ]
  },
  {
   "cell_type": "markdown",
   "metadata": {},
   "source": [
    "## Compilation Techniques"
   ]
  },
  {
   "cell_type": "markdown",
   "metadata": {},
   "source": [
    "### Qiskit"
   ]
  },
  {
   "cell_type": "markdown",
   "metadata": {},
   "source": [
    "We integrated several compilation techniques from Qiskit"
   ]
  },
  {
   "cell_type": "code",
   "execution_count": 10,
   "metadata": {},
   "outputs": [
    {
     "name": "stdout",
     "output_type": "stream",
     "text": [
      "Existing Qiskit Compilation Options:\n",
      "qiskit_0\n",
      "qiskit_3\n",
      "qiskit_NA_avg\n",
      "qiskit_NA_lcd\n",
      "qiskit_NA_mix\n",
      "qiskit_NA_w15\n",
      "qiskit_NA_avg_adj\n",
      "qiskit_NA_lcd_adj\n",
      "qiskit_NA_mix_adj\n",
      "qiskit_NA_w15_adj\n",
      "qiskit_NA_wn\n",
      "qiskit_NA_wn_adj\n",
      "mapomatic_lcd\n",
      "mapomatic_avg\n",
      "mapomatic_mix\n",
      "mapomatic_avg_adj\n",
      "mapomatic_w15_adj\n"
     ]
    }
   ],
   "source": [
    "print(\"Existing Qiskit Compilation Options:\")\n",
    "for member in qiskit_compilation_enum:\n",
    "    print(member.name)"
   ]
  },
  {
   "cell_type": "code",
   "execution_count": 11,
   "metadata": {},
   "outputs": [
    {
     "name": "stdout",
     "output_type": "stream",
     "text": [
      "OPENQASM 2.0;\n",
      "include \"qelib1.inc\";\n",
      "gate rzx(param0) q0,q1 { h q1; cx q0,q1; rz(param0) q1; cx q0,q1; h q1; }\n",
      "gate ecr q0,q1 { rzx(pi/4) q0,q1; x q0; rzx(-pi/4) q0,q1; }\n",
      "qreg q[127];\n",
      "creg c[2];\n",
      "rz(-pi/2) q[62];\n",
      "sx q[62];\n",
      "rz(-2.3419111674042767) q[62];\n",
      "sx q[62];\n",
      "rz(-pi/2) q[62];\n",
      "rz(-pi/2) q[72];\n",
      "sx q[72];\n",
      "rz(2.4599343627715466) q[72];\n",
      "ecr q[72],q[62];\n",
      "rz(pi/2) q[62];\n",
      "sx q[62];\n",
      "rz(-2.3419111674042785) q[62];\n",
      "rz(-2.252454617613143) q[72];\n",
      "sx q[72];\n",
      "rz(pi/2) q[72];\n",
      "barrier q[62],q[72];\n",
      "measure q[62] -> c[0];\n",
      "measure q[72] -> c[1];\n",
      "[62, 72]\n"
     ]
    }
   ],
   "source": [
    "updated_qasm, initial_mapping = q.compile(qasm=qc.qasm_original, compilation_name=qiskit_compilation_enum.qiskit_3.value)\n",
    "print(updated_qasm)\n",
    "print(initial_mapping)"
   ]
  },
  {
   "cell_type": "markdown",
   "metadata": {},
   "source": [
    "### TriQ"
   ]
  },
  {
   "cell_type": "markdown",
   "metadata": {},
   "source": [
    "Also, we integrate TriQ Compilation with different options.\n",
    "\n",
    "Qubit placement options:\n",
    "- `na`: initial mapping from Noise-adaptive technique []\n",
    "- `mapo`: initial mapping from Mapomatic technique []\n",
    "- `sabre`: initial mapping from SABRE []\n",
    "\n",
    "Calibration type options:\n",
    "- `lcd` : TriQ's routing with last calibration data.\n",
    "- `avg` : TriQ's routing with average calibration data.\n",
    "- `mix` : TriQ's routing with mix calibration data. (Mix = if the qubits calibrated today, we will use the last calibration data for that qubit, otherwise we will use the average)\n",
    "- `w15` : TriQ's routing with average calibration data of 15 days from the qubit is compiled.\n",
    "\n",
    "The combinations of name become: `triq_<calibration_type>_<layout>`. For examples:\n",
    "- `triq_avg_na`\n",
    "- `triq_mix_sabre`\n",
    "\n",
    "**Note: From Qiskit version > 1.0.0, `noise_adaptive` layout has been removed**"
   ]
  },
  {
   "cell_type": "code",
   "execution_count": 12,
   "metadata": {},
   "outputs": [],
   "source": [
    "# updated_qasm, initial_mapping = q.compile(qasm=qc.qasm_original, compilation_name=\"triq_avg_sabre\")\n",
    "# print(updated_qasm)"
   ]
  },
  {
   "cell_type": "markdown",
   "metadata": {},
   "source": [
    "## Initiate Noisy simulator"
   ]
  },
  {
   "cell_type": "markdown",
   "metadata": {},
   "source": [
    "To play around with the noise, we can get retrieve the last recorded calibration data from IBM's backend, and scale down the error\n"
   ]
  },
  {
   "cell_type": "code",
   "execution_count": 13,
   "metadata": {},
   "outputs": [],
   "source": [
    "noise_model, noisy_simulator, coupling_map = qiskit_wrapper.get_noisy_simulator(q.backend, 1)"
   ]
  },
  {
   "cell_type": "markdown",
   "metadata": {},
   "source": [
    "## Running the compiled circuit to the simulator"
   ]
  },
  {
   "cell_type": "markdown",
   "metadata": {},
   "source": [
    "First, we need to transpile the circuit to the targeted backend"
   ]
  },
  {
   "cell_type": "code",
   "execution_count": 14,
   "metadata": {},
   "outputs": [
    {
     "data": {
      "image/png": "[encoded data removed]",
      "text/plain": [
       "<Figure size 5226.49x284.278 with 1 Axes>"
      ]
     },
     "execution_count": 14,
     "metadata": {},
     "output_type": "execute_result"
    }
   ],
   "source": [
    "qc = QiskitCircuit(updated_qasm)\n",
    "circuit = qc.transpile_to_target_backend(q.backend, False)\n",
    "circuit.draw(\"mpl\", idle_wires=False, fold=60)"
   ]
  },
  {
   "cell_type": "code",
   "execution_count": 15,
   "metadata": {},
   "outputs": [
    {
     "data": {
      "text/plain": [
       "{'01': 347, '10': 431, '00': 4645, '11': 4577}"
      ]
     },
     "execution_count": 15,
     "metadata": {},
     "output_type": "execute_result"
    }
   ],
   "source": [
    "shots = 10000\n",
    "job = noisy_simulator.run(circuit, shots=shots)\n",
    "result = job.result()  \n",
    "output = result.get_counts()\n",
    "output_normalize = normalize_counts(output, shots=shots)\n",
    "output"
   ]
  },
  {
   "cell_type": "markdown",
   "metadata": {},
   "source": [
    "## Calculate the Fidelity"
   ]
  },
  {
   "cell_type": "code",
   "execution_count": 16,
   "metadata": {},
   "outputs": [
    {
     "data": {
      "text/plain": [
       "0.9222"
      ]
     },
     "execution_count": 16,
     "metadata": {},
     "output_type": "execute_result"
    }
   ],
   "source": [
    "fidelity = calculate_success_rate_tvd(qc.correct_output,output_normalize)\n",
    "fidelity"
   ]
  },
  {
   "cell_type": "markdown",
   "metadata": {},
   "source": [
    "## Error Mitigation (Mthree)"
   ]
  },
  {
   "cell_type": "code",
   "execution_count": 17,
   "metadata": {},
   "outputs": [],
   "source": [
    "from qiskit_ibm_runtime import QiskitRuntimeService\n",
    "qiskit_token = token\n",
    "\n",
    "QiskitRuntimeService.save_account(channel=\"ibm_quantum\", token=qiskit_token, overwrite=True)\n",
    "service = QiskitRuntimeService(channel=\"ibm_quantum\", token=qiskit_token)\n",
    "backend_service = service.backend(\"ibm_sherbrooke\")\n",
    "backend_sim = AerSimulator.from_backend(backend_service)"
   ]
  },
  {
   "cell_type": "code",
   "execution_count": 18,
   "metadata": {},
   "outputs": [
    {
     "name": "stdout",
     "output_type": "stream",
     "text": [
      "0.9222 0.9881148722541686 0.06670770181183305\n"
     ]
    }
   ],
   "source": [
    "#probs_m3 = q.apply_mthree(noisy_simulator, initial_mapping, output, shots)\n",
    "probs_m3 = q.apply_mthree(backend_sim, initial_mapping, output, shots)\n",
    "fidelity_m3 = calculate_success_rate_tvd(qc.correct_output, probs_m3)\n",
    "overhead = (fidelity_m3 - fidelity) / fidelity_m3\n",
    "print(fidelity, fidelity_m3, overhead)"
   ]
  },
  {
   "cell_type": "markdown",
   "metadata": {},
   "source": [
    "# Put all of them together"
   ]
  },
  {
   "cell_type": "code",
   "execution_count": null,
   "metadata": {},
   "outputs": [],
   "source": [
    "res_circuit_name = []\n",
    "res_compilations = []\n",
    "res_noise_levels = []\n",
    "res_success_rate = []\n",
    "res_success_rate_m3 = []\n",
    "\n",
    "# prepare the circuit\n",
    "conf.base_folder = \"./circuits/testing/\"\n",
    "qasm_files = q.get_qasm_files_from_path()\n",
    "\n",
    "shots = 10000\n",
    "\n",
    "# select compilation techniques\n",
    "#compilations = [\"qiskit_0\", \"qiskit_3\", \"triq_lcd_sabre\"]\n",
    "compilations = [\"qiskit_0\", \"qiskit_3\"]\n",
    "\n",
    "# select the noise levels (0 = noiseless, 1 = noise model from real backend)\n",
    "noise_levels = [0.0, 0.1, 0.2, 0.4, 0.6, 0.8, 1.0]\n",
    "\n",
    "for qasm in qasm_files:\n",
    "    for comp in compilations:\n",
    "        for noise in noise_levels:\n",
    "            qc = q.get_circuit_properties(qasm_source=qasm)\n",
    "            circuit_name = qasm.split(\"/\")[-1].split(\".\")[0]\n",
    "    \n",
    "            updated_qasm, initial_mapping = q.compile(qasm=qc.qasm_original, compilation_name=comp)\n",
    "            compiled_qc = QiskitCircuit(updated_qasm)\n",
    "            circuit = compiled_qc.transpile_to_target_backend(q.backend, False)\n",
    "            \n",
    "            noise_model, noisy_simulator, coupling_map = qiskit_wrapper.get_noisy_simulator(q.backend, noise)\n",
    "\n",
    "            job = noisy_simulator.run(circuit, shots=shots)\n",
    "            result = job.result()  \n",
    "            output = result.get_counts()\n",
    "            output_normalize = normalize_counts(output, shots=shots)\n",
    "\n",
    "            tvd = calculate_success_rate_tvd(qc.correct_output,output_normalize)\n",
    "\n",
    "            probs_m3 = q.apply_mthree(noisy_simulator, initial_mapping, output, shots)\n",
    "            tvd_m3 = calculate_success_rate_tvd(qc.correct_output, probs_m3)\n",
    "            \n",
    "            print(circuit_name, \"- compilation :\", comp, \", noise level :\", noise, \", success rate :\", tvd, \", success rate m3:\", tvd_m3)\n",
    "            res_circuit_name.append(circuit_name)\n",
    "            res_compilations.append(comp)\n",
    "            res_noise_levels.append(noise)\n",
    "            res_success_rate.append(tvd)\n",
    "            res_success_rate_m3.append(tvd_m3)\n",
    "\n",
    "        \n"
   ]
  },
  {
   "cell_type": "markdown",
   "metadata": {},
   "source": [
    "## Plot the results"
   ]
  },
  {
   "cell_type": "code",
   "execution_count": null,
   "metadata": {},
   "outputs": [],
   "source": [
    "df = pd.DataFrame({\n",
    "        'circuit_name': res_circuit_name,\n",
    "        'compilation': res_compilations,\n",
    "        'noise_level': res_noise_levels,\n",
    "        'success_rate': res_success_rate,\n",
    "    })\n",
    "\n",
    "df_m3 = pd.DataFrame({\n",
    "        'circuit_name': res_circuit_name,\n",
    "        'compilation': res_compilations,\n",
    "        'noise_level': res_noise_levels,\n",
    "        'success_rate': res_success_rate_m3\n",
    "    })"
   ]
  },
  {
   "cell_type": "markdown",
   "metadata": {},
   "source": [
    "### Combined plot"
   ]
  },
  {
   "cell_type": "code",
   "execution_count": null,
   "metadata": {},
   "outputs": [],
   "source": [
    "def create_line_chart_combined(data, y, opt_values, metric, ax, type, ylabel, xlabel, yticks = None, \n",
    "                      y_bot = None, y_top = None, figsize = (12,8), c_idx = 0, reindex = None, x_index = \"header_id\", x_labels = [], i=0):\n",
    "    tmp = ()\n",
    "    \n",
    "    for idx, opt in enumerate(opt_values):\n",
    "        # print(idx, opt)\n",
    "        idx_marker = idx + (len(opt_values) * i)\n",
    "        # idx = idx \n",
    "        pivot = pd.pivot_table(data[data[y] == opt], \n",
    "                               values=[metric], \n",
    "                               index=x_index, \n",
    "                               columns=y, \n",
    "                               aggfunc='mean')    \n",
    "        if reindex != 0:\n",
    "            if reindex is None:\n",
    "                if len(tmp) == 0:\n",
    "                    tmp = pivot.index\n",
    "                else:\n",
    "                    pivot = pivot.reindex(tmp)\n",
    "            else:\n",
    "                pivot = pivot.reindex(reindex)\n",
    "\n",
    "        idx_color = (idx % (len(markers)))\n",
    "        # print(idx_color, idx, len(markers))\n",
    "\n",
    "        # print (pivot)\n",
    "         \n",
    "        pivot.plot(kind='line', color=CB_color_cycle[idx], marker=markers[idx_marker], linestyle=linestyles[i], figsize=figsize, ax=ax)\n",
    "\n",
    "        mean= pivot.mean().mean()\n",
    "\n",
    "    if i == 1:\n",
    "        ax.set_xlabel(xlabel)\n",
    "        ax.set_ylabel(ylabel)\n",
    "        \n",
    "    \n",
    "        if yticks is not None:\n",
    "            ax.set_yticks(yticks)\n",
    "    \n",
    "        if y_bot is not None and y_top is not None:\n",
    "            ax.set_ylim(bottom= y_bot, top= y_top)\n",
    "    \n",
    "        if x_labels is not None:\n",
    "            ax.set_xticks(np.arange(len(x_labels)))\n",
    "            ax.set_xticklabels(x_labels)\n",
    "            ax.set_xticklabels(ax.get_xticklabels(), rotation=45, ha='right')\n",
    "    \n",
    "        ax.grid()\n"
   ]
  },
  {
   "cell_type": "code",
   "execution_count": null,
   "metadata": {},
   "outputs": [],
   "source": [
    "def show_figure_by_opt_combined(dfs, y, y_values, metric, ylabel, xlabel, legend = None, figsize=(10,6), reindex=None, \n",
    "                             x_index = \"total_2q\", x_labels = [], x_lim = [1, 100], \n",
    "                            y_lim = [0,1], title=None, legend_position=None, circuit_name = \"\", hw_name = \"\"):\n",
    "    # y_values = noise_levels\n",
    "\n",
    "    metrics = [metric]\n",
    "    row = 1\n",
    "    col = 1\n",
    "\n",
    "    fig, ax = plt.subplots(nrows=row, ncols=1)\n",
    "\n",
    "    yticks = None\n",
    "    \n",
    "    for i in range(2):\n",
    "        # print(i)\n",
    "        create_line_chart_combined(dfs[i], y, y_values, metrics[0], ax, \"opt\", ylabel, xlabel, yticks, figsize=figsize, reindex=reindex,\n",
    "                          x_index = x_index, x_labels=x_labels, i=i)\n",
    "\n",
    "    # n=[]        \n",
    "    # n.append(ax.axhline(np.NaN, color=\"gray\", linestyle='-.'))\n",
    "\n",
    "    # l1 = ax.legend(n, [\"Mean\"], loc=[0.82, 0.49])\n",
    "\n",
    "    if legend is None:\n",
    "            l2 = plt.legend()\n",
    "    else:\n",
    "        if legend_position == None:\n",
    "            l2 = plt.legend(legends)\n",
    "        else:\n",
    "            l2 = plt.legend(legends, loc = legend_position)\n",
    "    \n",
    "    # plt.tight_layout()\n",
    "    # ax.add_artist(l1)\n",
    "    plt.xlim(x_lim) \n",
    "    plt.ylim(y_lim)\n",
    "    plt.title(title)\n",
    "    #plt.savefig(\"./output/{}_{}_{}.png\".format(circuit_name, hw_name, x_index), dpi=500, bbox_inches='tight')\n",
    "    plt.show()\n",
    "    \n",
    "    return plt"
   ]
  },
  {
   "cell_type": "code",
   "execution_count": null,
   "metadata": {},
   "outputs": [],
   "source": [
    "y_values = ['qiskit_0', 'qiskit_3']\n",
    "legends  = [\"Qiskit-0\", \"Qiskit-3\",\n",
    "            \"Qiskit-0 (M3)\", \"Qiskit-3 (M3)\" \n",
    "           ]\n",
    "x_lim=[-0.01, 1.01]\n",
    "y_lim=[0,1.03]\n",
    "legend_position=(0.01,0.01)\n",
    "circuit_name = \"adder\"\n",
    "hw_name = \"sherbrooke\"\n",
    "title=\"State preparation logical |+>\"\n",
    "x_index = \"noise_level\"\n",
    "\n",
    "# print(y_values)\n",
    "x_labels = None\n",
    "dfs = [df, df_m3]\n",
    "\n",
    "plt = show_figure_by_opt_combined(dfs, \"compilation\", y_values, \"success_rate\", \"Success Rate\", \"Physical error rate scaling factor (ibm_sherbrooke)\", legends, figsize=(6,4), \n",
    "                   reindex=None, x_index = \"noise_level\", x_labels=x_labels, x_lim=[-0.01, 1.01], y_lim=[0,1.03],legend_position=(1.05,0.01),\n",
    "                       circuit_name = \"polar_n2_x\", hw_name = hw_name, title=\"Comparison before and after M3\")"
   ]
  },
  {
   "cell_type": "markdown",
   "metadata": {},
   "source": [
    "# Estimator"
   ]
  },
  {
   "cell_type": "code",
   "execution_count": null,
   "metadata": {},
   "outputs": [],
   "source": [
    "from qiskit import QuantumCircuit\n",
    "from qiskit.quantum_info import SparsePauliOp\n",
    "from qiskit_ibm_runtime import EstimatorV2 as Estimator\n",
    "from qiskit_aer import AerSimulator\n",
    "import matplotlib.pyplot as plt"
   ]
  },
  {
   "cell_type": "code",
   "execution_count": null,
   "metadata": {},
   "outputs": [],
   "source": [
    "qc = QuantumCircuit(3)\n",
    "qc.h(0)\n",
    "qc.cx(0, 1)\n",
    "qc.cx(1, 2)\n",
    "qc.draw(\"mpl\")"
   ]
  },
  {
   "cell_type": "code",
   "execution_count": null,
   "metadata": {},
   "outputs": [],
   "source": [
    "ZZ = SparsePauliOp('ZZZ')\n",
    "ZI = SparsePauliOp('ZII')\n",
    "IX = SparsePauliOp('IXI')\n",
    "IZ = SparsePauliOp('IZI')\n",
    "XI = SparsePauliOp('XII')\n",
    "XX = SparsePauliOp('XXX')\n",
    "observables = [IZ, IX, ZI, XI, ZZ, XX]"
   ]
  },
  {
   "cell_type": "code",
   "execution_count": null,
   "metadata": {},
   "outputs": [],
   "source": [
    "noise_model, noisy_simulator, coupling_map = qiskit_wrapper.get_noisy_simulator(q.backend, 1)\n",
    "estimator = Estimator(mode=noisy_simulator)\n",
    "pub = (qc, observables)\n",
    "job = estimator.run(pubs=[pub])\n",
    "# Collect the data\n",
    "data = ['IZI', 'IXI', 'ZII', 'XII', 'ZZZ', 'XXX']\n",
    "values = job.result()[0].data.evs\n",
    "\n",
    "# Set up our graph\n",
    "container = plt.plot(data, values, '-o')\n",
    "\n",
    "# Label each axis\n",
    "plt.xlabel('Observables')\n",
    "plt.ylabel('Values')\n",
    "\n",
    "# Draw the final graph\n",
    "plt.show()"
   ]
  },
  {
   "cell_type": "code",
   "execution_count": null,
   "metadata": {},
   "outputs": [],
   "source": [
    "import numpy as np\n",
    "from typing import List, Callable\n",
    "from scipy.optimize import minimize\n",
    "from scipy.optimize._optimize import OptimizeResult\n",
    "import matplotlib.pyplot as plt\n",
    "\n",
    "from qiskit import QuantumCircuit\n",
    "from qiskit.quantum_info import Statevector, Operator, SparsePauliOp\n",
    "from qiskit.primitives import StatevectorSampler, PrimitiveJob\n",
    "from qiskit.circuit.library import TwoLocal\n",
    "from qiskit.transpiler.preset_passmanagers import generate_preset_pass_manager\n",
    "from qiskit.visualization import plot_histogram\n",
    "from qiskit_ibm_runtime.fake_provider import FakeSherbrooke\n",
    "from qiskit_ibm_runtime import Session, EstimatorV2 as Estimator\n",
    "from qiskit_aer import AerSimulator\n",
    "from qiskit.circuit.library import EfficientSU2\n",
    "\n",
    "pauli_op = SparsePauliOp(['ZII', 'IZI', 'IIZ'])\n",
    "print(pauli_op.to_matrix())"
   ]
  },
  {
   "cell_type": "code",
   "execution_count": null,
   "metadata": {},
   "outputs": [],
   "source": [
    "num_qubits = 3 #Add your code here\n",
    "rotation_blocks = [\"ry\",\"rz\"] #Add your code here\n",
    "entanglement_blocks = \"cz\" #Add your code here\n",
    "entanglement = \"full\" #Add your code here\n",
    "\n",
    "ansatz = TwoLocal(num_qubits, ['ry','rz'], 'cz', 'full', reps=1, insert_barriers=True) #Add your code here\n",
    "\n",
    "### Don't change any code past this line ###\n",
    "ansatz.decompose().draw('mpl')"
   ]
  },
  {
   "cell_type": "code",
   "execution_count": null,
   "metadata": {},
   "outputs": [],
   "source": [
    "num_params = ansatz.num_parameters\n",
    "backend_answer = noisy_simulator #Add your code\n",
    "optimization_level_answer = 3 #Add your code\n",
    "pm = generate_preset_pass_manager(backend=backend_answer,optimization_level=optimization_level_answer)\n",
    "isa_circuit = pm.run(ansatz) # Add your code\n",
    "hamiltonian_isa = pauli_op.apply_layout(layout=isa_circuit.layout)"
   ]
  },
  {
   "cell_type": "code",
   "execution_count": null,
   "metadata": {},
   "outputs": [],
   "source": [
    "isa_circuit.draw('mpl', idle_wires=False, fold=50)"
   ]
  },
  {
   "cell_type": "code",
   "execution_count": null,
   "metadata": {},
   "outputs": [],
   "source": [
    "initial_mapping = qiskit_wrapper.get_initial_layout_from_circuit(isa_circuit)\n",
    "initial_mapping"
   ]
  },
  {
   "cell_type": "markdown",
   "metadata": {},
   "source": [
    "### Mthree"
   ]
  },
  {
   "cell_type": "code",
   "execution_count": null,
   "metadata": {},
   "outputs": [],
   "source": [
    "from qiskit import QuantumCircuit, ClassicalRegister, QuantumRegister\n",
    "\n",
    "x0 = 2 * np.pi * np.random.random(num_params)\n",
    "bound_circs = isa_circuit.assign_parameters(x0)\n",
    "creg = ClassicalRegister(3, 'c')\n",
    "bound_circs.add_register(creg)\n",
    "bound_circs.measure(40, 0)\n",
    "bound_circs.measure(39, 1)\n",
    "bound_circs.measure(38, 2)\n",
    "result = backend.run(bound_circs, shots=10000).result()\n",
    "counts = result.get_counts()\n",
    "\n",
    "mit = mthree.M3Mitigation(noisy_simulator)\n",
    "mit.cals_from_system(initial_mapping)\n",
    "\n",
    "quasis = mit.apply_correction(counts, initial_mapping)\n",
    "\n",
    "coeffs = []\n",
    "meas_strings = []\n",
    "\n",
    "for i in pauli_op.to_list():\n",
    "    meas_string, coeff = i\n",
    "    coeffs.append(coeff)\n",
    "    meas_strings.append(meas_string)\n",
    "\n",
    "print(meas_strings, coeffs)\n",
    "print(np.sum(coeffs * quasis.expval(meas_strings)))\n"
   ]
  },
  {
   "cell_type": "markdown",
   "metadata": {},
   "source": [
    "## Classical Optimizer"
   ]
  },
  {
   "cell_type": "code",
   "execution_count": null,
   "metadata": {},
   "outputs": [],
   "source": [
    "def cost_func(params, ansatz, hamiltonian, estimator, callback_dict):\n",
    "    \"\"\"Return estimate of energy from estimator\n",
    "\n",
    "    Parameters:\n",
    "        params (ndarray): Array of ansatz parameters\n",
    "        ansatz (QuantumCircuit): Parameterized ansatz circuit\n",
    "        hamiltonian (SparsePauliOp): Operator representation of Hamiltonian\n",
    "        estimator (EstimatorV2): Estimator primitive instance\n",
    "\n",
    "    Returns:\n",
    "        float: Energy estimate\n",
    "    \"\"\"\n",
    "    pub = (ansatz, [hamiltonian], [params]) #Add your code\n",
    "    result = estimator.run(pubs=[pub]).result() #Add your code\n",
    "    energy = result[0].data.evs[0] #Add your code\n",
    "\n",
    "    callback_dict[\"iters\"] += 1 #Add your code\n",
    "    callback_dict[\"prev_vector\"] = params #Add your code\n",
    "    callback_dict[\"cost_history\"].append(energy) #Add your code\n",
    "\n",
    "\n",
    "### Don't change any code past this line ###\n",
    "    print(energy)\n",
    "    return energy, result"
   ]
  },
  {
   "cell_type": "code",
   "execution_count": null,
   "metadata": {},
   "outputs": [],
   "source": [
    "ansatz = EfficientSU2(3)\n",
    "params = np.ones((1,ansatz.num_parameters))\n",
    "aer_sim = noisy_simulator\n",
    "pm = generate_preset_pass_manager(backend=aer_sim, optimization_level=3)\n",
    "isa_circuits = pm.run(ansatz)\n",
    "choc_op = SparsePauliOp(['ZII', 'IZI', 'IIZ'])\n",
    "hamiltonian_isa = choc_op.apply_layout(layout=isa_circuits.layout)\n",
    "estimator = Estimator(mode=aer_sim)\n",
    "\n",
    "callback_dict = {\n",
    "    \"prev_vector\": None,\n",
    "    \"iters\": 0,\n",
    "    \"cost_history\": []\n",
    "}\n",
    "cost, result = cost_func(\n",
    "    params,\n",
    "    isa_circuits,\n",
    "    hamiltonian_isa,\n",
    "    estimator,\n",
    "    callback_dict\n",
    ")"
   ]
  },
  {
   "cell_type": "code",
   "execution_count": null,
   "metadata": {},
   "outputs": [],
   "source": [
    "callback_dict = {\n",
    "    \"prev_vector\": None,\n",
    "    \"iters\": 0,\n",
    "    \"cost_history\": [],\n",
    "}"
   ]
  },
  {
   "cell_type": "code",
   "execution_count": null,
   "metadata": {},
   "outputs": [],
   "source": [
    "x0 = 2 * np.pi * np.random.random(num_params)\n",
    "x0"
   ]
  },
  {
   "cell_type": "code",
   "execution_count": null,
   "metadata": {},
   "outputs": [],
   "source": [
    "# backend = FakeSherbrooke()\n",
    "backend = noisy_simulator\n",
    "\n",
    "# ### Don't change any code past this line ###\n",
    "\n",
    "# Here we have updated the cost function to return only the energy to be compatible with recent scipy versions (>=1.10)\n",
    "def cost_func_2(*args, **kwargs):\n",
    "    energy, result = cost_func(*args, **kwargs)\n",
    "    return energy\n",
    "\n",
    "with Session(backend=backend) as session:\n",
    "    estimator = Estimator(mode=session)\n",
    "\n",
    "    res = minimize(\n",
    "        cost_func_2,\n",
    "        x0,\n",
    "        args=(isa_circuit, hamiltonian_isa, estimator, callback_dict),\n",
    "        method=\"cobyla\",\n",
    "        options={'maxiter': 10})"
   ]
  },
  {
   "cell_type": "code",
   "execution_count": null,
   "metadata": {},
   "outputs": [],
   "source": [
    "fig, ax = plt.subplots()\n",
    "plt.plot(range(callback_dict[\"iters\"]), callback_dict[\"cost_history\"])\n",
    "plt.xlabel(\"Energy\")\n",
    "plt.ylabel(\"Cost\")\n",
    "plt.draw()"
   ]
  },
  {
   "cell_type": "markdown",
   "metadata": {},
   "source": [
    "## Error Mitigation"
   ]
  },
  {
   "cell_type": "markdown",
   "metadata": {},
   "source": [
    "### Zero Noise Extrapolation (ZNE)"
   ]
  },
  {
   "cell_type": "code",
   "execution_count": null,
   "metadata": {},
   "outputs": [],
   "source": [
    "import mysql.connector\n",
    "\n",
    "mysql_config = {\n",
    "    'user': 'handy',\n",
    "    'password': 'handy',\n",
    "    'host': 'localhost',\n",
    "    'database': 'framework'\n",
    "}"
   ]
  },
  {
   "cell_type": "code",
   "execution_count": null,
   "metadata": {},
   "outputs": [],
   "source": [
    "conn = mysql.connector.connect(**mysql_config)\n",
    "cursor = conn.cursor()"
   ]
  },
  {
   "cell_type": "code",
   "execution_count": null,
   "metadata": {},
   "outputs": [],
   "source": []
  }
 ],
 "metadata": {
  "kernelspec": {
   "display_name": "Qiskit new",
   "language": "python",
   "name": ".venv"
  },
  "language_info": {
   "codemirror_mode": {
    "name": "ipython",
    "version": 3
   },
   "file_extension": ".py",
   "mimetype": "text/x-python",
   "name": "python",
   "nbconvert_exporter": "python",
   "pygments_lexer": "ipython3",
   "version": "3.11.4"
  }
 },
 "nbformat": 4,
 "nbformat_minor": 4
}
