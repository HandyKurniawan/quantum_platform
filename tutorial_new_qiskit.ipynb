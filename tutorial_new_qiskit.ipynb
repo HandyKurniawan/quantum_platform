{
 "cells": [
  {
   "cell_type": "markdown",
   "metadata": {},
   "source": [
    "# Tutorial on using the Platform"
   ]
  },
  {
   "cell_type": "markdown",
   "metadata": {},
   "source": [
    "This is the tutorial bla bla bla"
   ]
  },
  {
   "cell_type": "markdown",
   "metadata": {},
   "source": [
    "## Initialization"
   ]
  },
  {
   "cell_type": "markdown",
   "metadata": {},
   "source": [
    "First we need to import the necessary class blabla bla"
   ]
  },
  {
   "cell_type": "code",
   "execution_count": 1,
   "metadata": {},
   "outputs": [],
   "source": [
    "from qEmQUIP import QEM, conf\n",
    "import sys, glob, os\n",
    "from commons import convert_to_json, triq_optimization, qiskit_optimization, \\\n",
    "    calibration_type_enum, qiskit_compilation_enum, normalize_counts, calculate_success_rate_tvd, convert_dict_binary_to_int, convert_dict_int_to_binary\n",
    "import wrappers.qiskit_wrapper as qiskit_wrapper\n",
    "from wrappers.qiskit_wrapper import QiskitCircuit\n",
    "import pandas as pd\n",
    "import mthree\n",
    "import mapomatic as mm\n",
    "import mthree\n",
    "from qiskit_aer import AerSimulator, QasmSimulator, Aer\n",
    "from qiskit.qasm2 import dumps\n",
    "import matplotlib.pyplot as plt\n",
    "\n",
    "CB_color_cycle = ['#1F77B4', '#AEC7E8', '#FF7F0E', '#FFBB78', '#2CA02C', '#98DF8A', '#D62728', '#FF9896',\n",
    "                  '#9467BD', '#C5B0D5', '#8C564B', '#C49C94', '#E377C2', '#F7B6D2', '#7F7F7F', '#C7C7C7',\n",
    "                  '#BCBD22', '#DBDB8D', '#17BECF', '#9EDAE5'\n",
    "                  ]\n",
    "\n",
    "markers = ['o', 'v', '^', 's', '+', '*', 'x', 'd', '<', '>', 'p']\n",
    "linestyles = ['-', '--', '-.', ':', '-', '--', '-.', ':']\n",
    "\n"
   ]
  },
  {
   "cell_type": "markdown",
   "metadata": {},
   "source": [
    "Here we need to initialize the object, please check the `config.ini` file to update the general config"
   ]
  },
  {
   "cell_type": "code",
   "execution_count": 2,
   "metadata": {},
   "outputs": [
    {
     "name": "stdout",
     "output_type": "stream",
     "text": [
      "Time for setup the backends: 10.126574677999997 seconds\n"
     ]
    }
   ],
   "source": [
    "# Put your Qiskit Token\n",
    "token = \"74076e69ed0d571c8e0ff8c0b2c912c28681d47426cf16a5d817825de16f7dbd95bf6ff7c604b706803b78b2e21d1dd5cacf9f1b0aa81d672d938bded8049a17\"\n",
    "q = QEM(runs=conf.runs, user_id=conf.user_id, token=token)"
   ]
  },
  {
   "cell_type": "code",
   "execution_count": 3,
   "metadata": {},
   "outputs": [],
   "source": [
    "# prepare the circuit\n",
    "conf.base_folder = \"./circuits/testing/\"\n",
    "qasm_files = q.get_qasm_files_from_path()\n",
    "\n",
    "shots = 10000\n",
    "\n",
    "# select compilation techniques\n",
    "compilations = [\"qiskit_0\", \"qiskit_3\", \"triq_lcd_sabre\"]\n",
    "# compilations = [\"qiskit_0\", \"qiskit_3\"]\n",
    "\n",
    "# select the noise levels (0 = noiseless, 1 = noise model from real backend)\n",
    "# noise_levels = [0.0, 0.1, 0.2, 0.4, 0.6, 0.8, 1.0]\n",
    "noise_levels = [0.6, 0.8, 1.0]"
   ]
  },
  {
   "cell_type": "code",
   "execution_count": 4,
   "metadata": {},
   "outputs": [],
   "source": [
    "# q.send_to_real_backend(qasm_files, compilations)"
   ]
  },
  {
   "cell_type": "code",
   "execution_count": 6,
   "metadata": {},
   "outputs": [
    {
     "name": "stdout",
     "output_type": "stream",
     "text": [
      "Time for running the init header: 0.0006562700000358745 seconds\n",
      "Total send to local simulator : 4\n",
      "Running to Local Simulator with batch id: 4 ... \n",
      "Sent!\n",
      "Running to Local Simulator with batch id: 5 ... \n",
      "Sent!\n",
      "Running to Local Simulator with batch id: 6 ... \n",
      "Sent!\n",
      "Running to Local Simulator with batch id: 7 ... \n",
      "Sent!\n",
      "Time for sending to local simulator: 0.007956589000059466 seconds\n"
     ]
    },
    {
     "data": {
      "text/html": [
       "<div>\n",
       "<style scoped>\n",
       "    .dataframe tbody tr th:only-of-type {\n",
       "        vertical-align: middle;\n",
       "    }\n",
       "\n",
       "    .dataframe tbody tr th {\n",
       "        vertical-align: top;\n",
       "    }\n",
       "\n",
       "    .dataframe thead th {\n",
       "        text-align: right;\n",
       "    }\n",
       "</style>\n",
       "<table border=\"1\" class=\"dataframe\">\n",
       "  <thead>\n",
       "    <tr style=\"text-align: right;\">\n",
       "      <th></th>\n",
       "      <th>circuit_name</th>\n",
       "      <th>compilation</th>\n",
       "      <th>noise_level</th>\n",
       "      <th>success_rate</th>\n",
       "    </tr>\n",
       "  </thead>\n",
       "  <tbody>\n",
       "    <tr>\n",
       "      <th>0</th>\n",
       "      <td>bv_6</td>\n",
       "      <td>qiskit_0</td>\n",
       "      <td>0.6</td>\n",
       "      <td>0.7700</td>\n",
       "    </tr>\n",
       "    <tr>\n",
       "      <th>1</th>\n",
       "      <td>bv_6</td>\n",
       "      <td>qiskit_3</td>\n",
       "      <td>0.6</td>\n",
       "      <td>0.8314</td>\n",
       "    </tr>\n",
       "    <tr>\n",
       "      <th>2</th>\n",
       "      <td>bv_6</td>\n",
       "      <td>triq_lcd_sabre</td>\n",
       "      <td>0.6</td>\n",
       "      <td>0.9183</td>\n",
       "    </tr>\n",
       "    <tr>\n",
       "      <th>3</th>\n",
       "      <td>bv_6</td>\n",
       "      <td>qiskit_0</td>\n",
       "      <td>0.8</td>\n",
       "      <td>0.8717</td>\n",
       "    </tr>\n",
       "    <tr>\n",
       "      <th>4</th>\n",
       "      <td>bv_6</td>\n",
       "      <td>qiskit_3</td>\n",
       "      <td>0.8</td>\n",
       "      <td>0.6998</td>\n",
       "    </tr>\n",
       "    <tr>\n",
       "      <th>5</th>\n",
       "      <td>bv_6</td>\n",
       "      <td>triq_lcd_sabre</td>\n",
       "      <td>0.8</td>\n",
       "      <td>0.9011</td>\n",
       "    </tr>\n",
       "    <tr>\n",
       "      <th>6</th>\n",
       "      <td>bv_6</td>\n",
       "      <td>qiskit_0</td>\n",
       "      <td>1.0</td>\n",
       "      <td>0.7118</td>\n",
       "    </tr>\n",
       "    <tr>\n",
       "      <th>7</th>\n",
       "      <td>bv_6</td>\n",
       "      <td>qiskit_3</td>\n",
       "      <td>1.0</td>\n",
       "      <td>0.7226</td>\n",
       "    </tr>\n",
       "    <tr>\n",
       "      <th>8</th>\n",
       "      <td>bv_6</td>\n",
       "      <td>triq_lcd_sabre</td>\n",
       "      <td>1.0</td>\n",
       "      <td>0.8753</td>\n",
       "    </tr>\n",
       "  </tbody>\n",
       "</table>\n",
       "</div>"
      ],
      "text/plain": [
       "  circuit_name     compilation  noise_level  success_rate\n",
       "0         bv_6        qiskit_0          0.6        0.7700\n",
       "1         bv_6        qiskit_3          0.6        0.8314\n",
       "2         bv_6  triq_lcd_sabre          0.6        0.9183\n",
       "3         bv_6        qiskit_0          0.8        0.8717\n",
       "4         bv_6        qiskit_3          0.8        0.6998\n",
       "5         bv_6  triq_lcd_sabre          0.8        0.9011\n",
       "6         bv_6        qiskit_0          1.0        0.7118\n",
       "7         bv_6        qiskit_3          1.0        0.7226\n",
       "8         bv_6  triq_lcd_sabre          1.0        0.8753"
      ]
     },
     "execution_count": 6,
     "metadata": {},
     "output_type": "execute_result"
    }
   ],
   "source": [
    "df = q.run_simulator(qasm_files, compilations, noise_levels, shots, send_to_db=True)\n",
    "df"
   ]
  },
  {
   "cell_type": "markdown",
   "metadata": {},
   "source": [
    "To update the fake backend calibration data"
   ]
  },
  {
   "cell_type": "code",
   "execution_count": 3,
   "metadata": {},
   "outputs": [],
   "source": [
    "# q.update_hardware_configs()"
   ]
  },
  {
   "cell_type": "code",
   "execution_count": 4,
   "metadata": {},
   "outputs": [],
   "source": [
    "# qiskit_wrapper.generate_new_props(q.backend, \"avg\")\n",
    "# qiskit_wrapper.generate_new_props(q.backend, \"mix\")\n",
    "# qiskit_wrapper.generate_new_props(q.backend, \"recent_15_adjust\")"
   ]
  },
  {
   "cell_type": "markdown",
   "metadata": {},
   "source": [
    "## Prepare the circuits"
   ]
  },
  {
   "cell_type": "markdown",
   "metadata": {},
   "source": [
    "You can get the quantum circuit from a folder contains the qasm files or qasm string"
   ]
  },
  {
   "cell_type": "code",
   "execution_count": 8,
   "metadata": {},
   "outputs": [
    {
     "name": "stdout",
     "output_type": "stream",
     "text": [
      "['./circuits/testing/bv_6.qasm']\n"
     ]
    }
   ],
   "source": [
    "# The path is coming from the config file, but you can also modify it here\n",
    "conf.base_folder = \"./circuits/testing/\"\n",
    "qasm_files = q.get_qasm_files_from_path()\n",
    "print(qasm_files)"
   ]
  },
  {
   "cell_type": "markdown",
   "metadata": {},
   "source": [
    "Get the circuits from file"
   ]
  },
  {
   "cell_type": "code",
   "execution_count": 9,
   "metadata": {},
   "outputs": [
    {
     "data": {
      "text/html": [
       "<pre style=\"word-wrap: normal;white-space: pre;background: #fff0;line-height: 1.1;font-family: &quot;Courier New&quot;,Courier,monospace\">     ┌─────────────┐                    ┌─────────────┐               ┌─┐»\n",
       "q_0: ┤ U3(π/2,0,π) ├─────────────────■──┤ U3(π/2,0,π) ├───────────────┤M├»\n",
       "     ├─────────────┤                 │  └─────────────┘┌─────────────┐└╥┘»\n",
       "q_1: ┤ U3(π/2,0,π) ├─────────────────┼─────────■───────┤ U3(π/2,0,π) ├─╫─»\n",
       "     ├─────────────┤                 │         │       └─────────────┘ ║ »\n",
       "q_2: ┤ U3(π/2,0,π) ├─────────────────┼─────────┼──────────────■────────╫─»\n",
       "     ├─────────────┤                 │         │              │        ║ »\n",
       "q_3: ┤ U3(π/2,0,π) ├─────────────────┼─────────┼──────────────┼────────╫─»\n",
       "     ├─────────────┤                 │         │              │        ║ »\n",
       "q_4: ┤ U3(π/2,0,π) ├─────────────────┼─────────┼──────────────┼────────╫─»\n",
       "     └┬───────────┬┘┌─────────────┐┌─┴─┐     ┌─┴─┐          ┌─┴─┐      ║ »\n",
       "q_5: ─┤ U3(π,0,π) ├─┤ U3(π/2,0,π) ├┤ X ├─────┤ X ├──────────┤ X ├──────╫─»\n",
       "      └───────────┘ └─────────────┘└───┘     └───┘          └───┘      ║ »\n",
       "c: 6/══════════════════════════════════════════════════════════════════╩═»\n",
       "                                                                       0 »\n",
       "«                                                                 \n",
       "«q_0: ────────────────────────────────────────────────────────────\n",
       "«                    ┌─┐                                          \n",
       "«q_1: ───────────────┤M├──────────────────────────────────────────\n",
       "«     ┌─────────────┐└╥┘               ┌─┐                        \n",
       "«q_2: ┤ U3(π/2,0,π) ├─╫────────────────┤M├────────────────────────\n",
       "«     └─────────────┘ ║ ┌─────────────┐└╥┘               ┌─┐      \n",
       "«q_3: ───────■────────╫─┤ U3(π/2,0,π) ├─╫────────────────┤M├──────\n",
       "«            │        ║ └─────────────┘ ║ ┌─────────────┐└╥┘┌─┐   \n",
       "«q_4: ───────┼────────╫────────■────────╫─┤ U3(π/2,0,π) ├─╫─┤M├───\n",
       "«          ┌─┴─┐      ║      ┌─┴─┐      ║ ├─────────────┤ ║ └╥┘┌─┐\n",
       "«q_5: ─────┤ X ├──────╫──────┤ X ├──────╫─┤ U3(π/2,0,π) ├─╫──╫─┤M├\n",
       "«          └───┘      ║      └───┘      ║ └─────────────┘ ║  ║ └╥┘\n",
       "«c: 6/════════════════╩═════════════════╩═════════════════╩══╩══╩═\n",
       "«                     1                 2                 3  4  5 </pre>"
      ],
      "text/plain": [
       "     ┌─────────────┐                    ┌─────────────┐               ┌─┐»\n",
       "q_0: ┤ U3(π/2,0,π) ├─────────────────■──┤ U3(π/2,0,π) ├───────────────┤M├»\n",
       "     ├─────────────┤                 │  └─────────────┘┌─────────────┐└╥┘»\n",
       "q_1: ┤ U3(π/2,0,π) ├─────────────────┼─────────■───────┤ U3(π/2,0,π) ├─╫─»\n",
       "     ├─────────────┤                 │         │       └─────────────┘ ║ »\n",
       "q_2: ┤ U3(π/2,0,π) ├─────────────────┼─────────┼──────────────■────────╫─»\n",
       "     ├─────────────┤                 │         │              │        ║ »\n",
       "q_3: ┤ U3(π/2,0,π) ├─────────────────┼─────────┼──────────────┼────────╫─»\n",
       "     ├─────────────┤                 │         │              │        ║ »\n",
       "q_4: ┤ U3(π/2,0,π) ├─────────────────┼─────────┼──────────────┼────────╫─»\n",
       "     └┬───────────┬┘┌─────────────┐┌─┴─┐     ┌─┴─┐          ┌─┴─┐      ║ »\n",
       "q_5: ─┤ U3(π,0,π) ├─┤ U3(π/2,0,π) ├┤ X ├─────┤ X ├──────────┤ X ├──────╫─»\n",
       "      └───────────┘ └─────────────┘└───┘     └───┘          └───┘      ║ »\n",
       "c: 6/══════════════════════════════════════════════════════════════════╩═»\n",
       "                                                                       0 »\n",
       "«                                                                 \n",
       "«q_0: ────────────────────────────────────────────────────────────\n",
       "«                    ┌─┐                                          \n",
       "«q_1: ───────────────┤M├──────────────────────────────────────────\n",
       "«     ┌─────────────┐└╥┘               ┌─┐                        \n",
       "«q_2: ┤ U3(π/2,0,π) ├─╫────────────────┤M├────────────────────────\n",
       "«     └─────────────┘ ║ ┌─────────────┐└╥┘               ┌─┐      \n",
       "«q_3: ───────■────────╫─┤ U3(π/2,0,π) ├─╫────────────────┤M├──────\n",
       "«            │        ║ └─────────────┘ ║ ┌─────────────┐└╥┘┌─┐   \n",
       "«q_4: ───────┼────────╫────────■────────╫─┤ U3(π/2,0,π) ├─╫─┤M├───\n",
       "«          ┌─┴─┐      ║      ┌─┴─┐      ║ ├─────────────┤ ║ └╥┘┌─┐\n",
       "«q_5: ─────┤ X ├──────╫──────┤ X ├──────╫─┤ U3(π/2,0,π) ├─╫──╫─┤M├\n",
       "«          └───┘      ║      └───┘      ║ └─────────────┘ ║  ║ └╥┘\n",
       "«c: 6/════════════════╩═════════════════╩═════════════════╩══╩══╩═\n",
       "«                     1                 2                 3  4  5 "
      ]
     },
     "execution_count": 9,
     "metadata": {},
     "output_type": "execute_result"
    }
   ],
   "source": [
    "qc = q.get_circuit_properties(qasm_source=qasm_files[0])\n",
    "qc.circuit.draw(idle_wires=False)"
   ]
  },
  {
   "cell_type": "markdown",
   "metadata": {},
   "source": [
    "Or you can also get it from the qasm strings"
   ]
  },
  {
   "cell_type": "code",
   "execution_count": 10,
   "metadata": {},
   "outputs": [
    {
     "data": {
      "text/html": [
       "<pre style=\"word-wrap: normal;white-space: pre;background: #fff0;line-height: 1.1;font-family: &quot;Courier New&quot;,Courier,monospace\">     ┌─────────────┐      ░ ┌─┐   \n",
       "q_0: ┤ U3(π/2,0,π) ├──■───░─┤M├───\n",
       "     └─────────────┘┌─┴─┐ ░ └╥┘┌─┐\n",
       "q_1: ───────────────┤ X ├─░──╫─┤M├\n",
       "                    └───┘ ░  ║ └╥┘\n",
       "c: 2/════════════════════════╩══╩═\n",
       "                             0  1 </pre>"
      ],
      "text/plain": [
       "     ┌─────────────┐      ░ ┌─┐   \n",
       "q_0: ┤ U3(π/2,0,π) ├──■───░─┤M├───\n",
       "     └─────────────┘┌─┴─┐ ░ └╥┘┌─┐\n",
       "q_1: ───────────────┤ X ├─░──╫─┤M├\n",
       "                    └───┘ ░  ║ └╥┘\n",
       "c: 2/════════════════════════╩══╩═\n",
       "                             0  1 "
      ]
     },
     "execution_count": 10,
     "metadata": {},
     "output_type": "execute_result"
    }
   ],
   "source": [
    "qasm_text = \"\"\"OPENQASM 2.0;\n",
    "include \"qelib1.inc\";\n",
    "qreg q[2];\n",
    "creg c[2];\n",
    "h q[0];\n",
    "cx q[0], q[1];\n",
    "barrier q[0], q[1];\n",
    "measure q[0] -> c[0];\n",
    "measure q[1] -> c[1];\n",
    "\"\"\"\n",
    "\n",
    "qc = q.get_circuit_properties(qasm_source=qasm_text)\n",
    "qc.circuit.draw(idle_wires=False)"
   ]
  },
  {
   "cell_type": "markdown",
   "metadata": {},
   "source": [
    "`q.get_circuit_properties` will give an object of `QiskitCircuit` which will give the information of the circuits: \n",
    "- `circuit`: `QuantumCircuit` object from Qiskit\n",
    "- `depth`: circuit depth\n",
    "- `gates`: number of gates used in the circuit\n",
    "- `total_gates`: number of total gates used in the circuit\n",
    "- `correct_output`: noiseless output from the simulation\n",
    "- `qasm`: OpenQASM2 file from the circuit translated to `U3` and `cx` gates\n",
    "- `qasm_original`: OpenQASM2 file from the circuit original\n"
   ]
  },
  {
   "cell_type": "code",
   "execution_count": 11,
   "metadata": {},
   "outputs": [
    {
     "data": {
      "image/png": "[encoded data removed]",
      "text/plain": [
       "<Figure size 538.128x284.278 with 1 Axes>"
      ]
     },
     "execution_count": 11,
     "metadata": {},
     "output_type": "execute_result"
    }
   ],
   "source": [
    "qc.circuit.draw(\"mpl\")"
   ]
  },
  {
   "cell_type": "code",
   "execution_count": 12,
   "metadata": {},
   "outputs": [
    {
     "name": "stdout",
     "output_type": "stream",
     "text": [
      "Number of depth: 3\n",
      "Number of gates: {'measure': 2, 'u3': 1, 'cx': 1, 'barrier': 1}\n",
      "Number of total gates: 3\n",
      "Noiseless simulation output: {'3': 0.4963, '0': 0.5037}\n",
      "Circuit Qasm: OPENQASM 2.0;\n",
      "include \"qelib1.inc\";\n",
      "qreg q[2];\n",
      "creg c[2];\n",
      "u3(pi/2,0,pi) q[0];\n",
      "cx q[0],q[1];\n",
      "barrier q[0],q[1];\n",
      "measure q[0] -> c[0];\n",
      "measure q[1] -> c[1];\n"
     ]
    }
   ],
   "source": [
    "print(\"Number of depth:\", qc.depth)\n",
    "print(\"Number of gates:\", qc.gates)\n",
    "print(\"Number of total gates:\", qc.total_gate) \n",
    "print(\"Noiseless simulation output:\", qc.correct_output)\n",
    "print(\"Circuit Qasm:\", qc.qasm)"
   ]
  },
  {
   "cell_type": "markdown",
   "metadata": {},
   "source": [
    "## Compilation Techniques"
   ]
  },
  {
   "cell_type": "markdown",
   "metadata": {},
   "source": [
    "### Qiskit"
   ]
  },
  {
   "cell_type": "markdown",
   "metadata": {},
   "source": [
    "We integrated several compilation techniques from Qiskit"
   ]
  },
  {
   "cell_type": "code",
   "execution_count": 13,
   "metadata": {},
   "outputs": [
    {
     "name": "stdout",
     "output_type": "stream",
     "text": [
      "Existing Qiskit Compilation Options:\n",
      "qiskit_0\n",
      "qiskit_3\n",
      "qiskit_NA_avg\n",
      "qiskit_NA_lcd\n",
      "qiskit_NA_mix\n",
      "qiskit_NA_w15\n",
      "qiskit_NA_avg_adj\n",
      "qiskit_NA_lcd_adj\n",
      "qiskit_NA_mix_adj\n",
      "qiskit_NA_w15_adj\n",
      "qiskit_NA_wn\n",
      "qiskit_NA_wn_adj\n",
      "mapomatic_lcd\n",
      "mapomatic_avg\n",
      "mapomatic_mix\n",
      "mapomatic_avg_adj\n",
      "mapomatic_w15_adj\n"
     ]
    }
   ],
   "source": [
    "print(\"Existing Qiskit Compilation Options:\")\n",
    "for member in qiskit_compilation_enum:\n",
    "    print(member.name)"
   ]
  },
  {
   "cell_type": "code",
   "execution_count": 14,
   "metadata": {},
   "outputs": [
    {
     "name": "stdout",
     "output_type": "stream",
     "text": [
      "OPENQASM 2.0;\n",
      "include \"qelib1.inc\";\n",
      "gate rzx(param0) q0,q1 { h q1; cx q0,q1; rz(param0) q1; cx q0,q1; h q1; }\n",
      "gate ecr q0,q1 { rzx(pi/4) q0,q1; x q0; rzx(-pi/4) q0,q1; }\n",
      "qreg q[127];\n",
      "creg c[2];\n",
      "rz(-pi) q[58];\n",
      "sx q[58];\n",
      "rz(-pi) q[58];\n",
      "rz(pi/2) q[59];\n",
      "sx q[59];\n",
      "ecr q[59],q[58];\n",
      "x q[59];\n",
      "barrier q[59],q[58];\n",
      "measure q[59] -> c[0];\n",
      "measure q[58] -> c[1];\n",
      "[59, 58]\n"
     ]
    }
   ],
   "source": [
    "updated_qasm, initial_mapping = q.compile(qasm=qc.qasm_original, compilation_name=qiskit_compilation_enum.qiskit_3.value)\n",
    "print(updated_qasm)\n",
    "print(initial_mapping)"
   ]
  },
  {
   "cell_type": "markdown",
   "metadata": {},
   "source": [
    "### TriQ"
   ]
  },
  {
   "cell_type": "markdown",
   "metadata": {},
   "source": [
    "Also, we integrate TriQ Compilation with different options.\n",
    "\n",
    "Qubit placement options:\n",
    "- `na`: initial mapping from Noise-adaptive technique []\n",
    "- `mapo`: initial mapping from Mapomatic technique []\n",
    "- `sabre`: initial mapping from SABRE []\n",
    "\n",
    "Calibration type options:\n",
    "- `lcd` : TriQ's routing with last calibration data.\n",
    "- `avg` : TriQ's routing with average calibration data.\n",
    "- `mix` : TriQ's routing with mix calibration data. (Mix = if the qubits calibrated today, we will use the last calibration data for that qubit, otherwise we will use the average)\n",
    "- `w15` : TriQ's routing with average calibration data of 15 days from the qubit is compiled.\n",
    "\n",
    "The combinations of name become: `triq_<calibration_type>_<layout>`. For examples:\n",
    "- `triq_avg_na`\n",
    "- `triq_mix_sabre`\n",
    "\n",
    "**Note: From Qiskit version > 1.0.0, `noise_adaptive` layout has been removed**"
   ]
  },
  {
   "cell_type": "code",
   "execution_count": 15,
   "metadata": {},
   "outputs": [
    {
     "name": "stdout",
     "output_type": "stream",
     "text": [
      "['/Users/handy/Github/quantum_platform/wrappers/triq_wrapper/triq', './output.in', './output.qasm', 'ibm_sherbrooke_avg', '0', './init_mapo.map', 'normal']\n"
     ]
    },
    {
     "ename": "FileNotFoundError",
     "evalue": "[Errno 2] No such file or directory: '/Users/handy/Github/quantum_platform/wrappers/triq_wrapper/triq'",
     "output_type": "error",
     "traceback": [
      "\u001b[0;31m---------------------------------------------------------------------------\u001b[0m",
      "\u001b[0;31mFileNotFoundError\u001b[0m                         Traceback (most recent call last)",
      "Cell \u001b[0;32mIn[15], line 1\u001b[0m\n\u001b[0;32m----> 1\u001b[0m updated_qasm, initial_mapping \u001b[38;5;241m=\u001b[39m \u001b[43mq\u001b[49m\u001b[38;5;241;43m.\u001b[39;49m\u001b[43mcompile\u001b[49m\u001b[43m(\u001b[49m\u001b[43mqasm\u001b[49m\u001b[38;5;241;43m=\u001b[39;49m\u001b[43mqc\u001b[49m\u001b[38;5;241;43m.\u001b[39;49m\u001b[43mqasm_original\u001b[49m\u001b[43m,\u001b[49m\u001b[43m \u001b[49m\u001b[43mcompilation_name\u001b[49m\u001b[38;5;241;43m=\u001b[39;49m\u001b[38;5;124;43m\"\u001b[39;49m\u001b[38;5;124;43mtriq_avg_sabre\u001b[39;49m\u001b[38;5;124;43m\"\u001b[39;49m\u001b[43m)\u001b[49m\n\u001b[1;32m      2\u001b[0m \u001b[38;5;28mprint\u001b[39m(updated_qasm)\n",
      "File \u001b[0;32m~/Github/quantum_platform/qEmQUIP.py:327\u001b[0m, in \u001b[0;36mQEM.compile\u001b[0;34m(self, qasm, compilation_name, generate_props, noise_level)\u001b[0m\n\u001b[1;32m    325\u001b[0m     layout \u001b[38;5;241m=\u001b[39m tmp[\u001b[38;5;241m2\u001b[39m]\n\u001b[1;32m    326\u001b[0m     compilation \u001b[38;5;241m=\u001b[39m tmp[\u001b[38;5;241m0\u001b[39m] \u001b[38;5;241m+\u001b[39m \u001b[38;5;124m\"\u001b[39m\u001b[38;5;124m_\u001b[39m\u001b[38;5;124m\"\u001b[39m \u001b[38;5;241m+\u001b[39m tmp[\u001b[38;5;241m1\u001b[39m]\n\u001b[0;32m--> 327\u001b[0m     updated_qasm, initial_mapping \u001b[38;5;241m=\u001b[39m \u001b[38;5;28;43mself\u001b[39;49m\u001b[38;5;241;43m.\u001b[39;49m\u001b[43mapply_triq\u001b[49m\u001b[43m(\u001b[49m\u001b[43mqasm\u001b[49m\u001b[38;5;241;43m=\u001b[39;49m\u001b[43mqasm\u001b[49m\u001b[43m,\u001b[49m\u001b[43m \u001b[49m\u001b[43mcompilation_name\u001b[49m\u001b[38;5;241;43m=\u001b[39;49m\u001b[43mcompilation\u001b[49m\u001b[43m,\u001b[49m\u001b[43m \u001b[49m\u001b[43mlayout\u001b[49m\u001b[38;5;241;43m=\u001b[39;49m\u001b[43mlayout\u001b[49m\u001b[43m,\u001b[49m\u001b[43m \u001b[49m\u001b[43mnoise_level\u001b[49m\u001b[38;5;241;43m=\u001b[39;49m\u001b[43mnoise_level\u001b[49m\u001b[43m)\u001b[49m\n\u001b[1;32m    329\u001b[0m \u001b[38;5;28;01mreturn\u001b[39;00m updated_qasm, initial_mapping\n",
      "File \u001b[0;32m~/Github/quantum_platform/qEmQUIP.py:206\u001b[0m, in \u001b[0;36mQEM.apply_triq\u001b[0;34m(self, compilation_name, qasm, layout, generate_props, noise_level)\u001b[0m\n\u001b[1;32m    204\u001b[0m \u001b[38;5;66;03m# print(\"TriQ hardware name :\", hardware_name)\u001b[39;00m\n\u001b[1;32m    205\u001b[0m tmp_start_time  \u001b[38;5;241m=\u001b[39m time\u001b[38;5;241m.\u001b[39mperf_counter()\n\u001b[0;32m--> 206\u001b[0m updated_qasm \u001b[38;5;241m=\u001b[39m \u001b[43mtriq_wrapper\u001b[49m\u001b[38;5;241;43m.\u001b[39;49m\u001b[43mrun\u001b[49m\u001b[43m(\u001b[49m\u001b[43mqasm\u001b[49m\u001b[43m,\u001b[49m\u001b[43m \u001b[49m\u001b[43mhardware_name\u001b[49m\u001b[43m,\u001b[49m\u001b[43m \u001b[49m\u001b[38;5;241;43m0\u001b[39;49m\u001b[43m,\u001b[49m\u001b[43m \u001b[49m\u001b[43mmeasurement_type\u001b[49m\u001b[38;5;241;43m=\u001b[39;49m\u001b[43mconf\u001b[49m\u001b[38;5;241;43m.\u001b[39;49m\u001b[43mtriq_measurement_type\u001b[49m\u001b[43m)\u001b[49m\n\u001b[1;32m    207\u001b[0m tmp_end_time \u001b[38;5;241m=\u001b[39m time\u001b[38;5;241m.\u001b[39mperf_counter()\n\u001b[1;32m    209\u001b[0m final_mapping \u001b[38;5;241m=\u001b[39m triq_wrapper\u001b[38;5;241m.\u001b[39mget_mapping(qasm, hardware_name, \u001b[38;5;241m0\u001b[39m)\n",
      "File \u001b[0;32m~/Github/quantum_platform/wrappers/triq_wrapper/triq_wrapper.py:100\u001b[0m, in \u001b[0;36mrun\u001b[0;34m(qasm_str, hardware_name, triq_optimization, measurement_type)\u001b[0m\n\u001b[1;32m     92\u001b[0m \u001b[38;5;28;01mdef\u001b[39;00m \u001b[38;5;21mrun\u001b[39m(qasm_str, hardware_name, triq_optimization, measurement_type \u001b[38;5;241m=\u001b[39m \u001b[38;5;124m\"\u001b[39m\u001b[38;5;124mnormal\u001b[39m\u001b[38;5;124m\"\u001b[39m):\n\u001b[1;32m     93\u001b[0m \u001b[38;5;250m    \u001b[39m\u001b[38;5;124;03m\"\"\"\u001b[39;00m\n\u001b[1;32m     94\u001b[0m \u001b[38;5;124;03m    Parameters:\u001b[39;00m\n\u001b[1;32m     95\u001b[0m \u001b[38;5;124;03m        qasm_path:\u001b[39;00m\n\u001b[1;32m     96\u001b[0m \u001b[38;5;124;03m        hardware_name:\u001b[39;00m\n\u001b[1;32m     97\u001b[0m \u001b[38;5;124;03m        triq_optimization:\u001b[39;00m\n\u001b[1;32m     98\u001b[0m \u001b[38;5;124;03m    \"\"\"\u001b[39;00m\n\u001b[0;32m--> 100\u001b[0m     result_qasm \u001b[38;5;241m=\u001b[39m \u001b[43mgenerate_qasm\u001b[49m\u001b[43m(\u001b[49m\u001b[43mqasm_str\u001b[49m\u001b[43m,\u001b[49m\u001b[43m \u001b[49m\u001b[43mhardware_name\u001b[49m\u001b[43m,\u001b[49m\u001b[43m \u001b[49m\u001b[43mtriq_optimization\u001b[49m\u001b[43m,\u001b[49m\u001b[43m \u001b[49m\u001b[43mmeasurement_type\u001b[49m\u001b[43m)\u001b[49m\n\u001b[1;32m    102\u001b[0m     \u001b[38;5;28;01mif\u001b[39;00m (os\u001b[38;5;241m.\u001b[39mpath\u001b[38;5;241m.\u001b[39misfile(dag_file_path)):\n\u001b[1;32m    103\u001b[0m         os\u001b[38;5;241m.\u001b[39mremove(dag_file_path)\n",
      "File \u001b[0;32m~/Github/quantum_platform/wrappers/triq_wrapper/triq_wrapper.py:81\u001b[0m, in \u001b[0;36mgenerate_qasm\u001b[0;34m(qasm_str, hardware_name, triq_optimization, measurement_type)\u001b[0m\n\u001b[1;32m     77\u001b[0m out_file\u001b[38;5;241m=\u001b[39m\u001b[38;5;28mopen\u001b[39m(\u001b[38;5;124m\"\u001b[39m\u001b[38;5;124mlog/output.log\u001b[39m\u001b[38;5;124m\"\u001b[39m,\u001b[38;5;124m'\u001b[39m\u001b[38;5;124mw+\u001b[39m\u001b[38;5;124m'\u001b[39m)\n\u001b[1;32m     79\u001b[0m \u001b[38;5;28mprint\u001b[39m(call_triq)\n\u001b[0;32m---> 81\u001b[0m p \u001b[38;5;241m=\u001b[39m \u001b[43msp\u001b[49m\u001b[38;5;241;43m.\u001b[39;49m\u001b[43mPopen\u001b[49m\u001b[43m(\u001b[49m\u001b[43mcall_triq\u001b[49m\u001b[43m,\u001b[49m\u001b[43m \u001b[49m\u001b[43mstdout\u001b[49m\u001b[38;5;241;43m=\u001b[39;49m\u001b[43mout_file\u001b[49m\u001b[43m,\u001b[49m\u001b[43m \u001b[49m\u001b[43mtext\u001b[49m\u001b[38;5;241;43m=\u001b[39;49m\u001b[38;5;28;43;01mTrue\u001b[39;49;00m\u001b[43m,\u001b[49m\u001b[43m \u001b[49m\u001b[43mshell\u001b[49m\u001b[38;5;241;43m=\u001b[39;49m\u001b[38;5;28;43;01mFalse\u001b[39;49;00m\u001b[43m)\u001b[49m    \n\u001b[1;32m     82\u001b[0m p\u001b[38;5;241m.\u001b[39mcommunicate()\n\u001b[1;32m     83\u001b[0m p\u001b[38;5;241m.\u001b[39mterminate()\n",
      "File \u001b[0;32m/usr/lib/python3.10/subprocess.py:971\u001b[0m, in \u001b[0;36mPopen.__init__\u001b[0;34m(self, args, bufsize, executable, stdin, stdout, stderr, preexec_fn, close_fds, shell, cwd, env, universal_newlines, startupinfo, creationflags, restore_signals, start_new_session, pass_fds, user, group, extra_groups, encoding, errors, text, umask, pipesize)\u001b[0m\n\u001b[1;32m    967\u001b[0m         \u001b[38;5;28;01mif\u001b[39;00m \u001b[38;5;28mself\u001b[39m\u001b[38;5;241m.\u001b[39mtext_mode:\n\u001b[1;32m    968\u001b[0m             \u001b[38;5;28mself\u001b[39m\u001b[38;5;241m.\u001b[39mstderr \u001b[38;5;241m=\u001b[39m io\u001b[38;5;241m.\u001b[39mTextIOWrapper(\u001b[38;5;28mself\u001b[39m\u001b[38;5;241m.\u001b[39mstderr,\n\u001b[1;32m    969\u001b[0m                     encoding\u001b[38;5;241m=\u001b[39mencoding, errors\u001b[38;5;241m=\u001b[39merrors)\n\u001b[0;32m--> 971\u001b[0m     \u001b[38;5;28;43mself\u001b[39;49m\u001b[38;5;241;43m.\u001b[39;49m\u001b[43m_execute_child\u001b[49m\u001b[43m(\u001b[49m\u001b[43margs\u001b[49m\u001b[43m,\u001b[49m\u001b[43m \u001b[49m\u001b[43mexecutable\u001b[49m\u001b[43m,\u001b[49m\u001b[43m \u001b[49m\u001b[43mpreexec_fn\u001b[49m\u001b[43m,\u001b[49m\u001b[43m \u001b[49m\u001b[43mclose_fds\u001b[49m\u001b[43m,\u001b[49m\n\u001b[1;32m    972\u001b[0m \u001b[43m                        \u001b[49m\u001b[43mpass_fds\u001b[49m\u001b[43m,\u001b[49m\u001b[43m \u001b[49m\u001b[43mcwd\u001b[49m\u001b[43m,\u001b[49m\u001b[43m \u001b[49m\u001b[43menv\u001b[49m\u001b[43m,\u001b[49m\n\u001b[1;32m    973\u001b[0m \u001b[43m                        \u001b[49m\u001b[43mstartupinfo\u001b[49m\u001b[43m,\u001b[49m\u001b[43m \u001b[49m\u001b[43mcreationflags\u001b[49m\u001b[43m,\u001b[49m\u001b[43m \u001b[49m\u001b[43mshell\u001b[49m\u001b[43m,\u001b[49m\n\u001b[1;32m    974\u001b[0m \u001b[43m                        \u001b[49m\u001b[43mp2cread\u001b[49m\u001b[43m,\u001b[49m\u001b[43m \u001b[49m\u001b[43mp2cwrite\u001b[49m\u001b[43m,\u001b[49m\n\u001b[1;32m    975\u001b[0m \u001b[43m                        \u001b[49m\u001b[43mc2pread\u001b[49m\u001b[43m,\u001b[49m\u001b[43m \u001b[49m\u001b[43mc2pwrite\u001b[49m\u001b[43m,\u001b[49m\n\u001b[1;32m    976\u001b[0m \u001b[43m                        \u001b[49m\u001b[43merrread\u001b[49m\u001b[43m,\u001b[49m\u001b[43m \u001b[49m\u001b[43merrwrite\u001b[49m\u001b[43m,\u001b[49m\n\u001b[1;32m    977\u001b[0m \u001b[43m                        \u001b[49m\u001b[43mrestore_signals\u001b[49m\u001b[43m,\u001b[49m\n\u001b[1;32m    978\u001b[0m \u001b[43m                        \u001b[49m\u001b[43mgid\u001b[49m\u001b[43m,\u001b[49m\u001b[43m \u001b[49m\u001b[43mgids\u001b[49m\u001b[43m,\u001b[49m\u001b[43m \u001b[49m\u001b[43muid\u001b[49m\u001b[43m,\u001b[49m\u001b[43m \u001b[49m\u001b[43mumask\u001b[49m\u001b[43m,\u001b[49m\n\u001b[1;32m    979\u001b[0m \u001b[43m                        \u001b[49m\u001b[43mstart_new_session\u001b[49m\u001b[43m)\u001b[49m\n\u001b[1;32m    980\u001b[0m \u001b[38;5;28;01mexcept\u001b[39;00m:\n\u001b[1;32m    981\u001b[0m     \u001b[38;5;66;03m# Cleanup if the child failed starting.\u001b[39;00m\n\u001b[1;32m    982\u001b[0m     \u001b[38;5;28;01mfor\u001b[39;00m f \u001b[38;5;129;01min\u001b[39;00m \u001b[38;5;28mfilter\u001b[39m(\u001b[38;5;28;01mNone\u001b[39;00m, (\u001b[38;5;28mself\u001b[39m\u001b[38;5;241m.\u001b[39mstdin, \u001b[38;5;28mself\u001b[39m\u001b[38;5;241m.\u001b[39mstdout, \u001b[38;5;28mself\u001b[39m\u001b[38;5;241m.\u001b[39mstderr)):\n",
      "File \u001b[0;32m/usr/lib/python3.10/subprocess.py:1863\u001b[0m, in \u001b[0;36mPopen._execute_child\u001b[0;34m(self, args, executable, preexec_fn, close_fds, pass_fds, cwd, env, startupinfo, creationflags, shell, p2cread, p2cwrite, c2pread, c2pwrite, errread, errwrite, restore_signals, gid, gids, uid, umask, start_new_session)\u001b[0m\n\u001b[1;32m   1861\u001b[0m     \u001b[38;5;28;01mif\u001b[39;00m errno_num \u001b[38;5;241m!=\u001b[39m \u001b[38;5;241m0\u001b[39m:\n\u001b[1;32m   1862\u001b[0m         err_msg \u001b[38;5;241m=\u001b[39m os\u001b[38;5;241m.\u001b[39mstrerror(errno_num)\n\u001b[0;32m-> 1863\u001b[0m     \u001b[38;5;28;01mraise\u001b[39;00m child_exception_type(errno_num, err_msg, err_filename)\n\u001b[1;32m   1864\u001b[0m \u001b[38;5;28;01mraise\u001b[39;00m child_exception_type(err_msg)\n",
      "\u001b[0;31mFileNotFoundError\u001b[0m: [Errno 2] No such file or directory: '/Users/handy/Github/quantum_platform/wrappers/triq_wrapper/triq'"
     ]
    }
   ],
   "source": [
    "updated_qasm, initial_mapping = q.compile(qasm=qc.qasm_original, compilation_name=\"triq_avg_sabre\")\n",
    "print(updated_qasm)"
   ]
  },
  {
   "cell_type": "markdown",
   "metadata": {},
   "source": [
    "## Initiate Noisy simulator"
   ]
  },
  {
   "cell_type": "markdown",
   "metadata": {},
   "source": [
    "To play around with the noise, we can get retrieve the last recorded calibration data from IBM's backend, and scale down the error\n"
   ]
  },
  {
   "cell_type": "code",
   "execution_count": 13,
   "metadata": {},
   "outputs": [],
   "source": [
    "noise_model, noisy_simulator, coupling_map = qiskit_wrapper.get_noisy_simulator(q.backend, 1)"
   ]
  },
  {
   "cell_type": "markdown",
   "metadata": {},
   "source": [
    "## Running the compiled circuit to the simulator"
   ]
  },
  {
   "cell_type": "markdown",
   "metadata": {},
   "source": [
    "First, we need to transpile the circuit to the targeted backend"
   ]
  },
  {
   "cell_type": "code",
   "execution_count": 14,
   "metadata": {},
   "outputs": [
    {
     "data": {
      "image/png": "[encoded data removed]",
      "text/plain": [
       "<Figure size 5189.62x284.278 with 1 Axes>"
      ]
     },
     "execution_count": 14,
     "metadata": {},
     "output_type": "execute_result"
    }
   ],
   "source": [
    "qc = QiskitCircuit(updated_qasm)\n",
    "circuit = qc.transpile_to_target_backend(q.backend, False)\n",
    "circuit.draw(\"mpl\", idle_wires=False, fold=60)"
   ]
  },
  {
   "cell_type": "code",
   "execution_count": 15,
   "metadata": {},
   "outputs": [
    {
     "data": {
      "text/plain": [
       "{'01': 488, '10': 374, '00': 4496, '11': 4642}"
      ]
     },
     "execution_count": 15,
     "metadata": {},
     "output_type": "execute_result"
    }
   ],
   "source": [
    "shots = 10000\n",
    "job = noisy_simulator.run(circuit, shots=shots)\n",
    "result = job.result()  \n",
    "output = result.get_counts()\n",
    "output_normalize = normalize_counts(output, shots=shots)\n",
    "output"
   ]
  },
  {
   "cell_type": "markdown",
   "metadata": {},
   "source": [
    "## Calculate the Fidelity"
   ]
  },
  {
   "cell_type": "code",
   "execution_count": 16,
   "metadata": {},
   "outputs": [
    {
     "data": {
      "text/plain": [
       "0.9138"
      ]
     },
     "execution_count": 16,
     "metadata": {},
     "output_type": "execute_result"
    }
   ],
   "source": [
    "fidelity = calculate_success_rate_tvd(qc.correct_output,output_normalize)\n",
    "fidelity"
   ]
  },
  {
   "cell_type": "markdown",
   "metadata": {},
   "source": [
    "## Error Mitigation (Mthree)"
   ]
  },
  {
   "cell_type": "code",
   "execution_count": 17,
   "metadata": {},
   "outputs": [],
   "source": [
    "from qiskit_ibm_runtime import QiskitRuntimeService\n",
    "qiskit_token = token\n",
    "\n",
    "QiskitRuntimeService.save_account(channel=\"ibm_quantum\", token=qiskit_token, overwrite=True)\n",
    "service = QiskitRuntimeService(channel=\"ibm_quantum\", token=qiskit_token)\n",
    "backend_service = service.backend(\"ibm_sherbrooke\")\n",
    "backend_sim = AerSimulator.from_backend(backend_service)"
   ]
  },
  {
   "cell_type": "code",
   "execution_count": 18,
   "metadata": {},
   "outputs": [
    {
     "name": "stdout",
     "output_type": "stream",
     "text": [
      "0.9138 0.9842584323637936 0.07158529716080847\n"
     ]
    }
   ],
   "source": [
    "#probs_m3 = q.apply_mthree(noisy_simulator, initial_mapping, output, shots)\n",
    "probs_m3 = q.apply_mthree(backend_sim, initial_mapping, output, shots)\n",
    "fidelity_m3 = calculate_success_rate_tvd(qc.correct_output, probs_m3)\n",
    "overhead = (fidelity_m3 - fidelity) / fidelity_m3\n",
    "print(fidelity, fidelity_m3, overhead)"
   ]
  },
  {
   "cell_type": "markdown",
   "metadata": {},
   "source": [
    "# Put all of them together"
   ]
  },
  {
   "cell_type": "code",
   "execution_count": 19,
   "metadata": {},
   "outputs": [
    {
     "name": "stdout",
     "output_type": "stream",
     "text": [
      "bv_6 already exist.\n",
      "qiskit_0\n",
      "bv_6 - compilation : qiskit_0 , noise level : 1.0 , success rate : 0.4839 , success rate m3: 0.5388880324350636\n",
      "bv_6 already exist.\n",
      "qiskit_3\n",
      "bv_6 - compilation : qiskit_3 , noise level : 1.0 , success rate : 0.6768 , success rate m3: 0.8615585891629446\n"
     ]
    }
   ],
   "source": [
    "res_circuit_name = []\n",
    "res_compilations = []\n",
    "res_noise_levels = []\n",
    "res_success_rate = []\n",
    "res_success_rate_m3 = []\n",
    "\n",
    "# prepare the circuit\n",
    "conf.base_folder = \"./circuits/testing/\"\n",
    "qasm_files = q.get_qasm_files_from_path()\n",
    "\n",
    "shots = 10000\n",
    "\n",
    "# select compilation techniques\n",
    "#compilations = [\"qiskit_0\", \"qiskit_3\", \"triq_lcd_sabre\"]\n",
    "compilations = [\"qiskit_0\", \"qiskit_3\"]\n",
    "\n",
    "# select the noise levels (0 = noiseless, 1 = noise model from real backend)\n",
    "# noise_levels = [0.0, 0.1, 0.2, 0.4, 0.6, 0.8, 1.0]\n",
    "noise_levels = [1.0]\n",
    "\n",
    "for noise in noise_levels:\n",
    "    \n",
    "    noise_model, noisy_simulator, coupling_map = qiskit_wrapper.get_noisy_simulator(q.backend, noise)\n",
    "    \n",
    "    for qasm in qasm_files:\n",
    "        qc = q.get_circuit_properties(qasm_source=qasm)\n",
    "\n",
    "    \n",
    "        for comp in compilations:    \n",
    "            circuit_name = qasm.split(\"/\")[-1].split(\".\")[0]\n",
    "    \n",
    "            updated_qasm, initial_mapping = q.compile(qasm=qc.qasm_original, compilation_name=comp)\n",
    "            compiled_qc = QiskitCircuit(updated_qasm)\n",
    "            circuit = compiled_qc.transpile_to_target_backend(q.backend, False)\n",
    "            \n",
    "            \n",
    "\n",
    "            job = noisy_simulator.run(circuit, shots=shots)\n",
    "            result = job.result()  \n",
    "            output = result.get_counts()\n",
    "            output_normalize = normalize_counts(output, shots=shots)\n",
    "\n",
    "            tvd = calculate_success_rate_tvd(qc.correct_output,output_normalize)\n",
    "\n",
    "            probs_m3 = q.apply_mthree(noisy_simulator, initial_mapping, output, shots)\n",
    "            tvd_m3 = calculate_success_rate_tvd(qc.correct_output, probs_m3)\n",
    "            \n",
    "            print(circuit_name, \"- compilation :\", comp, \", noise level :\", noise, \", success rate :\", tvd, \", success rate m3:\", tvd_m3)\n",
    "            res_circuit_name.append(circuit_name)\n",
    "            res_compilations.append(comp)\n",
    "            res_noise_levels.append(noise)\n",
    "            res_success_rate.append(tvd)\n",
    "            res_success_rate_m3.append(tvd_m3)\n",
    "\n",
    "        \n"
   ]
  },
  {
   "cell_type": "code",
   "execution_count": null,
   "metadata": {},
   "outputs": [],
   "source": []
  },
  {
   "cell_type": "markdown",
   "metadata": {},
   "source": [
    "Or just run the function "
   ]
  },
  {
   "cell_type": "code",
   "execution_count": 20,
   "metadata": {},
   "outputs": [
    {
     "data": {
      "text/html": [
       "<div>\n",
       "<style scoped>\n",
       "    .dataframe tbody tr th:only-of-type {\n",
       "        vertical-align: middle;\n",
       "    }\n",
       "\n",
       "    .dataframe tbody tr th {\n",
       "        vertical-align: top;\n",
       "    }\n",
       "\n",
       "    .dataframe thead th {\n",
       "        text-align: right;\n",
       "    }\n",
       "</style>\n",
       "<table border=\"1\" class=\"dataframe\">\n",
       "  <thead>\n",
       "    <tr style=\"text-align: right;\">\n",
       "      <th></th>\n",
       "      <th>circuit_name</th>\n",
       "      <th>compilation</th>\n",
       "      <th>noise_level</th>\n",
       "      <th>success_rate</th>\n",
       "    </tr>\n",
       "  </thead>\n",
       "  <tbody>\n",
       "    <tr>\n",
       "      <th>0</th>\n",
       "      <td>bv_6</td>\n",
       "      <td>qiskit_0</td>\n",
       "      <td>1.0</td>\n",
       "      <td>0.506</td>\n",
       "    </tr>\n",
       "    <tr>\n",
       "      <th>1</th>\n",
       "      <td>bv_6</td>\n",
       "      <td>qiskit_3</td>\n",
       "      <td>1.0</td>\n",
       "      <td>0.097</td>\n",
       "    </tr>\n",
       "  </tbody>\n",
       "</table>\n",
       "</div>"
      ],
      "text/plain": [
       "  circuit_name compilation  noise_level  success_rate\n",
       "0         bv_6    qiskit_0          1.0         0.506\n",
       "1         bv_6    qiskit_3          1.0         0.097"
      ]
     },
     "execution_count": 20,
     "metadata": {},
     "output_type": "execute_result"
    }
   ],
   "source": [
    "df = q.run_simulator(qasm_files, compilations, noise_levels, 10000, \"m3\", True)\n",
    "df"
   ]
  },
  {
   "cell_type": "markdown",
   "metadata": {},
   "source": [
    "## Plot the results"
   ]
  },
  {
   "cell_type": "code",
   "execution_count": 20,
   "metadata": {},
   "outputs": [],
   "source": [
    "df = pd.DataFrame({\n",
    "        'circuit_name': res_circuit_name,\n",
    "        'compilation': res_compilations,\n",
    "        'noise_level': res_noise_levels,\n",
    "        'success_rate': res_success_rate,\n",
    "    })\n",
    "\n",
    "df_m3 = pd.DataFrame({\n",
    "        'circuit_name': res_circuit_name,\n",
    "        'compilation': res_compilations,\n",
    "        'noise_level': res_noise_levels,\n",
    "        'success_rate': res_success_rate_m3\n",
    "    })"
   ]
  },
  {
   "cell_type": "markdown",
   "metadata": {},
   "source": [
    "### Combined plot"
   ]
  },
  {
   "cell_type": "code",
   "execution_count": 21,
   "metadata": {},
   "outputs": [],
   "source": [
    "def create_line_chart_combined(data, y, opt_values, metric, ax, type, ylabel, xlabel, yticks = None, \n",
    "                      y_bot = None, y_top = None, figsize = (12,8), c_idx = 0, reindex = None, x_index = \"header_id\", x_labels = [], i=0):\n",
    "    tmp = ()\n",
    "    \n",
    "    for idx, opt in enumerate(opt_values):\n",
    "        # print(idx, opt)\n",
    "        idx_marker = idx + (len(opt_values) * i)\n",
    "        # idx = idx \n",
    "        pivot = pd.pivot_table(data[data[y] == opt], \n",
    "                               values=[metric], \n",
    "                               index=x_index, \n",
    "                               columns=y, \n",
    "                               aggfunc='mean')    \n",
    "        if reindex != 0:\n",
    "            if reindex is None:\n",
    "                if len(tmp) == 0:\n",
    "                    tmp = pivot.index\n",
    "                else:\n",
    "                    pivot = pivot.reindex(tmp)\n",
    "            else:\n",
    "                pivot = pivot.reindex(reindex)\n",
    "\n",
    "        idx_color = (idx % (len(markers)))\n",
    "        # print(idx_color, idx, len(markers))\n",
    "\n",
    "        # print (pivot)\n",
    "         \n",
    "        pivot.plot(kind='line', color=CB_color_cycle[idx], marker=markers[idx_marker], linestyle=linestyles[i], figsize=figsize, ax=ax)\n",
    "\n",
    "        mean= pivot.mean().mean()\n",
    "\n",
    "    if i == 1:\n",
    "        ax.set_xlabel(xlabel)\n",
    "        ax.set_ylabel(ylabel)\n",
    "        \n",
    "    \n",
    "        if yticks is not None:\n",
    "            ax.set_yticks(yticks)\n",
    "    \n",
    "        if y_bot is not None and y_top is not None:\n",
    "            ax.set_ylim(bottom= y_bot, top= y_top)\n",
    "    \n",
    "        if x_labels is not None:\n",
    "            ax.set_xticks(np.arange(len(x_labels)))\n",
    "            ax.set_xticklabels(x_labels)\n",
    "            ax.set_xticklabels(ax.get_xticklabels(), rotation=45, ha='right')\n",
    "    \n",
    "        ax.grid()\n"
   ]
  },
  {
   "cell_type": "code",
   "execution_count": 22,
   "metadata": {},
   "outputs": [],
   "source": [
    "def show_figure_by_opt_combined(dfs, y, y_values, metric, ylabel, xlabel, legend = None, figsize=(10,6), reindex=None, \n",
    "                             x_index = \"total_2q\", x_labels = [], x_lim = [1, 100], \n",
    "                            y_lim = [0,1], title=None, legend_position=None, circuit_name = \"\", hw_name = \"\"):\n",
    "    # y_values = noise_levels\n",
    "\n",
    "    metrics = [metric]\n",
    "    row = 1\n",
    "    col = 1\n",
    "\n",
    "    fig, ax = plt.subplots(nrows=row, ncols=1)\n",
    "\n",
    "    yticks = None\n",
    "    \n",
    "    for i in range(2):\n",
    "        # print(i)\n",
    "        create_line_chart_combined(dfs[i], y, y_values, metrics[0], ax, \"opt\", ylabel, xlabel, yticks, figsize=figsize, reindex=reindex,\n",
    "                          x_index = x_index, x_labels=x_labels, i=i)\n",
    "\n",
    "    # n=[]        \n",
    "    # n.append(ax.axhline(np.NaN, color=\"gray\", linestyle='-.'))\n",
    "\n",
    "    # l1 = ax.legend(n, [\"Mean\"], loc=[0.82, 0.49])\n",
    "\n",
    "    if legend is None:\n",
    "            l2 = plt.legend()\n",
    "    else:\n",
    "        if legend_position == None:\n",
    "            l2 = plt.legend(legends)\n",
    "        else:\n",
    "            l2 = plt.legend(legends, loc = legend_position)\n",
    "    \n",
    "    # plt.tight_layout()\n",
    "    # ax.add_artist(l1)\n",
    "    plt.xlim(x_lim) \n",
    "    plt.ylim(y_lim)\n",
    "    plt.title(title)\n",
    "    #plt.savefig(\"./output/{}_{}_{}.png\".format(circuit_name, hw_name, x_index), dpi=500, bbox_inches='tight')\n",
    "    plt.show()\n",
    "    \n",
    "    return plt"
   ]
  },
  {
   "cell_type": "code",
   "execution_count": 23,
   "metadata": {},
   "outputs": [
    {
     "data": {
      "image/png": "[encoded data removed]",
      "text/plain": [
       "<Figure size 600x400 with 1 Axes>"
      ]
     },
     "metadata": {},
     "output_type": "display_data"
    }
   ],
   "source": [
    "y_values = ['qiskit_0', 'qiskit_3']\n",
    "legends  = [\"Qiskit-0\", \"Qiskit-3\",\n",
    "            \"Qiskit-0 (M3)\", \"Qiskit-3 (M3)\" \n",
    "           ]\n",
    "x_lim=[-0.01, 1.01]\n",
    "y_lim=[0,1.03]\n",
    "legend_position=(0.01,0.01)\n",
    "circuit_name = \"adder\"\n",
    "hw_name = \"sherbrooke\"\n",
    "title=\"State preparation logical |+>\"\n",
    "x_index = \"noise_level\"\n",
    "\n",
    "# print(y_values)\n",
    "x_labels = None\n",
    "dfs = [df, df_m3]\n",
    "\n",
    "plt = show_figure_by_opt_combined(dfs, \"compilation\", y_values, \"success_rate\", \"Success Rate\", \"Physical error rate scaling factor (ibm_sherbrooke)\", legends, figsize=(6,4), \n",
    "                   reindex=None, x_index = \"noise_level\", x_labels=x_labels, x_lim=[-0.01, 1.01], y_lim=[0,1.03],legend_position=(1.05,0.01),\n",
    "                       circuit_name = \"polar_n2_x\", hw_name = hw_name, title=\"Comparison before and after M3\")"
   ]
  },
  {
   "cell_type": "markdown",
   "metadata": {},
   "source": [
    "# Estimator"
   ]
  },
  {
   "cell_type": "code",
   "execution_count": 24,
   "metadata": {},
   "outputs": [],
   "source": [
    "from qiskit import QuantumCircuit\n",
    "from qiskit.quantum_info import SparsePauliOp\n",
    "from qiskit_ibm_runtime import EstimatorV2 as Estimator\n",
    "from qiskit_aer import AerSimulator\n",
    "import matplotlib.pyplot as plt"
   ]
  },
  {
   "cell_type": "code",
   "execution_count": 25,
   "metadata": {},
   "outputs": [
    {
     "data": {
      "image/png": "[encoded data removed]",
      "text/plain": [
       "<Figure size 371.107x284.278 with 1 Axes>"
      ]
     },
     "execution_count": 25,
     "metadata": {},
     "output_type": "execute_result"
    }
   ],
   "source": [
    "qc = QuantumCircuit(3)\n",
    "qc.h(0)\n",
    "qc.cx(0, 1)\n",
    "qc.cx(1, 2)\n",
    "qc.draw(\"mpl\")"
   ]
  },
  {
   "cell_type": "code",
   "execution_count": 26,
   "metadata": {},
   "outputs": [],
   "source": [
    "ZZ = SparsePauliOp('ZZZ')\n",
    "ZI = SparsePauliOp('ZII')\n",
    "IX = SparsePauliOp('IXI')\n",
    "IZ = SparsePauliOp('IZI')\n",
    "XI = SparsePauliOp('XII')\n",
    "XX = SparsePauliOp('XXX')\n",
    "observables = [IZ, IX, ZI, XI, ZZ, XX]"
   ]
  },
  {
   "cell_type": "code",
   "execution_count": 27,
   "metadata": {},
   "outputs": [
    {
     "data": {
      "image/png": "[encoded data removed]",
      "text/plain": [
       "<Figure size 640x480 with 1 Axes>"
      ]
     },
     "metadata": {},
     "output_type": "display_data"
    }
   ],
   "source": [
    "noise_model, noisy_simulator, coupling_map = qiskit_wrapper.get_noisy_simulator(q.backend, 1)\n",
    "estimator = Estimator(mode=noisy_simulator)\n",
    "pub = (qc, observables)\n",
    "job = estimator.run(pubs=[pub])\n",
    "# Collect the data\n",
    "data = ['IZI', 'IXI', 'ZII', 'XII', 'ZZZ', 'XXX']\n",
    "values = job.result()[0].data.evs\n",
    "\n",
    "# Set up our graph\n",
    "container = plt.plot(data, values, '-o')\n",
    "\n",
    "# Label each axis\n",
    "plt.xlabel('Observables')\n",
    "plt.ylabel('Values')\n",
    "\n",
    "# Draw the final graph\n",
    "plt.show()"
   ]
  },
  {
   "cell_type": "code",
   "execution_count": 28,
   "metadata": {},
   "outputs": [
    {
     "name": "stdout",
     "output_type": "stream",
     "text": [
      "[[ 3.+0.j  0.+0.j  0.+0.j  0.+0.j  0.+0.j  0.+0.j  0.+0.j  0.+0.j]\n",
      " [ 0.+0.j  1.+0.j  0.+0.j  0.+0.j  0.+0.j  0.+0.j  0.+0.j  0.+0.j]\n",
      " [ 0.+0.j  0.+0.j  1.+0.j  0.+0.j  0.+0.j  0.+0.j  0.+0.j  0.+0.j]\n",
      " [ 0.+0.j  0.+0.j  0.+0.j -1.+0.j  0.+0.j  0.+0.j  0.+0.j  0.+0.j]\n",
      " [ 0.+0.j  0.+0.j  0.+0.j  0.+0.j  1.+0.j  0.+0.j  0.+0.j  0.+0.j]\n",
      " [ 0.+0.j  0.+0.j  0.+0.j  0.+0.j  0.+0.j -1.+0.j  0.+0.j  0.+0.j]\n",
      " [ 0.+0.j  0.+0.j  0.+0.j  0.+0.j  0.+0.j  0.+0.j -1.+0.j  0.+0.j]\n",
      " [ 0.+0.j  0.+0.j  0.+0.j  0.+0.j  0.+0.j  0.+0.j  0.+0.j -3.+0.j]]\n"
     ]
    }
   ],
   "source": [
    "import numpy as np\n",
    "from typing import List, Callable\n",
    "from scipy.optimize import minimize\n",
    "from scipy.optimize._optimize import OptimizeResult\n",
    "import matplotlib.pyplot as plt\n",
    "\n",
    "from qiskit import QuantumCircuit\n",
    "from qiskit.quantum_info import Statevector, Operator, SparsePauliOp\n",
    "from qiskit.primitives import StatevectorSampler, PrimitiveJob\n",
    "from qiskit.circuit.library import TwoLocal\n",
    "from qiskit.transpiler.preset_passmanagers import generate_preset_pass_manager\n",
    "from qiskit.visualization import plot_histogram\n",
    "from qiskit_ibm_runtime.fake_provider import FakeSherbrooke\n",
    "from qiskit_ibm_runtime import Session, EstimatorV2 as Estimator\n",
    "from qiskit_aer import AerSimulator\n",
    "from qiskit.circuit.library import EfficientSU2\n",
    "\n",
    "pauli_op = SparsePauliOp(['ZII', 'IZI', 'IIZ'])\n",
    "print(pauli_op.to_matrix())"
   ]
  },
  {
   "cell_type": "code",
   "execution_count": 29,
   "metadata": {},
   "outputs": [
    {
     "data": {
      "image/png": "[encoded data removed]",
      "text/plain": [
       "<Figure size 872.774x284.278 with 1 Axes>"
      ]
     },
     "execution_count": 29,
     "metadata": {},
     "output_type": "execute_result"
    }
   ],
   "source": [
    "num_qubits = 3 #Add your code here\n",
    "rotation_blocks = [\"ry\",\"rz\"] #Add your code here\n",
    "entanglement_blocks = \"cz\" #Add your code here\n",
    "entanglement = \"full\" #Add your code here\n",
    "\n",
    "ansatz = TwoLocal(num_qubits, ['ry','rz'], 'cz', 'full', reps=1, insert_barriers=True) #Add your code here\n",
    "\n",
    "### Don't change any code past this line ###\n",
    "ansatz.decompose().draw('mpl')"
   ]
  },
  {
   "cell_type": "code",
   "execution_count": 30,
   "metadata": {},
   "outputs": [],
   "source": [
    "num_params = ansatz.num_parameters\n",
    "backend_answer = noisy_simulator #Add your code\n",
    "optimization_level_answer = 3 #Add your code\n",
    "pm = generate_preset_pass_manager(backend=backend_answer,optimization_level=optimization_level_answer)\n",
    "isa_circuit = pm.run(ansatz) # Add your code\n",
    "hamiltonian_isa = pauli_op.apply_layout(layout=isa_circuit.layout)"
   ]
  },
  {
   "cell_type": "code",
   "execution_count": 31,
   "metadata": {},
   "outputs": [
    {
     "data": {
      "image/png": "[encoded data removed]",
      "text/plain": [
       "<Figure size 3033.96x284.278 with 1 Axes>"
      ]
     },
     "execution_count": 31,
     "metadata": {},
     "output_type": "execute_result"
    }
   ],
   "source": [
    "isa_circuit.draw('mpl', idle_wires=False, fold=50)"
   ]
  },
  {
   "cell_type": "code",
   "execution_count": 32,
   "metadata": {},
   "outputs": [
    {
     "data": {
      "text/plain": [
       "[40, 39, 38]"
      ]
     },
     "execution_count": 32,
     "metadata": {},
     "output_type": "execute_result"
    }
   ],
   "source": [
    "initial_mapping = qiskit_wrapper.get_initial_layout_from_circuit(isa_circuit)\n",
    "initial_mapping"
   ]
  },
  {
   "cell_type": "markdown",
   "metadata": {},
   "source": [
    "### Mthree"
   ]
  },
  {
   "cell_type": "code",
   "execution_count": 34,
   "metadata": {},
   "outputs": [
    {
     "name": "stdout",
     "output_type": "stream",
     "text": [
      "['ZII', 'IZI', 'IIZ'] [(1+0j), (1+0j), (1+0j)]\n",
      "(-0.9775853576895642+0j)\n"
     ]
    }
   ],
   "source": [
    "from qiskit import QuantumCircuit, ClassicalRegister, QuantumRegister\n",
    "\n",
    "x0 = 2 * np.pi * np.random.random(num_params)\n",
    "bound_circs = isa_circuit.assign_parameters(x0)\n",
    "creg = ClassicalRegister(3, 'c')\n",
    "bound_circs.add_register(creg)\n",
    "bound_circs.measure(40, 0)\n",
    "bound_circs.measure(39, 1)\n",
    "bound_circs.measure(38, 2)\n",
    "result = noisy_simulator.run(bound_circs, shots=10000).result()\n",
    "counts = result.get_counts()\n",
    "\n",
    "mit = mthree.M3Mitigation(noisy_simulator)\n",
    "mit.cals_from_system(initial_mapping)\n",
    "\n",
    "quasis = mit.apply_correction(counts, initial_mapping)\n",
    "\n",
    "coeffs = []\n",
    "meas_strings = []\n",
    "\n",
    "for i in pauli_op.to_list():\n",
    "    meas_string, coeff = i\n",
    "    coeffs.append(coeff)\n",
    "    meas_strings.append(meas_string)\n",
    "\n",
    "print(meas_strings, coeffs)\n",
    "print(np.sum(coeffs * quasis.expval(meas_strings)))\n"
   ]
  },
  {
   "cell_type": "markdown",
   "metadata": {},
   "source": [
    "## Classical Optimizer"
   ]
  },
  {
   "cell_type": "code",
   "execution_count": null,
   "metadata": {},
   "outputs": [],
   "source": [
    "def cost_func(params, ansatz, hamiltonian, estimator, callback_dict):\n",
    "    \"\"\"Return estimate of energy from estimator\n",
    "\n",
    "    Parameters:\n",
    "        params (ndarray): Array of ansatz parameters\n",
    "        ansatz (QuantumCircuit): Parameterized ansatz circuit\n",
    "        hamiltonian (SparsePauliOp): Operator representation of Hamiltonian\n",
    "        estimator (EstimatorV2): Estimator primitive instance\n",
    "\n",
    "    Returns:\n",
    "        float: Energy estimate\n",
    "    \"\"\"\n",
    "    pub = (ansatz, [hamiltonian], [params]) #Add your code\n",
    "    result = estimator.run(pubs=[pub]).result() #Add your code\n",
    "    energy = result[0].data.evs[0] #Add your code\n",
    "\n",
    "    callback_dict[\"iters\"] += 1 #Add your code\n",
    "    callback_dict[\"prev_vector\"] = params #Add your code\n",
    "    callback_dict[\"cost_history\"].append(energy) #Add your code\n",
    "\n",
    "\n",
    "### Don't change any code past this line ###\n",
    "    print(energy)\n",
    "    return energy, result"
   ]
  },
  {
   "cell_type": "code",
   "execution_count": null,
   "metadata": {},
   "outputs": [],
   "source": [
    "ansatz = EfficientSU2(3)\n",
    "params = np.ones((1,ansatz.num_parameters))\n",
    "aer_sim = noisy_simulator\n",
    "pm = generate_preset_pass_manager(backend=aer_sim, optimization_level=3)\n",
    "isa_circuits = pm.run(ansatz)\n",
    "choc_op = SparsePauliOp(['ZII', 'IZI', 'IIZ'])\n",
    "hamiltonian_isa = choc_op.apply_layout(layout=isa_circuits.layout)\n",
    "estimator = Estimator(mode=aer_sim)\n",
    "\n",
    "callback_dict = {\n",
    "    \"prev_vector\": None,\n",
    "    \"iters\": 0,\n",
    "    \"cost_history\": []\n",
    "}\n",
    "cost, result = cost_func(\n",
    "    params,\n",
    "    isa_circuits,\n",
    "    hamiltonian_isa,\n",
    "    estimator,\n",
    "    callback_dict\n",
    ")"
   ]
  },
  {
   "cell_type": "code",
   "execution_count": null,
   "metadata": {},
   "outputs": [],
   "source": [
    "callback_dict = {\n",
    "    \"prev_vector\": None,\n",
    "    \"iters\": 0,\n",
    "    \"cost_history\": [],\n",
    "}"
   ]
  },
  {
   "cell_type": "code",
   "execution_count": null,
   "metadata": {},
   "outputs": [],
   "source": [
    "x0 = 2 * np.pi * np.random.random(num_params)\n",
    "x0"
   ]
  },
  {
   "cell_type": "code",
   "execution_count": null,
   "metadata": {},
   "outputs": [],
   "source": [
    "# backend = FakeSherbrooke()\n",
    "backend = noisy_simulator\n",
    "\n",
    "# ### Don't change any code past this line ###\n",
    "\n",
    "# Here we have updated the cost function to return only the energy to be compatible with recent scipy versions (>=1.10)\n",
    "def cost_func_2(*args, **kwargs):\n",
    "    energy, result = cost_func(*args, **kwargs)\n",
    "    return energy\n",
    "\n",
    "with Session(backend=backend) as session:\n",
    "    estimator = Estimator(mode=session)\n",
    "\n",
    "    res = minimize(\n",
    "        cost_func_2,\n",
    "        x0,\n",
    "        args=(isa_circuit, hamiltonian_isa, estimator, callback_dict),\n",
    "        method=\"cobyla\",\n",
    "        options={'maxiter': 10})"
   ]
  },
  {
   "cell_type": "code",
   "execution_count": null,
   "metadata": {},
   "outputs": [],
   "source": [
    "fig, ax = plt.subplots()\n",
    "plt.plot(range(callback_dict[\"iters\"]), callback_dict[\"cost_history\"])\n",
    "plt.xlabel(\"Energy\")\n",
    "plt.ylabel(\"Cost\")\n",
    "plt.draw()"
   ]
  },
  {
   "cell_type": "markdown",
   "metadata": {},
   "source": [
    "## Error Mitigation"
   ]
  },
  {
   "cell_type": "markdown",
   "metadata": {},
   "source": [
    "### Zero Noise Extrapolation (ZNE)"
   ]
  },
  {
   "cell_type": "code",
   "execution_count": null,
   "metadata": {},
   "outputs": [],
   "source": [
    "import mysql.connector\n",
    "\n",
    "mysql_config = {\n",
    "    'user': 'handy',\n",
    "    'password': 'handy',\n",
    "    'host': 'localhost',\n",
    "    'database': 'framework'\n",
    "}"
   ]
  },
  {
   "cell_type": "code",
   "execution_count": null,
   "metadata": {},
   "outputs": [],
   "source": [
    "conn = mysql.connector.connect(**mysql_config)\n",
    "cursor = conn.cursor()"
   ]
  },
  {
   "cell_type": "code",
   "execution_count": null,
   "metadata": {},
   "outputs": [],
   "source": []
  }
 ],
 "metadata": {
  "kernelspec": {
   "display_name": "Python 3 (ipykernel)",
   "language": "python",
   "name": "python3"
  },
  "language_info": {
   "codemirror_mode": {
    "name": "ipython",
    "version": 3
   },
   "file_extension": ".py",
   "mimetype": "text/x-python",
   "name": "python",
   "nbconvert_exporter": "python",
   "pygments_lexer": "ipython3",
   "version": "3.10.12"
  }
 },
 "nbformat": 4,
 "nbformat_minor": 4
}
