{
 "cells": [
  {
   "cell_type": "markdown",
   "id": "5e0623d7-cc0e-489e-9881-d5be3ddc7d7e",
   "metadata": {},
   "source": [
    "# Initialize"
   ]
  },
  {
   "cell_type": "code",
   "execution_count": 3,
   "id": "1b4d2aeb-0dac-451a-914d-4d8f64ceb9ef",
   "metadata": {},
   "outputs": [],
   "source": [
    "from qiskit import QuantumCircuit, transpile\n",
    "from qiskit_ibm_runtime import QiskitRuntimeService\n",
    "from qiskit.transpiler.preset_passmanagers import generate_preset_pass_manager\n",
    "from qiskit.qasm2 import dumps\n",
    "from qiskit_aer import AerSimulator, QasmSimulator, Aer\n",
    "from qiskit.converters import circuit_to_dag, dag_to_circuit\n",
    "from qiskit_aer.noise import (NoiseModel, QuantumError, ReadoutError,\n",
    "    pauli_error, depolarizing_error, thermal_relaxation_error)\n",
    "\n",
    "from qiskit.circuit.library import RZZGate, RZGate\n",
    "from qiskit.circuit import Delay\n",
    "from qiskit.circuit.library import UnitaryGate\n",
    "\n",
    "import mysql.connector\n",
    "import networkx as nx\n",
    "import os\n",
    "import sys\n",
    "from copy import deepcopy\n",
    "\n",
    "from qEmQUIP import QEM, conf\n",
    "import mysql.connector\n",
    "\n",
    "import warnings\n",
    "warnings.filterwarnings(action='ignore')\n",
    "\n",
    "module_path = os.path.abspath(os.path.join('.', 'wrappers'))\n",
    "if module_path not in sys.path:\n",
    "    sys.path.append(module_path)\n",
    "\n",
    "from commons import (\n",
    "    used_qubits, sum_middle_digits_dict\n",
    ")\n",
    "\n",
    "from wrappers.multiprogramming_wrapper import (\n",
    "    avoid_simultaneous_cnot, add_zz_on_simultaneous_cnot, \n",
    "    build_idle_coupling_map, multiprogram_compilation_qiskit, merge_circuits,\n",
    "    get_LF_presets_cm\n",
    ")\n",
    "from wrappers.polar_wrapper import (\n",
    "        polar_code_p2, get_logical_error_on_accepted_states\n",
    ")\n",
    "\n",
    "from wrappers.prune_wrapper import (\n",
    "    create_full_graph, generate_figures, generate_node_errors, generate_edge_errors,\n",
    "    get_latest_calibration_id, get_edges_threshold, get_readout_threshold, get_LF_qubits\n",
    ")\n",
    "\n",
    "from wrappers.dd_wrapper import (\n",
    "    convert_dt_to_us, count_delay_durations, apply_pad_delay, get_delay_information, get_dd_information, \n",
    "    get_delay_and_dd_information_us\n",
    ")\n",
    "\n",
    "from wrappers.qiskit_wrapper import (\n",
    "    apply_dd, get_zz_rates_from_backend_in_hz, get_qubits_T1_T2, get_gates_length, generate_errors_thermal_relaxation, \n",
    "generate_thermal_noise_model_on_used_qubits, get_neighbor_zz_rates_by_qubit, create_rzz_operator,\n",
    "replace_delay_with_rzz\n",
    ")\n",
    "\n",
    "\n",
    "# MySQL connection parameters\n",
    "mysql_config = {\n",
    "    'user': 'handy',\n",
    "    'password': 'handy',\n",
    "    'host': 'ec2-16-171-135-24.eu-north-1.compute.amazonaws.com',\n",
    "    'database': 'calibration_data'\n",
    "}\n",
    "\n",
    "# Connect to the MySQL database\n",
    "conn = mysql.connector.connect(**mysql_config)\n",
    "\n",
    "shots = 10000\n",
    "seed_simulator=12345"
   ]
  },
  {
   "cell_type": "code",
   "execution_count": 4,
   "id": "677f75e3-fcba-4657-bc0b-1b4d22665576",
   "metadata": {},
   "outputs": [],
   "source": [
    "import matplotlib as mpl\n",
    "mpl.rcParams['text.usetex'] = False\n",
    "\n",
    "import matplotlib.pyplot as plt\n",
    "# plt.style.use('tableau-colorblind10')\n",
    "# font = {'size'   : 16}\n",
    "# plt.rc('font', **font)\n",
    "\n",
    "import numpy as np\n",
    "import pandas as pd\n",
    "import seaborn as sns\n",
    "import re\n",
    "\n",
    "# CB_color_cycle = ['#006BA4', '#FF800E', '#ABABAB', '#595959', '#5F9ED1', '#C85200', '#898989', '#A2C8EC', '#FFBC79', '#CFCFCF',\n",
    "                 \n",
    "#                  ]\n",
    "\n",
    "CB_color_cycle = [\n",
    "    '#006BA4',  # Blue\n",
    "    '#FF800E',  # Orange\n",
    "    '#ABABAB',  # Gray\n",
    "    '#595959',  # Dark Gray\n",
    "    '#5F9ED1',  # Light Blue\n",
    "    '#C85200',  # Dark Orange\n",
    "    '#898989',  # Medium Gray\n",
    "    '#A2C8EC',  # Pale Blue\n",
    "    '#FFBC79',  # Light Orange\n",
    "    '#CFCFCF',  # Light Gray\n",
    "    '#009E73',  # Green (Colorblind-friendly)\n",
    "    '#F0E442'   # Yellow (Colorblind-friendly)\n",
    "]\n",
    "                  \n",
    "\n",
    "#1F77B4 0\n",
    "#FFBB78 3\n",
    "#2CA02C 4\n",
    "#98DF8A 5\n",
    "#D62728 6\n",
    "#FF9896 7\n",
    "\n",
    "CB_color_cycle_polar = ['#377eb8', '#ff7f00', '#4daf4a',\n",
    "                  '#f781bf', '#a65628', '#984ea3',\n",
    "                  '#999999', '#e41a1c', '#dede00']\n",
    "\n",
    "markers = ['o', 'v', 'd', 's', '+', 'x', '^', '*', '<', '>', 'p', '1', '2', '3', '4']\n",
    "linestyles = ['-', '--', ':', '-.', '-', '--', '-.', ':']\n",
    "\n",
    "#calibration_sets = [\"real\", \"avg\", \"recent\", \"decay_r\"]\n",
    "calibration_sets = [\"real\", \"avg\"]\n",
    "# opts = [\"TriQ\", \"SCR\"]\n",
    "# opts = [\"TriQ\"]\n",
    "\n",
    "\n"
   ]
  },
  {
   "cell_type": "code",
   "execution_count": 5,
   "id": "eccb50fc-878d-4256-a6dc-3f8f35bdbdc1",
   "metadata": {},
   "outputs": [],
   "source": [
    "# # handykur@ucm.es\n",
    "token = \"476ea8c61cc54f36e4a21d70a8442f94203c9d87096eaad0886a3e8154d8c2e79bcad6f927c6050a76335dd68d783f478c1b828504748a4377b441c335c831aa\"\n",
    "\n",
    "hw_name = \"ibm_sherbrooke\"\n",
    "QiskitRuntimeService.save_account(channel=\"ibm_quantum\", token=token, overwrite=True)\n",
    "service = QiskitRuntimeService(channel=\"ibm_quantum\", token=token)\n",
    "backend = service.backend(hw_name)"
   ]
  },
  {
   "cell_type": "code",
   "execution_count": 6,
   "id": "f4a6c682-c7c5-4f57-a964-35d6424ad465",
   "metadata": {},
   "outputs": [],
   "source": [
    "sim_ideal = AerSimulator()\n",
    "sim_noisy = AerSimulator.from_backend(backend)\n",
    "noise_model_backend = NoiseModel.from_backend(backend)"
   ]
  },
  {
   "cell_type": "code",
   "execution_count": 7,
   "id": "bfea67bf-4e8b-4563-b967-4e85bd2eef38",
   "metadata": {},
   "outputs": [],
   "source": [
    "pm = generate_preset_pass_manager(\n",
    "    optimization_level=3, backend=backend\n",
    ")"
   ]
  },
  {
   "cell_type": "markdown",
   "id": "63cff218-9b74-42fa-8f4f-6d27ad1a161c",
   "metadata": {},
   "source": [
    "## Circuit"
   ]
  },
  {
   "cell_type": "code",
   "execution_count": 8,
   "id": "d21aefac-0d34-4302-a7a0-d426ed61aa68",
   "metadata": {},
   "outputs": [],
   "source": [
    "# AND5\n",
    "qasm_str = \"\"\"\n",
    "OPENQASM 2.0;\n",
    "include \"qelib1.inc\";\n",
    "qreg q[5];\n",
    "creg c[5];\n",
    "x q[0];\n",
    "x q[1];\n",
    "x q[2];\n",
    "x q[3];\n",
    "u3(0,0,-pi/4) q[3];\n",
    "u3(pi/2,0,pi) q[4];\n",
    "cx q[3],q[4];\n",
    "u3(0,0,pi/4) q[4];\n",
    "cx q[3],q[4];\n",
    "u3(0,0,-pi/4) q[4];\n",
    "u3(pi/2,0,pi) q[4];\n",
    "u3(pi/2,0,pi) q[4];\n",
    "u3(pi/2,0,pi) q[3];\n",
    "u3(0,0,pi/4) q[3];\n",
    "cx q[2],q[3];\n",
    "u3(0,0,-pi/4) q[3];\n",
    "u3(pi/2,0,pi) q[3];\n",
    "cx q[0],q[3];\n",
    "u3(0,0,pi/4) q[3];\n",
    "cx q[1],q[3];\n",
    "u3(0,0,-pi/4) q[3];\n",
    "cx q[0],q[3];\n",
    "u3(0,0,pi/4) q[3];\n",
    "cx q[1],q[3];\n",
    "u3(0,0,-pi/4) q[3];\n",
    "u3(pi/2,0,pi) q[3];\n",
    "u3(0,0,pi/4) q[3];\n",
    "cx q[2],q[3];\n",
    "u3(0,0,-pi/4) q[3];\n",
    "u3(pi/2,0,pi) q[3];\n",
    "u3(0,0,pi/4) q[3];\n",
    "cx q[3],q[4];\n",
    "u3(0,0,-pi/4) q[4];\n",
    "cx q[3],q[4];\n",
    "u3(0,0,pi/4) q[4];\n",
    "u3(pi/2,0,pi) q[4];\n",
    "u2(0,pi) q[4];\n",
    "u3(pi/2,-2*pi,pi) q[3];\n",
    "u3(0,0,pi/4) q[3];\n",
    "cx q[2],q[3];\n",
    "u3(0,0,-pi/4) q[3];\n",
    "u3(pi/2,-2*pi,pi) q[3];\n",
    "u3(0,0,pi/4) q[3];\n",
    "cx q[1],q[3];\n",
    "u3(0,0,-pi/4) q[3];\n",
    "cx q[0],q[3];\n",
    "u3(0,0,pi/4) q[3];\n",
    "cx q[1],q[3];\n",
    "u3(0,0,-pi/4) q[3];\n",
    "cx q[0],q[3];\n",
    "u1(-pi/16) q[0];\n",
    "cx q[0],q[4];\n",
    "u1(pi/16) q[4];\n",
    "cx q[0],q[4];\n",
    "u1(-pi/16) q[4];\n",
    "u2(0,pi) q[4];\n",
    "u2(0,pi) q[4];\n",
    "cx q[0],q[1];\n",
    "u1(pi/16) q[1];\n",
    "cx q[1],q[4];\n",
    "u1(-pi/16) q[4];\n",
    "cx q[1],q[4];\n",
    "u1(pi/16) q[4];\n",
    "u2(0,pi) q[4];\n",
    "u2(0,pi) q[4];\n",
    "cx q[0],q[1];\n",
    "u1(-pi/16) q[1];\n",
    "cx q[1],q[4];\n",
    "u1(pi/16) q[4];\n",
    "cx q[1],q[4];\n",
    "u1(-pi/16) q[4];\n",
    "u2(0,pi) q[4];\n",
    "u2(0,pi) q[4];\n",
    "u3(pi/2,-2*pi,pi) q[3];\n",
    "u3(0,0,pi/4) q[3];\n",
    "cx q[2],q[3];\n",
    "cx q[1],q[2];\n",
    "u1(pi/16) q[2];\n",
    "cx q[2],q[4];\n",
    "u1(-pi/16) q[4];\n",
    "cx q[2],q[4];\n",
    "u1(pi/16) q[4];\n",
    "u2(0,pi) q[4];\n",
    "u2(0,pi) q[4];\n",
    "cx q[0],q[2];\n",
    "u1(-pi/16) q[2];\n",
    "cx q[2],q[4];\n",
    "u1(pi/16) q[4];\n",
    "cx q[2],q[4];\n",
    "u1(-pi/16) q[4];\n",
    "u2(0,pi) q[4];\n",
    "u2(0,pi) q[4];\n",
    "cx q[1],q[2];\n",
    "u1(pi/16) q[2];\n",
    "cx q[2],q[4];\n",
    "u1(-pi/16) q[4];\n",
    "cx q[2],q[4];\n",
    "u1(pi/16) q[4];\n",
    "u2(0,pi) q[4];\n",
    "u2(0,pi) q[4];\n",
    "cx q[0],q[2];\n",
    "u1(-pi/16) q[2];\n",
    "cx q[2],q[4];\n",
    "u1(pi/16) q[4];\n",
    "cx q[2],q[4];\n",
    "u1(-pi/16) q[4];\n",
    "u2(0,pi) q[4];\n",
    "u3(0,0,-pi/4) q[3];\n",
    "u3(pi/2,-2*pi,pi) q[3];\n",
    "measure q[0] -> c[0];\n",
    "measure q[1] -> c[1];\n",
    "measure q[2] -> c[2];\n",
    "measure q[3] -> c[3];\n",
    "measure q[4] -> c[4];\n",
    "\"\"\"\n",
    "\n",
    "qc = QuantumCircuit.from_qasm_str(qasm_str)"
   ]
  },
  {
   "cell_type": "code",
   "execution_count": 9,
   "id": "21a70724-859c-4e1e-8c27-b218de2a81ee",
   "metadata": {},
   "outputs": [],
   "source": [
    "tqc = pm.run(qc)"
   ]
  },
  {
   "cell_type": "markdown",
   "id": "c3c56b2c-c416-4933-8d1b-dc11df25a52c",
   "metadata": {},
   "source": [
    "# Noise Model"
   ]
  },
  {
   "cell_type": "code",
   "execution_count": 10,
   "id": "7601515d-0510-4790-9838-bb8a6497fc6b",
   "metadata": {},
   "outputs": [],
   "source": [
    "#dir(noise_model_backend)"
   ]
  },
  {
   "cell_type": "code",
   "execution_count": 11,
   "id": "40d1f2a0-cc33-43f2-bccc-ca7c28c24541",
   "metadata": {},
   "outputs": [],
   "source": [
    "noise_dict = noise_model_backend.to_dict()"
   ]
  },
  {
   "cell_type": "code",
   "execution_count": 12,
   "id": "559526d9-978f-4c52-941a-598d1e0ea90a",
   "metadata": {},
   "outputs": [
    {
     "data": {
      "text/plain": [
       "[(3, 2)]"
      ]
     },
     "execution_count": 12,
     "metadata": {},
     "output_type": "execute_result"
    }
   ],
   "source": [
    "noise_dict[\"errors\"][129][\"gate_qubits\"]"
   ]
  },
  {
   "cell_type": "code",
   "execution_count": 13,
   "id": "df778614-dd52-4c31-8b4f-39bd57586264",
   "metadata": {},
   "outputs": [
    {
     "data": {
      "text/plain": [
       "[{'name': 'pauli', 'qubits': [0, 1], 'params': ['II']},\n",
       " {'name': 'reset', 'qubits': [0]},\n",
       " {'name': 'id', 'qubits': [1]}]"
      ]
     },
     "execution_count": 13,
     "metadata": {},
     "output_type": "execute_result"
    }
   ],
   "source": [
    "noise_dict[\"errors\"][129][\"instructions\"][2]"
   ]
  },
  {
   "cell_type": "code",
   "execution_count": 14,
   "id": "e60a812f-cfc6-48d8-a5c4-ed1395841ce2",
   "metadata": {},
   "outputs": [
    {
     "name": "stdout",
     "output_type": "stream",
     "text": [
      "144 0.007235894029981038\n"
     ]
    }
   ],
   "source": [
    "print(len(noise_dict[\"errors\"][129][\"probabilities\"]), 1 - noise_dict[\"errors\"][129][\"probabilities\"][0])"
   ]
  },
  {
   "cell_type": "markdown",
   "id": "27b8f2dc-6918-4154-aa9e-c6e0b4fd03b0",
   "metadata": {},
   "source": [
    "# Backend Property"
   ]
  },
  {
   "cell_type": "code",
   "execution_count": 15,
   "id": "86027302-a3cf-4e34-a320-2e68846d7cf7",
   "metadata": {},
   "outputs": [
    {
     "data": {
      "text/plain": [
       "'ibm_sherbrooke'"
      ]
     },
     "execution_count": 15,
     "metadata": {},
     "output_type": "execute_result"
    }
   ],
   "source": [
    "backend.name"
   ]
  },
  {
   "cell_type": "code",
   "execution_count": 16,
   "id": "4f75e458-2314-4169-a274-7889b981f9a8",
   "metadata": {},
   "outputs": [
    {
     "data": {
      "text/plain": [
       "2.2222222222222221e-10"
      ]
     },
     "execution_count": 16,
     "metadata": {},
     "output_type": "execute_result"
    }
   ],
   "source": [
    "dt = backend.dt\n",
    "dt"
   ]
  },
  {
   "cell_type": "markdown",
   "id": "668fbb77-ffc0-4a31-ac50-cc918b68ddc0",
   "metadata": {},
   "source": [
    "### ZZ Rate"
   ]
  },
  {
   "cell_type": "code",
   "execution_count": 17,
   "id": "43aa877f-b8eb-4e83-8309-08e4536f2130",
   "metadata": {},
   "outputs": [],
   "source": [
    "zz_rates = get_zz_rates_from_backend_in_hz(backend)"
   ]
  },
  {
   "cell_type": "markdown",
   "id": "acd1c113-0fc8-4cec-b72a-c529155436a6",
   "metadata": {},
   "source": [
    "## Thermal\n"
   ]
  },
  {
   "cell_type": "code",
   "execution_count": 18,
   "id": "98b44511-9aa3-4fc3-9d69-30d4421eedd4",
   "metadata": {},
   "outputs": [
    {
     "data": {
      "text/plain": [
       "{'rz': 0,\n",
       " 'sx': 56.888888888888886,\n",
       " 'ecr': 533.3333333333333,\n",
       " 'x': 56.888888888888886,\n",
       " 'measure': 1216}"
      ]
     },
     "execution_count": 18,
     "metadata": {},
     "output_type": "execute_result"
    }
   ],
   "source": [
    "gates_length = get_gates_length(tqc, backend)\n",
    "gates_length"
   ]
  },
  {
   "cell_type": "code",
   "execution_count": 19,
   "id": "1de79659-9ddc-4946-87dc-8f34573347f2",
   "metadata": {},
   "outputs": [],
   "source": [
    "errors_thermal = generate_errors_thermal_relaxation(tqc, backend)"
   ]
  },
  {
   "cell_type": "code",
   "execution_count": 20,
   "id": "ac551a92-2d4b-42aa-968e-412125f4647e",
   "metadata": {},
   "outputs": [],
   "source": [
    "noise_thermal = generate_thermal_noise_model_on_used_qubits(tqc, backend)\n",
    "sim_noisy_thermal = AerSimulator(configuration=backend.configuration(), noise_model=noise_thermal)"
   ]
  },
  {
   "cell_type": "code",
   "execution_count": 21,
   "id": "8955a3c8-7333-4f29-99bf-b5bb3e66325f",
   "metadata": {},
   "outputs": [],
   "source": [
    "# This model doesn't make sense\n",
    "#noise_thermal_delay = NoiseModel()\n",
    "#noise_thermal_delay = deepcopy(noise_model_backend)\n",
    "\n",
    "#used_qbs = used_qubits(tqc)\n",
    "\n",
    "#for q in used_qbs:\n",
    "#    noise_thermal_delay.add_quantum_error(errors_thermal[\"delay\"][q], \"delay\", [q])\n",
    "\n",
    "#sim_noisy_delay = AerSimulator(configuration=backend.configuration(), noise_model=noise_thermal_delay)"
   ]
  },
  {
   "cell_type": "code",
   "execution_count": 22,
   "id": "84a9dfa7-4a68-45b3-b9d1-88a4cc0fe616",
   "metadata": {},
   "outputs": [],
   "source": [
    "#dir(noise_thermal_delay)"
   ]
  },
  {
   "cell_type": "markdown",
   "id": "146b2bc4-96cb-42fd-8268-c23af8255156",
   "metadata": {},
   "source": [
    "# Simulate"
   ]
  },
  {
   "cell_type": "markdown",
   "id": "512166b6-587e-42f2-88dd-fd4f837757f9",
   "metadata": {},
   "source": [
    "Running on the noiseless simulation, we will get the real correct answer"
   ]
  },
  {
   "cell_type": "code",
   "execution_count": 24,
   "id": "725a94b0-acc7-4244-97ac-2f75d1d4affd",
   "metadata": {},
   "outputs": [
    {
     "data": {
      "text/plain": [
       "'11111'"
      ]
     },
     "execution_count": 24,
     "metadata": {},
     "output_type": "execute_result"
    }
   ],
   "source": [
    "# for result running with ideal simulator (no noise)\n",
    "result_ideal = sim_ideal.run(tqc, shots=10000, seed_simulator=12345).result().get_counts()\n",
    "correct_answer = list(result_ideal.keys())[0]\n",
    "correct_answer"
   ]
  },
  {
   "cell_type": "code",
   "execution_count": 25,
   "id": "a14674d2-6a0d-40be-963e-c075fafe81c7",
   "metadata": {},
   "outputs": [],
   "source": [
    "shots = 10000\n",
    "seed_simulator = 12345"
   ]
  },
  {
   "cell_type": "code",
   "execution_count": 26,
   "id": "b237968b-09e9-499f-810b-53a0e86eda52",
   "metadata": {},
   "outputs": [],
   "source": [
    "def simulate_circuit_with_noisy_simulator(tqc, sim, seed_simulator, correct_answer):\n",
    "    result_noisy = sim.run(tqc, shots=shots, seed_simulator=seed_simulator).result().get_counts()\n",
    "    return result_noisy[correct_answer]\n"
   ]
  },
  {
   "cell_type": "code",
   "execution_count": 27,
   "id": "47483f9b-fc97-4712-b44a-75fd47304012",
   "metadata": {},
   "outputs": [
    {
     "name": "stdout",
     "output_type": "stream",
     "text": [
      "6634 7512\n"
     ]
    }
   ],
   "source": [
    "# for result running with noisy simulator from backend\n",
    "result_noisy = simulate_circuit_with_noisy_simulator(tqc, sim_noisy, seed_simulator, correct_answer)\n",
    "\n",
    "# for result running with thermal error from backend properties\n",
    "result_thermal = simulate_circuit_with_noisy_simulator(tqc, sim_noisy_thermal, seed_simulator, correct_answer)\n",
    "\n",
    "print(result_noisy, result_thermal)"
   ]
  },
  {
   "cell_type": "markdown",
   "id": "e8d6030c-4e55-4748-aa12-28bac57706fe",
   "metadata": {},
   "source": [
    "### Analyze Delay"
   ]
  },
  {
   "cell_type": "markdown",
   "id": "84ccf080-7659-4861-8aed-148d2afc4428",
   "metadata": {},
   "source": [
    "This `get_delay_and_dd_information_us` function will analyze the circuit based on the given backend, and return\n",
    "circuits: with pad delay, and dd delay, and the delays timing.\n",
    "\n",
    "Index 0 is for the pad delay, while index 1 is for the pad dd"
   ]
  },
  {
   "cell_type": "code",
   "execution_count": 28,
   "id": "3d816f7b-d7b4-4e11-b4fe-75b9667dfa42",
   "metadata": {},
   "outputs": [],
   "source": [
    "list_circuit, list_delays = get_delay_and_dd_information_us(tqc, backend, \"XpXm\")"
   ]
  },
  {
   "cell_type": "code",
   "execution_count": 29,
   "id": "d5edbca1-57b9-4196-bfae-5fd33590db07",
   "metadata": {},
   "outputs": [],
   "source": [
    "# add delay operation to the circuits\n",
    "tqc_delay = list_circuit[0]\n",
    "tqc_dd = list_circuit[1]"
   ]
  },
  {
   "cell_type": "code",
   "execution_count": 30,
   "id": "7460e87f-ebaf-4aa7-ba72-6ddd421ce45c",
   "metadata": {},
   "outputs": [
    {
     "name": "stdout",
     "output_type": "stream",
     "text": [
      "({55: 24.462, 67: 20.921, 68: 3.385, 69: 18.084, 70: 28.117}, {55: 23.438, 67: 19.783, 68: 3.157, 69: 17.287, 70: 27.662})\n"
     ]
    }
   ],
   "source": [
    "print(list_delays)"
   ]
  },
  {
   "cell_type": "code",
   "execution_count": 31,
   "id": "3acb3f7d-06df-41e7-bed5-ca1ca4173ace",
   "metadata": {},
   "outputs": [
    {
     "name": "stdout",
     "output_type": "stream",
     "text": [
      "5266 5054\n"
     ]
    }
   ],
   "source": [
    "# for result running with noisy simulator from backend\n",
    "result_noisy_wd = simulate_circuit_with_noisy_simulator(tqc_delay, sim_noisy, seed_simulator, correct_answer)\n",
    "\n",
    "# for result running with thermal error from backend properties\n",
    "result_noisy_dd = simulate_circuit_with_noisy_simulator(tqc_dd, sim_noisy, seed_simulator, correct_answer)\n",
    "\n",
    "print(result_noisy_wd, result_noisy_dd)"
   ]
  },
  {
   "cell_type": "markdown",
   "id": "2c1e2466-1da8-4d9a-be5d-5a5b9e3c5ae8",
   "metadata": {},
   "source": [
    "From the result above we can conclude that:\n",
    "- Adding delay will reduce the fidelity\n",
    "- Adding DD without the correct noise model (coherent error with zz rotation) will also reduce the fidelity"
   ]
  },
  {
   "cell_type": "code",
   "execution_count": 32,
   "id": "26b6e403-ca97-45cc-ab85-7439de9437bd",
   "metadata": {},
   "outputs": [
    {
     "name": "stdout",
     "output_type": "stream",
     "text": [
      "7512 7438\n"
     ]
    }
   ],
   "source": [
    "# for result running with noisy simulator from backend\n",
    "result_thermal_wd = simulate_circuit_with_noisy_simulator(tqc_delay, sim_noisy_thermal, seed_simulator, correct_answer)\n",
    "\n",
    "# for result running with thermal error from backend properties\n",
    "result_thermal_dd = simulate_circuit_with_noisy_simulator(tqc_dd, sim_noisy_thermal, seed_simulator, correct_answer)\n",
    "\n",
    "print(result_thermal_wd, result_thermal_dd)"
   ]
  },
  {
   "cell_type": "markdown",
   "id": "b8216d6c-a0c8-42b6-8f57-b990b3a1c7e8",
   "metadata": {},
   "source": [
    "## Analyze Simultaneous CNOT "
   ]
  },
  {
   "cell_type": "code",
   "execution_count": 33,
   "id": "d21302f9-9972-40ca-b714-af462599b2dd",
   "metadata": {},
   "outputs": [],
   "source": [
    "tqc_zz = add_zz_on_simultaneous_cnot(tqc, backend)\n",
    "tqc_zz = transpile(tqc_zz, optimization_level=0, backend=backend) # transpile to basis gate"
   ]
  },
  {
   "cell_type": "code",
   "execution_count": 34,
   "id": "92bc84c1-4470-4f26-aa11-437ed1eb7331",
   "metadata": {},
   "outputs": [
    {
     "name": "stdout",
     "output_type": "stream",
     "text": [
      "OrderedDict({'rz': 217, 'sx': 128, 'ecr': 58, 'x': 14, 'measure': 5})\n",
      "OrderedDict({'rz': 190, 'sx': 118, 'ecr': 56, 'x': 12, 'measure': 5})\n"
     ]
    }
   ],
   "source": [
    "print(tqc_zz.count_ops())\n",
    "print(tqc.count_ops())"
   ]
  },
  {
   "cell_type": "code",
   "execution_count": 35,
   "id": "0af93f50-2849-41ee-bd48-b1e8d40edb10",
   "metadata": {},
   "outputs": [
    {
     "data": {
      "text/plain": [
       "6046"
      ]
     },
     "execution_count": 35,
     "metadata": {},
     "output_type": "execute_result"
    }
   ],
   "source": [
    "result_noisy_zz = simulate_circuit_with_noisy_simulator(tqc_zz, sim_noisy, seed_simulator, correct_answer)\n",
    "result_noisy_zz"
   ]
  },
  {
   "cell_type": "markdown",
   "id": "b7e28ce5-3656-475f-be19-995c3ae2b388",
   "metadata": {},
   "source": [
    "## Analyze adding rzz to delay operation"
   ]
  },
  {
   "cell_type": "code",
   "execution_count": 36,
   "id": "e463a8a5-224f-4764-8c07-1c4f08504c88",
   "metadata": {},
   "outputs": [],
   "source": [
    "from qiskit.circuit import Qubit, QuantumRegister, Instruction, Parameter\n",
    "import qiskit.quantum_info as qi\n",
    "import numpy as np\n"
   ]
  },
  {
   "cell_type": "code",
   "execution_count": 37,
   "id": "3f6fe322-1cf1-4caa-9d51-14ac9cf34c4a",
   "metadata": {},
   "outputs": [],
   "source": [
    "tqc_rzz = replace_delay_with_rzz(tqc, backend, False, 1.5)"
   ]
  },
  {
   "cell_type": "code",
   "execution_count": 38,
   "id": "6180f9b2-fe32-4eea-9e3d-511f753bcd61",
   "metadata": {},
   "outputs": [
    {
     "name": "stdout",
     "output_type": "stream",
     "text": [
      "OrderedDict({'rz': 190, 'sx': 118, 'unitary': 64, 'ecr': 56, 'x': 12, 'measure': 5})\n",
      "OrderedDict({'rz': 190, 'sx': 118, 'ecr': 56, 'x': 12, 'measure': 5})\n"
     ]
    }
   ],
   "source": [
    "print(tqc_rzz.count_ops())\n",
    "print(tqc.count_ops())"
   ]
  },
  {
   "cell_type": "code",
   "execution_count": 39,
   "id": "124a0ce1-aae8-451f-abe2-129be3524632",
   "metadata": {},
   "outputs": [],
   "source": [
    "#tqc_rzz.draw(\"mpl\", idle_wires=False)"
   ]
  },
  {
   "cell_type": "code",
   "execution_count": 40,
   "id": "89bf6809-31dc-464c-a82e-f4cfc8bae6bc",
   "metadata": {},
   "outputs": [],
   "source": [
    "# This code is to add instruction to the simulator\n",
    "#from qiskit.transpiler import Target, InstructionProperties\n",
    "#rzz_prop = {}\n",
    "\n",
    "#edges = backend.coupling_map.get_edges()\n",
    "\n",
    "#for e in edges:\n",
    "#    rzz_prop[e] = InstructionProperties(duration=0, error=0)\n",
    "\n",
    "#sim_noisy_rzz = deepcopy(sim_noisy)\n",
    "#sim_noisy_rzz.target.add_instruction(Instruction(\"unitary\", 2, 0, []), rzz_prop)\n",
    "\n",
    "#list_name = []\n",
    "#for i in sim_noisy_rzz.instructions:\n",
    "#    list_name.append(i[0].name)\n",
    "    #if i[0].name == \"unitary\":\n",
    "    #    print(i)\n",
    "    \n",
    "#list_name_unique = list(set(list_name))\n",
    "#list_name_unique"
   ]
  },
  {
   "cell_type": "code",
   "execution_count": 41,
   "id": "85e426b2-45fc-497e-8a84-f1eb61583b65",
   "metadata": {},
   "outputs": [
    {
     "data": {
      "text/plain": [
       "972"
      ]
     },
     "execution_count": 41,
     "metadata": {},
     "output_type": "execute_result"
    }
   ],
   "source": [
    "# run with backend noisy simulator (wd = with delay)\n",
    "result_noisy_rzz = sim_noisy.run(tqc_rzz, shots=shots, seed_simulator=seed_simulator).result().get_counts()\n",
    "result_noisy_rzz[correct_answer]"
   ]
  },
  {
   "cell_type": "code",
   "execution_count": 42,
   "id": "ae545cf6-5934-419d-a9b4-3911d1c51401",
   "metadata": {},
   "outputs": [
    {
     "data": {
      "text/plain": [
       "1060"
      ]
     },
     "execution_count": 42,
     "metadata": {},
     "output_type": "execute_result"
    }
   ],
   "source": [
    "# for result running with thermal error from backend properties\n",
    "result_thermal_rzz = sim_noisy_thermal.run(tqc_rzz, shots=shots, seed_simulator=seed_simulator).result().get_counts()\n",
    "result_thermal_rzz[correct_answer]"
   ]
  },
  {
   "cell_type": "markdown",
   "id": "b85680df-c17b-4922-a8f4-bff8aed9c197",
   "metadata": {},
   "source": [
    "### Apply dd to reduce delay"
   ]
  },
  {
   "cell_type": "code",
   "execution_count": 43,
   "id": "608d8066-163b-42a0-838e-e3582d99264d",
   "metadata": {},
   "outputs": [],
   "source": [
    "from qiskit.circuit.library import XGate, YGate, ZGate, RZGate\n",
    "from qiskit.transpiler.passes import ALAPScheduleAnalysis, ASAPScheduleAnalysis, PadDynamicalDecoupling"
   ]
  },
  {
   "cell_type": "code",
   "execution_count": 44,
   "id": "07ebad43-dfca-48a2-923f-4f997ca9b166",
   "metadata": {},
   "outputs": [],
   "source": [
    "tqc_dd = apply_dd(tqc, backend, \"XX\", \"alap\")\n",
    "#tqc_rzz_dd = apply_dd(tqc_rzz, sim_noisy_rzz, \"XX\", \"alap\") # this one doesn't work as it multiplies the delay\n",
    "#tqc_dd.draw(\"mpl\", idle_wires=False)"
   ]
  },
  {
   "cell_type": "code",
   "execution_count": 45,
   "id": "c2475bf6-8ca5-45a4-ae63-934a88074e37",
   "metadata": {},
   "outputs": [
    {
     "name": "stdout",
     "output_type": "stream",
     "text": [
      "{55: 105472, 67: 89024, 68: 14208, 69: 77792, 70: 124480}\n",
      "{55: 110080, 67: 94144, 68: 15232, 69: 81376, 70: 126528}\n"
     ]
    }
   ],
   "source": [
    "print(count_delay_durations(tqc_dd))\n",
    "#print(count_delay_durations(tqc_rzz))\n",
    "#print(count_delay_durations(tqc_rzz_dd))\n",
    "print(count_delay_durations(tqc_delay))"
   ]
  },
  {
   "cell_type": "code",
   "execution_count": 47,
   "id": "03800903-223e-4219-bd59-55d8dfbeaa1a",
   "metadata": {},
   "outputs": [
    {
     "data": {
      "text/plain": [
       "5054"
      ]
     },
     "execution_count": 47,
     "metadata": {},
     "output_type": "execute_result"
    }
   ],
   "source": [
    "# run with backend noisy simulator (wd = with delay)\n",
    "result_noisy_dd = sim_noisy.run(tqc_dd, shots=shots, seed_simulator=seed_simulator).result().get_counts()\n",
    "result_noisy_dd[correct_answer]"
   ]
  },
  {
   "cell_type": "code",
   "execution_count": 48,
   "id": "404bfcc3-9cc8-4851-9e59-e8afaf1dc130",
   "metadata": {},
   "outputs": [],
   "source": [
    "tqc_dd_rzz = replace_delay_with_rzz(tqc_dd, backend)"
   ]
  },
  {
   "cell_type": "code",
   "execution_count": 49,
   "id": "0de4dcc4-b05a-4947-b562-aa2201d1a19c",
   "metadata": {},
   "outputs": [
    {
     "name": "stdout",
     "output_type": "stream",
     "text": [
      "OrderedDict({'rz': 190, 'sx': 118, 'ecr': 56, 'x': 12, 'measure': 5})\n",
      "OrderedDict({'rz': 190, 'sx': 118, 'unitary': 64, 'ecr': 56, 'x': 12, 'measure': 5})\n",
      "OrderedDict({'delay': 235, 'rz': 190, 'sx': 118, 'x': 76, 'ecr': 56, 'measure': 5})\n",
      "OrderedDict({'rz': 190, 'unitary': 138, 'sx': 118, 'x': 76, 'ecr': 56, 'measure': 5})\n"
     ]
    }
   ],
   "source": [
    "print(tqc.count_ops())\n",
    "print(tqc_rzz.count_ops())\n",
    "print(tqc_dd.count_ops())\n",
    "print(tqc_dd_rzz.count_ops())"
   ]
  },
  {
   "cell_type": "code",
   "execution_count": 50,
   "id": "e6ab7d7c-f314-4f38-bcdf-02bdcd6f1dbd",
   "metadata": {},
   "outputs": [
    {
     "data": {
      "text/plain": [
       "6450"
      ]
     },
     "execution_count": 50,
     "metadata": {},
     "output_type": "execute_result"
    }
   ],
   "source": [
    "# run with backend noisy simulator (wd = with delay)\n",
    "#tmp_circ = transpile(tqc_dd_rzz, optimization_level=0, backend=backend) # transpile to basis gate\n",
    "result_noisy_dd_rzz = sim_noisy.run(tqc_dd_rzz, shots=10000, seed_simulator=seed_simulator).result().get_counts()\n",
    "result_noisy_dd_rzz[correct_answer]"
   ]
  },
  {
   "cell_type": "code",
   "execution_count": 51,
   "id": "8bc7ee60-c42c-48ca-8e53-53b1375f0295",
   "metadata": {},
   "outputs": [
    {
     "data": {
      "text/plain": [
       "{'acquire_alignment': 16,\n",
       " 'granularity': 16,\n",
       " 'min_length': 64,\n",
       " 'pulse_alignment': 16}"
      ]
     },
     "execution_count": 51,
     "metadata": {},
     "output_type": "execute_result"
    }
   ],
   "source": [
    "backend.configuration().timing_constraints"
   ]
  },
  {
   "cell_type": "code",
   "execution_count": 52,
   "id": "f898228b-4c3c-4367-a069-ecc100afa53a",
   "metadata": {},
   "outputs": [
    {
     "data": {
      "text/plain": [
       "['ecr', 'id', 'rz', 'sx', 'x', 'rzz']"
      ]
     },
     "execution_count": 52,
     "metadata": {},
     "output_type": "execute_result"
    }
   ],
   "source": [
    "basis_gates = deepcopy(backend.configuration().basis_gates)\n",
    "basis_gates.append(\"rzz\")\n",
    "basis_gates"
   ]
  },
  {
   "cell_type": "code",
   "execution_count": 53,
   "id": "fd5650ed-6737-4a7f-925f-801e89e3a3f6",
   "metadata": {},
   "outputs": [],
   "source": [
    "from qiskit.transpiler import PassManager\n",
    "from qiskit.transpiler.passes import ALAPSchedule, Optimize1qGatesDecomposition\n",
    "\n",
    "pm_1q_opt = PassManager(\n",
    "        #Optimize1qGatesDecomposition(backend.configuration().basis_gates)\n",
    "        Optimize1qGatesDecomposition(basis_gates)\n",
    "    )"
   ]
  },
  {
   "cell_type": "markdown",
   "id": "8f1ca561-cb2c-41eb-a999-e9e713754549",
   "metadata": {},
   "source": [
    "# Combine Everything"
   ]
  },
  {
   "cell_type": "code",
   "execution_count": 56,
   "id": "45aed4f7-e0be-4572-a15d-ba72a5eacf88",
   "metadata": {},
   "outputs": [
    {
     "name": "stdout",
     "output_type": "stream",
     "text": [
      "Connecting to quantum service...\n",
      "Saving IBM Account...\n",
      "Retrieving the real backend information of ibm_kyiv...\n",
      "./circuits/calibration/\n",
      "['./circuits/calibration/OR_5.qasm', './circuits/calibration/hs4.qasm', './circuits/calibration/AND_5.qasm', './circuits/calibration/bv4.qasm', './circuits/calibration/adder_n4.qasm', './circuits/calibration/fredkin.qasm', './circuits/calibration/toffoli_n3.qasm']\n"
     ]
    }
   ],
   "source": [
    "# prepare the circuit\n",
    "token = \"476ea8c61cc54f36e4a21d70a8442f94203c9d87096eaad0886a3e8154d8c2e79bcad6f927c6050a76335dd68d783f478c1b828504748a4377b441c335c831aa\"\n",
    "q = QEM(runs=conf.runs, user_id=conf.user_id, token=token, skip_db=True)\n",
    "\n",
    "qasm_files = q.get_qasm_files_from_path(\"./circuits/calibration/\")\n",
    "print(qasm_files)\n",
    "\n",
    "pm = generate_preset_pass_manager(\n",
    "    optimization_level=3, backend=backend\n",
    ")"
   ]
  },
  {
   "cell_type": "code",
   "execution_count": 57,
   "id": "80471ace-650d-4626-b947-68e7b646a50b",
   "metadata": {},
   "outputs": [],
   "source": [
    "pqc = q.get_circuit_properties(qasm_source=qasm_files[0])\n",
    "pqc.circuit.draw(\"mpl\", idle_wires=False, fold=-1)\n",
    "qc = pqc.circuit"
   ]
  },
  {
   "cell_type": "code",
   "execution_count": 58,
   "id": "45058c3c-c540-4c75-bad6-60e831caa052",
   "metadata": {},
   "outputs": [],
   "source": [
    "from random import randint"
   ]
  },
  {
   "cell_type": "code",
   "execution_count": 59,
   "id": "002f13fd-3d9c-4464-9a95-c660edc8d2b3",
   "metadata": {},
   "outputs": [],
   "source": [
    "def simulate_circuit_idle_noise(qc, backend, shots):\n",
    "    sim_ideal = AerSimulator()\n",
    "    sim_noisy = AerSimulator.from_backend(backend)\n",
    "\n",
    "    seed_simulator = randint(1, 9999999)\n",
    "    \n",
    "    # for result running with ideal simulator (no noise)\n",
    "    result_ideal = sim_ideal.run(qc, shots=shots, seed_simulator=seed_simulator).result().get_counts()\n",
    "    correct_answer = list(result_ideal.keys())[0]\n",
    "    \n",
    "    tqc = pm.run(qc)\n",
    "    tqc_rzz = replace_delay_with_rzz(tqc, backend, False)\n",
    "\n",
    "    result_noisy = sim_noisy.run(tqc, shots=shots, seed_simulator=seed_simulator).result().get_counts()\n",
    "    \n",
    "    result_noisy_rzz = sim_noisy.run(tqc_rzz, shots=shots, seed_simulator=seed_simulator).result().get_counts()\n",
    "    #print(\"Normal:\", result_noisy[correct_answer])\n",
    "    \n",
    "    tqc_dd = apply_dd(tqc, backend, \"XX\", \"alap\")\n",
    "    tqc_dd_rzz = replace_delay_with_rzz(tqc_dd, backend)\n",
    "    \n",
    "    result_noisy_dd = sim_noisy.run(tqc_dd_rzz, shots=shots, seed_simulator=seed_simulator).result().get_counts()\n",
    "    #print(\"with DD:\", result_noisy_dd[correct_answer])\n",
    "\n",
    "    return result_noisy[correct_answer]/shots, result_noisy_rzz[correct_answer]/shots, result_noisy_dd[correct_answer]/shots"
   ]
  },
  {
   "cell_type": "code",
   "execution_count": 60,
   "id": "6587e53f-14b5-4321-ae0b-4992cf637152",
   "metadata": {},
   "outputs": [
    {
     "data": {
      "text/plain": [
       "(0.6693, 0.2623, 0.6532)"
      ]
     },
     "execution_count": 60,
     "metadata": {},
     "output_type": "execute_result"
    }
   ],
   "source": [
    "simulate_circuit_idle_noise(qc, backend, 10000)"
   ]
  },
  {
   "cell_type": "code",
   "execution_count": 68,
   "id": "32ecbc57-b77f-4fd8-8586-f8691776fc60",
   "metadata": {},
   "outputs": [],
   "source": [
    "list_circuit_name = []\n",
    "list_backend = []\n",
    "list_compilation = []\n",
    "list_result = []\n",
    "\n",
    "shots = 10000\n",
    "\n",
    "for idx in range(2):\n",
    "    for qasm_str in qasm_files:\n",
    "        pqc = q.get_circuit_properties(qasm_source=qasm_str)\n",
    "        qc = pqc.circuit\n",
    "    \n",
    "        result = simulate_circuit_idle_noise(qc, backend, shots)\n",
    "    \n",
    "        #print(f\"{pqc.name} => Without DD:{result[0]}, with DD: {result[1]} \")\n",
    "    \n",
    "        list_circuit_name.append(pqc.name)\n",
    "        list_backend.append(backend.name)\n",
    "        list_compilation.append(\"Q-3\")\n",
    "        list_result.append(result[0])\n",
    "\n",
    "        list_circuit_name.append(pqc.name)\n",
    "        list_backend.append(backend.name)\n",
    "        list_compilation.append(\"Q-3-rzz\")\n",
    "        list_result.append(result[1])\n",
    "        \n",
    "        list_circuit_name.append(pqc.name)\n",
    "        list_backend.append(backend.name)\n",
    "        list_compilation.append(\"Q-3-XpXm\")\n",
    "        list_result.append(result[2])"
   ]
  },
  {
   "cell_type": "code",
   "execution_count": 69,
   "id": "42180bc5-4219-45fa-9ebe-cc0247993c8b",
   "metadata": {},
   "outputs": [],
   "source": [
    "import pandas as pd\n",
    "df = pd.DataFrame({\n",
    "    'circuit_name': list_circuit_name,\n",
    "    'hw_name': list_backend,\n",
    "    'compilation_name': list_compilation,\n",
    "    'tvd': list_result,\n",
    "    })"
   ]
  },
  {
   "cell_type": "code",
   "execution_count": 81,
   "id": "7bb3b7bf-08b1-4d84-914f-90ad8b1c12e6",
   "metadata": {},
   "outputs": [],
   "source": [
    "def show_summary_bar_lines(df, opts, legends, circuits, ylim, ylabel, figsize=(12,5), \n",
    "                           width = 0.08, show_legend = True, legend_position = None, color_idx_add = 0,\n",
    "                          file_name=\"\", xlabel = None):\n",
    "    fig, ax = plt.subplots(figsize=figsize)\n",
    "    width = width\n",
    "    x = np.arange(len(circuits))\n",
    "    \n",
    "    for i, opt in enumerate(opts):\n",
    "        if i == 0:\n",
    "            color_idx_add = 0\n",
    "        else:\n",
    "            color_idx_add = 0\n",
    "            \n",
    "        opt_data = df[df['compilation_name'] == opt]\n",
    "        # print(opt)\n",
    "        # print(opt_data)\n",
    "        # print(CB_color_cycle[i + color_idx_add], i + color_idx_add)\n",
    "        rects = ax.bar(x + i * width, opt_data['mean'], yerr=opt_data['std'], \n",
    "                       color=CB_color_cycle[i + color_idx_add], \n",
    "                       label=opt, width=width, capsize=2)\n",
    "    \n",
    "    ax.set_ylabel(ylabel)\n",
    "    # ax.set_title('Mean Success rate with STD by Circuit and Opt')\n",
    "    ax.set_xticks(x + width * (len(opts) - 1) / 2)\n",
    "    ax.set_xticklabels(circuits)\n",
    "    ax.grid(axis='y')\n",
    "    if show_legend:\n",
    "        if legend_position == None:\n",
    "            ax.legend(legends, bbox_to_anchor=(1.01, 1))\n",
    "        else:\n",
    "            ax.legend(legends, loc = legend_position)\n",
    "    else:\n",
    "        ax.legend([])\n",
    "    # ax.legend()\n",
    "\n",
    "    if xlabel:\n",
    "        plt.xlabel(xlabel)\n",
    "        \n",
    "    plt.ylim(ylim)\n",
    "    plt.tight_layout()\n",
    "    plt.savefig(\"./output/{}.png\".format(file_name), dpi=700)\n",
    "    plt.show()"
   ]
  },
  {
   "cell_type": "code",
   "execution_count": 82,
   "id": "ed63dc01-513a-4c2f-8f54-225ec3dcf049",
   "metadata": {},
   "outputs": [
    {
     "data": {
      "text/html": [
       "<div>\n",
       "<style scoped>\n",
       "    .dataframe tbody tr th:only-of-type {\n",
       "        vertical-align: middle;\n",
       "    }\n",
       "\n",
       "    .dataframe tbody tr th {\n",
       "        vertical-align: top;\n",
       "    }\n",
       "\n",
       "    .dataframe thead th {\n",
       "        text-align: right;\n",
       "    }\n",
       "</style>\n",
       "<table border=\"1\" class=\"dataframe\">\n",
       "  <thead>\n",
       "    <tr style=\"text-align: right;\">\n",
       "      <th></th>\n",
       "      <th>circuit_name</th>\n",
       "      <th>hw_name</th>\n",
       "      <th>compilation_name</th>\n",
       "      <th>tvd</th>\n",
       "    </tr>\n",
       "  </thead>\n",
       "  <tbody>\n",
       "    <tr>\n",
       "      <th>0</th>\n",
       "      <td>OR_5</td>\n",
       "      <td>ibm_sherbrooke</td>\n",
       "      <td>Q-3</td>\n",
       "      <td>0.6771</td>\n",
       "    </tr>\n",
       "    <tr>\n",
       "      <th>1</th>\n",
       "      <td>OR_5</td>\n",
       "      <td>ibm_sherbrooke</td>\n",
       "      <td>Q-3-rzz</td>\n",
       "      <td>0.3162</td>\n",
       "    </tr>\n",
       "    <tr>\n",
       "      <th>2</th>\n",
       "      <td>OR_5</td>\n",
       "      <td>ibm_sherbrooke</td>\n",
       "      <td>Q-3-XpXm</td>\n",
       "      <td>0.6583</td>\n",
       "    </tr>\n",
       "    <tr>\n",
       "      <th>3</th>\n",
       "      <td>hs4</td>\n",
       "      <td>ibm_sherbrooke</td>\n",
       "      <td>Q-3</td>\n",
       "      <td>0.9523</td>\n",
       "    </tr>\n",
       "    <tr>\n",
       "      <th>4</th>\n",
       "      <td>hs4</td>\n",
       "      <td>ibm_sherbrooke</td>\n",
       "      <td>Q-3-rzz</td>\n",
       "      <td>0.9523</td>\n",
       "    </tr>\n",
       "  </tbody>\n",
       "</table>\n",
       "</div>"
      ],
      "text/plain": [
       "  circuit_name         hw_name compilation_name     tvd\n",
       "0         OR_5  ibm_sherbrooke              Q-3  0.6771\n",
       "1         OR_5  ibm_sherbrooke          Q-3-rzz  0.3162\n",
       "2         OR_5  ibm_sherbrooke         Q-3-XpXm  0.6583\n",
       "3          hs4  ibm_sherbrooke              Q-3  0.9523\n",
       "4          hs4  ibm_sherbrooke          Q-3-rzz  0.9523"
      ]
     },
     "execution_count": 82,
     "metadata": {},
     "output_type": "execute_result"
    }
   ],
   "source": [
    "df.head()"
   ]
  },
  {
   "cell_type": "code",
   "execution_count": 83,
   "id": "624f8114-1378-44a6-8123-10100dd1d76a",
   "metadata": {},
   "outputs": [
    {
     "data": {
      "image/png": "[encoded data removed]",
      "text/plain": [
       "<Figure size 800x500 with 1 Axes>"
      ]
     },
     "metadata": {},
     "output_type": "display_data"
    }
   ],
   "source": [
    "df_summary = df.groupby(['circuit_name', 'compilation_name'])['tvd'].agg(['mean', 'std']).reset_index()\n",
    "\n",
    "circuits = df_summary['circuit_name'].unique()\n",
    "\n",
    "opts = ['Q-3', 'Q-3-rzz', 'Q-3-XpXm'\n",
    "       ]\n",
    "legends = [\"Qiskit-3\", \"Qiskit-3 RZZ\", \"Qiskit-3 with XpXm\"\n",
    "          ]\n",
    "\n",
    "show_summary_bar_lines(df_summary, opts, legends, circuits, [0,1], \"Mean fidelity\", (8,5), \n",
    "                       width=0.2, file_name=\"simulate_idle_error\", xlabel=\"Circuit name\")"
   ]
  },
  {
   "cell_type": "code",
   "execution_count": null,
   "id": "d6a2bdbe-4552-4b04-984d-e41445570e58",
   "metadata": {},
   "outputs": [],
   "source": []
  },
  {
   "cell_type": "code",
   "execution_count": null,
   "id": "f2d92dc1-de20-4d1a-9781-c682bc730082",
   "metadata": {},
   "outputs": [],
   "source": []
  }
 ],
 "metadata": {
  "kernelspec": {
   "display_name": "Python 3 (ipykernel)",
   "language": "python",
   "name": "python3"
  },
  "language_info": {
   "codemirror_mode": {
    "name": "ipython",
    "version": 3
   },
   "file_extension": ".py",
   "mimetype": "text/x-python",
   "name": "python",
   "nbconvert_exporter": "python",
   "pygments_lexer": "ipython3",
   "version": "3.13.2"
  }
 },
 "nbformat": 4,
 "nbformat_minor": 5
}
