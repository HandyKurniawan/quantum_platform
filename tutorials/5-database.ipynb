{
 "cells": [
  {
   "cell_type": "markdown",
   "metadata": {},
   "source": [
    "# 4. Database\n",
    "\n",
    "MySQL is a relational database management system (RDBMS) developed by Oracle that is based on structured query language (SQL). A database is a structured collection of data.\n",
    "\n",
    "See this [tutorial](https://www.w3schools.com/MySQL/default.asp) for more information.\n",
    "\n",
    "![screen](../img/framework_err.png)\n",
    "\n",
    "Note: To continue with this tutorial, you should already install and setup the database. If you haven't done it, please see the instruction at the root of this project."
   ]
  },
  {
   "cell_type": "markdown",
   "metadata": {
    "vscode": {
     "languageId": "plaintext"
    }
   },
   "source": [
    "## Setup\n",
    "\n",
    "We need to install the `mysql-connector-python` package to access the database through python. For detail documentation you can see [here](https://dev.mysql.com/doc/connector-python/en/). \n",
    "\n",
    "```terminal\n",
    "pip install mysql-connector-python\n",
    "```\n",
    "\n",
    "Once installed, you can import the package with the command `import mysql.connector`"
   ]
  },
  {
   "cell_type": "code",
   "execution_count": 1,
   "metadata": {},
   "outputs": [],
   "source": [
    "import mysql.connector"
   ]
  },
  {
   "cell_type": "markdown",
   "metadata": {},
   "source": [
    "Now, we need to setup the connection config to our database.\n"
   ]
  },
  {
   "cell_type": "code",
   "execution_count": 2,
   "metadata": {},
   "outputs": [],
   "source": [
    "# MySQL connection parameters\n",
    "mysql_config = {\n",
    "    'user': 'user_1',\n",
    "    'password': '1234',\n",
    "    'host': 'localhost',\n",
    "    'database': 'framework'\n",
    "}"
   ]
  },
  {
   "cell_type": "markdown",
   "metadata": {},
   "source": [
    "Then, we can open the connection to the database. \n",
    "\n",
    "```python\n",
    "conn = mysql.connector.connect(**mysql_config) # Opening the connection\n",
    "cursor = conn.cursor()\n",
    "\n",
    "...\n",
    "# Do your database transaction here \n",
    "... \n",
    "\n",
    "cursor.close() # close the cursor object\n",
    "conn.close() # close the connection object\n",
    "```\n",
    "\n",
    "At the end, we need to close the connection of the cursor and the conn object.\n",
    "\n",
    "\n"
   ]
  },
  {
   "cell_type": "markdown",
   "metadata": {},
   "source": [
    "## Playing with the database\n",
    "\n",
    "Now, you are ready to play with the database where you can query, add, update, and delete the data.\n",
    "\n",
    "Note: If you are unfamiliar with SQL language, please see this [W3School's tutorial](https://www.w3schools.com/MySQL/default.asp)"
   ]
  },
  {
   "cell_type": "markdown",
   "metadata": {},
   "source": [
    "### Getting the data from the database\n",
    "\n",
    "For example, we want to query the list of active hardware exists for our platform with IBM as the provider."
   ]
  },
  {
   "cell_type": "code",
   "execution_count": 24,
   "metadata": {},
   "outputs": [
    {
     "name": "stdout",
     "output_type": "stream",
     "text": [
      "('ibmq_kolkata', 27, 'cx')\n",
      "('ibmq_mumbai', 27, 'cx')\n",
      "('ibm_algiers', 27, 'cx')\n",
      "('ibm_brisbane', 127, 'ecr')\n",
      "('ibm_cairo', 27, 'cx')\n",
      "('ibm_cusco', 127, 'ecr')\n",
      "('ibm_hanoi', 27, 'cx')\n",
      "('ibm_kawasaki', 127, 'ecr')\n",
      "('ibm_kyiv', 127, 'cx')\n",
      "('ibm_kyoto', 127, 'ecr')\n",
      "('ibm_nazca', 127, 'ecr')\n",
      "('ibm_osaka', 127, 'ecr')\n",
      "('ibm_peekskill', 27, 'cx')\n",
      "('ibm_quebec', 127, 'ecr')\n",
      "('ibm_sherbrooke', 127, 'ecr')\n"
     ]
    }
   ],
   "source": [
    "# Connect to the MySQL database\n",
    "conn = mysql.connector.connect(**mysql_config)\n",
    "cursor = conn.cursor()\n",
    "\n",
    "sql = \"\"\"\n",
    "SELECT hw_name, number_of_qubit, 2q_native_gates FROM hardware WHERE hw_provider = %s and status != 'deactivated';\n",
    "\"\"\"\n",
    "\n",
    "parameters = (\"IBM\",) # parameters file should be a list type\n",
    "\n",
    "cursor.execute(sql, parameters)\n",
    "\n",
    "results = cursor.fetchall()\n",
    "\n",
    "for res in results:\n",
    "    print(res)\n",
    "\n",
    "cursor.close()\n",
    "conn.close()"
   ]
  },
  {
   "cell_type": "markdown",
   "metadata": {},
   "source": [
    "## Implementation in our Platform\n",
    "\n",
    "The database is used in many aspects for our platform.\n",
    "- save the hardware information where we used them for our noise-aware compilation technique\n",
    "- save the circuits have been used in our experiment\n",
    "- save the compilation techniques used in our experiment\n",
    "- save the results of our experiments (quantum result, classical result and evaluation metrics)"
   ]
  },
  {
   "cell_type": "markdown",
   "metadata": {},
   "source": [
    "### Getting the hardware information (calibration data) from IBM \n",
    "\n",
    "This command is to retrieve calibration data from IBM. For example, here is the JSON file generated for `ibm_sherbrooke`. The JSON file contains all the information related to the hardware.\n"
   ]
  },
  {
   "cell_type": "code",
   "execution_count": 14,
   "metadata": {},
   "outputs": [
    {
     "name": "stdout",
     "output_type": "stream",
     "text": [
      "ibm_sherbrooke\n"
     ]
    }
   ],
   "source": [
    "import requests\n",
    "json_url = \"https://api-qcon.quantum-computing.ibm.com/api/Backends/ibm_sherbrooke/properties\"\n",
    "response = requests.get(json_url)\n",
    "print(response.json()[\"backend_name\"])"
   ]
  },
  {
   "cell_type": "markdown",
   "metadata": {},
   "source": [
    "For more detail, you can see the [python script](retrieve_calibration_data.py) where it retrieve all the hardware information that are listed in the hardware table."
   ]
  },
  {
   "cell_type": "markdown",
   "metadata": {},
   "source": [
    "These are the data that you will get after processing and put them into data frame"
   ]
  },
  {
   "cell_type": "code",
   "execution_count": 30,
   "metadata": {},
   "outputs": [],
   "source": [
    "import pandas as pd\n",
    "\n",
    "# Connect to the MySQL database\n",
    "conn = mysql.connector.connect(**mysql_config)\n",
    "cursor = conn.cursor()\n",
    "\n",
    "sql = \"\"\"\n",
    "SELECT calibration_id, qubit, id_error, reset_error, sx_error, x_error \n",
    "FROM ibm_one_qubit_gate_spec WHERE calibration_id = %s;\n",
    "\"\"\"\n",
    "\n",
    " # insert to circuit\n",
    "cursor.execute(sql, (36535,))\n",
    "\n",
    "results = cursor.fetchall()\n",
    "\n",
    "calibration_id = []\n",
    "qubit = []\n",
    "id_error = []\n",
    "reset_error = []\n",
    "sx_error = []\n",
    "x_error = []\n",
    "\n",
    "\n",
    "for res in results:\n",
    "    _calibration_id, _qubit, _id_error , _reset_error, _sx_error, _x_error = res\n",
    "\n",
    "    calibration_id.append(_calibration_id)\n",
    "    qubit.append(_qubit)\n",
    "    id_error.append(float(_id_error))\n",
    "    reset_error.append(float(_reset_error))\n",
    "    sx_error.append(float(_sx_error))\n",
    "    x_error.append(float(_x_error))\n",
    "\n",
    "cursor.close()\n",
    "conn.close()\n",
    "\n",
    "df = pd.DataFrame({\n",
    "    'calibration_id': calibration_id,\n",
    "    'qubit': qubit,\n",
    "    'id_error': id_error,\n",
    "    'reset_error': reset_error,\n",
    "    'sx_error': sx_error,\n",
    "    'x_error': x_error\n",
    "    })"
   ]
  },
  {
   "cell_type": "code",
   "execution_count": 33,
   "metadata": {},
   "outputs": [
    {
     "data": {
      "text/html": [
       "<div>\n",
       "<style scoped>\n",
       "    .dataframe tbody tr th:only-of-type {\n",
       "        vertical-align: middle;\n",
       "    }\n",
       "\n",
       "    .dataframe tbody tr th {\n",
       "        vertical-align: top;\n",
       "    }\n",
       "\n",
       "    .dataframe thead th {\n",
       "        text-align: right;\n",
       "    }\n",
       "</style>\n",
       "<table border=\"1\" class=\"dataframe\">\n",
       "  <thead>\n",
       "    <tr style=\"text-align: right;\">\n",
       "      <th></th>\n",
       "      <th>calibration_id</th>\n",
       "      <th>qubit</th>\n",
       "      <th>id_error</th>\n",
       "      <th>reset_error</th>\n",
       "      <th>sx_error</th>\n",
       "      <th>x_error</th>\n",
       "    </tr>\n",
       "  </thead>\n",
       "  <tbody>\n",
       "    <tr>\n",
       "      <th>0</th>\n",
       "      <td>36535</td>\n",
       "      <td>0</td>\n",
       "      <td>0.000145</td>\n",
       "      <td>0.0</td>\n",
       "      <td>0.000145</td>\n",
       "      <td>0.000145</td>\n",
       "    </tr>\n",
       "    <tr>\n",
       "      <th>1</th>\n",
       "      <td>36535</td>\n",
       "      <td>1</td>\n",
       "      <td>0.000126</td>\n",
       "      <td>0.0</td>\n",
       "      <td>0.000126</td>\n",
       "      <td>0.000126</td>\n",
       "    </tr>\n",
       "    <tr>\n",
       "      <th>2</th>\n",
       "      <td>36535</td>\n",
       "      <td>2</td>\n",
       "      <td>0.000148</td>\n",
       "      <td>0.0</td>\n",
       "      <td>0.000148</td>\n",
       "      <td>0.000148</td>\n",
       "    </tr>\n",
       "    <tr>\n",
       "      <th>3</th>\n",
       "      <td>36535</td>\n",
       "      <td>3</td>\n",
       "      <td>0.000472</td>\n",
       "      <td>0.0</td>\n",
       "      <td>0.000472</td>\n",
       "      <td>0.000472</td>\n",
       "    </tr>\n",
       "    <tr>\n",
       "      <th>4</th>\n",
       "      <td>36535</td>\n",
       "      <td>4</td>\n",
       "      <td>0.000834</td>\n",
       "      <td>0.0</td>\n",
       "      <td>0.000834</td>\n",
       "      <td>0.000834</td>\n",
       "    </tr>\n",
       "    <tr>\n",
       "      <th>...</th>\n",
       "      <td>...</td>\n",
       "      <td>...</td>\n",
       "      <td>...</td>\n",
       "      <td>...</td>\n",
       "      <td>...</td>\n",
       "      <td>...</td>\n",
       "    </tr>\n",
       "    <tr>\n",
       "      <th>122</th>\n",
       "      <td>36535</td>\n",
       "      <td>122</td>\n",
       "      <td>0.000264</td>\n",
       "      <td>0.0</td>\n",
       "      <td>0.000264</td>\n",
       "      <td>0.000264</td>\n",
       "    </tr>\n",
       "    <tr>\n",
       "      <th>123</th>\n",
       "      <td>36535</td>\n",
       "      <td>123</td>\n",
       "      <td>0.000418</td>\n",
       "      <td>0.0</td>\n",
       "      <td>0.000418</td>\n",
       "      <td>0.000418</td>\n",
       "    </tr>\n",
       "    <tr>\n",
       "      <th>124</th>\n",
       "      <td>36535</td>\n",
       "      <td>124</td>\n",
       "      <td>0.001674</td>\n",
       "      <td>0.0</td>\n",
       "      <td>0.001674</td>\n",
       "      <td>0.001674</td>\n",
       "    </tr>\n",
       "    <tr>\n",
       "      <th>125</th>\n",
       "      <td>36535</td>\n",
       "      <td>125</td>\n",
       "      <td>0.001138</td>\n",
       "      <td>0.0</td>\n",
       "      <td>0.001138</td>\n",
       "      <td>0.001138</td>\n",
       "    </tr>\n",
       "    <tr>\n",
       "      <th>126</th>\n",
       "      <td>36535</td>\n",
       "      <td>126</td>\n",
       "      <td>0.000111</td>\n",
       "      <td>0.0</td>\n",
       "      <td>0.000111</td>\n",
       "      <td>0.000111</td>\n",
       "    </tr>\n",
       "  </tbody>\n",
       "</table>\n",
       "<p>127 rows × 6 columns</p>\n",
       "</div>"
      ],
      "text/plain": [
       "     calibration_id  qubit  id_error  reset_error  sx_error   x_error\n",
       "0             36535      0  0.000145          0.0  0.000145  0.000145\n",
       "1             36535      1  0.000126          0.0  0.000126  0.000126\n",
       "2             36535      2  0.000148          0.0  0.000148  0.000148\n",
       "3             36535      3  0.000472          0.0  0.000472  0.000472\n",
       "4             36535      4  0.000834          0.0  0.000834  0.000834\n",
       "..              ...    ...       ...          ...       ...       ...\n",
       "122           36535    122  0.000264          0.0  0.000264  0.000264\n",
       "123           36535    123  0.000418          0.0  0.000418  0.000418\n",
       "124           36535    124  0.001674          0.0  0.001674  0.001674\n",
       "125           36535    125  0.001138          0.0  0.001138  0.001138\n",
       "126           36535    126  0.000111          0.0  0.000111  0.000111\n",
       "\n",
       "[127 rows x 6 columns]"
      ]
     },
     "execution_count": 33,
     "metadata": {},
     "output_type": "execute_result"
    }
   ],
   "source": [
    "df"
   ]
  },
  {
   "cell_type": "code",
   "execution_count": null,
   "metadata": {},
   "outputs": [],
   "source": []
  }
 ],
 "metadata": {
  "kernelspec": {
   "display_name": "Python 3 (ipykernel)",
   "language": "python",
   "name": "python3"
  },
  "language_info": {
   "codemirror_mode": {
    "name": "ipython",
    "version": 3
   },
   "file_extension": ".py",
   "mimetype": "text/x-python",
   "name": "python",
   "nbconvert_exporter": "python",
   "pygments_lexer": "ipython3",
   "version": "3.10.12"
  }
 },
 "nbformat": 4,
 "nbformat_minor": 4
}
