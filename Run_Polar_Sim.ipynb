{
 "cells": [
  {
   "cell_type": "code",
   "execution_count": 1,
   "id": "c0a80a4f-3201-465b-ac34-e5a6818e694a",
   "metadata": {},
   "outputs": [],
   "source": [
    "import sys, glob, os\n",
    "from commons import convert_to_json, triq_optimization, qiskit_optimization, \\\n",
    "    calibration_type_enum, qiskit_compilation_enum, normalize_counts, calculate_success_rate_tvd, \\\n",
    "    convert_dict_binary_to_int, convert_dict_int_to_binary, sum_last_n_digits_dict\n",
    "import wrappers.qiskit_wrapper as qiskit_wrapper\n",
    "from wrappers.qiskit_wrapper import QiskitCircuit\n",
    "import pandas as pd\n",
    "import mthree\n",
    "import mapomatic as mm\n",
    "import mthree\n",
    "\n",
    "from qiskit.quantum_info import SparsePauliOp\n",
    "from qiskit import QuantumCircuit\n",
    "from qiskit.transpiler.preset_passmanagers import generate_preset_pass_manager\n",
    "from qiskit_ibm_runtime.options import SamplerOptions, EstimatorOptions, DynamicalDecouplingOptions, TwirlingOptions\n",
    "\n",
    "from qiskit_aer import AerSimulator, QasmSimulator, Aer\n",
    "from qiskit.qasm2 import dumps\n",
    "import matplotlib.pyplot as plt\n",
    "import numpy as np\n",
    "\n",
    "import mitiq\n",
    "from mitiq import zne, benchmarks\n",
    "\n",
    "from qEmQUIP import QEM, conf\n",
    "\n",
    "CB_color_cycle = ['#1F77B4', '#AEC7E8', '#FF7F0E', '#FFBB78', '#2CA02C', '#98DF8A', '#D62728', '#FF9896',\n",
    "                  '#9467BD', '#C5B0D5', '#8C564B', '#C49C94', '#E377C2', '#F7B6D2', '#7F7F7F', '#C7C7C7',\n",
    "                  '#BCBD22', '#DBDB8D', '#17BECF', '#9EDAE5'\n",
    "                  ]\n",
    "\n",
    "markers = ['o', 'v', '^', 's', '+', '*', 'x', 'd', '<', '>', 'p']\n",
    "linestyles = ['-', '--', '-.', ':', '-', '--', '-.', ':']\n",
    "token = \"476ea8c61cc54f36e4a21d70a8442f94203c9d87096eaad0886a3e8154d8c2e79bcad6f927c6050a76335dd68d783f478c1b828504748a4377b441c335c831aa\"\n",
    "\n",
    "# select compilation techniques\n",
    "compilations = [\"qiskit_3\", \"triq_avg_sabre\", \"triq_lcd_sabre\"]"
   ]
  },
  {
   "cell_type": "code",
   "execution_count": 2,
   "id": "684ea5a0-4fde-4fa7-a5a7-545462680975",
   "metadata": {},
   "outputs": [
    {
     "name": "stdout",
     "output_type": "stream",
     "text": [
      "Connecting to quantum service...\n",
      "Saving IBM Account...\n",
      "Retrieving the real backend information...\n",
      "Time for setup the services: 22.801740534996497 seconds\n"
     ]
    }
   ],
   "source": [
    "q = QEM(runs=conf.runs, user_id=conf.user_id, token=token, skip_db=True)"
   ]
  },
  {
   "cell_type": "code",
   "execution_count": 3,
   "id": "3a1e26f5-2f9d-4784-a383-26dc0e78af74",
   "metadata": {},
   "outputs": [
    {
     "name": "stdout",
     "output_type": "stream",
     "text": [
      "['./circuits/polar_sim/n4/polar_all_meas_n4.qasm', './circuits/polar_sim/n4/polar_all_meas_n4_x.qasm']\n",
      "Connecting to quantum service...\n",
      "Saving IBM Account...\n",
      "Retrieving the real backend information...\n",
      "Time for setup the services: 7.067022876988631 seconds\n"
     ]
    }
   ],
   "source": [
    "qasm_files = q.get_qasm_files_from_path(\"./circuits/polar_sim/n4/\")\n",
    "print(qasm_files)\n",
    "\n",
    "q = QEM(runs=conf.runs, user_id=conf.user_id, token=token, skip_db=False)\n"
   ]
  },
  {
   "cell_type": "code",
   "execution_count": 4,
   "id": "8ce7f182-2bad-4512-8f29-b93dc393f59b",
   "metadata": {},
   "outputs": [
    {
     "name": "stdout",
     "output_type": "stream",
     "text": [
      "Time for update hardware configs: 165.10653252599877 seconds\n",
      "Time for setup the backends: 0.00010798100265674293 seconds\n"
     ]
    }
   ],
   "source": [
    "q.update_hardware_configs()\n",
    "\n",
    "shots = 5000\n",
    "q.set_backend(program_type=\"sampler\", shots=shots)\n",
    "qiskit_wrapper.generate_new_props(q.backend, \"avg\")\n",
    "qiskit_wrapper.generate_new_props(q.backend, \"mix\")\n",
    "qiskit_wrapper.generate_new_props(q.backend, \"recent_15_adjust\")"
   ]
  },
  {
   "cell_type": "code",
   "execution_count": 5,
   "id": "8e1ffd03-6ddc-4990-a627-61eb8d1358ca",
   "metadata": {},
   "outputs": [
    {
     "name": "stdout",
     "output_type": "stream",
     "text": [
      "Connecting to quantum service...\n",
      "Saving IBM Account...\n",
      "Retrieving the real backend information...\n",
      "Time for setup the services: 10.813138753990643 seconds\n",
      "Time for setup the backends: 9.843699808698148e-05 seconds\n",
      "Start running the simulator...\n",
      "Time for running the init header: 0.0003690669982461259 seconds\n",
      "qiskit_3 0.1\n",
      "Time for setup the backends: 0.00025155500043183565 seconds\n",
      "qiskit_3 0.2\n",
      "Time for setup the backends: 0.001430303993402049 seconds\n",
      "qiskit_3 0.4\n",
      "Time for setup the backends: 0.0019706290040630847 seconds\n",
      "qiskit_3 0.6\n",
      "Time for setup the backends: 0.0022958939953241497 seconds\n",
      "qiskit_3 0.8\n",
      "Time for setup the backends: 0.0021174730063648894 seconds\n",
      "qiskit_3 1.0\n",
      "Time for setup the backends: 0.002438932002405636 seconds\n",
      "triq_avg_sabre 0.1\n",
      "Time for setup the backends: 0.0025962469953810796 seconds\n",
      "triq_avg_sabre 0.2\n",
      "Time for setup the backends: 0.0024059879942797124 seconds\n",
      "triq_avg_sabre 0.4\n",
      "Time for setup the backends: 0.0024536519922548905 seconds\n",
      "triq_avg_sabre 0.6\n",
      "Time for setup the backends: 0.002712444998905994 seconds\n",
      "triq_avg_sabre 0.8\n",
      "Time for setup the backends: 0.0024380830000154674 seconds\n",
      "triq_avg_sabre 1.0\n",
      "Time for setup the backends: 0.0027008079923689365 seconds\n",
      "triq_lcd_sabre 0.1\n",
      "Time for setup the backends: 0.0028030620014760643 seconds\n",
      "triq_lcd_sabre 0.2\n",
      "Time for setup the backends: 0.003693828999530524 seconds\n",
      "triq_lcd_sabre 0.4\n",
      "Time for setup the backends: 0.0025841289898380637 seconds\n",
      "triq_lcd_sabre 0.6\n",
      "Time for setup the backends: 0.002768646998447366 seconds\n",
      "triq_lcd_sabre 0.8\n",
      "Time for setup the backends: 0.0029079590021865442 seconds\n",
      "triq_lcd_sabre 1.0\n",
      "Time for setup the backends: 0.003047049991437234 seconds\n",
      "qiskit_3 0.1\n",
      "Time for setup the backends: 0.0030000960105098784 seconds\n",
      "qiskit_3 0.2\n",
      "Time for setup the backends: 0.002694720998988487 seconds\n",
      "qiskit_3 0.4\n",
      "Time for setup the backends: 0.00299488399468828 seconds\n",
      "qiskit_3 0.6\n",
      "Time for setup the backends: 0.0029425109969452024 seconds\n",
      "qiskit_3 0.8\n",
      "Time for setup the backends: 0.0029361240012804046 seconds\n",
      "qiskit_3 1.0\n",
      "Time for setup the backends: 0.002830622994224541 seconds\n",
      "triq_avg_sabre 0.1\n",
      "Time for setup the backends: 0.0030150810052873567 seconds\n",
      "triq_avg_sabre 0.2\n",
      "Time for setup the backends: 0.002883090011891909 seconds\n",
      "triq_avg_sabre 0.4\n",
      "Time for setup the backends: 0.003170573996612802 seconds\n",
      "triq_avg_sabre 0.6\n",
      "Time for setup the backends: 0.0027357359940651804 seconds\n",
      "triq_avg_sabre 0.8\n",
      "Time for setup the backends: 0.002847383002517745 seconds\n",
      "triq_avg_sabre 1.0\n",
      "Time for setup the backends: 0.0030107390048215166 seconds\n",
      "triq_lcd_sabre 0.1\n",
      "Time for setup the backends: 0.0023947180015966296 seconds\n",
      "triq_lcd_sabre 0.2\n",
      "Time for setup the backends: 0.0026825990062206984 seconds\n",
      "triq_lcd_sabre 0.4\n",
      "Time for setup the backends: 0.002499490001355298 seconds\n",
      "triq_lcd_sabre 0.6\n",
      "Time for setup the backends: 0.002794290005112998 seconds\n",
      "triq_lcd_sabre 0.8\n",
      "Time for setup the backends: 0.0028368219936965033 seconds\n",
      "triq_lcd_sabre 1.0\n",
      "Time for setup the backends: 0.0028418660076567903 seconds\n",
      "Total send to local simulator : 1\n",
      "Running to Local Simulator with batch id: 212 ... \n",
      "Sent!\n",
      "Time for sending to local simulator: 0.0017316229932475835 seconds\n"
     ]
    }
   ],
   "source": [
    "q = QEM(runs=conf.runs, user_id=conf.user_id, token=token)\n",
    "\n",
    "qasm_files = q.get_qasm_files_from_path(\"./circuits/polar_sim/n3\")\n",
    "noise_levels = [0.1, 0.2, 0.4, 0.6, 0.8, 1.0]\n",
    "shots = 10000\n",
    "\n",
    "q.set_backend(program_type=\"sampler\", shots=shots)\n",
    "q.run_simulator(\"sampler\", qasm_files, compilations, noise_levels, shots, send_to_db=True)"
   ]
  },
  {
   "cell_type": "code",
   "execution_count": 7,
   "id": "bf470952-521d-4253-87b7-a7c39f948c2d",
   "metadata": {},
   "outputs": [
    {
     "name": "stdout",
     "output_type": "stream",
     "text": [
      "Connecting to quantum service...\n",
      "Saving IBM Account...\n",
      "Retrieving the real backend information...\n",
      "Time for setup the services: 8.452421510010026 seconds\n",
      "Time for setup the backends: 8.680600149091333e-05 seconds\n"
     ]
    }
   ],
   "source": [
    "q = QEM(runs=conf.runs, user_id=conf.user_id, token=token, skip_db=False)\n",
    "qasm_files = q.get_qasm_files_from_path(\"./circuits/polar_sim/n4\")\n",
    "noise_levels = [0.1, 0.2, 0.4, 0.6, 0.8, 1.0]\n",
    "shots = 10\n",
    "q.set_backend(program_type=\"sampler\", shots=shots)"
   ]
  },
  {
   "cell_type": "code",
   "execution_count": 8,
   "id": "b9418831-7bb3-445b-90c5-39d4360d9591",
   "metadata": {},
   "outputs": [
    {
     "name": "stdout",
     "output_type": "stream",
     "text": [
      "Start running the simulator...\n",
      "Time for running the init header: 0.0003460200096014887 seconds\n",
      "qiskit_3 0.1\n",
      "Time for setup the backends: 8.589199569541961e-05 seconds\n",
      "qiskit_3 0.2\n",
      "Time for setup the backends: 0.002494005995686166 seconds\n",
      "qiskit_3 0.4\n",
      "Time for setup the backends: 0.001877678994787857 seconds\n",
      "qiskit_3 0.6\n",
      "Time for setup the backends: 0.002583528999821283 seconds\n",
      "qiskit_3 0.8\n",
      "Time for setup the backends: 0.0024434749939246103 seconds\n",
      "qiskit_3 1.0\n",
      "Time for setup the backends: 0.0025789889914449304 seconds\n",
      "triq_avg_sabre 0.1\n",
      "Time for setup the backends: 0.0026748210075311363 seconds\n",
      "triq_avg_sabre 0.2\n",
      "Time for setup the backends: 0.0025411770038772374 seconds\n",
      "triq_avg_sabre 0.4\n",
      "Time for setup the backends: 0.00260886900650803 seconds\n",
      "triq_avg_sabre 0.6\n",
      "Time for setup the backends: 0.0031963749934220687 seconds\n",
      "triq_avg_sabre 0.8\n",
      "Time for setup the backends: 0.0024699359928490594 seconds\n",
      "triq_avg_sabre 1.0\n",
      "Time for setup the backends: 0.0028142640076112 seconds\n",
      "triq_lcd_sabre 0.1\n",
      "Time for setup the backends: 0.0024731050070840865 seconds\n",
      "triq_lcd_sabre 0.2\n",
      "Time for setup the backends: 0.0026375999877927825 seconds\n",
      "triq_lcd_sabre 0.4\n",
      "Time for setup the backends: 0.002782121009659022 seconds\n",
      "triq_lcd_sabre 0.6\n",
      "Time for setup the backends: 0.002849962009349838 seconds\n",
      "triq_lcd_sabre 0.8\n",
      "Time for setup the backends: 0.0030468559998553246 seconds\n",
      "triq_lcd_sabre 1.0\n",
      "Time for setup the backends: 0.0026111420011147857 seconds\n",
      "qiskit_3 0.1\n",
      "Time for setup the backends: 0.002608882001368329 seconds\n",
      "qiskit_3 0.2\n",
      "Time for setup the backends: 0.0024662159994477406 seconds\n",
      "qiskit_3 0.4\n",
      "Time for setup the backends: 0.0027491769869811833 seconds\n",
      "qiskit_3 0.6\n",
      "Time for setup the backends: 0.0024398089881287888 seconds\n",
      "qiskit_3 0.8\n",
      "Time for setup the backends: 0.002613097007269971 seconds\n",
      "qiskit_3 1.0\n",
      "Time for setup the backends: 0.0029903700051363558 seconds\n",
      "triq_avg_sabre 0.1\n",
      "Time for setup the backends: 0.0027861709968419746 seconds\n",
      "triq_avg_sabre 0.2\n",
      "Time for setup the backends: 0.0028897640004288405 seconds\n",
      "triq_avg_sabre 0.4\n",
      "Time for setup the backends: 0.0029216099937912077 seconds\n",
      "triq_avg_sabre 0.6\n",
      "Time for setup the backends: 0.0029986550071043894 seconds\n",
      "triq_avg_sabre 0.8\n",
      "Time for setup the backends: 0.00301745199249126 seconds\n",
      "triq_avg_sabre 1.0\n",
      "Time for setup the backends: 0.0029497479990823194 seconds\n",
      "triq_lcd_sabre 0.1\n",
      "Time for setup the backends: 0.0026020799996331334 seconds\n",
      "triq_lcd_sabre 0.2\n",
      "Time for setup the backends: 0.002862948997062631 seconds\n",
      "triq_lcd_sabre 0.4\n",
      "Time for setup the backends: 0.0028665879945037887 seconds\n",
      "triq_lcd_sabre 0.6\n",
      "Time for setup the backends: 0.002623972002766095 seconds\n",
      "triq_lcd_sabre 0.8\n",
      "Time for setup the backends: 0.0027986269997199997 seconds\n",
      "triq_lcd_sabre 1.0\n",
      "Time for setup the backends: 0.0029229020001366735 seconds\n",
      "Total send to local simulator : 1\n",
      "Running to Local Simulator with batch id: 214 ... \n",
      "Sent!\n",
      "Time for sending to local simulator: 0.0013292889925651252 seconds\n"
     ]
    }
   ],
   "source": [
    "q.run_simulator(\"sampler\", qasm_files, compilations, noise_levels, shots, send_to_db=True)"
   ]
  },
  {
   "cell_type": "code",
   "execution_count": null,
   "id": "77e3e110-bbd4-4a80-9abc-de75abdd342e",
   "metadata": {},
   "outputs": [
    {
     "name": "stdout",
     "output_type": "stream",
     "text": [
      "Pending jobs:  2\n",
      "Checking results for:  simulator with header id : 210\n",
      "Preparing the noisy simulator qiskit_3 0.1\n"
     ]
    }
   ],
   "source": [
    "q.get_qiskit_result()"
   ]
  },
  {
   "cell_type": "code",
   "execution_count": null,
   "id": "60e52744-342b-4a6c-9690-bd025842839c",
   "metadata": {},
   "outputs": [],
   "source": []
  },
  {
   "cell_type": "code",
   "execution_count": null,
   "id": "27a55acf-ebdc-45d1-ae41-ba8ae9903fe2",
   "metadata": {},
   "outputs": [],
   "source": []
  }
 ],
 "metadata": {
  "kernelspec": {
   "display_name": "Python 3 (ipykernel)",
   "language": "python",
   "name": "python3"
  },
  "language_info": {
   "codemirror_mode": {
    "name": "ipython",
    "version": 3
   },
   "file_extension": ".py",
   "mimetype": "text/x-python",
   "name": "python",
   "nbconvert_exporter": "python",
   "pygments_lexer": "ipython3",
   "version": "3.10.12"
  }
 },
 "nbformat": 4,
 "nbformat_minor": 5
}
