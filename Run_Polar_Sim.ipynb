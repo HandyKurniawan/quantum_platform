{
 "cells": [
  {
   "cell_type": "code",
   "execution_count": 1,
   "id": "c0a80a4f-3201-465b-ac34-e5a6818e694a",
   "metadata": {},
   "outputs": [],
   "source": [
    "import sys, glob, os\n",
    "from commons import convert_to_json, triq_optimization, qiskit_optimization, \\\n",
    "    calibration_type_enum, qiskit_compilation_enum, normalize_counts, calculate_success_rate_tvd, \\\n",
    "    convert_dict_binary_to_int, convert_dict_int_to_binary, sum_last_n_digits_dict\n",
    "import wrappers.qiskit_wrapper as qiskit_wrapper\n",
    "from wrappers.qiskit_wrapper import QiskitCircuit\n",
    "import pandas as pd\n",
    "import mthree\n",
    "import mapomatic as mm\n",
    "import mthree\n",
    "\n",
    "from qiskit.quantum_info import SparsePauliOp\n",
    "from qiskit import QuantumCircuit\n",
    "from qiskit.transpiler.preset_passmanagers import generate_preset_pass_manager\n",
    "from qiskit_ibm_runtime.options import SamplerOptions, EstimatorOptions, DynamicalDecouplingOptions, TwirlingOptions\n",
    "\n",
    "from qiskit_aer import AerSimulator, QasmSimulator, Aer\n",
    "from qiskit.qasm2 import dumps\n",
    "import matplotlib.pyplot as plt\n",
    "import numpy as np\n",
    "\n",
    "import mitiq\n",
    "from mitiq import zne, benchmarks\n",
    "\n",
    "from qEmQUIP import QEM, conf\n",
    "\n",
    "CB_color_cycle = ['#1F77B4', '#AEC7E8', '#FF7F0E', '#FFBB78', '#2CA02C', '#98DF8A', '#D62728', '#FF9896',\n",
    "                  '#9467BD', '#C5B0D5', '#8C564B', '#C49C94', '#E377C2', '#F7B6D2', '#7F7F7F', '#C7C7C7',\n",
    "                  '#BCBD22', '#DBDB8D', '#17BECF', '#9EDAE5'\n",
    "                  ]\n",
    "\n",
    "markers = ['o', 'v', '^', 's', '+', '*', 'x', 'd', '<', '>', 'p']\n",
    "linestyles = ['-', '--', '-.', ':', '-', '--', '-.', ':']\n",
    "\n"
   ]
  },
  {
   "cell_type": "code",
   "execution_count": 2,
   "id": "684ea5a0-4fde-4fa7-a5a7-545462680975",
   "metadata": {},
   "outputs": [
    {
     "name": "stdout",
     "output_type": "stream",
     "text": [
      "Time for setup the services: 10.93546121899999 seconds\n"
     ]
    }
   ],
   "source": [
    "token = \"476ea8c61cc54f36e4a21d70a8442f94203c9d87096eaad0886a3e8154d8c2e79bcad6f927c6050a76335dd68d783f478c1b828504748a4377b441c335c831aa\"\n",
    "q = QEM(runs=conf.runs, user_id=conf.user_id, token=token, skip_db=True)"
   ]
  },
  {
   "cell_type": "code",
   "execution_count": 3,
   "id": "3a1e26f5-2f9d-4784-a383-26dc0e78af74",
   "metadata": {},
   "outputs": [
    {
     "name": "stdout",
     "output_type": "stream",
     "text": [
      "['./circuits/polar_sim/polar_all_meas_n3_x.qasm', './circuits/polar_sim/polar_all_meas_n3.qasm']\n"
     ]
    }
   ],
   "source": [
    "qasm_files = q.get_qasm_files_from_path(\"./circuits/polar_sim/\")\n",
    "print(qasm_files)\n",
    "\n",
    "# select compilation techniques\n",
    "compilations = [\"qiskit_3\", \"triq_avg_sabre\", \"triq_lcd_sabre\"]"
   ]
  },
  {
   "cell_type": "code",
   "execution_count": null,
   "id": "068331f8-4d32-4dbb-a089-02b59a8a2292",
   "metadata": {},
   "outputs": [
    {
     "name": "stdout",
     "output_type": "stream",
     "text": [
      "Time for setup the services: 21.224898121996375 seconds\n",
      "Time for setup the backends: 7.412499689962715e-05 seconds\n",
      "Circuit :  polar_all_meas_n3_x , Compilation :  qiskit_3\n",
      "Noise level : 0.0 - sr : 0.5123 , sr m3: 0.5007 , sr dd : 0.5123 , sr dd m3: 0.5007\n",
      "Noise level : 0.1 - sr : 0.5005 , sr m3: 0.5 , sr dd : 0.5005 , sr dd m3: 0.5\n",
      "Noise level : 0.2 - sr : 0.5 , sr m3: 0.5001 , sr dd : 0.5 , sr dd m3: 0.5001\n",
      "Noise level : 0.4 - sr : 0.5 , sr m3: 0.5002 , sr dd : 0.5 , sr dd m3: 0.5002\n",
      "Noise level : 0.6 - sr : 0.5 , sr m3: 0.5 , sr dd : 0.5 , sr dd m3: 0.5\n",
      "Noise level : 0.8 - sr : 0.5 , sr m3: 0.5 , sr dd : 0.5 , sr dd m3: 0.5\n",
      "Noise level : 1.0 - sr : 0.5 , sr m3: 0.5 , sr dd : 0.5 , sr dd m3: 0.5\n",
      "Circuit :  polar_all_meas_n3_x , Compilation :  triq_avg_sabre\n",
      "Noise level : 0.0 - sr : 0.5 , sr m3: 0.5 , sr dd : 0.5 , sr dd m3: 0.5\n",
      "Noise level : 0.1 - sr : 0.5 , sr m3: 0.5 , sr dd : 0.5 , sr dd m3: 0.5\n",
      "Noise level : 0.2 - sr : 0.5 , sr m3: 0.5 , sr dd : 0.5 , sr dd m3: 0.5\n",
      "Noise level : 0.4 - sr : 0.5 , sr m3: 0.5 , sr dd : 0.5 , sr dd m3: 0.5\n",
      "Noise level : 0.6 - sr : 0.5 , sr m3: 0.5 , sr dd : 0.5 , sr dd m3: 0.5\n",
      "Noise level : 0.8 - sr : 0.5 , sr m3: 0.5 , sr dd : 0.5 , sr dd m3: 0.5\n",
      "Noise level : 1.0 - sr : 0.5 , sr m3: 0.5 , sr dd : 0.5 , sr dd m3: 0.5\n"
     ]
    }
   ],
   "source": [
    "res_circuit_name = []\n",
    "res_compilations = []\n",
    "res_noise_levels = []\n",
    "res_success_rate = []\n",
    "res_success_rate_dd = []\n",
    "res_success_rate_m3 = []\n",
    "res_success_rate_dd_m3 = []\n",
    "\n",
    "# Prepare the object\n",
    "q = QEM(runs=conf.runs, user_id=conf.user_id, token=token)\n",
    "\n",
    "# prepare the backend\n",
    "q.set_backend(program_type=\"sampler\")\n",
    "\n",
    "# prepare the circuit\n",
    "qasm_files = q.get_qasm_files_from_path(\"./circuits/polar_sim/\")\n",
    "\n",
    "shots = 100\n",
    "\n",
    "# select compilation techniques\n",
    "compilations = [\"qiskit_3\", \"triq_avg_sabre\", \"triq_lcd_sabre\"]\n",
    "# compilations = [\"qiskit_0\", \"qiskit_3\"]\n",
    "\n",
    "# select the noise levels (0 = noiseless, 1 = noise model from real backend)\n",
    "noise_levels = [0.0, 0.1, 0.2, 0.4, 0.6, 0.8, 1.0]\n",
    "#noise_levels = [0.0]\n",
    "\n",
    "\n",
    "for qasm in qasm_files:\n",
    "    qc = q.get_circuit_properties(qasm_source=qasm)\n",
    "    circuit_name = qasm.split(\"/\")[-1].split(\".\")[0]\n",
    "\n",
    "    for comp in compilations:    \n",
    "        updated_qasm, initial_mapping = q.compile(qasm=qc.qasm_original, compilation_name=comp)\n",
    "        compiled_qc = QiskitCircuit(updated_qasm)\n",
    "        circuit = compiled_qc.transpile_to_target_backend(q.backend)\n",
    "\n",
    "        print(\"Circuit : \", circuit_name, \", Compilation : \", comp)\n",
    "        \n",
    "        for noise in noise_levels:\n",
    "            \n",
    "            noise_model, noisy_simulator, coupling_map = qiskit_wrapper.get_noisy_simulator(q.backend, noise)\n",
    "            \n",
    "            job = noisy_simulator.run(circuit, shots=shots)\n",
    "            result = job.result()  \n",
    "            output = result.get_counts()\n",
    "            output_normalize = normalize_counts(output, shots=shots)\n",
    "\n",
    "            tvd = calculate_success_rate_tvd(qc.correct_output,output_normalize)\n",
    "\n",
    "            probs_m3 = q.apply_mthree(noisy_simulator, initial_mapping, output, shots)\n",
    "            tvd_m3 = calculate_success_rate_tvd(qc.correct_output, probs_m3)\n",
    "            \n",
    "            circuit_dd = q.apply_dd(circuit, noisy_simulator, sequence_type=\"XX\", scheduling_method=\"asap\")\n",
    "            job_dd = noisy_simulator.run(circuit_dd, shots=shots)\n",
    "            result_dd = job_dd.result()  \n",
    "            output_dd = result.get_counts()\n",
    "            output_normalize_dd = normalize_counts(output_dd, shots=shots)\n",
    "\n",
    "            tvd_dd = calculate_success_rate_tvd(qc.correct_output,output_normalize)\n",
    "\n",
    "            probs_dd_m3 = q.apply_mthree(noisy_simulator, initial_mapping, output_dd, shots)\n",
    "            tvd_dd_m3 = calculate_success_rate_tvd(qc.correct_output, probs_m3)\n",
    "            \n",
    "            \n",
    "            print(\"Noise level :\", noise, \"- sr :\", np.round(tvd,4), \", sr m3:\", np.round(tvd_m3,4),\n",
    "                  \", sr dd :\", np.round(tvd_dd,4), \", sr dd m3:\", np.round(tvd_dd_m3,4))\n",
    "            res_circuit_name.append(circuit_name)\n",
    "            res_compilations.append(comp)\n",
    "            res_noise_levels.append(noise)\n",
    "            res_success_rate.append(tvd)\n",
    "            res_success_rate_m3.append(tvd_m3)\n",
    "            res_success_rate_dd.append(tvd_dd)\n",
    "            res_success_rate_dd_m3.append(tvd_dd_m3)\n",
    "\n",
    "        \n"
   ]
  },
  {
   "cell_type": "code",
   "execution_count": null,
   "id": "8e1ffd03-6ddc-4990-a627-61eb8d1358ca",
   "metadata": {},
   "outputs": [],
   "source": []
  }
 ],
 "metadata": {
  "kernelspec": {
   "display_name": "Python 3 (ipykernel)",
   "language": "python",
   "name": "python3"
  },
  "language_info": {
   "codemirror_mode": {
    "name": "ipython",
    "version": 3
   },
   "file_extension": ".py",
   "mimetype": "text/x-python",
   "name": "python",
   "nbconvert_exporter": "python",
   "pygments_lexer": "ipython3",
   "version": "3.10.12"
  }
 },
 "nbformat": 4,
 "nbformat_minor": 5
}
