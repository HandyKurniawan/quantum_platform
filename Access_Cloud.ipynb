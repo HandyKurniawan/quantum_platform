{
 "cells": [
  {
   "cell_type": "code",
   "execution_count": 12,
   "id": "14000bb7-ad71-4b3f-9bb4-d05ad4666202",
   "metadata": {},
   "outputs": [],
   "source": [
    "import sys, glob, os\n",
    "from commons import convert_to_json, triq_optimization, qiskit_optimization, \\\n",
    "    calibration_type_enum, qiskit_compilation_enum, normalize_counts, calculate_success_rate_tvd, \\\n",
    "    convert_dict_binary_to_int, convert_dict_int_to_binary, sum_last_n_digits_dict\n",
    "import wrappers.qiskit_wrapper as qiskit_wrapper\n",
    "from wrappers.qiskit_wrapper import QiskitCircuit\n",
    "import pandas as pd\n",
    "import mthree\n",
    "import mapomatic as mm\n",
    "import mthree\n",
    "\n",
    "from qiskit.quantum_info import SparsePauliOp\n",
    "from qiskit import QuantumCircuit, transpile\n",
    "from qiskit.transpiler.preset_passmanagers import generate_preset_pass_manager\n",
    "from qiskit_ibm_runtime.options import SamplerOptions, EstimatorOptions, DynamicalDecouplingOptions, TwirlingOptions\n",
    "\n",
    "from qiskit_aer import AerSimulator, QasmSimulator, Aer\n",
    "from qiskit.qasm2 import dumps\n",
    "import matplotlib.pyplot as plt\n",
    "import numpy as np\n",
    "\n",
    "from qiskit.visualization import plot_histogram, plot_state_city\n",
    "import qiskit.quantum_info as qi\n",
    "\n",
    "from qiskit_ibm_runtime import QiskitRuntimeService\n",
    "from qiskit_aer.noise import NoiseModel\n",
    "\n",
    "import mitiq\n",
    "from mitiq import zne, benchmarks\n",
    "\n",
    "from qEmQUIP import QEM, conf"
   ]
  },
  {
   "cell_type": "code",
   "execution_count": 7,
   "id": "6597f0c1-83eb-4262-b058-2f35516fec70",
   "metadata": {},
   "outputs": [],
   "source": [
    "QiskitRuntimeService.save_account(channel=\"ibm_cloud\", token=\"tyF4ya7NOGlq9Ls_JM5JJ0vG0IJmdu_Ea2rc-xTauvJ_\", \n",
    "                                  instance=\"ibm_credit\", \n",
    "                                  name=\"handy-kurniawan\", set_as_default=False, overwrite=True)\n",
    "\n",
    "service = QiskitRuntimeService(channel=\"ibm_cloud\", token=\"tyF4ya7NOGlq9Ls_JM5JJ0vG0IJmdu_Ea2rc-xTauvJ_\", instance=\"ibm_credit\")"
   ]
  },
  {
   "cell_type": "code",
   "execution_count": 8,
   "id": "741234f2-30be-455e-a1c1-74637ff4b4ab",
   "metadata": {},
   "outputs": [
    {
     "data": {
      "text/plain": [
       "['__class__',\n",
       " '__delattr__',\n",
       " '__dict__',\n",
       " '__dir__',\n",
       " '__doc__',\n",
       " '__eq__',\n",
       " '__format__',\n",
       " '__ge__',\n",
       " '__getattribute__',\n",
       " '__gt__',\n",
       " '__hash__',\n",
       " '__init__',\n",
       " '__init_subclass__',\n",
       " '__le__',\n",
       " '__lt__',\n",
       " '__module__',\n",
       " '__ne__',\n",
       " '__new__',\n",
       " '__reduce__',\n",
       " '__reduce_ex__',\n",
       " '__repr__',\n",
       " '__setattr__',\n",
       " '__sizeof__',\n",
       " '__str__',\n",
       " '__subclasshook__',\n",
       " '__weakref__',\n",
       " '_account',\n",
       " '_api_client',\n",
       " '_authenticate_ibm_quantum_account',\n",
       " '_backend_allowed_list',\n",
       " '_channel',\n",
       " '_channel_strategy',\n",
       " '_check_api_version',\n",
       " '_client_params',\n",
       " '_create_backend_obj',\n",
       " '_decode_job',\n",
       " '_discover_account',\n",
       " '_discover_cloud_backends',\n",
       " '_get_hgp',\n",
       " '_initialize_hgps',\n",
       " '_resolve_crn',\n",
       " '_run',\n",
       " '_validate_channel_strategy',\n",
       " 'active_account',\n",
       " 'backend',\n",
       " 'backends',\n",
       " 'channel',\n",
       " 'delete_account',\n",
       " 'delete_job',\n",
       " 'get_backend',\n",
       " 'global_service',\n",
       " 'instances',\n",
       " 'job',\n",
       " 'jobs',\n",
       " 'least_busy',\n",
       " 'run',\n",
       " 'save_account',\n",
       " 'saved_accounts']"
      ]
     },
     "execution_count": 8,
     "metadata": {},
     "output_type": "execute_result"
    }
   ],
   "source": [
    "dir(service)"
   ]
  },
  {
   "cell_type": "code",
   "execution_count": 9,
   "id": "4e0c22c0-450b-40ac-bd93-d887b2ab1b6b",
   "metadata": {},
   "outputs": [
    {
     "data": {
      "text/plain": [
       "[<IBMBackend('ibm_brisbane')>,\n",
       " <IBMBackend('ibm_fez')>,\n",
       " <IBMBackend('ibm_kyiv')>,\n",
       " <IBMBackend('ibm_sherbrooke')>,\n",
       " <IBMBackend('ibm_torino')>,\n",
       " <IBMBackend('ibmq_qasm_simulator')>,\n",
       " <IBMBackend('simulator_stabilizer')>,\n",
       " <IBMBackend('simulator_mps')>,\n",
       " <IBMBackend('simulator_extended_stabilizer')>,\n",
       " <IBMBackend('simulator_statevector')>]"
      ]
     },
     "execution_count": 9,
     "metadata": {},
     "output_type": "execute_result"
    }
   ],
   "source": [
    "service.backends()"
   ]
  },
  {
   "cell_type": "code",
   "execution_count": 117,
   "id": "1368c424-9479-47cb-ae73-57b622e5356a",
   "metadata": {},
   "outputs": [
    {
     "data": {
      "text/plain": [
       "'ibm_fez'"
      ]
     },
     "execution_count": 117,
     "metadata": {},
     "output_type": "execute_result"
    }
   ],
   "source": [
    "backend = service.backend(\"ibm_fez\")\n",
    "backend.name"
   ]
  },
  {
   "cell_type": "code",
   "execution_count": 118,
   "id": "a31895f4-4a06-46a8-9d9f-3fdcaa3f6f58",
   "metadata": {},
   "outputs": [],
   "source": [
    "noise_model = NoiseModel.from_backend(backend)\n",
    "\n",
    "sim_noisy = AerSimulator(configuration=backend.configuration(),\n",
    "                         properties=backend.properties(),\n",
    "                                noise_model=noise_model\n",
    "                                )\n"
   ]
  },
  {
   "cell_type": "code",
   "execution_count": 119,
   "id": "6ac5bea7-a52a-467c-bdba-ceaa9df98d71",
   "metadata": {},
   "outputs": [
    {
     "data": {
      "text/plain": [
       "<qiskit.circuit.instructionset.InstructionSet at 0x7d3c68495bd0>"
      ]
     },
     "execution_count": 119,
     "metadata": {},
     "output_type": "execute_result"
    }
   ],
   "source": [
    "circ = QuantumCircuit.from_qasm_file(\"./circuits/polar_sim/n3/x/polar_all_meas_n3_x.qasm\")\n",
    "circ.draw(\"mpl\", fold=-1)\n",
    "\n",
    "circ = QuantumCircuit(3,3)\n",
    "circ.x(0)\n",
    "circ.cx(0,1)\n",
    "circ.cx(0,2)\n",
    "circ.measure(0,0)\n",
    "circ.measure(1,1)\n",
    "circ.measure(2,2)\n",
    "\n",
    "\n"
   ]
  },
  {
   "cell_type": "code",
   "execution_count": 120,
   "id": "21fe7770-e7f8-4f45-927b-ceb40e346acc",
   "metadata": {},
   "outputs": [
    {
     "data": {
      "image/png": "[encoded data removed]",
      "text/plain": [
       "<Figure size 962.119x367.889 with 1 Axes>"
      ]
     },
     "execution_count": 120,
     "metadata": {},
     "output_type": "execute_result"
    }
   ],
   "source": [
    "pm = generate_preset_pass_manager(optimization_level=3, backend=sim_noisy)\n",
    "transpiled_circuit = pm.run(circ)\n",
    "transpiled_circuit.draw(\"mpl\", idle_wires = False)"
   ]
  },
  {
   "cell_type": "code",
   "execution_count": 121,
   "id": "3e607683-17bd-452f-9dcd-d059481f9d75",
   "metadata": {},
   "outputs": [],
   "source": [
    "result = sim_noisy.run(transpiled_circuit, shots = 10000).result()\n",
    "output = result.get_counts()"
   ]
  },
  {
   "cell_type": "code",
   "execution_count": 122,
   "id": "104cf38a-6659-4ae4-8efe-8fa9539eaa08",
   "metadata": {},
   "outputs": [
    {
     "data": {
      "text/plain": [
       "{'001': 1, '101': 74, '010': 16, '000': 5, '110': 68, '011': 70, '111': 9766}"
      ]
     },
     "execution_count": 122,
     "metadata": {},
     "output_type": "execute_result"
    }
   ],
   "source": [
    "output"
   ]
  },
  {
   "cell_type": "code",
   "execution_count": 123,
   "id": "a00740a7-9699-4683-8a2b-3abf038305ef",
   "metadata": {},
   "outputs": [
    {
     "data": {
      "image/png": "[encoded data removed]",
      "text/plain": [
       "<Figure size 640x480 with 1 Axes>"
      ]
     },
     "execution_count": 123,
     "metadata": {},
     "output_type": "execute_result"
    }
   ],
   "source": [
    "from qiskit.visualization import plot_histogram\n",
    "plot_histogram(output)"
   ]
  },
  {
   "cell_type": "code",
   "execution_count": null,
   "id": "3b5ea02a-53b8-42e6-a5fa-5a4f7e845ac6",
   "metadata": {},
   "outputs": [],
   "source": []
  },
  {
   "cell_type": "code",
   "execution_count": null,
   "id": "1957ce46-440e-442f-aba2-397d29d6d532",
   "metadata": {},
   "outputs": [],
   "source": []
  }
 ],
 "metadata": {
  "kernelspec": {
   "display_name": "Python 3 (ipykernel)",
   "language": "python",
   "name": "python3"
  },
  "language_info": {
   "codemirror_mode": {
    "name": "ipython",
    "version": 3
   },
   "file_extension": ".py",
   "mimetype": "text/x-python",
   "name": "python",
   "nbconvert_exporter": "python",
   "pygments_lexer": "ipython3",
   "version": "3.10.12"
  }
 },
 "nbformat": 4,
 "nbformat_minor": 5
}
