{
 "cells": [
  {
   "cell_type": "code",
   "execution_count": 1,
   "id": "db388c6e-4890-4f55-9524-3729100e3ff8",
   "metadata": {},
   "outputs": [],
   "source": [
    "import sys, glob, os\n",
    "from commons import convert_to_json, triq_optimization, qiskit_optimization, \\\n",
    "    calibration_type_enum, qiskit_compilation_enum, normalize_counts, calculate_success_rate_tvd, \\\n",
    "    convert_dict_binary_to_int, convert_dict_int_to_binary, sum_last_n_digits_dict\n",
    "import wrappers.qiskit_wrapper as qiskit_wrapper\n",
    "from wrappers.qiskit_wrapper import QiskitCircuit\n",
    "import pandas as pd\n",
    "import mthree\n",
    "import mapomatic as mm\n",
    "import mthree\n",
    "\n",
    "from qiskit.quantum_info import SparsePauliOp\n",
    "from qiskit import QuantumCircuit\n",
    "from qiskit.transpiler.preset_passmanagers import generate_preset_pass_manager\n",
    "from qiskit_ibm_runtime.options import SamplerOptions, EstimatorOptions, DynamicalDecouplingOptions, TwirlingOptions\n",
    "\n",
    "from qiskit_aer import AerSimulator, QasmSimulator, Aer\n",
    "from qiskit.qasm2 import dumps\n",
    "import matplotlib.pyplot as plt\n",
    "import numpy as np\n",
    "\n",
    "import mitiq\n",
    "from mitiq import zne, benchmarks\n",
    "\n",
    "from qEmQUIP import QEM, conf\n",
    "\n",
    "token = \"476ea8c61cc54f36e4a21d70a8442f94203c9d87096eaad0886a3e8154d8c2e79bcad6f927c6050a76335dd68d783f478c1b828504748a4377b441c335c831aa\"\n"
   ]
  },
  {
   "cell_type": "code",
   "execution_count": 5,
   "id": "b5440dd9-0795-48ce-b191-bca6569b9e3a",
   "metadata": {},
   "outputs": [
    {
     "name": "stdout",
     "output_type": "stream",
     "text": [
      "ibm_brisbane\n",
      "Connecting to quantum service...\n",
      "Saving IBM Account...\n",
      "Retrieving the real backend information of ibm_brisbane...\n",
      "./circuits/testing\n",
      "['./circuits/testing/adder_n4.qasm']\n"
     ]
    }
   ],
   "source": [
    "q = QEM(runs=conf.runs, user_id=1, token=token, hw_name=\"ibm_brisbane\")\n",
    "qasm_files = q.get_qasm_files_from_path(\"./circuits/testing\")\n",
    "qasm_files = qasm_files\n",
    "print(qasm_files)\n"
   ]
  },
  {
   "cell_type": "code",
   "execution_count": 6,
   "id": "0f9d9ab9-03f7-41e5-b096-49b2ddb7ddf0",
   "metadata": {},
   "outputs": [],
   "source": [
    "# with custom noisy_simulator can only simulate noise_level = 1.0\n",
    "noise_levels = [1.0]\n",
    "compilations=[\"qiskit_3\"]\n",
    "shots=10000\n",
    "hw_name=\"ibm_brisbane\""
   ]
  },
  {
   "cell_type": "code",
   "execution_count": 7,
   "id": "927698cf-2dfb-4ddf-a4f0-1401a56d1351",
   "metadata": {},
   "outputs": [
    {
     "name": "stdout",
     "output_type": "stream",
     "text": [
      "Start running the simulator...\n",
      "qiskit_3 1.0\n",
      "Total send to local simulator : 1\n",
      "Running to Local Simulator with batch id: 960 ... \n",
      "Sent!\n"
     ]
    }
   ],
   "source": [
    "q.set_backend(program_type=\"sampler\", shots=shots)\n",
    "q.run_simulator(\"sampler\", qasm_files, compilations, noise_levels, shots, hardware_name=hw_name, send_to_db=True)"
   ]
  },
  {
   "cell_type": "code",
   "execution_count": 10,
   "id": "9f10c830-bfc3-446f-ac35-13db11b97000",
   "metadata": {},
   "outputs": [
    {
     "name": "stdout",
     "output_type": "stream",
     "text": [
      "Pending jobs:  0\n",
      "Executed jobs : 0\n"
     ]
    }
   ],
   "source": [
    "noise_backend = q.get_custom_backend(\"avg_custom\", \"ibm_brisbane\", \n",
    "                                     start_date=\"20231031\", end_date=\"20240908\", generate_props = True)\n",
    "q.get_qiskit_result(noisy_simulator = noise_backend)"
   ]
  },
  {
   "cell_type": "code",
   "execution_count": null,
   "id": "31631f7a-e6a3-4693-a044-ae2e32d6f77a",
   "metadata": {},
   "outputs": [],
   "source": []
  }
 ],
 "metadata": {
  "kernelspec": {
   "display_name": "Python 3 (ipykernel)",
   "language": "python",
   "name": "python3"
  },
  "language_info": {
   "codemirror_mode": {
    "name": "ipython",
    "version": 3
   },
   "file_extension": ".py",
   "mimetype": "text/x-python",
   "name": "python",
   "nbconvert_exporter": "python",
   "pygments_lexer": "ipython3",
   "version": "3.10.12"
  }
 },
 "nbformat": 4,
 "nbformat_minor": 5
}
