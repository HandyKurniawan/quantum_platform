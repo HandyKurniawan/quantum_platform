{
 "cells": [
  {
   "cell_type": "markdown",
   "metadata": {},
   "source": [
    "# Tutorial on using the Platform"
   ]
  },
  {
   "cell_type": "markdown",
   "metadata": {},
   "source": [
    "This guide will show you how to use the platform and provide a detailed breakdown of how it works."
   ]
  },
  {
   "cell_type": "markdown",
   "metadata": {},
   "source": [
    "## Initialization"
   ]
  },
  {
   "cell_type": "markdown",
   "metadata": {},
   "source": [
    "First we need to import the necessary class"
   ]
  },
  {
   "cell_type": "code",
   "execution_count": 3,
   "metadata": {},
   "outputs": [],
   "source": [
    "import sys, glob, os\n",
    "from commons import convert_to_json, triq_optimization, qiskit_optimization, \\\n",
    "    calibration_type_enum, qiskit_compilation_enum, normalize_counts, calculate_success_rate_tvd, \\\n",
    "    convert_dict_binary_to_int, convert_dict_int_to_binary, sum_last_n_digits_dict\n",
    "import wrappers.qiskit_wrapper as qiskit_wrapper\n",
    "from wrappers.qiskit_wrapper import QiskitCircuit\n",
    "import pandas as pd\n",
    "import mthree\n",
    "import mapomatic as mm\n",
    "import mthree\n",
    "\n",
    "from qiskit.quantum_info import SparsePauliOp\n",
    "from qiskit import QuantumCircuit\n",
    "from qiskit.transpiler.preset_passmanagers import generate_preset_pass_manager\n",
    "from qiskit_ibm_runtime.options import SamplerOptions, EstimatorOptions, DynamicalDecouplingOptions, TwirlingOptions\n",
    "\n",
    "from qiskit_aer import AerSimulator, QasmSimulator, Aer\n",
    "from qiskit.qasm2 import dumps\n",
    "import matplotlib.pyplot as plt\n",
    "import numpy as np\n",
    "\n",
    "#import mitiq\n",
    "#from mitiq import zne, benchmarks\n",
    "\n",
    "from qEmQUIP import QEM, conf\n",
    "\n",
    "CB_color_cycle = ['#1F77B4', '#AEC7E8', '#FF7F0E', '#FFBB78', '#2CA02C', '#98DF8A', '#D62728', '#FF9896',\n",
    "                  '#9467BD', '#C5B0D5', '#8C564B', '#C49C94', '#E377C2', '#F7B6D2', '#7F7F7F', '#C7C7C7',\n",
    "                  '#BCBD22', '#DBDB8D', '#17BECF', '#9EDAE5'\n",
    "                  ]\n",
    "\n",
    "markers = ['o', 'v', '^', 's', '+', '*', 'x', 'd', '<', '>', 'p']\n",
    "linestyles = ['-', '--', '-.', ':', '-', '--', '-.', ':']\n",
    "\n"
   ]
  },
  {
   "cell_type": "code",
   "execution_count": 4,
   "metadata": {},
   "outputs": [
    {
     "name": "stdout",
     "output_type": "stream",
     "text": [
      "Time for setup the services: 5.231878098988091 seconds\n"
     ]
    }
   ],
   "source": [
    "token = \"82564a51a775be1813eaa346725b57eb575c89860215015353eeec69464b40c1bf8de980748027b6c775fddd8b319bede28fa1cf691e1783240807d322394b29\"\n",
    "q = QEM(runs=conf.runs, user_id=conf.user_id, token=token, skip_db=True)"
   ]
  },
  {
   "cell_type": "code",
   "execution_count": 5,
   "metadata": {},
   "outputs": [
    {
     "name": "stdout",
     "output_type": "stream",
     "text": [
      "['./circuits/calibration/OR_5.qasm', './circuits/calibration/hs4.qasm', './circuits/calibration/AND_5.qasm', './circuits/calibration/bv4.qasm', './circuits/calibration/adder_n4.qasm', './circuits/calibration/fredkin.qasm', './circuits/calibration/toffoli_n3.qasm']\n",
      "Time for setup the services: 4.695538486994337 seconds\n",
      "Time for running the init header: 0.0721470739954384 seconds\n",
      "Compiling circuit: OR_5 for compilation: qiskit_3\n",
      "Compiling circuit: OR_5 for compilation: triq_avg_sabre\n",
      "Compiling circuit: OR_5 for compilation: triq_lcd_sabre\n",
      "Compiling circuit: hs4 for compilation: qiskit_3\n",
      "Compiling circuit: hs4 for compilation: triq_avg_sabre\n",
      "Compiling circuit: hs4 for compilation: triq_lcd_sabre\n",
      "Compiling circuit: AND_5 for compilation: qiskit_3\n",
      "Compiling circuit: AND_5 for compilation: triq_avg_sabre\n",
      "Compiling circuit: AND_5 for compilation: triq_lcd_sabre\n",
      "Compiling circuit: bv4 for compilation: qiskit_3\n",
      "Compiling circuit: bv4 for compilation: triq_avg_sabre\n",
      "Compiling circuit: bv4 for compilation: triq_lcd_sabre\n",
      "Compiling circuit: adder_n4 for compilation: qiskit_3\n",
      "Compiling circuit: adder_n4 for compilation: triq_avg_sabre\n",
      "Compiling circuit: adder_n4 for compilation: triq_lcd_sabre\n",
      "Compiling circuit: fredkin for compilation: qiskit_3\n",
      "Compiling circuit: fredkin for compilation: triq_avg_sabre\n",
      "Compiling circuit: fredkin for compilation: triq_lcd_sabre\n",
      "Compiling circuit: toffoli_n3 for compilation: qiskit_3\n",
      "Compiling circuit: toffoli_n3 for compilation: triq_avg_sabre\n",
      "Compiling circuit: toffoli_n3 for compilation: triq_lcd_sabre\n",
      "Total send to real backend : 1\n",
      "Time for setup the backends: 0.00010578401270322502 seconds\n",
      "Total no of circuits : 21\n",
      "Sending to ibm_sherbrooke with batch id: 155 ... \n",
      "Sent!\n",
      "Time for sending to real backend: 3.3780238550098147 seconds\n",
      "Time for setup the services: 4.6384204710047925 seconds\n",
      "Time for running the init header: 0.0005333709996193647 seconds\n",
      "Compiling circuit: OR_5 for compilation: qiskit_3\n",
      "Compiling circuit: OR_5 for compilation: triq_avg_sabre\n",
      "Compiling circuit: OR_5 for compilation: triq_lcd_sabre\n",
      "Compiling circuit: hs4 for compilation: qiskit_3\n",
      "Compiling circuit: hs4 for compilation: triq_avg_sabre\n",
      "Compiling circuit: hs4 for compilation: triq_lcd_sabre\n",
      "Compiling circuit: AND_5 for compilation: qiskit_3\n",
      "Compiling circuit: AND_5 for compilation: triq_avg_sabre\n",
      "Compiling circuit: AND_5 for compilation: triq_lcd_sabre\n",
      "Compiling circuit: bv4 for compilation: qiskit_3\n",
      "Compiling circuit: bv4 for compilation: triq_avg_sabre\n",
      "Compiling circuit: bv4 for compilation: triq_lcd_sabre\n",
      "Compiling circuit: adder_n4 for compilation: qiskit_3\n",
      "Compiling circuit: adder_n4 for compilation: triq_avg_sabre\n",
      "Compiling circuit: adder_n4 for compilation: triq_lcd_sabre\n",
      "Compiling circuit: fredkin for compilation: qiskit_3\n",
      "Compiling circuit: fredkin for compilation: triq_avg_sabre\n",
      "Compiling circuit: fredkin for compilation: triq_lcd_sabre\n",
      "Compiling circuit: toffoli_n3 for compilation: qiskit_3\n",
      "Compiling circuit: toffoli_n3 for compilation: triq_avg_sabre\n",
      "Compiling circuit: toffoli_n3 for compilation: triq_lcd_sabre\n",
      "Total send to real backend : 1\n",
      "Time for setup the backends: 8.298300963360816e-05 seconds\n",
      "Total no of circuits : 21\n",
      "Sending to ibm_sherbrooke with batch id: 156 ... \n",
      "Sent!\n",
      "Time for sending to real backend: 3.213633302002563 seconds\n"
     ]
    }
   ],
   "source": [
    "token = \"83e92714385d17e01f164da8ce4907c587b1b6ff5be46631736cb6f8da9352952aca28fec9d6d7ac8e8c18af6393184b2c2544c05f1b6508ceca8c3aedb92560\"\n",
    "\n",
    "# prepare the circuit\n",
    "base_folder = \"./circuits/calibration/\"\n",
    "qasm_files = q.get_qasm_files_from_path(file_path=base_folder)\n",
    "\n",
    "print(qasm_files)\n",
    "\n",
    "# select compilation techniques\n",
    "compilations = [\"qiskit_3\", \"triq_avg_sabre\", \"triq_lcd_sabre\"]\n",
    "# compilations = [\"qiskit_0\", \"qiskit_3\"]\n",
    "\n",
    "q = QEM(runs=conf.runs, user_id=conf.user_id, token=token)\n",
    "q.send_to_real_backend(\"sampler\", qasm_files, compilations, hardware_name=\"ibm_sherbrooke\")\n",
    "\n",
    "q = QEM(runs=conf.runs, user_id=conf.user_id, token=token)\n",
    "\n",
    "dd_options: DynamicalDecouplingOptions = {\n",
    "    'enable':True, \n",
    "#    'sequence_type':'XpXm',\n",
    "    'sequence_type':'XY4',\n",
    "    'scheduling_method': 'alap'\n",
    "} \n",
    "\n",
    "q.send_to_real_backend(\"sampler\", qasm_files, compilations, hardware_name=\"ibm_sherbrooke\", dd_options = dd_options)\n"
   ]
  },
  {
   "cell_type": "code",
   "execution_count": 6,
   "metadata": {},
   "outputs": [
    {
     "name": "stdout",
     "output_type": "stream",
     "text": [
      "['./circuits/bv/bv_10.qasm', './circuits/bv/bv_9.qasm', './circuits/bv/bv_11.qasm', './circuits/bv/bv_2.qasm', './circuits/bv/bv_5.qasm', './circuits/bv/bv_7.qasm', './circuits/bv/bv_3.qasm', './circuits/bv/bv_4.qasm', './circuits/bv/bv_6.qasm', './circuits/bv/bv_8.qasm', './circuits/bv/bv_12.qasm']\n",
      "Time for setup the services: 4.841328680005972 seconds\n",
      "Time for running the init header: 0.0004932140000164509 seconds\n",
      "Compiling circuit: bv_10 for compilation: qiskit_3\n",
      "Compiling circuit: bv_10 for compilation: triq_avg_sabre\n",
      "Compiling circuit: bv_10 for compilation: triq_lcd_sabre\n",
      "Compiling circuit: bv_9 for compilation: qiskit_3\n",
      "Compiling circuit: bv_9 for compilation: triq_avg_sabre\n",
      "Compiling circuit: bv_9 for compilation: triq_lcd_sabre\n",
      "Compiling circuit: bv_11 for compilation: qiskit_3\n",
      "Compiling circuit: bv_11 for compilation: triq_avg_sabre\n",
      "Compiling circuit: bv_11 for compilation: triq_lcd_sabre\n",
      "Compiling circuit: bv_2 for compilation: qiskit_3\n",
      "Compiling circuit: bv_2 for compilation: triq_avg_sabre\n",
      "Compiling circuit: bv_2 for compilation: triq_lcd_sabre\n",
      "Compiling circuit: bv_5 for compilation: qiskit_3\n",
      "Compiling circuit: bv_5 for compilation: triq_avg_sabre\n",
      "Compiling circuit: bv_5 for compilation: triq_lcd_sabre\n",
      "Compiling circuit: bv_7 for compilation: qiskit_3\n",
      "Compiling circuit: bv_7 for compilation: triq_avg_sabre\n",
      "Compiling circuit: bv_7 for compilation: triq_lcd_sabre\n",
      "Compiling circuit: bv_3 for compilation: qiskit_3\n",
      "Compiling circuit: bv_3 for compilation: triq_avg_sabre\n",
      "Compiling circuit: bv_3 for compilation: triq_lcd_sabre\n",
      "Compiling circuit: bv_4 for compilation: qiskit_3\n",
      "Compiling circuit: bv_4 for compilation: triq_avg_sabre\n",
      "Compiling circuit: bv_4 for compilation: triq_lcd_sabre\n",
      "Compiling circuit: bv_6 for compilation: qiskit_3\n",
      "Compiling circuit: bv_6 for compilation: triq_avg_sabre\n",
      "Compiling circuit: bv_6 for compilation: triq_lcd_sabre\n",
      "Compiling circuit: bv_8 for compilation: qiskit_3\n",
      "Compiling circuit: bv_8 for compilation: triq_avg_sabre\n",
      "Compiling circuit: bv_8 for compilation: triq_lcd_sabre\n",
      "Compiling circuit: bv_12 for compilation: qiskit_3\n",
      "Compiling circuit: bv_12 for compilation: triq_avg_sabre\n",
      "Compiling circuit: bv_12 for compilation: triq_lcd_sabre\n",
      "Total send to real backend : 1\n",
      "Time for setup the backends: 0.00010717401164583862 seconds\n",
      "Total no of circuits : 33\n",
      "Sending to ibm_sherbrooke with batch id: 157 ... \n",
      "Sent!\n",
      "Time for sending to real backend: 3.7241531949985074 seconds\n",
      "Time for setup the services: 3.9424957599985646 seconds\n",
      "Time for running the init header: 0.00031962100183591247 seconds\n",
      "Compiling circuit: bv_10 for compilation: qiskit_3\n",
      "Compiling circuit: bv_10 for compilation: triq_avg_sabre\n",
      "Compiling circuit: bv_10 for compilation: triq_lcd_sabre\n",
      "Compiling circuit: bv_9 for compilation: qiskit_3\n",
      "Compiling circuit: bv_9 for compilation: triq_avg_sabre\n",
      "Compiling circuit: bv_9 for compilation: triq_lcd_sabre\n",
      "Compiling circuit: bv_11 for compilation: qiskit_3\n",
      "Compiling circuit: bv_11 for compilation: triq_avg_sabre\n",
      "Compiling circuit: bv_11 for compilation: triq_lcd_sabre\n",
      "Compiling circuit: bv_2 for compilation: qiskit_3\n",
      "Compiling circuit: bv_2 for compilation: triq_avg_sabre\n",
      "Compiling circuit: bv_2 for compilation: triq_lcd_sabre\n",
      "Compiling circuit: bv_5 for compilation: qiskit_3\n",
      "Compiling circuit: bv_5 for compilation: triq_avg_sabre\n",
      "Compiling circuit: bv_5 for compilation: triq_lcd_sabre\n",
      "Compiling circuit: bv_7 for compilation: qiskit_3\n",
      "Compiling circuit: bv_7 for compilation: triq_avg_sabre\n",
      "Compiling circuit: bv_7 for compilation: triq_lcd_sabre\n",
      "Compiling circuit: bv_3 for compilation: qiskit_3\n",
      "Compiling circuit: bv_3 for compilation: triq_avg_sabre\n",
      "Compiling circuit: bv_3 for compilation: triq_lcd_sabre\n",
      "Compiling circuit: bv_4 for compilation: qiskit_3\n",
      "Compiling circuit: bv_4 for compilation: triq_avg_sabre\n",
      "Compiling circuit: bv_4 for compilation: triq_lcd_sabre\n",
      "Compiling circuit: bv_6 for compilation: qiskit_3\n",
      "Compiling circuit: bv_6 for compilation: triq_avg_sabre\n",
      "Compiling circuit: bv_6 for compilation: triq_lcd_sabre\n",
      "Compiling circuit: bv_8 for compilation: qiskit_3\n",
      "Compiling circuit: bv_8 for compilation: triq_avg_sabre\n",
      "Compiling circuit: bv_8 for compilation: triq_lcd_sabre\n",
      "Compiling circuit: bv_12 for compilation: qiskit_3\n",
      "Compiling circuit: bv_12 for compilation: triq_avg_sabre\n",
      "Compiling circuit: bv_12 for compilation: triq_lcd_sabre\n",
      "Total send to real backend : 1\n",
      "Time for setup the backends: 8.18779953988269e-05 seconds\n",
      "Total no of circuits : 33\n",
      "Sending to ibm_sherbrooke with batch id: 158 ... \n",
      "Sent!\n",
      "Time for sending to real backend: 3.7959706660039956 seconds\n"
     ]
    }
   ],
   "source": [
    "token = \"b7080f298c6a1289edb76002b0b0e50595a4a1c8c97092e02a06f0125006cf983291c537b97bb06c8a563f86bf4011ab7708bb101d28b296df49085d43c859fb\"\n",
    "\n",
    "# prepare the circuit\n",
    "base_folder = \"./circuits/bv/\"\n",
    "qasm_files = q.get_qasm_files_from_path(file_path=base_folder)\n",
    "\n",
    "print(qasm_files)\n",
    "\n",
    "# select compilation techniques\n",
    "compilations = [\"qiskit_3\", \"triq_avg_sabre\", \"triq_lcd_sabre\"]\n",
    "# compilations = [\"qiskit_0\", \"qiskit_3\"]\n",
    "\n",
    "q = QEM(runs=conf.runs, user_id=conf.user_id, token=token)\n",
    "q.send_to_real_backend(\"sampler\", qasm_files, compilations, hardware_name=\"ibm_sherbrooke\")\n",
    "\n",
    "q = QEM(runs=conf.runs, user_id=conf.user_id, token=token)\n",
    "\n",
    "dd_options: DynamicalDecouplingOptions = {\n",
    "    'enable':True, \n",
    "#    'sequence_type':'XpXm',\n",
    "    'sequence_type':'XY4',\n",
    "    'scheduling_method': 'alap'\n",
    "} \n",
    "\n",
    "q.send_to_real_backend(\"sampler\", qasm_files, compilations, hardware_name=\"ibm_sherbrooke\", dd_options = dd_options)\n"
   ]
  },
  {
   "cell_type": "code",
   "execution_count": 8,
   "metadata": {},
   "outputs": [
    {
     "name": "stdout",
     "output_type": "stream",
     "text": [
      "['./circuits/adder/adder_n7.qasm', './circuits/adder/adder_n4.qasm', './circuits/adder/adder_n10.qasm']\n",
      "Time for setup the services: 3.8128071690007346 seconds\n",
      "Time for running the init header: 0.00029183200967963785 seconds\n",
      "Compiling circuit: adder_n7 for compilation: qiskit_3\n",
      "Compiling circuit: adder_n7 for compilation: triq_avg_sabre\n",
      "Compiling circuit: adder_n7 for compilation: triq_lcd_sabre\n",
      "Compiling circuit: adder_n4 for compilation: qiskit_3\n",
      "Compiling circuit: adder_n4 for compilation: triq_avg_sabre\n",
      "Compiling circuit: adder_n4 for compilation: triq_lcd_sabre\n",
      "Compiling circuit: adder_n10 for compilation: qiskit_3\n",
      "Compiling circuit: adder_n10 for compilation: triq_avg_sabre\n",
      "Compiling circuit: adder_n10 for compilation: triq_lcd_sabre\n",
      "Total send to real backend : 1\n",
      "Time for setup the backends: 8.096700184978545e-05 seconds\n",
      "Total no of circuits : 9\n",
      "Sending to ibm_sherbrooke with batch id: 161 ... \n",
      "Sent!\n",
      "Time for sending to real backend: 2.5921700000035344 seconds\n",
      "Time for setup the services: 3.5727349980006693 seconds\n",
      "Time for running the init header: 0.0003650900034699589 seconds\n",
      "Compiling circuit: adder_n7 for compilation: qiskit_3\n",
      "Compiling circuit: adder_n7 for compilation: triq_avg_sabre\n",
      "Compiling circuit: adder_n7 for compilation: triq_lcd_sabre\n",
      "Compiling circuit: adder_n4 for compilation: qiskit_3\n",
      "Compiling circuit: adder_n4 for compilation: triq_avg_sabre\n",
      "Compiling circuit: adder_n4 for compilation: triq_lcd_sabre\n",
      "Compiling circuit: adder_n10 for compilation: qiskit_3\n",
      "Compiling circuit: adder_n10 for compilation: triq_avg_sabre\n",
      "Compiling circuit: adder_n10 for compilation: triq_lcd_sabre\n",
      "Total send to real backend : 1\n",
      "Time for setup the backends: 8.610299846623093e-05 seconds\n",
      "Total no of circuits : 9\n",
      "Sending to ibm_sherbrooke with batch id: 162 ... \n",
      "Sent!\n",
      "Time for sending to real backend: 2.4239548390032724 seconds\n"
     ]
    }
   ],
   "source": [
    "token = \"82564a51a775be1813eaa346725b57eb575c89860215015353eeec69464b40c1bf8de980748027b6c775fddd8b319bede28fa1cf691e1783240807d322394b29\"\n",
    "\n",
    "# prepare the circuit\n",
    "base_folder = \"./circuits/adder/\"\n",
    "qasm_files = q.get_qasm_files_from_path(file_path=base_folder)\n",
    "\n",
    "print(qasm_files)\n",
    "\n",
    "# select compilation techniques\n",
    "compilations = [\"qiskit_3\", \"triq_avg_sabre\", \"triq_lcd_sabre\"]\n",
    "# compilations = [\"qiskit_0\", \"qiskit_3\"]\n",
    "\n",
    "q = QEM(runs=conf.runs, user_id=conf.user_id, token=token)\n",
    "q.send_to_real_backend(\"sampler\", qasm_files, compilations, hardware_name=\"ibm_sherbrooke\")\n",
    "\n",
    "q = QEM(runs=conf.runs, user_id=conf.user_id, token=token)\n",
    "\n",
    "dd_options: DynamicalDecouplingOptions = {\n",
    "    'enable':True, \n",
    "#    'sequence_type':'XpXm',\n",
    "    'sequence_type':'XY4',\n",
    "    'scheduling_method': 'alap'\n",
    "} \n",
    "\n",
    "q.send_to_real_backend(\"sampler\", qasm_files, compilations, hardware_name=\"ibm_sherbrooke\", dd_options = dd_options)\n"
   ]
  },
  {
   "cell_type": "code",
   "execution_count": 9,
   "metadata": {},
   "outputs": [
    {
     "name": "stdout",
     "output_type": "stream",
     "text": [
      "['./circuits/calibration/OR_5.qasm', './circuits/calibration/hs4.qasm', './circuits/calibration/AND_5.qasm', './circuits/calibration/bv4.qasm', './circuits/calibration/adder_n4.qasm', './circuits/calibration/fredkin.qasm', './circuits/calibration/toffoli_n3.qasm']\n",
      "Time for setup the services: 4.203323882000404 seconds\n",
      "Time for running the init header: 0.00039359299989882857 seconds\n",
      "Compiling circuit: OR_5 for compilation: qiskit_3\n",
      "Compiling circuit: OR_5 for compilation: triq_avg_sabre\n",
      "Compiling circuit: OR_5 for compilation: triq_lcd_sabre\n",
      "Compiling circuit: hs4 for compilation: qiskit_3\n",
      "Compiling circuit: hs4 for compilation: triq_avg_sabre\n",
      "Compiling circuit: hs4 for compilation: triq_lcd_sabre\n",
      "Compiling circuit: AND_5 for compilation: qiskit_3\n",
      "Compiling circuit: AND_5 for compilation: triq_avg_sabre\n",
      "Compiling circuit: AND_5 for compilation: triq_lcd_sabre\n",
      "Compiling circuit: bv4 for compilation: qiskit_3\n",
      "Compiling circuit: bv4 for compilation: triq_avg_sabre\n",
      "Compiling circuit: bv4 for compilation: triq_lcd_sabre\n",
      "Compiling circuit: adder_n4 for compilation: qiskit_3\n",
      "Compiling circuit: adder_n4 for compilation: triq_avg_sabre\n",
      "Compiling circuit: adder_n4 for compilation: triq_lcd_sabre\n",
      "Compiling circuit: fredkin for compilation: qiskit_3\n",
      "Compiling circuit: fredkin for compilation: triq_avg_sabre\n",
      "Compiling circuit: fredkin for compilation: triq_lcd_sabre\n",
      "Compiling circuit: toffoli_n3 for compilation: qiskit_3\n",
      "Compiling circuit: toffoli_n3 for compilation: triq_avg_sabre\n",
      "Compiling circuit: toffoli_n3 for compilation: triq_lcd_sabre\n",
      "Total send to real backend : 1\n",
      "Time for setup the backends: 8.003998664207757e-05 seconds\n",
      "Total no of circuits : 21\n",
      "Sending to ibm_brisbane with batch id: 163 ... \n",
      "Sent!\n",
      "Time for sending to real backend: 3.3198223640065407 seconds\n",
      "Time for setup the services: 3.676172609993955 seconds\n",
      "Time for running the init header: 0.0005331419961294159 seconds\n",
      "Compiling circuit: OR_5 for compilation: qiskit_3\n",
      "Compiling circuit: OR_5 for compilation: triq_avg_sabre\n",
      "Compiling circuit: OR_5 for compilation: triq_lcd_sabre\n",
      "Compiling circuit: hs4 for compilation: qiskit_3\n",
      "Compiling circuit: hs4 for compilation: triq_avg_sabre\n",
      "Compiling circuit: hs4 for compilation: triq_lcd_sabre\n",
      "Compiling circuit: AND_5 for compilation: qiskit_3\n",
      "Compiling circuit: AND_5 for compilation: triq_avg_sabre\n",
      "Compiling circuit: AND_5 for compilation: triq_lcd_sabre\n",
      "Compiling circuit: bv4 for compilation: qiskit_3\n",
      "Compiling circuit: bv4 for compilation: triq_avg_sabre\n",
      "Compiling circuit: bv4 for compilation: triq_lcd_sabre\n",
      "Compiling circuit: adder_n4 for compilation: qiskit_3\n",
      "Compiling circuit: adder_n4 for compilation: triq_avg_sabre\n",
      "Compiling circuit: adder_n4 for compilation: triq_lcd_sabre\n",
      "Compiling circuit: fredkin for compilation: qiskit_3\n",
      "Compiling circuit: fredkin for compilation: triq_avg_sabre\n",
      "Compiling circuit: fredkin for compilation: triq_lcd_sabre\n",
      "Compiling circuit: toffoli_n3 for compilation: qiskit_3\n",
      "Compiling circuit: toffoli_n3 for compilation: triq_avg_sabre\n",
      "Compiling circuit: toffoli_n3 for compilation: triq_lcd_sabre\n",
      "Total send to real backend : 1\n",
      "Time for setup the backends: 7.981699309311807e-05 seconds\n",
      "Total no of circuits : 21\n",
      "Sending to ibm_brisbane with batch id: 164 ... \n",
      "Sent!\n",
      "Time for sending to real backend: 3.1248975659982534 seconds\n"
     ]
    }
   ],
   "source": [
    "token = \"b55a6dca139ec26e7e8e4c29075fc44e395ceb05bb33d5c40c0820dc5edd6360410c8d62b88b918f04fabf8cbf29e4eb8f52c551c85d500ab8259e662a573a14\"\n",
    "\n",
    "# prepare the circuit\n",
    "base_folder = \"./circuits/calibration/\"\n",
    "qasm_files = q.get_qasm_files_from_path(file_path=base_folder)\n",
    "\n",
    "print(qasm_files)\n",
    "\n",
    "# select compilation techniques\n",
    "compilations = [\"qiskit_3\", \"triq_avg_sabre\", \"triq_lcd_sabre\"]\n",
    "# compilations = [\"qiskit_0\", \"qiskit_3\"]\n",
    "\n",
    "q = QEM(runs=conf.runs, user_id=conf.user_id, token=token)\n",
    "q.send_to_real_backend(\"sampler\", qasm_files, compilations, hardware_name=\"ibm_brisbane\")\n",
    "\n",
    "q = QEM(runs=conf.runs, user_id=conf.user_id, token=token)\n",
    "\n",
    "dd_options: DynamicalDecouplingOptions = {\n",
    "    'enable':True, \n",
    "#    'sequence_type':'XpXm',\n",
    "    'sequence_type':'XY4',\n",
    "    'scheduling_method': 'alap'\n",
    "} \n",
    "\n",
    "q.send_to_real_backend(\"sampler\", qasm_files, compilations, hardware_name=\"ibm_brisbane\", dd_options = dd_options)\n"
   ]
  },
  {
   "cell_type": "code",
   "execution_count": 10,
   "metadata": {},
   "outputs": [
    {
     "name": "stdout",
     "output_type": "stream",
     "text": [
      "['./circuits/bv/bv_10.qasm', './circuits/bv/bv_9.qasm', './circuits/bv/bv_11.qasm', './circuits/bv/bv_2.qasm', './circuits/bv/bv_5.qasm', './circuits/bv/bv_7.qasm', './circuits/bv/bv_3.qasm', './circuits/bv/bv_4.qasm', './circuits/bv/bv_6.qasm', './circuits/bv/bv_8.qasm', './circuits/bv/bv_12.qasm']\n",
      "Time for setup the services: 4.641384299000492 seconds\n",
      "Time for running the init header: 0.000416808994486928 seconds\n",
      "Compiling circuit: bv_10 for compilation: qiskit_3\n",
      "Compiling circuit: bv_10 for compilation: triq_avg_sabre\n",
      "Compiling circuit: bv_10 for compilation: triq_lcd_sabre\n",
      "Compiling circuit: bv_9 for compilation: qiskit_3\n",
      "Compiling circuit: bv_9 for compilation: triq_avg_sabre\n",
      "Compiling circuit: bv_9 for compilation: triq_lcd_sabre\n",
      "Compiling circuit: bv_11 for compilation: qiskit_3\n",
      "Compiling circuit: bv_11 for compilation: triq_avg_sabre\n",
      "Compiling circuit: bv_11 for compilation: triq_lcd_sabre\n",
      "Compiling circuit: bv_2 for compilation: qiskit_3\n",
      "Compiling circuit: bv_2 for compilation: triq_avg_sabre\n",
      "Compiling circuit: bv_2 for compilation: triq_lcd_sabre\n",
      "Compiling circuit: bv_5 for compilation: qiskit_3\n",
      "Compiling circuit: bv_5 for compilation: triq_avg_sabre\n",
      "Compiling circuit: bv_5 for compilation: triq_lcd_sabre\n",
      "Compiling circuit: bv_7 for compilation: qiskit_3\n",
      "Compiling circuit: bv_7 for compilation: triq_avg_sabre\n",
      "Compiling circuit: bv_7 for compilation: triq_lcd_sabre\n",
      "Compiling circuit: bv_3 for compilation: qiskit_3\n",
      "Compiling circuit: bv_3 for compilation: triq_avg_sabre\n",
      "Compiling circuit: bv_3 for compilation: triq_lcd_sabre\n",
      "Compiling circuit: bv_4 for compilation: qiskit_3\n",
      "Compiling circuit: bv_4 for compilation: triq_avg_sabre\n",
      "Compiling circuit: bv_4 for compilation: triq_lcd_sabre\n",
      "Compiling circuit: bv_6 for compilation: qiskit_3\n",
      "Compiling circuit: bv_6 for compilation: triq_avg_sabre\n",
      "Compiling circuit: bv_6 for compilation: triq_lcd_sabre\n",
      "Compiling circuit: bv_8 for compilation: qiskit_3\n",
      "Compiling circuit: bv_8 for compilation: triq_avg_sabre\n",
      "Compiling circuit: bv_8 for compilation: triq_lcd_sabre\n",
      "Compiling circuit: bv_12 for compilation: qiskit_3\n",
      "Compiling circuit: bv_12 for compilation: triq_avg_sabre\n",
      "Compiling circuit: bv_12 for compilation: triq_lcd_sabre\n",
      "Total send to real backend : 1\n",
      "Time for setup the backends: 0.00011326000094413757 seconds\n",
      "Total no of circuits : 33\n",
      "Sending to ibm_brisbane with batch id: 165 ... \n",
      "Sent!\n",
      "Time for sending to real backend: 4.054655915999319 seconds\n",
      "Time for setup the services: 3.75874361199385 seconds\n",
      "Time for running the init header: 0.0004973360046278685 seconds\n",
      "Compiling circuit: bv_10 for compilation: qiskit_3\n",
      "Compiling circuit: bv_10 for compilation: triq_avg_sabre\n",
      "Compiling circuit: bv_10 for compilation: triq_lcd_sabre\n",
      "Compiling circuit: bv_9 for compilation: qiskit_3\n",
      "Compiling circuit: bv_9 for compilation: triq_avg_sabre\n",
      "Compiling circuit: bv_9 for compilation: triq_lcd_sabre\n",
      "Compiling circuit: bv_11 for compilation: qiskit_3\n",
      "Compiling circuit: bv_11 for compilation: triq_avg_sabre\n",
      "Compiling circuit: bv_11 for compilation: triq_lcd_sabre\n",
      "Compiling circuit: bv_2 for compilation: qiskit_3\n",
      "Compiling circuit: bv_2 for compilation: triq_avg_sabre\n",
      "Compiling circuit: bv_2 for compilation: triq_lcd_sabre\n",
      "Compiling circuit: bv_5 for compilation: qiskit_3\n",
      "Compiling circuit: bv_5 for compilation: triq_avg_sabre\n",
      "Compiling circuit: bv_5 for compilation: triq_lcd_sabre\n",
      "Compiling circuit: bv_7 for compilation: qiskit_3\n",
      "Compiling circuit: bv_7 for compilation: triq_avg_sabre\n",
      "Compiling circuit: bv_7 for compilation: triq_lcd_sabre\n",
      "Compiling circuit: bv_3 for compilation: qiskit_3\n",
      "Compiling circuit: bv_3 for compilation: triq_avg_sabre\n",
      "Compiling circuit: bv_3 for compilation: triq_lcd_sabre\n",
      "Compiling circuit: bv_4 for compilation: qiskit_3\n",
      "Compiling circuit: bv_4 for compilation: triq_avg_sabre\n",
      "Compiling circuit: bv_4 for compilation: triq_lcd_sabre\n",
      "Compiling circuit: bv_6 for compilation: qiskit_3\n",
      "Compiling circuit: bv_6 for compilation: triq_avg_sabre\n",
      "Compiling circuit: bv_6 for compilation: triq_lcd_sabre\n",
      "Compiling circuit: bv_8 for compilation: qiskit_3\n",
      "Compiling circuit: bv_8 for compilation: triq_avg_sabre\n",
      "Compiling circuit: bv_8 for compilation: triq_lcd_sabre\n",
      "Compiling circuit: bv_12 for compilation: qiskit_3\n",
      "Compiling circuit: bv_12 for compilation: triq_avg_sabre\n",
      "Compiling circuit: bv_12 for compilation: triq_lcd_sabre\n",
      "Total send to real backend : 1\n",
      "Time for setup the backends: 0.00012970200623385608 seconds\n",
      "Total no of circuits : 33\n",
      "Sending to ibm_brisbane with batch id: 166 ... \n",
      "Sent!\n",
      "Time for sending to real backend: 4.433540625002934 seconds\n"
     ]
    }
   ],
   "source": [
    "token = \"17f754a669cbcf0dbae3219a12de351d6248da2b8bd27deb218f63324dcdf8ffb393041f749a8017314899a03aaf75debb4560b83827ea1f4dd7fb9aa2a865d8\"\n",
    "\n",
    "# prepare the circuit\n",
    "base_folder = \"./circuits/bv/\"\n",
    "qasm_files = q.get_qasm_files_from_path(file_path=base_folder)\n",
    "\n",
    "print(qasm_files)\n",
    "\n",
    "# select compilation techniques\n",
    "compilations = [\"qiskit_3\", \"triq_avg_sabre\", \"triq_lcd_sabre\"]\n",
    "# compilations = [\"qiskit_0\", \"qiskit_3\"]\n",
    "\n",
    "q = QEM(runs=conf.runs, user_id=conf.user_id, token=token)\n",
    "q.send_to_real_backend(\"sampler\", qasm_files, compilations, hardware_name=\"ibm_brisbane\")\n",
    "\n",
    "q = QEM(runs=conf.runs, user_id=conf.user_id, token=token)\n",
    "\n",
    "dd_options: DynamicalDecouplingOptions = {\n",
    "    'enable':True, \n",
    "#    'sequence_type':'XpXm',\n",
    "    'sequence_type':'XY4',\n",
    "    'scheduling_method': 'alap'\n",
    "} \n",
    "\n",
    "q.send_to_real_backend(\"sampler\", qasm_files, compilations, hardware_name=\"ibm_brisbane\", dd_options = dd_options)\n"
   ]
  },
  {
   "cell_type": "code",
   "execution_count": 11,
   "metadata": {},
   "outputs": [
    {
     "name": "stdout",
     "output_type": "stream",
     "text": [
      "['./circuits/adder/adder_n7.qasm', './circuits/adder/adder_n4.qasm', './circuits/adder/adder_n10.qasm']\n",
      "Time for setup the services: 4.138894640011131 seconds\n",
      "Time for running the init header: 0.0004259370034560561 seconds\n",
      "Compiling circuit: adder_n7 for compilation: qiskit_3\n",
      "Compiling circuit: adder_n7 for compilation: triq_avg_sabre\n",
      "Compiling circuit: adder_n7 for compilation: triq_lcd_sabre\n",
      "Compiling circuit: adder_n4 for compilation: qiskit_3\n",
      "Compiling circuit: adder_n4 for compilation: triq_avg_sabre\n",
      "Compiling circuit: adder_n4 for compilation: triq_lcd_sabre\n",
      "Compiling circuit: adder_n10 for compilation: qiskit_3\n",
      "Compiling circuit: adder_n10 for compilation: triq_avg_sabre\n",
      "Compiling circuit: adder_n10 for compilation: triq_lcd_sabre\n",
      "Total send to real backend : 1\n",
      "Time for setup the backends: 8.514500223100185e-05 seconds\n",
      "Total no of circuits : 9\n",
      "Sending to ibm_brisbane with batch id: 167 ... \n",
      "Sent!\n",
      "Time for sending to real backend: 2.5939491070021177 seconds\n",
      "Time for setup the services: 3.7134584470040863 seconds\n",
      "Time for running the init header: 0.0005075160006526858 seconds\n",
      "Compiling circuit: adder_n7 for compilation: qiskit_3\n",
      "Compiling circuit: adder_n7 for compilation: triq_avg_sabre\n",
      "Compiling circuit: adder_n7 for compilation: triq_lcd_sabre\n",
      "Compiling circuit: adder_n4 for compilation: qiskit_3\n",
      "Compiling circuit: adder_n4 for compilation: triq_avg_sabre\n",
      "Compiling circuit: adder_n4 for compilation: triq_lcd_sabre\n",
      "Compiling circuit: adder_n10 for compilation: qiskit_3\n",
      "Compiling circuit: adder_n10 for compilation: triq_avg_sabre\n",
      "Compiling circuit: adder_n10 for compilation: triq_lcd_sabre\n",
      "Total send to real backend : 1\n",
      "Time for setup the backends: 0.0001112000027205795 seconds\n",
      "Total no of circuits : 9\n",
      "Sending to ibm_brisbane with batch id: 168 ... \n",
      "Sent!\n",
      "Time for sending to real backend: 2.3945931420021225 seconds\n"
     ]
    }
   ],
   "source": [
    "token = \"1d450995bf537145e23d54d7d7a6f1f49c07b411e5d0aefc87f1fdbe7f47a4ee24f7812e6225998f59505542098fee89630ada38da0cb1699a1d64ed6f42b081\"\n",
    "\n",
    "# prepare the circuit\n",
    "base_folder = \"./circuits/adder/\"\n",
    "qasm_files = q.get_qasm_files_from_path(file_path=base_folder)\n",
    "\n",
    "print(qasm_files)\n",
    "\n",
    "# select compilation techniques\n",
    "compilations = [\"qiskit_3\", \"triq_avg_sabre\", \"triq_lcd_sabre\"]\n",
    "# compilations = [\"qiskit_0\", \"qiskit_3\"]\n",
    "\n",
    "q = QEM(runs=conf.runs, user_id=conf.user_id, token=token)\n",
    "q.send_to_real_backend(\"sampler\", qasm_files, compilations, hardware_name=\"ibm_brisbane\")\n",
    "\n",
    "q = QEM(runs=conf.runs, user_id=conf.user_id, token=token)\n",
    "\n",
    "dd_options: DynamicalDecouplingOptions = {\n",
    "    'enable':True, \n",
    "#    'sequence_type':'XpXm',\n",
    "    'sequence_type':'XY4',\n",
    "    'scheduling_method': 'alap'\n",
    "} \n",
    "\n",
    "q.send_to_real_backend(\"sampler\", qasm_files, compilations, hardware_name=\"ibm_brisbane\", dd_options = dd_options)\n"
   ]
  },
  {
   "cell_type": "code",
   "execution_count": 12,
   "metadata": {},
   "outputs": [
    {
     "name": "stdout",
     "output_type": "stream",
     "text": [
      "Pending jobs:  12\n",
      "Checking results for:  ct8g0s3ykbsg008yzf80 with header id : 155\n",
      "Job status : QUEUED\n",
      "Checking results for:  ct8g0z3ykbsg008yzf90 with header id : 156\n",
      "Job status : QUEUED\n",
      "Checking results for:  ct8g164wmw20008whp8g with header id : 157\n",
      "Job status : QUEUED\n",
      "Checking results for:  ct8g1cn3b8m0008c9rkg with header id : 158\n",
      "Job status : QUEUED\n",
      "Checking results for:  ct8g2b9ykbsg008yzfng with header id : 161\n",
      "Job status : QUEUED\n",
      "Checking results for:  ct8g2eswmw20008whpj0 with header id : 162\n",
      "Job status : QUEUED\n",
      "Checking results for:  ct8g2m2qsez0008a2czg with header id : 163\n",
      "Job status : QUEUED\n",
      "Checking results for:  ct8g2tkcvhg0008wpkd0 with header id : 164\n",
      "Job status : QUEUED\n",
      "Checking results for:  ct8g324qsez0008a2d6g with header id : 165\n",
      "Job status : QUEUED\n",
      "Checking results for:  ct8g395ykbsg008yzfx0 with header id : 166\n",
      "Job status : QUEUED\n",
      "Checking results for:  ct8g3d57rgf00085nyd0 with header id : 167\n",
      "Job status : QUEUED\n",
      "Checking results for:  ct8g3gpcvhg0008wpkhg with header id : 168\n",
      "Job status : QUEUED\n",
      "Executed jobs : 0\n"
     ]
    }
   ],
   "source": [
    "q.get_qiskit_result()"
   ]
  },
  {
   "cell_type": "markdown",
   "metadata": {},
   "source": [
    "### Update the configs from the collected calibration data"
   ]
  },
  {
   "cell_type": "markdown",
   "metadata": {},
   "source": [
    "To update the fake backend calibration data"
   ]
  },
  {
   "cell_type": "code",
   "execution_count": null,
   "metadata": {},
   "outputs": [],
   "source": [
    "# q.update_hardware_configs()"
   ]
  },
  {
   "cell_type": "code",
   "execution_count": null,
   "metadata": {},
   "outputs": [],
   "source": [
    "# qiskit_wrapper.generate_new_props(q.backend, \"avg\")\n",
    "# qiskit_wrapper.generate_new_props(q.backend, \"mix\")\n",
    "# qiskit_wrapper.generate_new_props(q.backend, \"recent_15_adjust\")"
   ]
  },
  {
   "cell_type": "markdown",
   "metadata": {},
   "source": [
    "# Detailed breakdown"
   ]
  },
  {
   "cell_type": "markdown",
   "metadata": {},
   "source": [
    "### Set the backend\n",
    "\n",
    "There are two program types for the backend: `Sampler` or `Estimator`. Here it is also possible to add the options for DynamicalDecoupling (DD) and Twirling, which will be explained later."
   ]
  },
  {
   "cell_type": "code",
   "execution_count": null,
   "metadata": {},
   "outputs": [],
   "source": [
    "q.set_backend(program_type=\"sampler\")"
   ]
  },
  {
   "cell_type": "markdown",
   "metadata": {},
   "source": [
    "## Prepare the circuits"
   ]
  },
  {
   "cell_type": "markdown",
   "metadata": {},
   "source": [
    "You can get the quantum circuit from a folder contains the qasm files or qasm string"
   ]
  },
  {
   "cell_type": "code",
   "execution_count": null,
   "metadata": {},
   "outputs": [],
   "source": [
    "# The path is coming from the config file, but you can also modify it here\n",
    "conf.base_folder = \"./circuits/testing/\"\n",
    "qasm_files = q.get_qasm_files_from_path()\n",
    "print(qasm_files)"
   ]
  },
  {
   "cell_type": "markdown",
   "metadata": {},
   "source": [
    "Get the circuits from file"
   ]
  },
  {
   "cell_type": "code",
   "execution_count": null,
   "metadata": {},
   "outputs": [],
   "source": [
    "qc = q.get_circuit_properties(qasm_source=qasm_files[0])\n",
    "qc.circuit.draw(idle_wires=False)"
   ]
  },
  {
   "cell_type": "markdown",
   "metadata": {},
   "source": [
    "Or you can also get it from the qasm strings"
   ]
  },
  {
   "cell_type": "code",
   "execution_count": null,
   "metadata": {},
   "outputs": [],
   "source": [
    "qasm_text = \"\"\"OPENQASM 2.0;\n",
    "include \"qelib1.inc\";\n",
    "qreg q[2];\n",
    "creg c[2];\n",
    "h q[0];\n",
    "cx q[0], q[1];\n",
    "barrier q[0], q[1];\n",
    "measure q[0] -> c[0];\n",
    "measure q[1] -> c[1];\n",
    "\"\"\"\n",
    "\n",
    "qc = q.get_circuit_properties(qasm_source=qasm_text)\n",
    "qc.circuit.draw(idle_wires=False)"
   ]
  },
  {
   "cell_type": "markdown",
   "metadata": {},
   "source": [
    "`q.get_circuit_properties` will give an object of `QiskitCircuit` which will give the information of the circuits: \n",
    "- `circuit`: `QuantumCircuit` object from Qiskit\n",
    "- `depth`: circuit depth\n",
    "- `gates`: number of gates used in the circuit\n",
    "- `total_gates`: number of total gates used in the circuit\n",
    "- `correct_output`: noiseless output from the simulation\n",
    "- `qasm`: OpenQASM2 file from the circuit translated to `U3` and `cx` gates\n",
    "- `qasm_original`: OpenQASM2 file from the circuit original\n"
   ]
  },
  {
   "cell_type": "code",
   "execution_count": null,
   "metadata": {},
   "outputs": [],
   "source": [
    "qc.circuit.draw(\"mpl\")"
   ]
  },
  {
   "cell_type": "code",
   "execution_count": null,
   "metadata": {},
   "outputs": [],
   "source": [
    "print(\"Number of depth:\", qc.depth)\n",
    "print(\"Number of gates:\", qc.gates)\n",
    "print(\"Number of total gates:\", qc.total_gate) \n",
    "print(\"Noiseless simulation output:\", qc.correct_output)\n",
    "print(\"Circuit Qasm:\", qc.qasm)"
   ]
  },
  {
   "cell_type": "markdown",
   "metadata": {},
   "source": [
    "## Compilation Techniques"
   ]
  },
  {
   "cell_type": "markdown",
   "metadata": {},
   "source": [
    "### Qiskit"
   ]
  },
  {
   "cell_type": "markdown",
   "metadata": {},
   "source": [
    "We integrated several compilation techniques from Qiskit.\n",
    "\n",
    "Note: After Qiskit 1.0, Noise-Adaptive (NA) initial layout method has been removed."
   ]
  },
  {
   "cell_type": "code",
   "execution_count": null,
   "metadata": {},
   "outputs": [],
   "source": [
    "print(\"Existing Qiskit Compilation Options:\")\n",
    "for member in qiskit_compilation_enum:\n",
    "    if not \"NA\" in member.name:\n",
    "        print(member.name)"
   ]
  },
  {
   "cell_type": "code",
   "execution_count": null,
   "metadata": {},
   "outputs": [],
   "source": [
    "for member in qiskit_compilation_enum:\n",
    "    if not \"NA\" in member.name:\n",
    "        updated_qasm, initial_mapping = q.compile(qasm=qc.qasm_original, compilation_name=member.name)\n",
    "        print(member.name, initial_mapping)"
   ]
  },
  {
   "cell_type": "code",
   "execution_count": null,
   "metadata": {},
   "outputs": [],
   "source": [
    "print(updated_qasm)"
   ]
  },
  {
   "cell_type": "markdown",
   "metadata": {},
   "source": [
    "### TriQ"
   ]
  },
  {
   "cell_type": "markdown",
   "metadata": {},
   "source": [
    "Also, we integrate TriQ Compilation with different options.\n",
    "\n",
    "Qubit placement options:\n",
    "- `na`: initial mapping from Noise-adaptive technique []\n",
    "- `mapo`: initial mapping from Mapomatic technique []\n",
    "- `sabre`: initial mapping from SABRE []\n",
    "\n",
    "Calibration type options:\n",
    "- `lcd` : TriQ's routing with last calibration data.\n",
    "- `avg` : TriQ's routing with average calibration data.\n",
    "- `mix` : TriQ's routing with mix calibration data. (Mix = if the qubits calibrated today, we will use the last calibration data for that qubit, otherwise we will use the average)\n",
    "\n",
    "The combinations of name become: `triq_<calibration_type>_<layout>`. For examples:\n",
    "- `triq_avg_na`\n",
    "- `triq_mix_sabre`\n",
    "\n",
    "**Note: From Qiskit version > 1.0.0, `noise_adaptive` layout has been removed**"
   ]
  },
  {
   "cell_type": "code",
   "execution_count": null,
   "metadata": {},
   "outputs": [],
   "source": [
    "updated_qasm, initial_mapping = q.compile(qasm=qc.qasm_original, compilation_name=\"triq_avg_sabre\")\n",
    "#print(updated_qasm)\n",
    "print(\"triq_avg_sabre :\", initial_mapping)\n",
    "updated_qasm, initial_mapping = q.compile(qasm=qc.qasm_original, compilation_name=\"triq_lcd_sabre\")\n",
    "print(\"triq_lcd_sabre :\", initial_mapping)\n",
    "updated_qasm, initial_mapping = q.compile(qasm=qc.qasm_original, compilation_name=\"triq_mix_sabre\")\n",
    "print(\"triq_mix_sabre :\", initial_mapping)"
   ]
  },
  {
   "cell_type": "markdown",
   "metadata": {},
   "source": [
    "## Initiate Noisy simulator"
   ]
  },
  {
   "cell_type": "markdown",
   "metadata": {},
   "source": [
    "To play around with the noise, we can get retrieve the last recorded calibration data from IBM's backend, and scale down the error\n"
   ]
  },
  {
   "cell_type": "code",
   "execution_count": null,
   "metadata": {},
   "outputs": [],
   "source": [
    "noise_model, noisy_simulator, coupling_map = qiskit_wrapper.get_noisy_simulator(q.backend, 1)"
   ]
  },
  {
   "cell_type": "markdown",
   "metadata": {},
   "source": [
    "## Running the compiled circuit to the simulator"
   ]
  },
  {
   "cell_type": "markdown",
   "metadata": {},
   "source": [
    "First, we need to transpile the circuit to the targeted backend"
   ]
  },
  {
   "cell_type": "code",
   "execution_count": null,
   "metadata": {},
   "outputs": [],
   "source": [
    "qc = QiskitCircuit(updated_qasm)\n",
    "circuit = qc.transpile_to_target_backend(q.backend)\n",
    "#circuit.draw(\"mpl\", idle_wires=False, fold=60)"
   ]
  },
  {
   "cell_type": "code",
   "execution_count": null,
   "metadata": {},
   "outputs": [],
   "source": [
    "shots = 5000\n",
    "q.set_backend(program_type=\"sampler\", backend=noisy_simulator, shots=shots)"
   ]
  },
  {
   "cell_type": "code",
   "execution_count": null,
   "metadata": {},
   "outputs": [],
   "source": [
    "job = q.program.run(pubs=[circuit])\n",
    "result = job.result()[0]\n",
    "output = result.data.c.get_counts()\n",
    "output_normalize = normalize_counts(output, shots=shots)\n",
    "shortened_output = sum_last_n_digits_dict(output, len(initial_mapping))\n",
    "#shortened_output"
   ]
  },
  {
   "cell_type": "markdown",
   "metadata": {},
   "source": [
    "## Calculate the Fidelity\n",
    "\n",
    "We use Total Variation Distance (TVD) to calculate the fidelity of the result"
   ]
  },
  {
   "cell_type": "code",
   "execution_count": null,
   "metadata": {},
   "outputs": [],
   "source": [
    "fidelity = calculate_success_rate_tvd(qc.correct_output,output_normalize)\n",
    "fidelity"
   ]
  },
  {
   "cell_type": "markdown",
   "metadata": {},
   "source": [
    "## Error Mitigation (mthree)\n",
    "\n",
    "Matrix-free Measurement Mitigation (M3).\n",
    "\n",
    "M3 is a measurement mitigation technique that solves for corrected measurement probabilities using a dimensionality reduction step followed by either direct LU factorization or a preconditioned iterative method that nominally converges in O(1) steps, and can be computed in parallel. For example, M3 can compute corrections on 42 qubit GHZ problems in under two seconds on a quad-core machine (depending on the number of unique bitstrings in the output).\n",
    "\n",
    "You can find more information about M3 [here](https://qiskit-extensions.github.io/mthree/)"
   ]
  },
  {
   "cell_type": "code",
   "execution_count": null,
   "metadata": {},
   "outputs": [],
   "source": [
    "from qiskit_ibm_runtime import QiskitRuntimeService\n",
    "qiskit_token = token\n",
    "\n",
    "QiskitRuntimeService.save_account(channel=\"ibm_quantum\", token=qiskit_token, overwrite=True)\n",
    "service = QiskitRuntimeService(channel=\"ibm_quantum\", token=qiskit_token)\n",
    "backend_service = service.backend(\"ibm_sherbrooke\")\n",
    "backend_sim = AerSimulator.from_backend(backend_service)"
   ]
  },
  {
   "cell_type": "code",
   "execution_count": null,
   "metadata": {},
   "outputs": [],
   "source": [
    "#probs_m3 = q.apply_mthree(noisy_simulator, initial_mapping, output, shots)\n",
    "probs_m3 = q.apply_mthree(backend_sim, initial_mapping, output, shots)\n",
    "fidelity_m3 = calculate_success_rate_tvd(qc.correct_output, probs_m3)\n",
    "overhead = (fidelity_m3 - fidelity) / fidelity_m3\n",
    "print(fidelity, fidelity_m3, overhead)"
   ]
  },
  {
   "cell_type": "markdown",
   "metadata": {},
   "source": [
    "## Dynamical Decoupling\n",
    "\n",
    "qubits can lose their information over time due to decoherence and can further be influenced by operations applied to other qubits via cross talk. These effects are especially recognizable if the qubits are already initialized in a quantum state but are not being used for an extended period during the calculation.\n",
    "\n",
    "To eliminate these effects, we can use dynamic decoupling, which adds pulse sequences (known as dynamical decoupling sequences) to flip idle qubits around the Bloch sphere, canceling the effect of noise channels and thereby suppressing the decoherence effect.\n",
    "\n",
    "You can find more information about the dynamical decoupling [here](https://docs.quantum.ibm.com/transpile/dynamical-decoupling-pass-manager)."
   ]
  },
  {
   "cell_type": "code",
   "execution_count": null,
   "metadata": {},
   "outputs": [],
   "source": [
    "circuit_dd = q.apply_dd(circuit, noisy_simulator, sequence_type=\"XX\", scheduling_method=\"asap\")\n",
    "#circuit_dd.draw(\"mpl\", idle_wires=False)"
   ]
  },
  {
   "cell_type": "markdown",
   "metadata": {},
   "source": [
    "# Put all of them together"
   ]
  },
  {
   "cell_type": "code",
   "execution_count": null,
   "metadata": {},
   "outputs": [],
   "source": [
    "res_circuit_name = []\n",
    "res_compilations = []\n",
    "res_noise_levels = []\n",
    "res_success_rate = []\n",
    "res_success_rate_dd = []\n",
    "res_success_rate_m3 = []\n",
    "res_success_rate_dd_m3 = []\n",
    "\n",
    "# Prepare the object\n",
    "q = QEM(runs=conf.runs, user_id=conf.user_id, token=token)\n",
    "\n",
    "# prepare the backend\n",
    "q.set_backend(program_type=\"sampler\")\n",
    "\n",
    "# prepare the circuit\n",
    "conf.base_folder = \"./circuits/testing/\"\n",
    "qasm_files = q.get_qasm_files_from_path()\n",
    "\n",
    "shots = 1000\n",
    "\n",
    "# select compilation techniques\n",
    "compilations = [\"qiskit_3\", \"triq_avg_sabre\", \"triq_lcd_sabre\"]\n",
    "# compilations = [\"qiskit_0\", \"qiskit_3\"]\n",
    "\n",
    "# select the noise levels (0 = noiseless, 1 = noise model from real backend)\n",
    "# noise_levels = [0.0, 0.1, 0.2, 0.4, 0.6, 0.8, 1.0]\n",
    "noise_levels = [1.0]\n",
    "\n",
    "\n",
    "for qasm in qasm_files:\n",
    "    qc = q.get_circuit_properties(qasm_source=qasm)\n",
    "    circuit_name = qasm.split(\"/\")[-1].split(\".\")[0]\n",
    "\n",
    "    for comp in compilations:    \n",
    "        updated_qasm, initial_mapping = q.compile(qasm=qc.qasm_original, compilation_name=comp)\n",
    "        compiled_qc = QiskitCircuit(updated_qasm)\n",
    "        circuit = compiled_qc.transpile_to_target_backend(q.backend)\n",
    "\n",
    "        print(\"Circuit : \", circuit_name, \", Compilation : \", comp)\n",
    "        \n",
    "        for noise in noise_levels:\n",
    "            \n",
    "            noise_model, noisy_simulator, coupling_map = qiskit_wrapper.get_noisy_simulator(q.backend, noise)\n",
    "            \n",
    "            job = noisy_simulator.run(circuit, shots=shots)\n",
    "            result = job.result()  \n",
    "            output = result.get_counts()\n",
    "            output_normalize = normalize_counts(output, shots=shots)\n",
    "\n",
    "            tvd = calculate_success_rate_tvd(qc.correct_output,output_normalize)\n",
    "\n",
    "            probs_m3 = q.apply_mthree(noisy_simulator, initial_mapping, output, shots)\n",
    "            tvd_m3 = calculate_success_rate_tvd(qc.correct_output, probs_m3)\n",
    "            \n",
    "            circuit_dd = q.apply_dd(circuit, noisy_simulator, sequence_type=\"XX\", scheduling_method=\"asap\")\n",
    "            job_dd = noisy_simulator.run(circuit_dd, shots=shots)\n",
    "            result_dd = job_dd.result()  \n",
    "            output_dd = result.get_counts()\n",
    "            output_normalize_dd = normalize_counts(output_dd, shots=shots)\n",
    "\n",
    "            tvd_dd = calculate_success_rate_tvd(qc.correct_output,output_normalize)\n",
    "\n",
    "            probs_dd_m3 = q.apply_mthree(noisy_simulator, initial_mapping, output_dd, shots)\n",
    "            tvd_dd_m3 = calculate_success_rate_tvd(qc.correct_output, probs_m3)\n",
    "            \n",
    "            \n",
    "            print(\"Noise level :\", noise, \"- sr :\", np.round(tvd,4), \", sr m3:\", np.round(tvd_m3,4),\n",
    "                  \", sr dd :\", np.round(tvd_dd,4), \", sr dd m3:\", np.round(tvd_dd_m3,4))\n",
    "            res_circuit_name.append(circuit_name)\n",
    "            res_compilations.append(comp)\n",
    "            res_noise_levels.append(noise)\n",
    "            res_success_rate.append(tvd)\n",
    "            res_success_rate_m3.append(tvd_m3)\n",
    "            res_success_rate_dd.append(tvd_dd)\n",
    "            res_success_rate_dd_m3.append(tvd_dd_m3)\n",
    "\n",
    "        \n"
   ]
  },
  {
   "cell_type": "code",
   "execution_count": null,
   "metadata": {},
   "outputs": [],
   "source": [
    "for qasm in qasm_files:\n",
    "    qc = q.get_circuit_properties(qasm_source=qasm)\n",
    "    "
   ]
  },
  {
   "cell_type": "markdown",
   "metadata": {},
   "source": [
    "## Plot the results"
   ]
  },
  {
   "cell_type": "code",
   "execution_count": null,
   "metadata": {},
   "outputs": [],
   "source": [
    "df = pd.DataFrame({\n",
    "        'circuit_name': res_circuit_name,\n",
    "        'compilation': res_compilations,\n",
    "        'noise_level': res_noise_levels,\n",
    "        'success_rate': res_success_rate,\n",
    "    })\n",
    "\n",
    "df_dd = pd.DataFrame({\n",
    "        'circuit_name': res_circuit_name,\n",
    "        'compilation': res_compilations,\n",
    "        'noise_level': res_noise_levels,\n",
    "        'success_rate': res_success_rate_dd,\n",
    "    })\n",
    "\n",
    "df_m3 = pd.DataFrame({\n",
    "        'circuit_name': res_circuit_name,\n",
    "        'compilation': res_compilations,\n",
    "        'noise_level': res_noise_levels,\n",
    "        'success_rate': res_success_rate_m3\n",
    "    })\n",
    "\n",
    "df_dd_m3 = pd.DataFrame({\n",
    "        'circuit_name': res_circuit_name,\n",
    "        'compilation': res_compilations,\n",
    "        'noise_level': res_noise_levels,\n",
    "        'success_rate': res_success_rate_dd_m3\n",
    "    })"
   ]
  },
  {
   "cell_type": "markdown",
   "metadata": {},
   "source": [
    "### Combined plot"
   ]
  },
  {
   "cell_type": "code",
   "execution_count": null,
   "metadata": {},
   "outputs": [],
   "source": [
    "def create_line_chart_combined(data, y, opt_values, metric, ax, type, ylabel, xlabel, yticks = None, \n",
    "                      y_bot = None, y_top = None, figsize = (12,8), c_idx = 0, reindex = None, x_index = \"header_id\", x_labels = [], i=0):\n",
    "    tmp = ()\n",
    "    \n",
    "    for idx, opt in enumerate(opt_values):\n",
    "        # print(idx, opt)\n",
    "        idx_marker = idx + (len(opt_values) * i)\n",
    "        # idx = idx \n",
    "        pivot = pd.pivot_table(data[data[y] == opt], \n",
    "                               values=[metric], \n",
    "                               index=x_index, \n",
    "                               columns=y, \n",
    "                               aggfunc='mean')    \n",
    "        if reindex != 0:\n",
    "            if reindex is None:\n",
    "                if len(tmp) == 0:\n",
    "                    tmp = pivot.index\n",
    "                else:\n",
    "                    pivot = pivot.reindex(tmp)\n",
    "            else:\n",
    "                pivot = pivot.reindex(reindex)\n",
    "\n",
    "        idx_color = (idx % (len(markers)))\n",
    "        # print(idx_color, idx, len(markers))\n",
    "\n",
    "        # print (pivot)\n",
    "         \n",
    "        pivot.plot(kind='line', color=CB_color_cycle[idx], marker=markers[idx], linestyle=linestyles[i], figsize=figsize, ax=ax)\n",
    "\n",
    "        mean= pivot.mean().mean()\n",
    "\n",
    "    if i == i:\n",
    "        ax.set_xlabel(xlabel)\n",
    "        ax.set_ylabel(ylabel)\n",
    "        \n",
    "    \n",
    "        if yticks is not None:\n",
    "            ax.set_yticks(yticks)\n",
    "    \n",
    "        if y_bot is not None and y_top is not None:\n",
    "            ax.set_ylim(bottom= y_bot, top= y_top)\n",
    "    \n",
    "        if x_labels is not None:\n",
    "            ax.set_xticks(np.arange(len(x_labels)))\n",
    "            ax.set_xticklabels(x_labels)\n",
    "            ax.set_xticklabels(ax.get_xticklabels(), rotation=45, ha='right')\n",
    "    \n",
    "        ax.grid()\n"
   ]
  },
  {
   "cell_type": "code",
   "execution_count": null,
   "metadata": {},
   "outputs": [],
   "source": [
    "def show_figure_by_opt_combined(dfs, y, y_values, metric, ylabel, xlabel, legend = None, figsize=(10,6), reindex=None, \n",
    "                             x_index = \"total_2q\", x_labels = [], x_lim = [1, 100], \n",
    "                            y_lim = [0,1], title=None, legend_position=None, circuit_name = \"\", hw_name = \"\"):\n",
    "    # y_values = noise_levels\n",
    "\n",
    "    metrics = [metric]\n",
    "    row = 1\n",
    "    col = 1\n",
    "\n",
    "    fig, ax = plt.subplots(nrows=row, ncols=1)\n",
    "\n",
    "    yticks = None\n",
    "    \n",
    "    for i in range(len(dfs)):\n",
    "        # print(i)\n",
    "        create_line_chart_combined(dfs[i], y, y_values, metrics[0], ax, \"opt\", ylabel, xlabel, yticks, figsize=figsize, reindex=reindex,\n",
    "                          x_index = x_index, x_labels=x_labels, i=i)\n",
    "\n",
    "    # n=[]        \n",
    "    # n.append(ax.axhline(np.NaN, color=\"gray\", linestyle='-.'))\n",
    "\n",
    "    # l1 = ax.legend(n, [\"Mean\"], loc=[0.82, 0.49])\n",
    "\n",
    "    if legend is None:\n",
    "            l2 = plt.legend()\n",
    "    else:\n",
    "        if legend_position == None:\n",
    "            l2 = plt.legend(legends)\n",
    "        else:\n",
    "            l2 = plt.legend(legends, loc = legend_position)\n",
    "    \n",
    "    # plt.tight_layout()\n",
    "    # ax.add_artist(l1)\n",
    "    plt.xlim(x_lim) \n",
    "    plt.ylim(y_lim)\n",
    "    plt.title(title)\n",
    "    #plt.savefig(\"./output/{}_{}_{}.png\".format(circuit_name, hw_name, x_index), dpi=500, bbox_inches='tight')\n",
    "    plt.show()\n",
    "    \n",
    "    return plt"
   ]
  },
  {
   "cell_type": "code",
   "execution_count": null,
   "metadata": {},
   "outputs": [],
   "source": [
    "y_values = ['qiskit_0', 'qiskit_3', \"triq_avg_sabre\"]\n",
    "legends  = [\"Qiskit-0\", \"Qiskit-3\", \"SABRE-TriQ-lcd\",\n",
    "            \"Qiskit-0 (M3)\", \"Qiskit-3 (M3)\", \"SABRE-TriQ-lcd (M3)\"\n",
    "           ]\n",
    "x_lim=[-0.01, 1.01]\n",
    "y_lim=[0,1.03]\n",
    "legend_position=(0.01,0.01)\n",
    "circuit_name = \"adder\"\n",
    "hw_name = \"sherbrooke\"\n",
    "title=\"Adder n-7 - comparison between noise-aware with non-noise-aware\"\n",
    "x_index = \"noise_level\"\n",
    "\n",
    "# print(y_values)\n",
    "x_labels = None\n",
    "dfs = [df]\n",
    "\n",
    "plt = show_figure_by_opt_combined(dfs, \"compilation\", y_values, \"success_rate\", \"Success Rate\", \"Physical error rate scaling factor (ibm_sherbrooke)\", legends, figsize=(6,4), \n",
    "                   reindex=None, x_index = \"noise_level\", x_labels=x_labels, x_lim=[-0.01, 1.01], y_lim=[0,1.03],legend_position=(1.05,0.01),\n",
    "                       circuit_name = \"adder_n7\", hw_name = hw_name, title=title)"
   ]
  },
  {
   "cell_type": "code",
   "execution_count": null,
   "metadata": {},
   "outputs": [],
   "source": [
    "y_values = ['qiskit_0', 'qiskit_3', \"triq_lcd_sabre\"]\n",
    "legends  = [\"Qiskit-0\", \"Qiskit-3\", \"SABRE-TriQ-lcd\",\n",
    "            \"Qiskit-0 (M3)\", \"Qiskit-3 (M3)\", \"SABRE-TriQ-lcd (M3)\"\n",
    "           ]\n",
    "x_lim=[-0.01, 1.01]\n",
    "y_lim=[0,1.03]\n",
    "legend_position=(0.01,0.01)\n",
    "circuit_name = \"adder\"\n",
    "hw_name = \"sherbrooke\"\n",
    "title=\"Adder N-7 - comparison before and after M3\"\n",
    "x_index = \"noise_level\"\n",
    "\n",
    "# print(y_values)\n",
    "x_labels = None\n",
    "dfs = [df, df_m3]\n",
    "\n",
    "plt = show_figure_by_opt_combined(dfs, \"compilation\", y_values, \"success_rate\", \"Success Rate\", \"Physical error rate scaling factor (ibm_sherbrooke)\", legends, figsize=(6,4), \n",
    "                   reindex=None, x_index = \"noise_level\", x_labels=x_labels, x_lim=[-0.01, 1.01], y_lim=[0,1.03],legend_position=(1.05,0.01),\n",
    "                       circuit_name = \"adder_n7\", hw_name = hw_name, title=title)"
   ]
  },
  {
   "cell_type": "markdown",
   "metadata": {},
   "source": [
    "## Quick Run"
   ]
  },
  {
   "cell_type": "markdown",
   "metadata": {},
   "source": [
    "### Send to real backend"
   ]
  },
  {
   "cell_type": "code",
   "execution_count": null,
   "metadata": {},
   "outputs": [],
   "source": [
    "# prepare the circuit\n",
    "conf.base_folder = \"./circuits/bv/\"\n",
    "qasm_files = q.get_qasm_files_from_path()\n",
    "\n",
    "print(qasm_files)\n",
    "\n",
    "# select compilation techniques\n",
    "compilations = [\"qiskit_3\", \"triq_avg_sabre\", \"triq_lcd_sabre\"]\n",
    "# compilations = [\"qiskit_0\", \"qiskit_3\"]\n",
    "\n",
    "token = \"74076e69ed0d571c8e0ff8c0b2c912c28681d47426cf16a5d817825de16f7dbd95bf6ff7c604b706803b78b2e21d1dd5cacf9f1b0aa81d672d938bded8049a17\"\n",
    "#token = \"c2247987fee0b4d5c94d1279ffe45f57935dfef840c8b5a9a67642d8292d4bb1cd516095010bd1a2ab08cfada951fc2e2dce8dc07723d70f791384d901f7821b\"\n",
    "#token = \"055a93864810f2fc66e4de35b13027e8e591f0d019abb91b4895971fa16a991bef0ac573457c707c3d1070e5105d8f0cdd489f842cc06723d29a233c9f483e74\"\n",
    "#token = \"83e92714385d17e01f164da8ce4907c587b1b6ff5be46631736cb6f8da9352952aca28fec9d6d7ac8e8c18af6393184b2c2544c05f1b6508ceca8c3aedb92560\"\n",
    "#token = \"8f087182132ea64b436bf3472078b8e3d96eaad91f7f94a929761219dcb499b8f28e04963b8785af6deb188f9544c7016fd3694ba4a0131e633e26cbf828d8b3\"\n",
    "#token = \"b55a6dca139ec26e7e8e4c29075fc44e395ceb05bb33d5c40c0820dc5edd6360410c8d62b88b918f04fabf8cbf29e4eb8f52c551c85d500ab8259e662a573a14\""
   ]
  },
  {
   "cell_type": "code",
   "execution_count": null,
   "metadata": {},
   "outputs": [],
   "source": [
    "q = QEM(runs=conf.runs, user_id=conf.user_id, token=token)\n",
    "q.send_to_real_backend(\"sampler\", qasm_files, compilations)"
   ]
  },
  {
   "cell_type": "code",
   "execution_count": null,
   "metadata": {},
   "outputs": [],
   "source": [
    "q = QEM(runs=conf.runs, user_id=conf.user_id, token=token)\n",
    "\n",
    "dd_options: DynamicalDecouplingOptions = {\n",
    "    'enable':True, \n",
    "    'sequence_type':'XpXm',\n",
    "    'scheduling_method': 'alap'\n",
    "} \n",
    "\n",
    "q.send_to_real_backend(\"sampler\", qasm_files, compilations, dd_options = dd_options)"
   ]
  },
  {
   "cell_type": "markdown",
   "metadata": {},
   "source": [
    "### Send to simulator"
   ]
  },
  {
   "cell_type": "markdown",
   "metadata": {},
   "source": [
    "#### Sampler"
   ]
  },
  {
   "cell_type": "code",
   "execution_count": null,
   "metadata": {},
   "outputs": [],
   "source": [
    "# prepare the circuit\n",
    "conf.base_folder = \"./circuits/testing/\"\n",
    "qasm_files = q.get_qasm_files_from_path()\n",
    "\n",
    "noise_levels = [0.6, 0.8, 1.0]\n",
    "shots = 10000\n",
    "q = QEM(runs=conf.runs, user_id=conf.user_id, token=token)\n",
    "df = q.run_simulator(\"sampler\", qasm_files, compilations, noise_levels, shots, send_to_db=True)\n",
    "df"
   ]
  },
  {
   "cell_type": "markdown",
   "metadata": {},
   "source": [
    "## Get the result"
   ]
  },
  {
   "cell_type": "code",
   "execution_count": null,
   "metadata": {},
   "outputs": [],
   "source": [
    "q.get_qiskit_result()"
   ]
  },
  {
   "cell_type": "code",
   "execution_count": null,
   "metadata": {},
   "outputs": [],
   "source": []
  },
  {
   "cell_type": "markdown",
   "metadata": {},
   "source": [
    "#### Estimator\n",
    "\n",
    "**Under progress, still not working!!**"
   ]
  },
  {
   "cell_type": "markdown",
   "metadata": {},
   "source": [
    "circuits = []\n",
    "observables = []\n",
    "\n",
    "circuits.append(\"\"\"OPENQASM 2.0;\n",
    "include \"qelib1.inc\";\n",
    "qreg q[3];\n",
    "h q[0];\n",
    "cx q[0],q[1];\n",
    "cx q[1],q[2];\"\"\")\n",
    "\n",
    "observables.append(['ZZZ','ZII','IXI','IZI','XII','XXX'])\n",
    "\n",
    "noise_levels = [0.6, 0.8, 1.0]\n",
    "q = QEM(runs=conf.runs, user_id=conf.user_id, token=token)\n",
    "df = q.run_simulator(\"estimator\", circuits, compilations, noise_levels, shots, observables=observables, send_to_db=False)\n",
    "df\n"
   ]
  },
  {
   "cell_type": "markdown",
   "metadata": {
    "jp-MarkdownHeadingCollapsed": true
   },
   "source": [
    "# Mitiq (Pending)"
   ]
  },
  {
   "cell_type": "code",
   "execution_count": null,
   "metadata": {},
   "outputs": [],
   "source": [
    "import mitiq\n",
    "from mitiq import benchmarks\n",
    "frontend = \"qiskit\"\n",
    "print(mitiq.SUPPORTED_PROGRAM_TYPES.keys())\n",
    "print(mitiq.qem_methods())\n",
    "shots = 10000\n",
    "\n",
    "from mitiq.benchmarks import generate_rb_circuits\n",
    "from mitiq.zne import execute_with_zne\n",
    "from mitiq.zne.scaling import (\n",
    "    fold_gates_at_random,\n",
    "    fold_global,\n",
    "    fold_all\n",
    ")\n",
    "from mitiq.zne.inference import LinearFactory, RichardsonFactory\n",
    "from mitiq import (\n",
    "    Calibrator,\n",
    "    Settings,\n",
    "    execute_with_mitigation,\n",
    "    MeasurementResult,\n",
    ")\n",
    "\n",
    "from qiskit_ibm_runtime.fake_provider import FakeJakartaV2  # Fake (simulated) QPU\n",
    "\n",
    "from qiskit import QuantumCircuit\n",
    "from qiskit import QuantumCircuit, transpile\n",
    "from qiskit.circuit.library import ECRGate\n",
    "from qiskit.circuit.library import RZXGate\n",
    "from mitiq import zne\n",
    "from mitiq.interface import convert_to_mitiq"
   ]
  },
  {
   "cell_type": "markdown",
   "metadata": {},
   "source": [
    "### ZNE"
   ]
  },
  {
   "cell_type": "code",
   "execution_count": null,
   "metadata": {},
   "outputs": [],
   "source": [
    "noise_model, noisy_simulator, coupling_map = qiskit_wrapper.get_noisy_simulator(q.backend, 1)"
   ]
  },
  {
   "cell_type": "code",
   "execution_count": null,
   "metadata": {},
   "outputs": [],
   "source": [
    "# The path is coming from the config file, but you can also modify it here\n",
    "conf.base_folder = \"./circuits/testing/\"\n",
    "qasm_files = q.get_qasm_files_from_path()\n",
    "print(qasm_files)\n",
    "\n",
    "qc = q.get_circuit_properties(qasm_source=qasm_files[0])\n",
    "qc.circuit.draw(idle_wires=False)\n",
    "\n",
    "#qc = QuantumCircuit(2)\n",
    "#qc.x(0)\n",
    "#qc.barrier(0,1)\n",
    "#qc.cx(0,1)\n",
    "#qc.measure_all()\n",
    "\n",
    "#pm = generate_preset_pass_manager(optimization_level=1, backend=noisy_simulator)\n",
    "#isa_circuit = pm.run(qc.circuit)\n",
    "\n",
    "#print(dumps(isa_circuit))\n",
    "updated_qasm, initial_mapping = q.compile(qasm=qc.qasm_original, compilation_name=\"qiskit_3\")\n",
    "compiled_qc = QuantumCircuit.from_qasm_str(updated_qasm)\n",
    "compiled_qc.draw(\"mpl\", idle_wires=False, fold=30)"
   ]
  },
  {
   "cell_type": "code",
   "execution_count": null,
   "metadata": {},
   "outputs": [],
   "source": [
    "n_qubits = 10\n",
    "depth_circuit = 100\n",
    "shots = 10 ** 6\n",
    "\n",
    "#circuit = generate_rb_circuits(n_qubits, depth_circuit,return_type=\"qiskit\")[0]\n",
    "#circuit.measure_all()\n",
    "\n",
    "#qc = q.get_circuit_properties(qasm_source=dumps(circuit))\n",
    "\n",
    "#updated_qasm, initial_mapping = q.compile(qasm=qc.qasm_original, compilation_name=\"qiskit_0\")\n",
    "#compiled_qc = QuantumCircuit.from_qasm_str(updated_qasm)\n",
    "#compiled_qc.draw(\"mpl\", idle_wires=False, fold=30)\n",
    "\n",
    "#circuit = compiled_qc\n",
    "circuit = transpile(compiled_qc, basis_gates=[\"u3\",\"cx\"], optimization_level=3)\n",
    "circuit.draw(\"mpl\", idle_wires=False, fold=30)"
   ]
  },
  {
   "cell_type": "code",
   "execution_count": null,
   "metadata": {},
   "outputs": [],
   "source": [
    "def execute_circuit(circuit):\n",
    "    \"\"\"Execute the input circuit and return the expectation value of |00..0><00..0|\"\"\"\n",
    "    noisy_backend = noisy_simulator\n",
    "    noisy_result = noisy_backend.run(circuit, shots=shots).result()\n",
    "    noisy_counts = noisy_result.get_counts(circuit)\n",
    "    #print(noisy_counts)\n",
    "    noisy_expectation_value = noisy_counts[\"1111111011\"] / shots\n",
    "    return noisy_expectation_value"
   ]
  },
  {
   "cell_type": "code",
   "execution_count": null,
   "metadata": {},
   "outputs": [],
   "source": [
    "mitigated = execute_with_zne(circuit, execute_circuit, factory=LinearFactory([1, 3, 5]))\n",
    "unmitigated = execute_circuit(circuit)\n",
    "ideal = 1 #property of RB circuits\n",
    "\n",
    "print(\"ideal = \\t \\t\",ideal)\n",
    "print(\"unmitigated = \\t \\t\", \"{:.5f}\".format(unmitigated))\n",
    "print(\"mitigated = \\t \\t\", \"{:.5f}\".format(mitigated))"
   ]
  },
  {
   "cell_type": "code",
   "execution_count": null,
   "metadata": {},
   "outputs": [],
   "source": [
    "def execute_calibration(qiskit_circuit):\n",
    "    \"\"\"Execute the input circuits and return the measurement results.\"\"\"\n",
    "    noisy_backend = noisy_simulator\n",
    "    noisy_result = noisy_backend.run(qiskit_circuit, shots=shots).result()\n",
    "    noisy_counts = noisy_result.get_counts(qiskit_circuit)\n",
    "    noisy_counts = { k.replace(\" \",\"\"):v for k, v in noisy_counts.items()}\n",
    "    measurements = MeasurementResult.from_counts(noisy_counts)\n",
    "    return measurements"
   ]
  },
  {
   "cell_type": "code",
   "execution_count": null,
   "metadata": {},
   "outputs": [],
   "source": [
    "RBSettings = Settings(\n",
    "    benchmarks=[\n",
    "        {\n",
    "            \"circuit_type\": \"rb\",\n",
    "            \"num_qubits\": 2,\n",
    "            \"circuit_depth\": int(depth_circuit / 2),\n",
    "        },\n",
    "    ],\n",
    "    strategies=[\n",
    "        {\n",
    "            \"technique\": \"zne\",\n",
    "            \"scale_noise\": fold_global,\n",
    "            \"factory\": RichardsonFactory([1.0, 2.0, 3.0]),\n",
    "        },\n",
    "        {\n",
    "            \"technique\": \"zne\",\n",
    "            \"scale_noise\": fold_global,\n",
    "            \"factory\": RichardsonFactory([1.0, 3.0, 5.0]),\n",
    "        },\n",
    "        {\n",
    "            \"technique\": \"zne\",\n",
    "            \"scale_noise\": fold_global,\n",
    "            \"factory\": LinearFactory([1.0, 2.0, 3.0]),\n",
    "        },\n",
    "        {\n",
    "            \"technique\": \"zne\",\n",
    "            \"scale_noise\": fold_global,\n",
    "            \"factory\": LinearFactory([1.0, 3.0, 5.0]),\n",
    "        },\n",
    "\n",
    "        {\n",
    "            \"technique\": \"zne\",\n",
    "            \"scale_noise\": fold_gates_at_random,\n",
    "            \"factory\": RichardsonFactory([1.0, 2.0, 3.0]),\n",
    "        },\n",
    "        {\n",
    "            \"technique\": \"zne\",\n",
    "            \"scale_noise\": fold_gates_at_random,\n",
    "            \"factory\": RichardsonFactory([1.0, 3.0, 5.0]),\n",
    "        },\n",
    "        {\n",
    "            \"technique\": \"zne\",\n",
    "            \"scale_noise\": fold_gates_at_random,\n",
    "            \"factory\": LinearFactory([1.0, 2.0, 3.0]),\n",
    "        },\n",
    "        {\n",
    "            \"technique\": \"zne\",\n",
    "            \"scale_noise\": fold_gates_at_random,\n",
    "            \"factory\": LinearFactory([1.0, 3.0, 5.0]),\n",
    "        },\n",
    "\n",
    "        {\n",
    "            \"technique\": \"zne\",\n",
    "            \"scale_noise\": fold_all,\n",
    "            \"factory\": RichardsonFactory([1.0, 2.0, 3.0]),\n",
    "        },\n",
    "        {\n",
    "            \"technique\": \"zne\",\n",
    "            \"scale_noise\": fold_all,\n",
    "            \"factory\": RichardsonFactory([1.0, 3.0, 5.0]),\n",
    "        },\n",
    "        {\n",
    "            \"technique\": \"zne\",\n",
    "            \"scale_noise\": fold_all,\n",
    "            \"factory\": LinearFactory([1.0, 2.0, 3.0]),\n",
    "        },\n",
    "        {\n",
    "            \"technique\": \"zne\",\n",
    "            \"scale_noise\": fold_all,\n",
    "            \"factory\": LinearFactory([1.0, 3.0, 5.0]),\n",
    "        },\n",
    "\n",
    "    ],\n",
    ")"
   ]
  },
  {
   "cell_type": "code",
   "execution_count": null,
   "metadata": {},
   "outputs": [],
   "source": [
    "cal = Calibrator(execute_calibration, frontend=\"qiskit\", settings=RBSettings)\n",
    "cal.run(log=\"flat\")"
   ]
  },
  {
   "cell_type": "code",
   "execution_count": null,
   "metadata": {},
   "outputs": [],
   "source": [
    "calibrated_mitigated=execute_with_mitigation(circuit, execute_circuit, calibrator=cal)\n",
    "mitigated=execute_with_zne(circuit, execute_circuit, factory=LinearFactory([1, 3, 5]))\n",
    "unmitigated=execute_circuit(circuit)\n",
    "\n",
    "print(\"ideal = \\t \\t\",ideal)\n",
    "print(\"unmitigated = \\t \\t\", \"{:.5f}\".format(unmitigated))\n",
    "print(\"mitigated = \\t \\t\", \"{:.5f}\".format(mitigated))\n",
    "print(\"calibrated_mitigated = \\t\", \"{:.5f}\".format(calibrated_mitigated))"
   ]
  },
  {
   "cell_type": "markdown",
   "metadata": {},
   "source": [
    "#### Tutorial ZNE Mitiq with Qiskit"
   ]
  },
  {
   "cell_type": "code",
   "execution_count": null,
   "metadata": {},
   "outputs": [],
   "source": [
    "import qiskit\n",
    "from qiskit_aer import QasmSimulator\n",
    "from qiskit_ibm_runtime import QiskitRuntimeService\n",
    "\n",
    "from mitiq import zne\n",
    "from mitiq.interface.mitiq_qiskit.qiskit_utils import initialized_depolarizing_noise\n",
    "USE_REAL_HARDWARE = False"
   ]
  },
  {
   "cell_type": "code",
   "execution_count": null,
   "metadata": {},
   "outputs": [],
   "source": [
    "qreg, creg = qiskit.QuantumRegister(1), qiskit.ClassicalRegister(1)\n",
    "circuit = qiskit.QuantumCircuit(qreg, creg)\n",
    "for _ in range(50):\n",
    "    circuit.x(qreg)\n",
    "circuit.measure(qreg, creg)\n",
    "print(circuit)"
   ]
  },
  {
   "cell_type": "code",
   "execution_count": null,
   "metadata": {},
   "outputs": [],
   "source": [
    "if QiskitRuntimeService.saved_accounts() and USE_REAL_HARDWARE:\n",
    "    service = QiskitRuntimeService()\n",
    "    backend = service.least_busy(operational=True, simulator=False)\n",
    "    noise_model = False\n",
    "else:\n",
    "    # Simulate the circuit with noise\n",
    "    noise_model = initialized_depolarizing_noise(noise_level=0.02)\n",
    "    # Default to a simulator\n",
    "    backend = noisy_simulator\n",
    "\n",
    "\n",
    "def ibmq_executor(circuit: qiskit.QuantumCircuit, shots: int = 8192) -> float:\n",
    "    \"\"\"Returns the expectation value to be mitigated.\n",
    "\n",
    "    Args:\n",
    "        circuit: Circuit to run.\n",
    "        shots: Number of times to execute the circuit to compute the expectation value.\n",
    "    \"\"\"\n",
    "    # Transpile the circuit so it can be properly run\n",
    "    exec_circuit = qiskit.transpile(\n",
    "        circuit,\n",
    "        backend=backend,\n",
    "        basis_gates=noise_model.basis_gates if noise_model else None,\n",
    "        optimization_level=0, # Important to preserve folded gates.\n",
    "    )\n",
    "    \n",
    "    # Run the circuit\n",
    "    job = backend.run(circuit, shots=shots)\n",
    "\n",
    "    # Convert from raw measurement counts to the expectation value\n",
    "    counts = job.result().get_counts()\n",
    "    if counts.get(\"0\") is None:\n",
    "        expectation_value = 0.\n",
    "    else:\n",
    "        expectation_value = counts.get(\"0\") / shots\n",
    "    return expectation_value"
   ]
  },
  {
   "cell_type": "code",
   "execution_count": null,
   "metadata": {},
   "outputs": [],
   "source": [
    "unmitigated = ibmq_executor(circuit)\n",
    "mitigated = zne.execute_with_zne(circuit, ibmq_executor)\n",
    "print(f\"Unmitigated result {unmitigated:.3f}\")\n",
    "print(f\"Mitigated result {mitigated:.3f}\")"
   ]
  },
  {
   "cell_type": "code",
   "execution_count": null,
   "metadata": {},
   "outputs": [],
   "source": [
    "linear_factory = zne.inference.LinearFactory(scale_factors=[1.0, 1.5, 2.0, 2.5, 3.0])\n",
    "mitigated = zne.execute_with_zne(circuit, ibmq_executor, factory=linear_factory)\n",
    "print(f\"Mitigated result {mitigated:.3f}\")"
   ]
  },
  {
   "cell_type": "code",
   "execution_count": null,
   "metadata": {},
   "outputs": [],
   "source": [
    "mitigated = zne.execute_with_zne(circuit, ibmq_executor, scale_noise=zne.scaling.fold_global)\n",
    "print(f\"Mitigated result {mitigated:.3f}\")"
   ]
  },
  {
   "cell_type": "code",
   "execution_count": null,
   "metadata": {},
   "outputs": [],
   "source": [
    "scale_factors = [1., 1.5, 2., 2.5, 3.]\n",
    "folded_circuits = [\n",
    "        zne.scaling.fold_gates_at_random(circuit, scale)\n",
    "        for scale in scale_factors\n",
    "]\n",
    "\n",
    "# Check that the circuit depth is (approximately) scaled as expected\n",
    "for j, c in enumerate(folded_circuits):\n",
    "    print(f\"Number of gates of folded circuit {j} scaled by: {len(c) / len(circuit):.3f}\")"
   ]
  },
  {
   "cell_type": "code",
   "execution_count": null,
   "metadata": {},
   "outputs": [],
   "source": [
    "shots = 8192\n",
    "\n",
    "# Transpile the circuit so it can be properly run\n",
    "exec_circuit = qiskit.transpile(\n",
    "    folded_circuits,\n",
    "    backend=noisy_simulator,\n",
    "    basis_gates=noise_model.basis_gates if noise_model else None,\n",
    "    optimization_level=0, # Important to preserve folded gates.\n",
    ")\n",
    "\n",
    "# Run the circuit\n",
    "job = backend.run(exec_circuit, shots=shots)"
   ]
  },
  {
   "cell_type": "code",
   "execution_count": null,
   "metadata": {},
   "outputs": [],
   "source": [
    "all_counts = [job.result().get_counts(i) for i in range(len(folded_circuits))]\n",
    "expectation_values = [counts.get(\"0\") / shots for counts in all_counts]\n",
    "print(f\"Expectation values:\\n{expectation_values}\")"
   ]
  },
  {
   "cell_type": "code",
   "execution_count": null,
   "metadata": {},
   "outputs": [],
   "source": [
    "print(\"Unmitigated expectation value:\", round(expectation_values[0], 6))\n",
    "zero_noise_value = zne.ExpFactory.extrapolate(scale_factors, expectation_values, asymptote=0.5)\n",
    "print(f\"Extrapolated zero-noise value:\", round(zero_noise_value, 6))\n"
   ]
  },
  {
   "cell_type": "code",
   "execution_count": null,
   "metadata": {},
   "outputs": [],
   "source": []
  },
  {
   "cell_type": "code",
   "execution_count": null,
   "metadata": {},
   "outputs": [],
   "source": []
  },
  {
   "cell_type": "code",
   "execution_count": null,
   "metadata": {},
   "outputs": [],
   "source": []
  },
  {
   "cell_type": "code",
   "execution_count": null,
   "metadata": {},
   "outputs": [],
   "source": []
  },
  {
   "cell_type": "markdown",
   "metadata": {},
   "source": [
    "## DDD"
   ]
  },
  {
   "cell_type": "code",
   "execution_count": null,
   "metadata": {},
   "outputs": [],
   "source": []
  },
  {
   "cell_type": "code",
   "execution_count": null,
   "metadata": {},
   "outputs": [],
   "source": []
  },
  {
   "cell_type": "markdown",
   "metadata": {
    "jp-MarkdownHeadingCollapsed": true
   },
   "source": [
    "# Estimator (Pending)"
   ]
  },
  {
   "cell_type": "code",
   "execution_count": null,
   "metadata": {},
   "outputs": [],
   "source": [
    "from qiskit import QuantumCircuit\n",
    "from qiskit.quantum_info import SparsePauliOp\n",
    "from qiskit_ibm_runtime import EstimatorV2 as Estimator\n",
    "from qiskit_aer import AerSimulator\n",
    "import matplotlib.pyplot as plt\n",
    "\n",
    "qc = QuantumCircuit(3)\n",
    "qc.h(0)\n",
    "qc.cx(0, 1)\n",
    "qc.cx(1, 2)\n",
    "qc.draw(\"mpl\")\n",
    "\n",
    "ZZ = SparsePauliOp('ZZZ')\n",
    "ZI = SparsePauliOp('ZII')\n",
    "IX = SparsePauliOp('IXI')\n",
    "IZ = SparsePauliOp('IZI')\n",
    "XI = SparsePauliOp('XII')\n",
    "XX = SparsePauliOp('XXX')\n",
    "observables = [IZ, IX, ZI, XI, ZZ, XX]\n"
   ]
  },
  {
   "cell_type": "code",
   "execution_count": null,
   "metadata": {},
   "outputs": [],
   "source": [
    "updated_qasm, initial_mapping = q.compile(qasm=dumps(qc), compilation_name=\"qiskit_3\")\n",
    "compiled_qc = QuantumCircuit.from_qasm_str(updated_qasm)\n",
    "compiled_qc.draw(idle_wires=False)"
   ]
  },
  {
   "cell_type": "code",
   "execution_count": null,
   "metadata": {},
   "outputs": [],
   "source": [
    "transpiled_obs = []\n",
    "for obs in observables:\n",
    "    transpiled_obs.append(obs.apply_layout(layout=compiled_qc.layout))\n",
    "transpiled_obs"
   ]
  },
  {
   "cell_type": "code",
   "execution_count": null,
   "metadata": {},
   "outputs": [],
   "source": [
    "print(dumps(compiled_qc))"
   ]
  },
  {
   "cell_type": "code",
   "execution_count": null,
   "metadata": {},
   "outputs": [],
   "source": [
    "noise_model, noisy_simulator, coupling_map = qiskit_wrapper.get_noisy_simulator(q.backend, 1)\n",
    "\n",
    "n_qubits = 127\n",
    "observable = SparsePauliOp(\"Z\" * n_qubits)\n",
    "\n",
    "pm = generate_preset_pass_manager(optimization_level=3, backend=noisy_simulator)\n",
    "isa_circuit = pm.run(compiled_qc)\n",
    "isa_observable = observable.apply_layout(isa_circuit.layout)\n",
    " \n",
    "job = estimator.run([(isa_circuit, isa_observable)])\n",
    "result = job.result()\n"
   ]
  },
  {
   "cell_type": "code",
   "execution_count": null,
   "metadata": {},
   "outputs": [],
   "source": []
  },
  {
   "cell_type": "code",
   "execution_count": null,
   "metadata": {},
   "outputs": [],
   "source": [
    "# Collect the data\n",
    "data = ['IZI', 'IXI', 'ZII', 'XII', 'ZZZ', 'XXX']\n",
    "values = job.result()[0].data.evs\n",
    "\n",
    "# Set up our graph\n",
    "container = plt.plot(data, values, '-o')\n",
    "\n",
    "# Label each axis\n",
    "plt.xlabel('Observables')\n",
    "plt.ylabel('Values')\n",
    "\n",
    "# Draw the final graph\n",
    "plt.show()"
   ]
  },
  {
   "cell_type": "code",
   "execution_count": null,
   "metadata": {},
   "outputs": [],
   "source": [
    "import numpy as np\n",
    "from qiskit.circuit.library import IQP\n",
    "from qiskit.quantum_info import SparsePauliOp, random_hermitian\n",
    "from qiskit_ibm_runtime import EstimatorV2 as Estimator, QiskitRuntimeService\n",
    " \n",
    "estimator = Estimator(noisy_simulator)\n",
    " \n",
    "n_qubits = 3\n",
    " \n",
    "circuit = qc\n",
    "observable = SparsePauliOp(\"Z\" * n_qubits)\n",
    " \n",
    "pm = generate_preset_pass_manager(optimization_level=1, backend=noisy_simulator)\n",
    "isa_circuit = pm.run(circuit)\n",
    "isa_observable = observable.apply_layout(isa_circuit.layout)\n",
    " \n",
    "job = estimator.run([(isa_circuit, isa_observable)])\n",
    "result = job.result()\n",
    " \n",
    "print(f\" > Expectation value: {result[0].data.evs}\")\n",
    "print(f\" > Metadata: {result[0].metadata}\")"
   ]
  },
  {
   "cell_type": "code",
   "execution_count": null,
   "metadata": {},
   "outputs": [],
   "source": []
  },
  {
   "cell_type": "code",
   "execution_count": null,
   "metadata": {},
   "outputs": [],
   "source": [
    "import numpy as np\n",
    "from typing import List, Callable\n",
    "from scipy.optimize import minimize\n",
    "from scipy.optimize._optimize import OptimizeResult\n",
    "import matplotlib.pyplot as plt\n",
    "\n",
    "from qiskit import QuantumCircuit\n",
    "from qiskit.quantum_info import Statevector, Operator, SparsePauliOp\n",
    "from qiskit.primitives import StatevectorSampler, PrimitiveJob\n",
    "from qiskit.circuit.library import TwoLocal\n",
    "from qiskit.transpiler.preset_passmanagers import generate_preset_pass_manager\n",
    "from qiskit.visualization import plot_histogram\n",
    "from qiskit_ibm_runtime.fake_provider import FakeSherbrooke\n",
    "from qiskit_ibm_runtime import Session, EstimatorV2 as Estimator\n",
    "from qiskit_aer import AerSimulator\n",
    "from qiskit.circuit.library import EfficientSU2\n",
    "\n",
    "pauli_op = SparsePauliOp(['ZII', 'IZI', 'IIZ'])\n",
    "print(pauli_op.to_matrix())"
   ]
  },
  {
   "cell_type": "code",
   "execution_count": null,
   "metadata": {},
   "outputs": [],
   "source": [
    "num_qubits = 3 #Add your code here\n",
    "rotation_blocks = [\"ry\",\"rz\"] #Add your code here\n",
    "entanglement_blocks = \"cz\" #Add your code here\n",
    "entanglement = \"full\" #Add your code here\n",
    "\n",
    "ansatz = TwoLocal(num_qubits, ['ry','rz'], 'cz', 'full', reps=1, insert_barriers=True) #Add your code here\n",
    "\n",
    "### Don't change any code past this line ###\n",
    "ansatz.decompose().draw('mpl')"
   ]
  },
  {
   "cell_type": "code",
   "execution_count": null,
   "metadata": {},
   "outputs": [],
   "source": [
    "num_params = ansatz.num_parameters\n",
    "backend_answer = noisy_simulator #Add your code\n",
    "optimization_level_answer = 3 #Add your code\n",
    "pm = generate_preset_pass_manager(backend=backend_answer,optimization_level=optimization_level_answer)\n",
    "isa_circuit = pm.run(ansatz) # Add your code\n",
    "hamiltonian_isa = pauli_op.apply_layout(layout=isa_circuit.layout)"
   ]
  },
  {
   "cell_type": "code",
   "execution_count": null,
   "metadata": {},
   "outputs": [],
   "source": [
    "isa_circuit.draw('mpl', idle_wires=False, fold=50)"
   ]
  },
  {
   "cell_type": "code",
   "execution_count": null,
   "metadata": {},
   "outputs": [],
   "source": [
    "initial_mapping = qiskit_wrapper.get_initial_layout_from_circuit(isa_circuit)\n",
    "initial_mapping"
   ]
  },
  {
   "cell_type": "markdown",
   "metadata": {},
   "source": [
    "### Mthree"
   ]
  },
  {
   "cell_type": "code",
   "execution_count": null,
   "metadata": {},
   "outputs": [],
   "source": [
    "from qiskit import QuantumCircuit, ClassicalRegister, QuantumRegister\n",
    "\n",
    "x0 = 2 * np.pi * np.random.random(num_params)\n",
    "bound_circs = isa_circuit.assign_parameters(x0)\n",
    "creg = ClassicalRegister(3, 'c')\n",
    "bound_circs.add_register(creg)\n",
    "bound_circs.measure(40, 0)\n",
    "bound_circs.measure(39, 1)\n",
    "bound_circs.measure(38, 2)\n",
    "result = noisy_simulator.run(bound_circs, shots=10000).result()\n",
    "counts = result.get_counts()\n",
    "\n",
    "mit = mthree.M3Mitigation(noisy_simulator)\n",
    "mit.cals_from_system(initial_mapping)\n",
    "\n",
    "quasis = mit.apply_correction(counts, initial_mapping)\n",
    "\n",
    "coeffs = []\n",
    "meas_strings = []\n",
    "\n",
    "for i in pauli_op.to_list():\n",
    "    meas_string, coeff = i\n",
    "    coeffs.append(coeff)\n",
    "    meas_strings.append(meas_string)\n",
    "\n",
    "print(meas_strings, coeffs)\n",
    "print(np.sum(coeffs * quasis.expval(meas_strings)))\n"
   ]
  },
  {
   "cell_type": "markdown",
   "metadata": {},
   "source": [
    "## Classical Optimizer"
   ]
  },
  {
   "cell_type": "code",
   "execution_count": null,
   "metadata": {},
   "outputs": [],
   "source": [
    "def cost_func(params, ansatz, hamiltonian, estimator, callback_dict):\n",
    "    \"\"\"Return estimate of energy from estimator\n",
    "\n",
    "    Parameters:\n",
    "        params (ndarray): Array of ansatz parameters\n",
    "        ansatz (QuantumCircuit): Parameterized ansatz circuit\n",
    "        hamiltonian (SparsePauliOp): Operator representation of Hamiltonian\n",
    "        estimator (EstimatorV2): Estimator primitive instance\n",
    "\n",
    "    Returns:\n",
    "        float: Energy estimate\n",
    "    \"\"\"\n",
    "    pub = (ansatz, [hamiltonian], [params]) #Add your code\n",
    "    result = estimator.run(pubs=[pub]).result() #Add your code\n",
    "    energy = result[0].data.evs[0] #Add your code\n",
    "\n",
    "    callback_dict[\"iters\"] += 1 #Add your code\n",
    "    callback_dict[\"prev_vector\"] = params #Add your code\n",
    "    callback_dict[\"cost_history\"].append(energy) #Add your code\n",
    "\n",
    "\n",
    "### Don't change any code past this line ###\n",
    "    print(energy)\n",
    "    return energy, result"
   ]
  },
  {
   "cell_type": "code",
   "execution_count": null,
   "metadata": {},
   "outputs": [],
   "source": [
    "ansatz = EfficientSU2(3)\n",
    "params = np.ones((1,ansatz.num_parameters))\n",
    "aer_sim = noisy_simulator\n",
    "pm = generate_preset_pass_manager(backend=aer_sim, optimization_level=3)\n",
    "isa_circuits = pm.run(ansatz)\n",
    "choc_op = SparsePauliOp(['ZII', 'IZI', 'IIZ'])\n",
    "hamiltonian_isa = choc_op.apply_layout(layout=isa_circuits.layout)\n",
    "estimator = Estimator(mode=aer_sim)\n",
    "\n",
    "callback_dict = {\n",
    "    \"prev_vector\": None,\n",
    "    \"iters\": 0,\n",
    "    \"cost_history\": []\n",
    "}\n",
    "cost, result = cost_func(\n",
    "    params,\n",
    "    isa_circuits,\n",
    "    hamiltonian_isa,\n",
    "    estimator,\n",
    "    callback_dict\n",
    ")"
   ]
  },
  {
   "cell_type": "code",
   "execution_count": null,
   "metadata": {},
   "outputs": [],
   "source": [
    "callback_dict = {\n",
    "    \"prev_vector\": None,\n",
    "    \"iters\": 0,\n",
    "    \"cost_history\": [],\n",
    "}"
   ]
  },
  {
   "cell_type": "code",
   "execution_count": null,
   "metadata": {},
   "outputs": [],
   "source": [
    "x0 = 2 * np.pi * np.random.random(num_params)\n",
    "x0"
   ]
  },
  {
   "cell_type": "code",
   "execution_count": null,
   "metadata": {},
   "outputs": [],
   "source": [
    "# backend = FakeSherbrooke()\n",
    "backend = noisy_simulator\n",
    "\n",
    "# ### Don't change any code past this line ###\n",
    "\n",
    "# Here we have updated the cost function to return only the energy to be compatible with recent scipy versions (>=1.10)\n",
    "def cost_func_2(*args, **kwargs):\n",
    "    energy, result = cost_func(*args, **kwargs)\n",
    "    return energy\n",
    "\n",
    "with Session(backend=backend) as session:\n",
    "    estimator = Estimator(mode=session)\n",
    "\n",
    "    res = minimize(\n",
    "        cost_func_2,\n",
    "        x0,\n",
    "        args=(isa_circuit, hamiltonian_isa, estimator, callback_dict),\n",
    "        method=\"cobyla\",\n",
    "        options={'maxiter': 10})"
   ]
  },
  {
   "cell_type": "code",
   "execution_count": null,
   "metadata": {},
   "outputs": [],
   "source": [
    "fig, ax = plt.subplots()\n",
    "plt.plot(range(callback_dict[\"iters\"]), callback_dict[\"cost_history\"])\n",
    "plt.xlabel(\"Energy\")\n",
    "plt.ylabel(\"Cost\")\n",
    "plt.draw()"
   ]
  },
  {
   "cell_type": "markdown",
   "metadata": {},
   "source": [
    "## Error Mitigation"
   ]
  },
  {
   "cell_type": "markdown",
   "metadata": {},
   "source": [
    " More detais about how to configure error mitigation with for Qiskit runtime can be found in [this tutorial](https://learning.quantum.ibm.com/tutorial/combine-error-mitigation-options-with-the-estimator-primitive) as well as in [the documentation](https://docs.quantum.ibm.com/run/configure-error-mitigation).\n",
    "\n",
    "\n",
    "When using the Estimator primitive, we can use the ```EstimatorOptions()``` object to set the options for error mitigation and error suppression techniques. This table shows the most used ones:\n",
    "\n",
    "| Options              | Sub-options              | Sub-sub-options         | Choices                                                                                   | Default                   |\n",
    "|----------------------|--------------------------|-------------------------|-------------------------------------------------------------------------------------------|---------------------------|\n",
    "| default_shots        |                          |                         |                                                                                           | `4096`                      |\n",
    "| optimization_level   |                          |                         | `0`/`1`                                                                                       | `1`                         |\n",
    "| resilience_level     |                          |                         | `0`/`1`/`2`                                                                                     | `1`                         |\n",
    "| dynamical_decoupling | enable                   |                         |`True`/`False`                                                                                           |`False`                           |\n",
    "|                      | sequence_type            |                         | `'XX'`/`'XpXm'`/`'XY4'`                                                                         | `'XX'`                      |\n",
    "|                      | extra_slack_distribution |                         | `'middle'`/`'edges'`                                                                          | `'middle'`                  |\n",
    "|                      | scheduling_method        |                         | `'asap'`/`'alap'`                                                                            | `'alap'`                    |\n",
    "| resilience           | measure_mitigation       |                         | `True`/`False`                                                                                | `True`                      |\n",
    "|                      | measure_noise_learning   | num_randomizations      |                                                                                           | `32`                      |\n",
    "|                      |                          | shots_per_randomization |                                                                                           | `'auto'`                    |\n",
    "|                      | zne_mitigation           |                         | `True`/`False`                                                                                | `False`                     |\n",
    "|                      | zne                      | noise_factors           |                                                                                           | `(1, 3, 5)`                 |\n",
    "|                      |                          | extrapolator            | `'exponential'`/<br>`'linear'`/<br>`'double_exponential'`/<br>`'polynomial_degree_(1 <= k <= 7)'` | (`'exponential'`, `'linear'`) |\n",
    "| twirling             | enable_gates             |                         | `True`/`False`                                                                                      | `False`                     |\n",
    "|                      | enable_measure           |                         | `True`/`False`                                                                                      | `True`                      |\n",
    "|                      | num_randomizations       |                         |                                                                                           | `'auto'`                    |\n",
    "|                      | shots_per_randomization  |                         |                                                                                           | `'auto'`                    |\n",
    "|                      | strategy                 |                         | `'active'`/<br>`'active-circuit'`/<br>`'active-accum'`/<br>`'all'`                                | `'active-accum'`            |"
   ]
  },
  {
   "cell_type": "markdown",
   "metadata": {},
   "source": [
    "### Dynamical Decoupling (DD)"
   ]
  },
  {
   "cell_type": "markdown",
   "metadata": {},
   "source": [
    "As we have seen in the section above, qubits can lose their information over time due to decoherence and can further be influenced by operations applied to other qubits via cross talk. These effects are especially recognizable if the qubits are already initialized in a quantum state but are not being used for an extended period during the calculation.\n",
    "\n",
    "To eliminate these effects, we can use dynamic decoupling, which adds pulse sequences (known as dynamical decoupling sequences) to flip idle qubits around the Bloch sphere, canceling the effect of noise channels and thereby suppressing the decoherence effect.\n",
    "\n",
    "In these 2 graphics below we can see X-gates being applied on qubits which are idle. Since we apply an even number of X-gates, the result is the identity and thus the effect of the X-gates cancel each other.\n",
    "\n",
    "\n",
    "<img src=\"data:image/png;base64,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\"/>\n",
    "\n",
    "\n",
    "You can find more information about the dynamical decoupling [here](https://docs.quantum.ibm.com/transpile/dynamical-decoupling-pass-manager).\n"
   ]
  },
  {
   "cell_type": "code",
   "execution_count": null,
   "metadata": {},
   "outputs": [],
   "source": [
    "\n",
    "circ = QuantumCircuit(5)\n",
    "circ.h(0)\n",
    "circ.ecr(0, 1)\n",
    "circ.ecr(1, 2)\n",
    "circ.ecr(2, 3)\n",
    "circ.ecr(3, 4)\n",
    "circ.measure_all()\n",
    "\n",
    "#transpiled_qasm, initial_mapping = q.compile(qasm=dumps(circ), compilation_name=\"qiskit_3\")\n",
    "#transpiled_circ = QuantumCircuit.from_qasm_str(transpiled_qasm)\n",
    "target = noisy_simulator.target\n",
    "basis_gates = list(target.operation_names)\n",
    "\n",
    "pm = generate_preset_pass_manager(3, target=target, seed_transpiler=12345)\n",
    "transpiled_circ = pm.run(circ)\n",
    "\n",
    "transpiled_circ.draw(\"mpl\", idle_wires=False, fold=60)"
   ]
  },
  {
   "cell_type": "code",
   "execution_count": null,
   "metadata": {},
   "outputs": [],
   "source": []
  },
  {
   "cell_type": "code",
   "execution_count": null,
   "metadata": {},
   "outputs": [],
   "source": [
    "circuit_dd = apply_dd(noisy_simulator, transpiled_circ)\n",
    "timeline_drawer(circuit_dd, show_idle=False)\n"
   ]
  },
  {
   "cell_type": "code",
   "execution_count": null,
   "metadata": {},
   "outputs": [],
   "source": [
    "circuit_dd.draw(\"mpl\", idle_wires=False, fold=60)"
   ]
  },
  {
   "cell_type": "code",
   "execution_count": null,
   "metadata": {},
   "outputs": [],
   "source": [
    "job = noisy_simulator.run(circuit_dd, shots=10000)\n",
    "result = job.result()  \n",
    "output = result.get_counts()\n",
    "output_normalize = normalize_counts(output, shots=shots)\n",
    "output"
   ]
  },
  {
   "cell_type": "code",
   "execution_count": null,
   "metadata": {},
   "outputs": [],
   "source": [
    "circ_dd.draw(\"mpl\")"
   ]
  },
  {
   "cell_type": "code",
   "execution_count": null,
   "metadata": {},
   "outputs": [],
   "source": [
    "from qiskit_ibm_runtime import (\n",
    "    QiskitRuntimeService,\n",
    "    EstimatorV2 as Estimator,\n",
    "    SamplerV2 as Sampler,\n",
    "    EstimatorOptions, SamplerOptions\n",
    ")"
   ]
  },
  {
   "cell_type": "code",
   "execution_count": null,
   "metadata": {},
   "outputs": [],
   "source": [
    "## DD\n",
    "options = SamplerOptions(\n",
    "    default_shots=5000,\n",
    "    dynamical_decoupling={\n",
    "        'enable':True, \n",
    "        'sequence_type':'XpXm', \n",
    "        'extra_slack_distribution':'middle',\n",
    "        'scheduling_method':'alap'},\n",
    "    execution={\n",
    "        'init_qubits':True,\n",
    "         #'rep_delay':\n",
    "    },\n",
    "    twirling={\n",
    "        'enable_gates': False, \n",
    "        'enable_measure': True,\n",
    "        'num_randomizations':'auto',\n",
    "        'shots_per_randomization':'auto',\n",
    "        'strategy':'all'\n",
    "    }\n",
    ") "
   ]
  },
  {
   "cell_type": "code",
   "execution_count": null,
   "metadata": {},
   "outputs": [],
   "source": [
    "sampler = Sampler(mode=backend_service, options=options)"
   ]
  },
  {
   "cell_type": "code",
   "execution_count": null,
   "metadata": {},
   "outputs": [],
   "source": [
    "qasm = QiskitCircuit(dumps(circ))\n",
    "compiled_circuit = qasm.transpile_to_target_backend(q.backend)"
   ]
  },
  {
   "cell_type": "code",
   "execution_count": null,
   "metadata": {},
   "outputs": [],
   "source": [
    "sampler.run([compiled_circuit])"
   ]
  },
  {
   "cell_type": "markdown",
   "metadata": {},
   "source": [
    "### Zero Noise Extrapolation (ZNE)"
   ]
  },
  {
   "cell_type": "code",
   "execution_count": null,
   "metadata": {},
   "outputs": [],
   "source": [
    "durations = InstructionDurations.from_backend(backend_service)\n"
   ]
  },
  {
   "cell_type": "code",
   "execution_count": null,
   "metadata": {},
   "outputs": [],
   "source": [
    "durations.get('id', (3,))"
   ]
  },
  {
   "cell_type": "code",
   "execution_count": null,
   "metadata": {},
   "outputs": [],
   "source": [
    "durations.duration_by_name_qubits[('id', (0, ))][1]"
   ]
  },
  {
   "cell_type": "code",
   "execution_count": null,
   "metadata": {},
   "outputs": [],
   "source": []
  },
  {
   "cell_type": "code",
   "execution_count": null,
   "metadata": {},
   "outputs": [],
   "source": []
  },
  {
   "cell_type": "code",
   "execution_count": null,
   "metadata": {},
   "outputs": [],
   "source": [
    "from qiskit import QuantumCircuit\n",
    "from qiskit import QuantumCircuit, transpile\n",
    "from qiskit.circuit.library import ECRGate\n",
    "from qiskit.circuit.library import RZXGate\n",
    "from mitiq import zne\n",
    "from mitiq.interface import convert_to_mitiq\n",
    "\n",
    "theta = np.pi / 2\n",
    "rzx_gate = RZXGate(theta)\n",
    "\n",
    "def rzx_gate(circuit, control, target):\n",
    "    #h q1; cx q0,q1; rz(pi/4) q1; cx q0,q1; h q1;\n",
    "    circuit.h(target)\n",
    "    circuit.cx(control,target)\n",
    "    circuit.rz(np.pi/4, target)\n",
    "    circuit.cx(control,target)\n",
    "    circuit.h(target)\n",
    "\n",
    "def rzxt_gate(circuit, control, target):\n",
    "    #h q1; cx q0,q1; rz(-pi/4) q1; cx q0,q1; h q1;\n",
    "    circuit.h(target)\n",
    "    circuit.cx(control,target)\n",
    "    circuit.rz(-np.pi/4, target)\n",
    "    circuit.cx(control,target)\n",
    "    circuit.h(target)\n",
    "\n",
    "def ecr_gate(circuit, control, target):\n",
    "    # rzx(pi/4) q0,q1; x q0; rzxt(-pi/4) q0,q1; }\n",
    "    rzx_gate(circuit, control, target)\n",
    "    circuit.x(control)\n",
    "    rzxt_gate(circuit, control, target)\n",
    "\n",
    "def cx_to_ecr(circuit, control, target):\n",
    "#sx q[0]; rz(-pi / 2) q[1]; rz(-pi / 2) q[0]; sx q[1]; rz(-pi) q[1]; ecr q[1], q[0];\n",
    "#rz(-pi / 2) q[0]; rz(pi / 2) q[1]; sx q[0]; sx q[1]; rz(pi / 2) q[0]; rz(pi / 2) q[1];\n",
    "    circuit.sx(control)\n",
    "    circuit.rz(-np.pi/2, target)\n",
    "    circuit.rz(-np.pi/2, control)\n",
    "    circuit.sx(target)\n",
    "    circuit.rz(-np.pi, target)\n",
    "    ecr_gate(circuit, target, control)\n",
    "    circuit.rz(-np.pi/2, control)\n",
    "    circuit.rz(np.pi/2, target)\n",
    "    circuit.sx(control)\n",
    "    circuit.sx(target)\n",
    "    circuit.rz(np.pi/2, control)\n",
    "    circuit.rz(np.pi/2, target)\n",
    "    \n",
    "# Create a quantum circuit with ECR gates\n",
    "n_qubits = 2\n",
    "circuit = QuantumCircuit(2)\n",
    "circuit.x(0)\n",
    "circuit.barrier(0,1)\n",
    "cx_to_ecr(circuit, 0, 1)\n",
    "#circuit.cx(0,1)\n",
    "#circuit.ecr(0,1)\n",
    "circuit.measure_all()\n",
    "circuit = transpile(circuit, basis_gates=[\"u3\",\"cx\"])\n",
    "\n",
    "print(dumps(circuit))\n",
    "circuit.draw(\"mpl\", fold=60)\n",
    "\n",
    "convert_to_mitiq(circuit)\n"
   ]
  }
 ],
 "metadata": {
  "kernelspec": {
   "display_name": "Python 3 (ipykernel)",
   "language": "python",
   "name": "python3"
  },
  "language_info": {
   "codemirror_mode": {
    "name": "ipython",
    "version": 3
   },
   "file_extension": ".py",
   "mimetype": "text/x-python",
   "name": "python",
   "nbconvert_exporter": "python",
   "pygments_lexer": "ipython3",
   "version": "3.10.12"
  }
 },
 "nbformat": 4,
 "nbformat_minor": 4
}
