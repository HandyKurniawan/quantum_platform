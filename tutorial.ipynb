{
 "cells": [
  {
   "cell_type": "markdown",
   "metadata": {},
   "source": [
    "# Tutorial on using the Platform"
   ]
  },
  {
   "cell_type": "markdown",
   "metadata": {},
   "source": [
    "This is the tutorial bla bla bla"
   ]
  },
  {
   "cell_type": "markdown",
   "metadata": {},
   "source": [
    "## Initialization"
   ]
  },
  {
   "cell_type": "markdown",
   "metadata": {},
   "source": [
    "First we need to import the necessary class blabla bla"
   ]
  },
  {
   "cell_type": "code",
   "execution_count": 1,
   "metadata": {},
   "outputs": [],
   "source": [
    "from qEmQUIP import QEM, conf\n",
    "import sys, glob, os\n",
    "from commons import convert_to_json, triq_optimization, qiskit_optimization, \\\n",
    "    calibration_type_enum, qiskit_compilation_enum, normalize_counts, calculate_success_rate_tvd\n",
    "import wrappers.qiskit_wrapper as qiskit_wrapper\n",
    "from wrappers.qiskit_wrapper import QiskitCircuit"
   ]
  },
  {
   "cell_type": "markdown",
   "metadata": {},
   "source": [
    "Here we need to initialize the object, please check the `config.ini` file to update the general config"
   ]
  },
  {
   "cell_type": "code",
   "execution_count": 2,
   "metadata": {},
   "outputs": [],
   "source": [
    "# Put your Qiskit Token\n",
    "token = \"74076e69ed0d571c8e0ff8c0b2c912c28681d47426cf16a5d817825de16f7dbd95bf6ff7c604b706803b78b2e21d1dd5cacf9f1b0aa81d672d938bded8049a17\"\n",
    "q = QEM(runs=conf.runs, fixed_initial_layout = False, run_in_simulator=conf.run_in_simulator, user_id=conf.user_id, token=token)"
   ]
  },
  {
   "cell_type": "markdown",
   "metadata": {},
   "source": [
    "## Prepare the circuits"
   ]
  },
  {
   "cell_type": "markdown",
   "metadata": {},
   "source": [
    "You can get the quantum circuit from a folder contains the qasm files or qasm string"
   ]
  },
  {
   "cell_type": "code",
   "execution_count": 3,
   "metadata": {},
   "outputs": [
    {
     "name": "stdout",
     "output_type": "stream",
     "text": [
      "['./circuits/testing/adder_n4.qasm']\n"
     ]
    }
   ],
   "source": [
    "# The path is coming from the config file, but you can also modify it here\n",
    "conf.base_folder = \"./circuits/testing/\"\n",
    "qasm_files = q.get_qasm_files_from_path()\n",
    "print(qasm_files)"
   ]
  },
  {
   "cell_type": "markdown",
   "metadata": {},
   "source": [
    "Get the circuits from file"
   ]
  },
  {
   "cell_type": "code",
   "execution_count": 4,
   "metadata": {},
   "outputs": [
    {
     "data": {
      "text/html": [
       "<pre style=\"word-wrap: normal;white-space: pre;background: #fff0;line-height: 1.1;font-family: &quot;Courier New&quot;,Courier,monospace\">      ┌───────────┐ ┌─────────────┐                          ┌───┐     »\n",
       "q_0: ─┤ U3(π,0,π) ├─┤ U3(0,0,π/4) ├───────■──────────────────┤ X ├──■──»\n",
       "      ├───────────┤ ├─────────────┤     ┌─┴─┐                └─┬─┘┌─┴─┐»\n",
       "q_1: ─┤ U3(π,0,π) ├─┤ U3(0,0,π/4) ├─────┤ X ├─────────────■────┼──┤ X ├»\n",
       "      └───────────┘ └─────────────┘┌────┴───┴────┐      ┌─┴─┐  │  └───┘»\n",
       "q_2: ──────────────────────■───────┤ U3(0,0,π/4) ├───■──┤ X ├──┼────■──»\n",
       "     ┌─────────────┐     ┌─┴─┐     ├─────────────┴┐┌─┴─┐└───┘  │  ┌─┴─┐»\n",
       "q_3: ┤ U3(π/2,0,π) ├─────┤ X ├─────┤ U3(0,0,-π/4) ├┤ X ├───────■──┤ X ├»\n",
       "     └─────────────┘     └───┘     └──────────────┘└───┘          └───┘»\n",
       "c: 4/══════════════════════════════════════════════════════════════════»\n",
       "                                                                       »\n",
       "«     ┌──────────────┐                          ┌───┐               ┌─┐   \n",
       "«q_0: ┤ U3(0,0,-π/4) ├──■───────────────────────┤ X ├───────────────┤M├───\n",
       "«     ├──────────────┤┌─┴─┐               ┌─┐   └─┬─┘               └╥┘   \n",
       "«q_1: ┤ U3(0,0,-π/4) ├┤ X ├───────────────┤M├─────┼──────────────────╫────\n",
       "«     ├──────────────┤└───┘               └╥┘┌─┐  │                  ║    \n",
       "«q_2: ┤ U3(0,0,-π/4) ├──■──────────────────╫─┤M├──┼──────────────────╫────\n",
       "«     ├─────────────┬┘┌─┴─┐┌─────────────┐ ║ └╥┘  │  ┌─────────────┐ ║ ┌─┐\n",
       "«q_3: ┤ U3(0,0,π/4) ├─┤ X ├┤ U3(0,0,π/2) ├─╫──╫───■──┤ U3(π/2,0,π) ├─╫─┤M├\n",
       "«     └─────────────┘ └───┘└─────────────┘ ║  ║      └─────────────┘ ║ └╥┘\n",
       "«c: 4/═════════════════════════════════════╩══╩══════════════════════╩══╩═\n",
       "«                                          1  2                      0  3 </pre>"
      ],
      "text/plain": [
       "      ┌───────────┐ ┌─────────────┐                          ┌───┐     »\n",
       "q_0: ─┤ U3(π,0,π) ├─┤ U3(0,0,π/4) ├───────■──────────────────┤ X ├──■──»\n",
       "      ├───────────┤ ├─────────────┤     ┌─┴─┐                └─┬─┘┌─┴─┐»\n",
       "q_1: ─┤ U3(π,0,π) ├─┤ U3(0,0,π/4) ├─────┤ X ├─────────────■────┼──┤ X ├»\n",
       "      └───────────┘ └─────────────┘┌────┴───┴────┐      ┌─┴─┐  │  └───┘»\n",
       "q_2: ──────────────────────■───────┤ U3(0,0,π/4) ├───■──┤ X ├──┼────■──»\n",
       "     ┌─────────────┐     ┌─┴─┐     ├─────────────┴┐┌─┴─┐└───┘  │  ┌─┴─┐»\n",
       "q_3: ┤ U3(π/2,0,π) ├─────┤ X ├─────┤ U3(0,0,-π/4) ├┤ X ├───────■──┤ X ├»\n",
       "     └─────────────┘     └───┘     └──────────────┘└───┘          └───┘»\n",
       "c: 4/══════════════════════════════════════════════════════════════════»\n",
       "                                                                       »\n",
       "«     ┌──────────────┐                          ┌───┐               ┌─┐   \n",
       "«q_0: ┤ U3(0,0,-π/4) ├──■───────────────────────┤ X ├───────────────┤M├───\n",
       "«     ├──────────────┤┌─┴─┐               ┌─┐   └─┬─┘               └╥┘   \n",
       "«q_1: ┤ U3(0,0,-π/4) ├┤ X ├───────────────┤M├─────┼──────────────────╫────\n",
       "«     ├──────────────┤└───┘               └╥┘┌─┐  │                  ║    \n",
       "«q_2: ┤ U3(0,0,-π/4) ├──■──────────────────╫─┤M├──┼──────────────────╫────\n",
       "«     ├─────────────┬┘┌─┴─┐┌─────────────┐ ║ └╥┘  │  ┌─────────────┐ ║ ┌─┐\n",
       "«q_3: ┤ U3(0,0,π/4) ├─┤ X ├┤ U3(0,0,π/2) ├─╫──╫───■──┤ U3(π/2,0,π) ├─╫─┤M├\n",
       "«     └─────────────┘ └───┘└─────────────┘ ║  ║      └─────────────┘ ║ └╥┘\n",
       "«c: 4/═════════════════════════════════════╩══╩══════════════════════╩══╩═\n",
       "«                                          1  2                      0  3 "
      ]
     },
     "execution_count": 4,
     "metadata": {},
     "output_type": "execute_result"
    }
   ],
   "source": [
    "qc = q.get_circuit_properties(qasm_source=qasm_files[0])\n",
    "qc.circuit.draw(idle_wires=False)"
   ]
  },
  {
   "cell_type": "markdown",
   "metadata": {},
   "source": [
    "Or you can also get it from the qasm strings"
   ]
  },
  {
   "cell_type": "code",
   "execution_count": 5,
   "metadata": {},
   "outputs": [
    {
     "data": {
      "text/html": [
       "<pre style=\"word-wrap: normal;white-space: pre;background: #fff0;line-height: 1.1;font-family: &quot;Courier New&quot;,Courier,monospace\">     ┌─────────────┐            ░  ┌─┐         \n",
       "q_0: ┤ U3(π/2,0,π) ├──■─────────░──┤M├─────────\n",
       "     └─────────────┘┌─┴─┐       ░  └╥┘┌─┐      \n",
       "q_1: ───────────────┤ X ├──■────░───╫─┤M├──────\n",
       "                    └───┘┌─┴─┐  ░   ║ └╥┘┌─┐   \n",
       "q_2: ────────────────────┤ X ├──■───╫──╫─┤M├───\n",
       "                         └───┘┌─┴─┐ ║  ║ └╥┘┌─┐\n",
       "q_3: ─────────────────────────┤ X ├─╫──╫──╫─┤M├\n",
       "                              └───┘ ║  ║  ║ └╥┘\n",
       "c: 4/═══════════════════════════════╩══╩══╩══╩═\n",
       "                                    0  1  2  3 </pre>"
      ],
      "text/plain": [
       "     ┌─────────────┐            ░  ┌─┐         \n",
       "q_0: ┤ U3(π/2,0,π) ├──■─────────░──┤M├─────────\n",
       "     └─────────────┘┌─┴─┐       ░  └╥┘┌─┐      \n",
       "q_1: ───────────────┤ X ├──■────░───╫─┤M├──────\n",
       "                    └───┘┌─┴─┐  ░   ║ └╥┘┌─┐   \n",
       "q_2: ────────────────────┤ X ├──■───╫──╫─┤M├───\n",
       "                         └───┘┌─┴─┐ ║  ║ └╥┘┌─┐\n",
       "q_3: ─────────────────────────┤ X ├─╫──╫──╫─┤M├\n",
       "                              └───┘ ║  ║  ║ └╥┘\n",
       "c: 4/═══════════════════════════════╩══╩══╩══╩═\n",
       "                                    0  1  2  3 "
      ]
     },
     "execution_count": 5,
     "metadata": {},
     "output_type": "execute_result"
    }
   ],
   "source": [
    "qasm_text = \"\"\"OPENQASM 2.0;\n",
    "include \"qelib1.inc\";\n",
    "qreg q[4];\n",
    "creg c[4];\n",
    "h q[0];\n",
    "cx q[0], q[1];\n",
    "cx q[1], q[2];\n",
    "cx q[2], q[3];\n",
    "barrier q[0], q[1];\n",
    "measure q[0] -> c[0];\n",
    "measure q[1] -> c[1];\n",
    "measure q[2] -> c[2];\n",
    "measure q[3] -> c[3];\n",
    "\"\"\"\n",
    "\n",
    "qc = q.get_circuit_properties(qasm_source=qasm_text)\n",
    "qc.circuit.draw(idle_wires=False)"
   ]
  },
  {
   "cell_type": "markdown",
   "metadata": {},
   "source": [
    "`q.get_circuit_properties` will give an object of `QiskitCircuit` which will give the information of the circuits: \n",
    "- `circuit`: `QuantumCircuit` object from Qiskit\n",
    "- `depth`: circuit depth\n",
    "- `gates`: number of gates used in the circuit\n",
    "- `total_gates`: number of total gates used in the circuit\n",
    "- `correct_output`: noiseless output from the simulation\n",
    "- `qasm`: OpenQASM2 file from the circuit translated to `U3` and `cx` gates\n",
    "- `qasm_original`: OpenQASM2 file from the circuit original\n"
   ]
  },
  {
   "cell_type": "code",
   "execution_count": 6,
   "metadata": {},
   "outputs": [
    {
     "data": {
      "image/png": "[encoded data removed]",
      "text/plain": [
       "<Figure size 789.163x451.5 with 1 Axes>"
      ]
     },
     "execution_count": 6,
     "metadata": {},
     "output_type": "execute_result"
    }
   ],
   "source": [
    "qc.circuit.draw(\"mpl\")"
   ]
  },
  {
   "cell_type": "code",
   "execution_count": 7,
   "metadata": {},
   "outputs": [
    {
     "name": "stdout",
     "output_type": "stream",
     "text": [
      "Number of depth: 5\n",
      "Number of gates: {'measure': 4, 'cx': 3, 'u3': 1, 'barrier': 1}\n",
      "Number of total gates: 5\n",
      "Noiseless simulation output: {'15': 0.5065, '0': 0.4935}\n",
      "Circuit Qasm: OPENQASM 2.0;\n",
      "include \"qelib1.inc\";\n",
      "qreg q[4];\n",
      "creg c[4];\n",
      "u3(pi/2,0,pi) q[0];\n",
      "cx q[0],q[1];\n",
      "cx q[1],q[2];\n",
      "barrier q[0],q[1];\n",
      "cx q[2],q[3];\n",
      "measure q[0] -> c[0];\n",
      "measure q[1] -> c[1];\n",
      "measure q[2] -> c[2];\n",
      "measure q[3] -> c[3];\n",
      "\n"
     ]
    }
   ],
   "source": [
    "print(\"Number of depth:\", qc.depth)\n",
    "print(\"Number of gates:\", qc.gates)\n",
    "print(\"Number of total gates:\", qc.total_gate) \n",
    "print(\"Noiseless simulation output:\", qc.correct_output)\n",
    "print(\"Circuit Qasm:\", qc.qasm)"
   ]
  },
  {
   "cell_type": "markdown",
   "metadata": {},
   "source": [
    "## Compilation Techniques"
   ]
  },
  {
   "cell_type": "markdown",
   "metadata": {},
   "source": [
    "### Qiskit"
   ]
  },
  {
   "cell_type": "markdown",
   "metadata": {},
   "source": [
    "We integrated several compilation techniques from Qiskit"
   ]
  },
  {
   "cell_type": "code",
   "execution_count": 8,
   "metadata": {},
   "outputs": [
    {
     "name": "stdout",
     "output_type": "stream",
     "text": [
      "Existing Qiskit Compilation Options:\n",
      "qiskit_0\n",
      "qiskit_3\n",
      "qiskit_NA_avg\n",
      "qiskit_NA_lcd\n",
      "qiskit_NA_mix\n",
      "qiskit_NA_w15\n",
      "qiskit_NA_avg_adj\n",
      "qiskit_NA_lcd_adj\n",
      "qiskit_NA_mix_adj\n",
      "qiskit_NA_w15_adj\n",
      "qiskit_NA_wn\n",
      "qiskit_NA_wn_adj\n",
      "mapomatic_lcd\n",
      "mapomatic_avg\n",
      "mapomatic_mix\n",
      "mapomatic_avg_adj\n",
      "mapomatic_w15_adj\n"
     ]
    }
   ],
   "source": [
    "print(\"Existing Qiskit Compilation Options:\")\n",
    "for member in qiskit_compilation_enum:\n",
    "    print(member.name)"
   ]
  },
  {
   "cell_type": "code",
   "execution_count": 9,
   "metadata": {},
   "outputs": [
    {
     "name": "stdout",
     "output_type": "stream",
     "text": [
      "OPENQASM 2.0;\n",
      "include \"qelib1.inc\";\n",
      "gate rzx(param0) q0,q1 { h q1; cx q0,q1; rz(param0) q1; cx q0,q1; h q1; }\n",
      "gate ecr q0,q1 { rzx(pi/4) q0,q1; x q0; rzx(-pi/4) q0,q1; }\n",
      "qreg q[127];\n",
      "creg c[4];\n",
      "rz(pi/2) q[37];\n",
      "sx q[37];\n",
      "rz(-0.9657822870720683) q[37];\n",
      "rz(-pi/2) q[38];\n",
      "sx q[38];\n",
      "rz(2.339468643966633) q[38];\n",
      "rz(pi/2) q[39];\n",
      "sx q[39];\n",
      "rz(-0.39374052556949124) q[39];\n",
      "sx q[39];\n",
      "rz(pi/2) q[39];\n",
      "rz(pi/2) q[40];\n",
      "sx q[40];\n",
      "rz(1.6817720802165583) q[40];\n",
      "ecr q[40],q[39];\n",
      "rz(-0.8660471557214651) q[39];\n",
      "sx q[39];\n",
      "rz(-0.49926687928477875) q[39];\n",
      "sx q[39];\n",
      "rz(-2.500252093349383) q[39];\n",
      "ecr q[38],q[39];\n",
      "rz(-2.3729203364180584) q[38];\n",
      "sx q[38];\n",
      "rz(-0.10130223871172284) q[38];\n",
      "sx q[38];\n",
      "rz(-pi/2) q[38];\n",
      "ecr q[37],q[38];\n",
      "rz(0.6050140397228279) q[37];\n",
      "sx q[37];\n",
      "rz(-pi/2) q[37];\n",
      "rz(pi/2) q[38];\n",
      "sx q[38];\n",
      "rz(3.0402904148780703) q[38];\n",
      "rz(-pi/2) q[39];\n",
      "sx q[39];\n",
      "rz(1.8861739403284155) q[39];\n",
      "x q[40];\n",
      "rz(-1.6817720802165592) q[40];\n",
      "barrier q[40],q[39],q[38],q[37];\n",
      "measure q[40] -> c[0];\n",
      "measure q[39] -> c[1];\n",
      "measure q[38] -> c[2];\n",
      "measure q[37] -> c[3];\n",
      "\n"
     ]
    }
   ],
   "source": [
    "updated_qasm = q.compile(qasm=qc.qasm_original, compilation_name=qiskit_compilation_enum.qiskit_NA_lcd.value)\n",
    "print(updated_qasm)"
   ]
  },
  {
   "cell_type": "markdown",
   "metadata": {},
   "source": [
    "### TriQ"
   ]
  },
  {
   "cell_type": "markdown",
   "metadata": {},
   "source": [
    "Also, we integrate TriQ Compilation with different options.\n",
    "\n",
    "Qubit placement options:\n",
    "- `na`: initial mapping from Noise-adaptive technique []\n",
    "- `mapo`: initial mapping from Mapomatic technique []\n",
    "- `sabre`: initial mapping from SABRE []\n",
    "\n",
    "Calibration type options:\n",
    "- `lcd` : TriQ's routing with last calibration data.\n",
    "- `avg` : TriQ's routing with average calibration data.\n",
    "- `mix` : TriQ's routing with mix calibration data. (Mix = if the qubits calibrated today, we will use the last calibration data for that qubit, otherwise we will use the average)\n",
    "- `w15` : TriQ's routing with average calibration data of 15 days from the qubit is compiled.\n",
    "\n",
    "The combinations of name become: `triq_<calibration_type>_<layout>`. For examples:\n",
    "- `triq_avg_na`\n",
    "- `triq_mix_sabre`"
   ]
  },
  {
   "cell_type": "code",
   "execution_count": 10,
   "metadata": {},
   "outputs": [
    {
     "name": "stdout",
     "output_type": "stream",
     "text": [
      "Initial mapping path : 104, 103, 101, 100\n",
      "OPENQASM 2.0;\n",
      "include \"qelib1.inc\";\n",
      "qreg q[127];\n",
      "creg c[127];\n",
      "u2(0,3.14159265358979) q[104];\n",
      "cx q[104],q[103];\n",
      "cx q[103],q[102];\n",
      "cx q[102],q[103];\n",
      "cx q[103],q[102];\n",
      "cx q[102],q[101];\n",
      "cx q[101],q[100];\n",
      "measure q[104] -> c[0];\n",
      "measure q[101] -> c[2];\n",
      "measure q[102] -> c[1];\n",
      "measure q[100] -> c[3];\n",
      "\n"
     ]
    }
   ],
   "source": [
    "updated_qasm = q.compile(qasm=qc.qasm_original, compilation_name=\"triq_avg_na\")\n",
    "print(updated_qasm)"
   ]
  },
  {
   "cell_type": "markdown",
   "metadata": {},
   "source": [
    "## Initiate Noisy simulator"
   ]
  },
  {
   "cell_type": "markdown",
   "metadata": {},
   "source": [
    "To play around with the noise, we can get retrieve the last recorded calibration data from IBM's backend, and scale down the error\n"
   ]
  },
  {
   "cell_type": "code",
   "execution_count": 11,
   "metadata": {},
   "outputs": [],
   "source": [
    "noise_model, noisy_simulator, coupling_map = qiskit_wrapper.get_noisy_simulator(q.backend, 1)"
   ]
  },
  {
   "cell_type": "markdown",
   "metadata": {},
   "source": [
    "## Running the compiled circuit to the simulator"
   ]
  },
  {
   "cell_type": "markdown",
   "metadata": {},
   "source": [
    "First, we need to transpile the circuit to the targeted backend"
   ]
  },
  {
   "cell_type": "code",
   "execution_count": 12,
   "metadata": {},
   "outputs": [],
   "source": [
    "qc = QiskitCircuit(updated_qasm)\n",
    "circuit = qc.transpile_to_target_backend(q.backend, False)\n",
    "# circuit.draw(\"mpl\", idle_wires=False, fold=60)"
   ]
  },
  {
   "cell_type": "code",
   "execution_count": 13,
   "metadata": {},
   "outputs": [],
   "source": [
    "job = noisy_simulator.run(circuit, shots=10000)\n",
    "result = job.result()  \n",
    "output = result.get_counts()\n",
    "output_normalize = normalize_counts(output, shots=10000)\n",
    "# output_normalize"
   ]
  },
  {
   "cell_type": "markdown",
   "metadata": {},
   "source": [
    "## Calculate the Fidelity"
   ]
  },
  {
   "cell_type": "code",
   "execution_count": 14,
   "metadata": {},
   "outputs": [
    {
     "data": {
      "text/plain": [
       "0.8623000000000001"
      ]
     },
     "execution_count": 14,
     "metadata": {},
     "output_type": "execute_result"
    }
   ],
   "source": [
    "calculate_success_rate_tvd(qc.correct_output,output_normalize)"
   ]
  },
  {
   "cell_type": "markdown",
   "metadata": {},
   "source": [
    "## Put them together"
   ]
  },
  {
   "cell_type": "code",
   "execution_count": null,
   "metadata": {},
   "outputs": [
    {
     "name": "stdout",
     "output_type": "stream",
     "text": [
      "qiskit_3 0 1.0\n",
      "qiskit_3 0.1 0.971\n"
     ]
    }
   ],
   "source": [
    "res_circuit_name = []\n",
    "res_compilations = []\n",
    "res_noise_levels = []\n",
    "res_success_rate = []\n",
    "\n",
    "# prepare the circuit\n",
    "conf.base_folder = \"./circuits/testing/\"\n",
    "qasm_files = q.get_qasm_files_from_path()\n",
    "\n",
    "shots = 10000\n",
    "\n",
    "# select compilation techniques\n",
    "# compilations = [\"qiskit_0\", \"qiskit_3\", \"qiskit_NA_avg\", \"triq_avg_na\"]\n",
    "compilations = [\"qiskit_3\", \"triq_lcd_na\"]\n",
    "\n",
    "# select the noise levels (0 = noiseless, 1 = noise model from real backend)\n",
    "noise_levels = [0, 0.1, 0.2, 0.4, 0.6, 0.8, 1.0]\n",
    "\n",
    "for qasm in qasm_files:\n",
    "    for comp in compilations:\n",
    "        for noise in noise_levels:\n",
    "            qc = q.get_circuit_properties(qasm_source=qasm)\n",
    "            circuit_name = qasm.split(\"/\")[-1].split(\".\")[0]\n",
    "    \n",
    "            updated_qasm = q.compile(qasm=qc.qasm_original, compilation_name=comp)\n",
    "            compiled_qc = QiskitCircuit(updated_qasm)\n",
    "            circuit = compiled_qc.transpile_to_target_backend(q.backend, False)\n",
    "            \n",
    "            noise_model, noisy_simulator, coupling_map = qiskit_wrapper.get_noisy_simulator(q.backend, noise)\n",
    "\n",
    "            job = noisy_simulator.run(circuit, shots=shots)\n",
    "            result = job.result()  \n",
    "            output = result.get_counts()\n",
    "            output_normalize = normalize_counts(output, shots=shots)\n",
    "\n",
    "            tvd = calculate_success_rate_tvd(qc.correct_output,output_normalize)\n",
    "            print(comp, noise, tvd)\n",
    "\n",
    "        \n"
   ]
  },
  {
   "cell_type": "code",
   "execution_count": null,
   "metadata": {},
   "outputs": [],
   "source": [
    "qc.gates"
   ]
  },
  {
   "cell_type": "code",
   "execution_count": null,
   "metadata": {},
   "outputs": [],
   "source": []
  }
 ],
 "metadata": {
  "kernelspec": {
   "display_name": "Python 3 (ipykernel)",
   "language": "python",
   "name": "python3"
  },
  "language_info": {
   "codemirror_mode": {
    "name": "ipython",
    "version": 3
   },
   "file_extension": ".py",
   "mimetype": "text/x-python",
   "name": "python",
   "nbconvert_exporter": "python",
   "pygments_lexer": "ipython3",
   "version": "3.10.12"
  }
 },
 "nbformat": 4,
 "nbformat_minor": 4
}
